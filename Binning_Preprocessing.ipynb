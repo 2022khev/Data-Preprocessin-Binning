{
 "cells": [
  {
   "cell_type": "raw",
   "id": "87992f23",
   "metadata": {},
   "source": [
    "Importing libraries"
   ]
  },
  {
   "cell_type": "code",
   "execution_count": 1,
   "id": "289697e3",
   "metadata": {},
   "outputs": [],
   "source": [
    "import numpy as np\n",
    "import pandas as pd\n",
    "import matplotlib.pyplot as plt"
   ]
  },
  {
   "cell_type": "markdown",
   "id": "0ded7169",
   "metadata": {},
   "source": [
    "# 1. Binning by Distance"
   ]
  },
  {
   "cell_type": "raw",
   "id": "af2160b1",
   "metadata": {},
   "source": [
    "Let's create dataframe from dictionary for this data"
   ]
  },
  {
   "cell_type": "code",
   "execution_count": 2,
   "id": "8d2b5b89",
   "metadata": {},
   "outputs": [
    {
     "data": {
      "text/html": [
       "<div>\n",
       "<style scoped>\n",
       "    .dataframe tbody tr th:only-of-type {\n",
       "        vertical-align: middle;\n",
       "    }\n",
       "\n",
       "    .dataframe tbody tr th {\n",
       "        vertical-align: top;\n",
       "    }\n",
       "\n",
       "    .dataframe thead th {\n",
       "        text-align: right;\n",
       "    }\n",
       "</style>\n",
       "<table border=\"1\" class=\"dataframe\">\n",
       "  <thead>\n",
       "    <tr style=\"text-align: right;\">\n",
       "      <th></th>\n",
       "      <th>Loanee_names</th>\n",
       "      <th>Loan_amount</th>\n",
       "    </tr>\n",
       "  </thead>\n",
       "  <tbody>\n",
       "    <tr>\n",
       "      <th>0</th>\n",
       "      <td>Jones</td>\n",
       "      <td>10000</td>\n",
       "    </tr>\n",
       "    <tr>\n",
       "      <th>1</th>\n",
       "      <td>Smith</td>\n",
       "      <td>20000</td>\n",
       "    </tr>\n",
       "    <tr>\n",
       "      <th>2</th>\n",
       "      <td>Lynn</td>\n",
       "      <td>1000</td>\n",
       "    </tr>\n",
       "    <tr>\n",
       "      <th>3</th>\n",
       "      <td>Rebbeca</td>\n",
       "      <td>500</td>\n",
       "    </tr>\n",
       "    <tr>\n",
       "      <th>4</th>\n",
       "      <td>Vizon</td>\n",
       "      <td>700</td>\n",
       "    </tr>\n",
       "    <tr>\n",
       "      <th>5</th>\n",
       "      <td>Phylis</td>\n",
       "      <td>850</td>\n",
       "    </tr>\n",
       "    <tr>\n",
       "      <th>6</th>\n",
       "      <td>Roberto</td>\n",
       "      <td>900</td>\n",
       "    </tr>\n",
       "    <tr>\n",
       "      <th>7</th>\n",
       "      <td>Sypla</td>\n",
       "      <td>1500</td>\n",
       "    </tr>\n",
       "    <tr>\n",
       "      <th>8</th>\n",
       "      <td>Fernado</td>\n",
       "      <td>12000</td>\n",
       "    </tr>\n",
       "    <tr>\n",
       "      <th>9</th>\n",
       "      <td>Eric</td>\n",
       "      <td>16000</td>\n",
       "    </tr>\n",
       "    <tr>\n",
       "      <th>10</th>\n",
       "      <td>Michale</td>\n",
       "      <td>1350</td>\n",
       "    </tr>\n",
       "    <tr>\n",
       "      <th>11</th>\n",
       "      <td>Fredrick</td>\n",
       "      <td>16000</td>\n",
       "    </tr>\n",
       "    <tr>\n",
       "      <th>12</th>\n",
       "      <td>Allan</td>\n",
       "      <td>8000</td>\n",
       "    </tr>\n",
       "    <tr>\n",
       "      <th>13</th>\n",
       "      <td>Mary</td>\n",
       "      <td>7500</td>\n",
       "    </tr>\n",
       "    <tr>\n",
       "      <th>14</th>\n",
       "      <td>Joseph</td>\n",
       "      <td>850</td>\n",
       "    </tr>\n",
       "  </tbody>\n",
       "</table>\n",
       "</div>"
      ],
      "text/plain": [
       "   Loanee_names  Loan_amount\n",
       "0         Jones        10000\n",
       "1         Smith        20000\n",
       "2          Lynn         1000\n",
       "3       Rebbeca          500\n",
       "4         Vizon          700\n",
       "5        Phylis          850\n",
       "6       Roberto          900\n",
       "7         Sypla         1500\n",
       "8       Fernado        12000\n",
       "9          Eric        16000\n",
       "10      Michale         1350\n",
       "11     Fredrick        16000\n",
       "12        Allan         8000\n",
       "13         Mary         7500\n",
       "14       Joseph          850"
      ]
     },
     "execution_count": 2,
     "metadata": {},
     "output_type": "execute_result"
    }
   ],
   "source": [
    "data ={\n",
    "    \"Loanee_names\":[\"Jones\",\"Smith\",\"Lynn\",\"Rebbeca\",\"Vizon\",\"Phylis\",\"Roberto\",\"Sypla\",\"Fernado\",\"Eric\",\"Michale\",\"Fredrick\",\"Allan\",\"Mary\",\"Joseph\"],\n",
    "    \"Loan_amount\":[10000, 20000,1000,500,700,850,900,1500,12000,16000,1350,16000,8000,7500,850]\n",
    "    }\n",
    "df = pd.DataFrame(data = data)\n",
    "df"
   ]
  },
  {
   "cell_type": "raw",
   "id": "c186ce08",
   "metadata": {},
   "source": [
    "create bins/categories in one of the two ways\n",
    "using linspace function for equaly bins or list method which allow us to define in our preferred way."
   ]
  },
  {
   "cell_type": "code",
   "execution_count": 3,
   "id": "241ce031",
   "metadata": {},
   "outputs": [
    {
     "data": {
      "text/plain": [
       "array([  500., 10250., 20000.])"
      ]
     },
     "execution_count": 3,
     "metadata": {},
     "output_type": "execute_result"
    }
   ],
   "source": [
    "bins= np.linspace(df[\"Loan_amount\"].min(),df[\"Loan_amount\"].max(),3)\n",
    "bins"
   ]
  },
  {
   "cell_type": "raw",
   "id": "09f6277c",
   "metadata": {},
   "source": [
    "The objective of our problem is solved by this method"
   ]
  },
  {
   "cell_type": "code",
   "execution_count": 4,
   "id": "7bf7193c",
   "metadata": {},
   "outputs": [
    {
     "data": {
      "text/plain": [
       "[0, 1000, 10000, 20000]"
      ]
     },
     "execution_count": 4,
     "metadata": {},
     "output_type": "execute_result"
    }
   ],
   "source": [
    "bins = [0,1000,10000,20000]\n",
    "bins"
   ]
  },
  {
   "cell_type": "raw",
   "id": "225f86fb",
   "metadata": {},
   "source": [
    "Labels"
   ]
  },
  {
   "cell_type": "code",
   "execution_count": 5,
   "id": "810baeb8",
   "metadata": {},
   "outputs": [
    {
     "data": {
      "text/plain": [
       "['Group 1', 'Group 2', 'Group 3']"
      ]
     },
     "execution_count": 5,
     "metadata": {},
     "output_type": "execute_result"
    }
   ],
   "source": [
    "labels = [\"Group 1\",\"Group 2\",\"Group 3\"]\n",
    "labels"
   ]
  },
  {
   "cell_type": "code",
   "execution_count": 6,
   "id": "3afd15fc",
   "metadata": {},
   "outputs": [],
   "source": [
    "df[\"Group\"] = pd.cut(df[\"Loan_amount\"],bins =bins,labels = labels,include_lowest = True)"
   ]
  },
  {
   "cell_type": "code",
   "execution_count": 7,
   "id": "f68c47ff",
   "metadata": {},
   "outputs": [
    {
     "data": {
      "text/plain": [
       "Group 1    6\n",
       "Group 2    5\n",
       "Group 3    4\n",
       "Name: Group, dtype: int64"
      ]
     },
     "execution_count": 7,
     "metadata": {},
     "output_type": "execute_result"
    }
   ],
   "source": [
    "df[\"Group\"].value_counts()"
   ]
  },
  {
   "cell_type": "code",
   "execution_count": 8,
   "id": "10764107",
   "metadata": {},
   "outputs": [
    {
     "data": {
      "image/png": "[encoded data removed]",
      "text/plain": [
       "<Figure size 432x288 with 1 Axes>"
      ]
     },
     "metadata": {
      "needs_background": "light"
     },
     "output_type": "display_data"
    }
   ],
   "source": [
    "df['Group'].value_counts().plot(kind='barh')\n",
    "plt.show()"
   ]
  },
  {
   "cell_type": "markdown",
   "id": "8036055a",
   "metadata": {},
   "source": [
    "# 2. Binning by Freuency"
   ]
  },
  {
   "cell_type": "raw",
   "id": "3a1e390e",
   "metadata": {},
   "source": [
    "Qcut (quantile-cut) differs from cut in the sense that, in qcut, the number of elements in each bin will be roughly the same,\n",
    "but this will come at the cost of differently sized interval widths.On the other hand, in cut, the bin edges were equal sized\n",
    "(when we specified bins=3) with uneven number of elements in each bin or group. Also, cut is useful when you know for \n",
    "sure the interval ranges and the bins, \n",
    "For example, if binning an ‘age’ column, we know infants are between 0 and 1 years old, 1-12 years are kids, 13-19 are teenagers, 20-60 are working class grownups, and 60+ senior citizens. So we can appropriately set bins=[0, 1, 12, 19, 60, 140] and labels=[‘infant’, ‘kid’, ‘teenager’, ‘grownup’, ‘senior citizen’]. In qcut, when we specify q=5, we are telling pandas to cut the Year column into 5 equal quantiles, i.e. 0-20%, 20-40%, 40-60%, 60-80% and 80-100% buckets/bins."
   ]
  },
  {
   "cell_type": "code",
   "execution_count": 9,
   "id": "4b13d0b8",
   "metadata": {},
   "outputs": [
    {
     "data": {
      "text/plain": [
       "Group 1    5\n",
       "Group 2    5\n",
       "Group 3    5\n",
       "Name: binsqcut, dtype: int64"
      ]
     },
     "execution_count": 9,
     "metadata": {},
     "output_type": "execute_result"
    }
   ],
   "source": [
    "df['binsqcut'] = pd.qcut(df['Loan_amount'], q=3, precision=1, labels=labels)\n",
    "df['binsqcut'].value_counts()"
   ]
  },
  {
   "cell_type": "code",
   "execution_count": 10,
   "id": "f81de266",
   "metadata": {},
   "outputs": [
    {
     "data": {
      "text/html": [
       "<div>\n",
       "<style scoped>\n",
       "    .dataframe tbody tr th:only-of-type {\n",
       "        vertical-align: middle;\n",
       "    }\n",
       "\n",
       "    .dataframe tbody tr th {\n",
       "        vertical-align: top;\n",
       "    }\n",
       "\n",
       "    .dataframe thead th {\n",
       "        text-align: right;\n",
       "    }\n",
       "</style>\n",
       "<table border=\"1\" class=\"dataframe\">\n",
       "  <thead>\n",
       "    <tr style=\"text-align: right;\">\n",
       "      <th></th>\n",
       "      <th>Loanee_names</th>\n",
       "      <th>Loan_amount</th>\n",
       "      <th>Group</th>\n",
       "      <th>binsqcut</th>\n",
       "    </tr>\n",
       "  </thead>\n",
       "  <tbody>\n",
       "    <tr>\n",
       "      <th>0</th>\n",
       "      <td>Jones</td>\n",
       "      <td>10000</td>\n",
       "      <td>Group 2</td>\n",
       "      <td>Group 3</td>\n",
       "    </tr>\n",
       "    <tr>\n",
       "      <th>1</th>\n",
       "      <td>Smith</td>\n",
       "      <td>20000</td>\n",
       "      <td>Group 3</td>\n",
       "      <td>Group 3</td>\n",
       "    </tr>\n",
       "    <tr>\n",
       "      <th>2</th>\n",
       "      <td>Lynn</td>\n",
       "      <td>1000</td>\n",
       "      <td>Group 1</td>\n",
       "      <td>Group 2</td>\n",
       "    </tr>\n",
       "    <tr>\n",
       "      <th>3</th>\n",
       "      <td>Rebbeca</td>\n",
       "      <td>500</td>\n",
       "      <td>Group 1</td>\n",
       "      <td>Group 1</td>\n",
       "    </tr>\n",
       "    <tr>\n",
       "      <th>4</th>\n",
       "      <td>Vizon</td>\n",
       "      <td>700</td>\n",
       "      <td>Group 1</td>\n",
       "      <td>Group 1</td>\n",
       "    </tr>\n",
       "  </tbody>\n",
       "</table>\n",
       "</div>"
      ],
      "text/plain": [
       "  Loanee_names  Loan_amount    Group binsqcut\n",
       "0        Jones        10000  Group 2  Group 3\n",
       "1        Smith        20000  Group 3  Group 3\n",
       "2         Lynn         1000  Group 1  Group 2\n",
       "3      Rebbeca          500  Group 1  Group 1\n",
       "4        Vizon          700  Group 1  Group 1"
      ]
     },
     "execution_count": 10,
     "metadata": {},
     "output_type": "execute_result"
    }
   ],
   "source": [
    "df.head()"
   ]
  },
  {
   "cell_type": "markdown",
   "id": "f80449b1",
   "metadata": {},
   "source": [
    "# 3. Between()"
   ]
  },
  {
   "cell_type": "code",
   "execution_count": 11,
   "id": "87d087e7",
   "metadata": {},
   "outputs": [
    {
     "data": {
      "text/html": [
       "<div>\n",
       "<style scoped>\n",
       "    .dataframe tbody tr th:only-of-type {\n",
       "        vertical-align: middle;\n",
       "    }\n",
       "\n",
       "    .dataframe tbody tr th {\n",
       "        vertical-align: top;\n",
       "    }\n",
       "\n",
       "    .dataframe thead th {\n",
       "        text-align: right;\n",
       "    }\n",
       "</style>\n",
       "<table border=\"1\" class=\"dataframe\">\n",
       "  <thead>\n",
       "    <tr style=\"text-align: right;\">\n",
       "      <th></th>\n",
       "      <th>Loanee_names</th>\n",
       "      <th>Loan_amount</th>\n",
       "      <th>Group</th>\n",
       "      <th>binsqcut</th>\n",
       "      <th>band</th>\n",
       "    </tr>\n",
       "  </thead>\n",
       "  <tbody>\n",
       "    <tr>\n",
       "      <th>0</th>\n",
       "      <td>Jones</td>\n",
       "      <td>10000</td>\n",
       "      <td>Group 2</td>\n",
       "      <td>Group 3</td>\n",
       "      <td>(1000,10000]</td>\n",
       "    </tr>\n",
       "    <tr>\n",
       "      <th>1</th>\n",
       "      <td>Smith</td>\n",
       "      <td>20000</td>\n",
       "      <td>Group 3</td>\n",
       "      <td>Group 3</td>\n",
       "      <td>(10000,20000]</td>\n",
       "    </tr>\n",
       "    <tr>\n",
       "      <th>2</th>\n",
       "      <td>Lynn</td>\n",
       "      <td>1000</td>\n",
       "      <td>Group 1</td>\n",
       "      <td>Group 2</td>\n",
       "      <td>(0,1000]</td>\n",
       "    </tr>\n",
       "    <tr>\n",
       "      <th>3</th>\n",
       "      <td>Rebbeca</td>\n",
       "      <td>500</td>\n",
       "      <td>Group 1</td>\n",
       "      <td>Group 1</td>\n",
       "      <td>(0,1000]</td>\n",
       "    </tr>\n",
       "    <tr>\n",
       "      <th>4</th>\n",
       "      <td>Vizon</td>\n",
       "      <td>700</td>\n",
       "      <td>Group 1</td>\n",
       "      <td>Group 1</td>\n",
       "      <td>(0,1000]</td>\n",
       "    </tr>\n",
       "  </tbody>\n",
       "</table>\n",
       "</div>"
      ],
      "text/plain": [
       "  Loanee_names  Loan_amount    Group binsqcut           band\n",
       "0        Jones        10000  Group 2  Group 3   (1000,10000]\n",
       "1        Smith        20000  Group 3  Group 3  (10000,20000]\n",
       "2         Lynn         1000  Group 1  Group 2       (0,1000]\n",
       "3      Rebbeca          500  Group 1  Group 1       (0,1000]\n",
       "4        Vizon          700  Group 1  Group 1       (0,1000]"
      ]
     },
     "execution_count": 11,
     "metadata": {},
     "output_type": "execute_result"
    }
   ],
   "source": [
    "# Loan intervals\n",
    "Loan_band = [0,1000,10000,20000]\n",
    "\n",
    "# create age bins\n",
    "Groups = []\n",
    "for i in range(3):\n",
    "    Groups.append([Loan_band[i],Loan_band[i+1]])\n",
    "\n",
    "# binning the data\n",
    "for b in Groups:\n",
    "    df.loc[df['Loan_amount'].between(left=b[0], right=b[1], inclusive='right'), 'band'] = f'({b[0]},{b[1]}]'\n",
    "df[\"band\"].value_counts()\n",
    "df.head()"
   ]
  },
  {
   "cell_type": "markdown",
   "id": "a1edf3c1",
   "metadata": {},
   "source": [
    "# 4. Sampling"
   ]
  },
  {
   "cell_type": "markdown",
   "id": "c406bcbc",
   "metadata": {},
   "source": [
    "Compute a binned statistic for one or more sets of data.This is a generalization of a histogram function.\n",
    "A histogram divides the space into bins, and returns the count of the number of points in each bin.\n",
    "This function allows the computation of the sum, mean, median, or other statistic of the values (or set of values)\n",
    "within each bin.In this method jenkspy packagefrom scipy.stats is used which has binned_statistic function. The function takes atleast two arguments (input1,input 2) and 3 optional, statistics(mean(default),median,sum,count),bins(default =10) and range."
   ]
  },
  {
   "cell_type": "code",
   "execution_count": 12,
   "id": "a63f011e",
   "metadata": {},
   "outputs": [],
   "source": [
    "from scipy.stats import binned_statistic"
   ]
  },
  {
   "cell_type": "raw",
   "id": "a4e184bd",
   "metadata": {},
   "source": [
    "Prepare two inputs"
   ]
  },
  {
   "cell_type": "code",
   "execution_count": 13,
   "id": "5ca1cd8f",
   "metadata": {},
   "outputs": [],
   "source": [
    "input1 = np.arange(0,len(df)) #stats is calculated from this values & with evenly spaced values and returns the reference to it\n",
    "input2 = df[\"Loan_amount\"]"
   ]
  },
  {
   "cell_type": "raw",
   "id": "5d017040",
   "metadata": {},
   "source": [
    "Unpacking values"
   ]
  },
  {
   "cell_type": "code",
   "execution_count": 14,
   "id": "13045cfe",
   "metadata": {},
   "outputs": [
    {
     "name": "stdout",
     "output_type": "stream",
     "text": [
      "[ 5.5 10.   9. ]\n",
      "[  500.  7000. 13500. 20000.]\n",
      "[2 3 1 1 1 1 1 1 2 3 1 3 2 2 1]\n"
     ]
    }
   ],
   "source": [
    "in_bins,bin_edges, misc = binned_statistic(input2,input1, statistic=\"median\", bins=3)\n",
    "print(in_bins)\n",
    "print(bin_edges)\n",
    "print(misc)"
   ]
  },
  {
   "cell_type": "raw",
   "id": "3968ab26",
   "metadata": {},
   "source": [
    "Interval boundaries for 3 groups"
   ]
  },
  {
   "cell_type": "code",
   "execution_count": 15,
   "id": "7af6f421",
   "metadata": {},
   "outputs": [
    {
     "name": "stdout",
     "output_type": "stream",
     "text": [
      "[  500.  7000. 13500.]\n",
      "[ 7000. 13500. 20000.]\n",
      "[  500.  7000. 13500. 20000.]\n"
     ]
    }
   ],
   "source": [
    "print(bin_edges[:-1])\n",
    "print(bin_edges[1:])\n",
    "print(bin_edges)"
   ]
  },
  {
   "cell_type": "raw",
   "id": "1c4c2b47",
   "metadata": {},
   "source": [
    "Creating intervals using pd.IntervalIndex.from_arrays() which is left exclusive"
   ]
  },
  {
   "cell_type": "code",
   "execution_count": 16,
   "id": "d720f77d",
   "metadata": {},
   "outputs": [
    {
     "data": {
      "text/plain": [
       "IntervalIndex([(500.0, 7000.0], (7000.0, 13500.0], (13500.0, 20000.0]], dtype='interval[float64, right]')"
      ]
     },
     "execution_count": 16,
     "metadata": {},
     "output_type": "execute_result"
    }
   ],
   "source": [
    "bin_intervals = pd.IntervalIndex.from_arrays(bin_edges[:-1], bin_edges[1:])\n",
    "bin_intervals"
   ]
  },
  {
   "cell_type": "raw",
   "id": "a1090fe2",
   "metadata": {},
   "source": [
    "Let's create function which loops through the intervals and when it finds the correct interval, it returns the mid value."
   ]
  },
  {
   "cell_type": "code",
   "execution_count": 17,
   "id": "65b15cc9",
   "metadata": {},
   "outputs": [],
   "source": [
    "def create_median_interval(y,bin_intervals):\n",
    "    for interval in bin_intervals:\n",
    "        if y in interval:\n",
    "            return interval.mid"
   ]
  },
  {
   "cell_type": "raw",
   "id": "d35b7b97",
   "metadata": {},
   "source": [
    "We use the apply() function to apply the create_median_interval() to the Loan_amount column \n",
    "s.apply(func, convert_dtype=True, args=()) \n",
    ".apply takes a function and applies it to all values of pandas series."
   ]
  },
  {
   "cell_type": "code",
   "execution_count": 18,
   "id": "c22755a2",
   "metadata": {},
   "outputs": [
    {
     "data": {
      "text/plain": [
       "3750.0     7\n",
       "10250.0    4\n",
       "16750.0    3\n",
       "Name: sampled_Loan_amount, dtype: int64"
      ]
     },
     "execution_count": 18,
     "metadata": {},
     "output_type": "execute_result"
    }
   ],
   "source": [
    "df[\"sampled_Loan_amount\"] = df[\"Loan_amount\"].apply(lambda y:create_median_interval(y,bin_intervals) )\n",
    "df[\"sampled_Loan_amount\"].value_counts()"
   ]
  },
  {
   "cell_type": "code",
   "execution_count": 19,
   "id": "a0e12b48",
   "metadata": {},
   "outputs": [
    {
     "data": {
      "image/png": "[encoded data removed]",
      "text/plain": [
       "<Figure size 432x288 with 1 Axes>"
      ]
     },
     "metadata": {
      "needs_background": "light"
     },
     "output_type": "display_data"
    }
   ],
   "source": [
    "plt.hist(df[\"sampled_Loan_amount\"],bins =3);"
   ]
  },
  {
   "cell_type": "code",
   "execution_count": 20,
   "id": "08719b56",
   "metadata": {},
   "outputs": [
    {
     "data": {
      "image/png": "[encoded data removed]",
      "text/plain": [
       "<Figure size 432x288 with 1 Axes>"
      ]
     },
     "metadata": {
      "needs_background": "light"
     },
     "output_type": "display_data"
    }
   ],
   "source": [
    "plt.plot(df['Loan_amount'], label='original')\n",
    "plt.plot(df['sampled_Loan_amount'], color='red', label='sampled')\n",
    "plt.legend()\n",
    "plt.show()"
   ]
  },
  {
   "cell_type": "code",
   "execution_count": 21,
   "id": "57ac0a5b",
   "metadata": {},
   "outputs": [
    {
     "data": {
      "text/plain": [
       "array([ 3750., 10250., 16750.])"
      ]
     },
     "execution_count": 21,
     "metadata": {},
     "output_type": "execute_result"
    }
   ],
   "source": [
    "y_bins = (bin_edges[:-1]+bin_edges[1:])/2\n",
    "y_bins"
   ]
  },
  {
   "cell_type": "code",
   "execution_count": 22,
   "id": "047dff0c",
   "metadata": {},
   "outputs": [
    {
     "data": {
      "image/png": "[encoded data removed]",
      "text/plain": [
       "<Figure size 432x288 with 1 Axes>"
      ]
     },
     "metadata": {
      "needs_background": "light"
     },
     "output_type": "display_data"
    }
   ],
   "source": [
    "plt.plot(input1,input2)\n",
    "plt.xlabel(\"X\"); \n",
    "plt.ylabel(\"Y\")\n",
    "plt.scatter(in_bins, y_bins,  color= 'red',linewidth=5)\n",
    "plt.show()"
   ]
  },
  {
   "cell_type": "markdown",
   "id": "20ef8d54",
   "metadata": {},
   "source": [
    "# 5 Natural Breaks"
   ]
  },
  {
   "cell_type": "raw",
   "id": "8cc70842",
   "metadata": {},
   "source": [
    "Compute “natural breaks” (Fisher-Jenks algorithm) on list / tuple / array / numpy.ndarray of integers/floats.\n",
    "The algorithm implemented by this library is also sometimes referred to as Fisher-Jenks algorithm, \n",
    "Jenks Optimisation Method or Fisher exact optimization method. \n",
    "This is a deterministic method to calculate the optimal class boundaries."
   ]
  },
  {
   "cell_type": "code",
   "execution_count": 23,
   "id": "63d2ce10",
   "metadata": {},
   "outputs": [],
   "source": [
    "import jenkspy\n",
    "breaks = jenkspy.jenks_breaks(df['Loan_amount'],3)"
   ]
  },
  {
   "cell_type": "code",
   "execution_count": 24,
   "id": "01bb78b0",
   "metadata": {},
   "outputs": [],
   "source": [
    "df['bin_cut_break'] = pd.cut(df['Loan_amount'] , bins=breaks, labels=labels, include_lowest=True)"
   ]
  },
  {
   "cell_type": "code",
   "execution_count": 28,
   "id": "4183063c",
   "metadata": {},
   "outputs": [
    {
     "data": {
      "text/plain": [
       "Group 1    8\n",
       "Group 2    4\n",
       "Group 3    3\n",
       "Name: bin_cut_break, dtype: int64"
      ]
     },
     "execution_count": 28,
     "metadata": {},
     "output_type": "execute_result"
    }
   ],
   "source": [
    "df['bin_cut_break'].value_counts()"
   ]
  },
  {
   "cell_type": "code",
   "execution_count": 25,
   "id": "58c081b0",
   "metadata": {},
   "outputs": [
    {
     "data": {
      "image/png": "[encoded data removed]",
      "text/plain": [
       "<Figure size 432x288 with 1 Axes>"
      ]
     },
     "metadata": {
      "needs_background": "light"
     },
     "output_type": "display_data"
    }
   ],
   "source": [
    "df['bin_cut_break'].value_counts().plot(kind=\"barh\");"
   ]
  }
 ],
 "metadata": {
  "kernelspec": {
   "display_name": "Python 3 (ipykernel)",
   "language": "python",
   "name": "python3"
  },
  "language_info": {
   "codemirror_mode": {
    "name": "ipython",
    "version": 3
   },
   "file_extension": ".py",
   "mimetype": "text/x-python",
   "name": "python",
   "nbconvert_exporter": "python",
   "pygments_lexer": "ipython3",
   "version": "3.9.12"
  }
 },
 "nbformat": 4,
 "nbformat_minor": 5
}
