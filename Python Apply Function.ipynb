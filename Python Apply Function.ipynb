{
 "cells": [
  {
   "cell_type": "raw",
   "id": "77c135fb",
   "metadata": {},
   "source": [
    "Apply() function is used to modify or perform operation on the  dataframe or\n",
    "series.This method work like applymap and map function,but there is some  functional diferences among them, When working with apply function, you must specify axis you \n",
    "want your function to acts on.Setting axis equal to 0 the operation is acted on\n",
    "columnwise and axis = 0,the operation is acted on rowwise.\n",
    "Like applymap and map function, the method is used with anonymous \n",
    "functions or lambda functions.Lambda function iterate over the rows of the dataframe and grab the values of columns and by specifying axis to act on the \"apply()\" method \n",
    "that we want to apply it on the rows instead of columns.\n",
    "This method takes a function as an imput and applies this function to an entire\n",
    "Dataframe.The method is defined in both series and dataframe and accepts collable only. The powerfullness of this method is suited more when working\n",
    "with complex operations and aggregation.Series apply operate on one element\n",
    "at a time."
   ]
  },
  {
   "cell_type": "raw",
   "id": "9e318ded",
   "metadata": {},
   "source": [
    "We will work with apply () in two ways:\n",
    "    i) python fuction\n",
    "    ii) user defines function \n",
    "    iii) lambda function"
   ]
  },
  {
   "cell_type": "code",
   "execution_count": 1,
   "id": "823287a9",
   "metadata": {},
   "outputs": [],
   "source": [
    "import numpy as np\n",
    "import pandas as pd\n",
    "import seaborn as sns\n",
    "import matplotlib.pyplot as plt"
   ]
  },
  {
   "cell_type": "code",
   "execution_count": 2,
   "id": "8285d15b",
   "metadata": {},
   "outputs": [
    {
     "data": {
      "text/html": [
       "<div>\n",
       "<style scoped>\n",
       "    .dataframe tbody tr th:only-of-type {\n",
       "        vertical-align: middle;\n",
       "    }\n",
       "\n",
       "    .dataframe tbody tr th {\n",
       "        vertical-align: top;\n",
       "    }\n",
       "\n",
       "    .dataframe thead th {\n",
       "        text-align: right;\n",
       "    }\n",
       "</style>\n",
       "<table border=\"1\" class=\"dataframe\">\n",
       "  <thead>\n",
       "    <tr style=\"text-align: right;\">\n",
       "      <th></th>\n",
       "      <th>borrower</th>\n",
       "      <th>amount</th>\n",
       "      <th>salary</th>\n",
       "    </tr>\n",
       "  </thead>\n",
       "  <tbody>\n",
       "    <tr>\n",
       "      <th>0</th>\n",
       "      <td>Ritch</td>\n",
       "      <td>234.9</td>\n",
       "      <td>201.67</td>\n",
       "    </tr>\n",
       "    <tr>\n",
       "      <th>1</th>\n",
       "      <td>Lisa</td>\n",
       "      <td>672.5</td>\n",
       "      <td>234.88</td>\n",
       "    </tr>\n",
       "    <tr>\n",
       "      <th>2</th>\n",
       "      <td>Fred</td>\n",
       "      <td>246.3</td>\n",
       "      <td>235.23</td>\n",
       "    </tr>\n",
       "    <tr>\n",
       "      <th>3</th>\n",
       "      <td>Gregor</td>\n",
       "      <td>893.2</td>\n",
       "      <td>642.56</td>\n",
       "    </tr>\n",
       "    <tr>\n",
       "      <th>4</th>\n",
       "      <td>Esther</td>\n",
       "      <td>748.7</td>\n",
       "      <td>476.56</td>\n",
       "    </tr>\n",
       "    <tr>\n",
       "      <th>5</th>\n",
       "      <td>Willis</td>\n",
       "      <td>254.7</td>\n",
       "      <td>233.45</td>\n",
       "    </tr>\n",
       "    <tr>\n",
       "      <th>6</th>\n",
       "      <td>Margt</td>\n",
       "      <td>758.8</td>\n",
       "      <td>453.67</td>\n",
       "    </tr>\n",
       "    <tr>\n",
       "      <th>7</th>\n",
       "      <td>Phylis</td>\n",
       "      <td>375.7</td>\n",
       "      <td>362.12</td>\n",
       "    </tr>\n",
       "    <tr>\n",
       "      <th>8</th>\n",
       "      <td>Naomi</td>\n",
       "      <td>346.7</td>\n",
       "      <td>234.45</td>\n",
       "    </tr>\n",
       "    <tr>\n",
       "      <th>9</th>\n",
       "      <td>Douglas</td>\n",
       "      <td>234.9</td>\n",
       "      <td>345.56</td>\n",
       "    </tr>\n",
       "  </tbody>\n",
       "</table>\n",
       "</div>"
      ],
      "text/plain": [
       "  borrower  amount  salary\n",
       "0    Ritch   234.9  201.67\n",
       "1     Lisa   672.5  234.88\n",
       "2     Fred   246.3  235.23\n",
       "3   Gregor   893.2  642.56\n",
       "4   Esther   748.7  476.56\n",
       "5   Willis   254.7  233.45\n",
       "6    Margt   758.8  453.67\n",
       "7   Phylis   375.7  362.12\n",
       "8    Naomi   346.7  234.45\n",
       "9  Douglas   234.9  345.56"
      ]
     },
     "execution_count": 2,
     "metadata": {},
     "output_type": "execute_result"
    }
   ],
   "source": [
    "#Let's construct the dataframe for loan borrowers\n",
    "borrower =\"Ritch\",\"Lisa\",\"Fred\",\"Gregor\",\"Esther\",\"Willis\",\"Margt\",\"Phylis\",\"Naomi\",\"Douglas\"\n",
    "amount = 234.9,672.5,246.3,893.2,748.7,254.7,758.8,375.7,346.7,234.9\n",
    "salary = 201.67,234.88,235.23,642.56,476.56,233.45,453.67,362.12,234.45,345.56\n",
    "data = pd.DataFrame({\"borrower\":borrower,\"amount\":amount,\"salary\":salary})\n",
    "data"
   ]
  },
  {
   "cell_type": "code",
   "execution_count": 3,
   "id": "0447a9f8",
   "metadata": {},
   "outputs": [
    {
     "data": {
      "text/html": [
       "<div>\n",
       "<style scoped>\n",
       "    .dataframe tbody tr th:only-of-type {\n",
       "        vertical-align: middle;\n",
       "    }\n",
       "\n",
       "    .dataframe tbody tr th {\n",
       "        vertical-align: top;\n",
       "    }\n",
       "\n",
       "    .dataframe thead th {\n",
       "        text-align: right;\n",
       "    }\n",
       "</style>\n",
       "<table border=\"1\" class=\"dataframe\">\n",
       "  <thead>\n",
       "    <tr style=\"text-align: right;\">\n",
       "      <th></th>\n",
       "      <th>borrower</th>\n",
       "      <th>Names_Length</th>\n",
       "    </tr>\n",
       "  </thead>\n",
       "  <tbody>\n",
       "    <tr>\n",
       "      <th>0</th>\n",
       "      <td>Ritch</td>\n",
       "      <td>5</td>\n",
       "    </tr>\n",
       "    <tr>\n",
       "      <th>1</th>\n",
       "      <td>Lisa</td>\n",
       "      <td>4</td>\n",
       "    </tr>\n",
       "    <tr>\n",
       "      <th>2</th>\n",
       "      <td>Fred</td>\n",
       "      <td>4</td>\n",
       "    </tr>\n",
       "    <tr>\n",
       "      <th>3</th>\n",
       "      <td>Gregor</td>\n",
       "      <td>6</td>\n",
       "    </tr>\n",
       "    <tr>\n",
       "      <th>4</th>\n",
       "      <td>Esther</td>\n",
       "      <td>6</td>\n",
       "    </tr>\n",
       "    <tr>\n",
       "      <th>5</th>\n",
       "      <td>Willis</td>\n",
       "      <td>6</td>\n",
       "    </tr>\n",
       "  </tbody>\n",
       "</table>\n",
       "</div>"
      ],
      "text/plain": [
       "  borrower  Names_Length\n",
       "0    Ritch             5\n",
       "1     Lisa             4\n",
       "2     Fred             4\n",
       "3   Gregor             6\n",
       "4   Esther             6\n",
       "5   Willis             6"
      ]
     },
     "execution_count": 3,
     "metadata": {},
     "output_type": "execute_result"
    }
   ],
   "source": [
    "#Let's find the length of the borrowers strings\n",
    "data[\"Names_Length\"] = data.borrower.apply(len)\n",
    "data.loc[0:5,['borrower',\"Names_Length\"]]"
   ]
  },
  {
   "cell_type": "raw",
   "id": "ad45269e",
   "metadata": {},
   "source": [
    "Ceiling borrowed amount"
   ]
  },
  {
   "cell_type": "code",
   "execution_count": 4,
   "id": "c129508b",
   "metadata": {},
   "outputs": [
    {
     "data": {
      "text/html": [
       "<div>\n",
       "<style scoped>\n",
       "    .dataframe tbody tr th:only-of-type {\n",
       "        vertical-align: middle;\n",
       "    }\n",
       "\n",
       "    .dataframe tbody tr th {\n",
       "        vertical-align: top;\n",
       "    }\n",
       "\n",
       "    .dataframe thead th {\n",
       "        text-align: right;\n",
       "    }\n",
       "</style>\n",
       "<table border=\"1\" class=\"dataframe\">\n",
       "  <thead>\n",
       "    <tr style=\"text-align: right;\">\n",
       "      <th></th>\n",
       "      <th>amount</th>\n",
       "      <th>ceil_amount</th>\n",
       "    </tr>\n",
       "  </thead>\n",
       "  <tbody>\n",
       "    <tr>\n",
       "      <th>0</th>\n",
       "      <td>234.9</td>\n",
       "      <td>235.0</td>\n",
       "    </tr>\n",
       "    <tr>\n",
       "      <th>1</th>\n",
       "      <td>672.5</td>\n",
       "      <td>673.0</td>\n",
       "    </tr>\n",
       "    <tr>\n",
       "      <th>2</th>\n",
       "      <td>246.3</td>\n",
       "      <td>247.0</td>\n",
       "    </tr>\n",
       "    <tr>\n",
       "      <th>3</th>\n",
       "      <td>893.2</td>\n",
       "      <td>894.0</td>\n",
       "    </tr>\n",
       "    <tr>\n",
       "      <th>4</th>\n",
       "      <td>748.7</td>\n",
       "      <td>749.0</td>\n",
       "    </tr>\n",
       "    <tr>\n",
       "      <th>5</th>\n",
       "      <td>254.7</td>\n",
       "      <td>255.0</td>\n",
       "    </tr>\n",
       "  </tbody>\n",
       "</table>\n",
       "</div>"
      ],
      "text/plain": [
       "   amount  ceil_amount\n",
       "0   234.9        235.0\n",
       "1   672.5        673.0\n",
       "2   246.3        247.0\n",
       "3   893.2        894.0\n",
       "4   748.7        749.0\n",
       "5   254.7        255.0"
      ]
     },
     "execution_count": 4,
     "metadata": {},
     "output_type": "execute_result"
    }
   ],
   "source": [
    "data[\"ceil_amount\"] = data.amount.apply(np.ceil)\n",
    "data.loc[0:5,['amount',\"ceil_amount\"]]"
   ]
  },
  {
   "cell_type": "code",
   "execution_count": 5,
   "id": "63a1c65a",
   "metadata": {},
   "outputs": [
    {
     "data": {
      "text/html": [
       "<div>\n",
       "<style scoped>\n",
       "    .dataframe tbody tr th:only-of-type {\n",
       "        vertical-align: middle;\n",
       "    }\n",
       "\n",
       "    .dataframe tbody tr th {\n",
       "        vertical-align: top;\n",
       "    }\n",
       "\n",
       "    .dataframe thead th {\n",
       "        text-align: right;\n",
       "    }\n",
       "</style>\n",
       "<table border=\"1\" class=\"dataframe\">\n",
       "  <thead>\n",
       "    <tr style=\"text-align: right;\">\n",
       "      <th></th>\n",
       "      <th>salary</th>\n",
       "      <th>floor_salary</th>\n",
       "    </tr>\n",
       "  </thead>\n",
       "  <tbody>\n",
       "    <tr>\n",
       "      <th>0</th>\n",
       "      <td>201.67</td>\n",
       "      <td>201.0</td>\n",
       "    </tr>\n",
       "    <tr>\n",
       "      <th>1</th>\n",
       "      <td>234.88</td>\n",
       "      <td>234.0</td>\n",
       "    </tr>\n",
       "    <tr>\n",
       "      <th>2</th>\n",
       "      <td>235.23</td>\n",
       "      <td>235.0</td>\n",
       "    </tr>\n",
       "    <tr>\n",
       "      <th>3</th>\n",
       "      <td>642.56</td>\n",
       "      <td>642.0</td>\n",
       "    </tr>\n",
       "    <tr>\n",
       "      <th>4</th>\n",
       "      <td>476.56</td>\n",
       "      <td>476.0</td>\n",
       "    </tr>\n",
       "    <tr>\n",
       "      <th>5</th>\n",
       "      <td>233.45</td>\n",
       "      <td>233.0</td>\n",
       "    </tr>\n",
       "  </tbody>\n",
       "</table>\n",
       "</div>"
      ],
      "text/plain": [
       "   salary  floor_salary\n",
       "0  201.67         201.0\n",
       "1  234.88         234.0\n",
       "2  235.23         235.0\n",
       "3  642.56         642.0\n",
       "4  476.56         476.0\n",
       "5  233.45         233.0"
      ]
     },
     "execution_count": 5,
     "metadata": {},
     "output_type": "execute_result"
    }
   ],
   "source": [
    "#floor the salary values\n",
    "data[\"floor_salary\"] = data.salary.apply(np.floor)\n",
    "data.loc[0:5,['salary',\"floor_salary\"]]"
   ]
  },
  {
   "cell_type": "code",
   "execution_count": 6,
   "id": "b74ecf6a",
   "metadata": {},
   "outputs": [
    {
     "data": {
      "text/plain": [
       "0    234.90\n",
       "1    672.50\n",
       "2    246.30\n",
       "3    893.20\n",
       "4    748.70\n",
       "5    254.70\n",
       "6    758.80\n",
       "7    375.70\n",
       "8    346.70\n",
       "9    345.56\n",
       "dtype: float64"
      ]
     },
     "execution_count": 6,
     "metadata": {},
     "output_type": "execute_result"
    }
   ],
   "source": [
    "#Finding the maximum values of all rows of columns\n",
    "data.loc[:,[\"salary\",\"amount\"]].apply(max,axis =1)"
   ]
  },
  {
   "cell_type": "code",
   "execution_count": 7,
   "id": "c8842e2e",
   "metadata": {},
   "outputs": [
    {
     "data": {
      "text/plain": [
       "salary    642.56\n",
       "amount    893.20\n",
       "dtype: float64"
      ]
     },
     "execution_count": 7,
     "metadata": {},
     "output_type": "execute_result"
    }
   ],
   "source": [
    "#Returning the maximum values of columns\n",
    "data.loc[:,[\"salary\",\"amount\"]].apply(max,axis =0)"
   ]
  },
  {
   "cell_type": "code",
   "execution_count": 8,
   "id": "5fcc9a73",
   "metadata": {},
   "outputs": [
    {
     "data": {
      "text/plain": [
       "salary    3\n",
       "amount    3\n",
       "dtype: int64"
      ]
     },
     "execution_count": 8,
     "metadata": {},
     "output_type": "execute_result"
    }
   ],
   "source": [
    "#Returns indices of the columns with the max elements\n",
    "data.loc[:,[\"salary\",\"amount\"]].apply(np.argmax,axis =0)"
   ]
  },
  {
   "cell_type": "raw",
   "id": "758061c6",
   "metadata": {},
   "source": [
    "Apply() with User defined Function"
   ]
  },
  {
   "cell_type": "code",
   "execution_count": 9,
   "id": "036e2f6f",
   "metadata": {},
   "outputs": [
    {
     "name": "stdout",
     "output_type": "stream",
     "text": [
      "(190, 5)\n"
     ]
    },
    {
     "data": {
      "text/html": [
       "<div>\n",
       "<style scoped>\n",
       "    .dataframe tbody tr th:only-of-type {\n",
       "        vertical-align: middle;\n",
       "    }\n",
       "\n",
       "    .dataframe tbody tr th {\n",
       "        vertical-align: top;\n",
       "    }\n",
       "\n",
       "    .dataframe thead th {\n",
       "        text-align: right;\n",
       "    }\n",
       "</style>\n",
       "<table border=\"1\" class=\"dataframe\">\n",
       "  <thead>\n",
       "    <tr style=\"text-align: right;\">\n",
       "      <th></th>\n",
       "      <th>Sepal_Length</th>\n",
       "      <th>Sepal_Width</th>\n",
       "      <th>Petal_Length</th>\n",
       "      <th>Petal_Width</th>\n",
       "      <th>Species</th>\n",
       "    </tr>\n",
       "  </thead>\n",
       "  <tbody>\n",
       "    <tr>\n",
       "      <th>19</th>\n",
       "      <td>5.1</td>\n",
       "      <td>3.8</td>\n",
       "      <td>1.5</td>\n",
       "      <td>0.3</td>\n",
       "      <td>setosa</td>\n",
       "    </tr>\n",
       "    <tr>\n",
       "      <th>36</th>\n",
       "      <td>5.5</td>\n",
       "      <td>3.5</td>\n",
       "      <td>1.3</td>\n",
       "      <td>0.2</td>\n",
       "      <td>setosa</td>\n",
       "    </tr>\n",
       "    <tr>\n",
       "      <th>137</th>\n",
       "      <td>6.4</td>\n",
       "      <td>3.1</td>\n",
       "      <td>5.5</td>\n",
       "      <td>1.8</td>\n",
       "      <td>virginica</td>\n",
       "    </tr>\n",
       "    <tr>\n",
       "      <th>74</th>\n",
       "      <td>6.4</td>\n",
       "      <td>2.9</td>\n",
       "      <td>4.3</td>\n",
       "      <td>1.3</td>\n",
       "      <td>versicolor</td>\n",
       "    </tr>\n",
       "    <tr>\n",
       "      <th>50</th>\n",
       "      <td>7.0</td>\n",
       "      <td>3.2</td>\n",
       "      <td>4.7</td>\n",
       "      <td>1.4</td>\n",
       "      <td>versicolor</td>\n",
       "    </tr>\n",
       "    <tr>\n",
       "      <th>95</th>\n",
       "      <td>5.7</td>\n",
       "      <td>3.0</td>\n",
       "      <td>4.2</td>\n",
       "      <td>1.2</td>\n",
       "      <td>versicolor</td>\n",
       "    </tr>\n",
       "    <tr>\n",
       "      <th>141</th>\n",
       "      <td>6.9</td>\n",
       "      <td>3.1</td>\n",
       "      <td>5.1</td>\n",
       "      <td>2.3</td>\n",
       "      <td>virginica</td>\n",
       "    </tr>\n",
       "    <tr>\n",
       "      <th>5</th>\n",
       "      <td>5.4</td>\n",
       "      <td>3.9</td>\n",
       "      <td>1.7</td>\n",
       "      <td>0.4</td>\n",
       "      <td>setosa</td>\n",
       "    </tr>\n",
       "    <tr>\n",
       "      <th>38</th>\n",
       "      <td>4.4</td>\n",
       "      <td>3.0</td>\n",
       "      <td>1.3</td>\n",
       "      <td>0.2</td>\n",
       "      <td>setosa</td>\n",
       "    </tr>\n",
       "    <tr>\n",
       "      <th>17</th>\n",
       "      <td>5.1</td>\n",
       "      <td>3.5</td>\n",
       "      <td>1.4</td>\n",
       "      <td>0.3</td>\n",
       "      <td>setosa</td>\n",
       "    </tr>\n",
       "  </tbody>\n",
       "</table>\n",
       "</div>"
      ],
      "text/plain": [
       "     Sepal_Length  Sepal_Width  Petal_Length  Petal_Width     Species\n",
       "19            5.1          3.8           1.5          0.3      setosa\n",
       "36            5.5          3.5           1.3          0.2      setosa\n",
       "137           6.4          3.1           5.5          1.8   virginica\n",
       "74            6.4          2.9           4.3          1.3  versicolor\n",
       "50            7.0          3.2           4.7          1.4  versicolor\n",
       "95            5.7          3.0           4.2          1.2  versicolor\n",
       "141           6.9          3.1           5.1          2.3   virginica\n",
       "5             5.4          3.9           1.7          0.4      setosa\n",
       "38            4.4          3.0           1.3          0.2      setosa\n",
       "17            5.1          3.5           1.4          0.3      setosa"
      ]
     },
     "execution_count": 9,
     "metadata": {},
     "output_type": "execute_result"
    }
   ],
   "source": [
    "#Import the dataset\n",
    "\n",
    "def collect(file):\n",
    "    df= pd.read_csv(file)   \n",
    "    return df\n",
    "df = collect(r\"C:\\Users\\kelvin\\OneDrive\\Desktop\\iriswqa.csv\")\n",
    "print(df.shape)\n",
    "df.sample(10)"
   ]
  },
  {
   "cell_type": "code",
   "execution_count": 10,
   "id": "c041153e",
   "metadata": {},
   "outputs": [
    {
     "data": {
      "text/plain": [
       "Sepal_Length    1094.9\n",
       "Sepal_Width      590.5\n",
       "Petal_Length     666.9\n",
       "Petal_Width      208.3\n",
       "dtype: float64"
      ]
     },
     "execution_count": 10,
     "metadata": {},
     "output_type": "execute_result"
    }
   ],
   "source": [
    "#function to sum all values of the rows,columnwise\n",
    "def calc_sum(x):\n",
    "    return x.sum()\n",
    "df.select_dtypes(float).apply(calc_sum,axis=0)"
   ]
  },
  {
   "cell_type": "code",
   "execution_count": 11,
   "id": "1f57ff09",
   "metadata": {},
   "outputs": [
    {
     "data": {
      "text/plain": [
       "0      10.2\n",
       "1       9.5\n",
       "2       9.4\n",
       "3       9.4\n",
       "4      10.2\n",
       "       ... \n",
       "185    15.7\n",
       "186    17.8\n",
       "187    18.2\n",
       "188    15.6\n",
       "189    15.8\n",
       "Length: 190, dtype: float64"
      ]
     },
     "execution_count": 11,
     "metadata": {},
     "output_type": "execute_result"
    }
   ],
   "source": [
    "##function to sum all values of the columns,rowwise\n",
    "def calc_sum1(f):\n",
    "    return f.sum()\n",
    "df.select_dtypes(float).apply(calc_sum1,axis =1)"
   ]
  },
  {
   "cell_type": "code",
   "execution_count": 12,
   "id": "a2a90965",
   "metadata": {},
   "outputs": [
    {
     "data": {
      "text/plain": [
       "0      0.5927\n",
       "1      0.5080\n",
       "2      0.5419\n",
       "3      0.5250\n",
       "4      0.6097\n",
       "        ...  \n",
       "185    0.4572\n",
       "186    0.5588\n",
       "187    0.5419\n",
       "188    0.4742\n",
       "189    0.5080\n",
       "Name: Sepal_Width, Length: 190, dtype: float64"
      ]
     },
     "execution_count": 12,
     "metadata": {},
     "output_type": "execute_result"
    }
   ],
   "source": [
    "#Proportion of each and every  sepal width\n",
    "def round_val(h):\n",
    "    return np.round((h/sum(df.Sepal_Width))*100,4)\n",
    "df[\"Sepal_Width\"].apply(round_val)"
   ]
  },
  {
   "cell_type": "code",
   "execution_count": 13,
   "id": "b8d1dde1",
   "metadata": {},
   "outputs": [
    {
     "data": {
      "text/plain": [
       "Sepal_Length    3.6\n",
       "Sepal_Width     2.4\n",
       "Petal_Length    5.9\n",
       "Petal_Width     2.4\n",
       "dtype: float64"
      ]
     },
     "execution_count": 13,
     "metadata": {},
     "output_type": "execute_result"
    }
   ],
   "source": [
    "#Difference of the values between min and max in all floating columns\n",
    "def cal_diff(fs):\n",
    "    return np.max(fs) - np.min(fs)\n",
    "df.select_dtypes(float).apply(cal_diff,axis=0)"
   ]
  },
  {
   "cell_type": "code",
   "execution_count": 14,
   "id": "30771561",
   "metadata": {},
   "outputs": [
    {
     "data": {
      "text/html": [
       "<div>\n",
       "<style scoped>\n",
       "    .dataframe tbody tr th:only-of-type {\n",
       "        vertical-align: middle;\n",
       "    }\n",
       "\n",
       "    .dataframe tbody tr th {\n",
       "        vertical-align: top;\n",
       "    }\n",
       "\n",
       "    .dataframe thead th {\n",
       "        text-align: right;\n",
       "    }\n",
       "</style>\n",
       "<table border=\"1\" class=\"dataframe\">\n",
       "  <thead>\n",
       "    <tr style=\"text-align: right;\">\n",
       "      <th></th>\n",
       "      <th>Sepal_Length</th>\n",
       "      <th>Sepal_Width</th>\n",
       "      <th>SepaLSepWdiff</th>\n",
       "    </tr>\n",
       "  </thead>\n",
       "  <tbody>\n",
       "    <tr>\n",
       "      <th>0</th>\n",
       "      <td>5.1</td>\n",
       "      <td>3.5</td>\n",
       "      <td>1.6</td>\n",
       "    </tr>\n",
       "    <tr>\n",
       "      <th>1</th>\n",
       "      <td>4.9</td>\n",
       "      <td>3.0</td>\n",
       "      <td>1.9</td>\n",
       "    </tr>\n",
       "    <tr>\n",
       "      <th>2</th>\n",
       "      <td>4.7</td>\n",
       "      <td>3.2</td>\n",
       "      <td>1.5</td>\n",
       "    </tr>\n",
       "    <tr>\n",
       "      <th>3</th>\n",
       "      <td>4.6</td>\n",
       "      <td>3.1</td>\n",
       "      <td>1.5</td>\n",
       "    </tr>\n",
       "    <tr>\n",
       "      <th>4</th>\n",
       "      <td>5.0</td>\n",
       "      <td>3.6</td>\n",
       "      <td>1.4</td>\n",
       "    </tr>\n",
       "    <tr>\n",
       "      <th>5</th>\n",
       "      <td>5.4</td>\n",
       "      <td>3.9</td>\n",
       "      <td>1.5</td>\n",
       "    </tr>\n",
       "    <tr>\n",
       "      <th>6</th>\n",
       "      <td>4.6</td>\n",
       "      <td>3.4</td>\n",
       "      <td>1.2</td>\n",
       "    </tr>\n",
       "    <tr>\n",
       "      <th>7</th>\n",
       "      <td>5.0</td>\n",
       "      <td>3.4</td>\n",
       "      <td>1.6</td>\n",
       "    </tr>\n",
       "    <tr>\n",
       "      <th>8</th>\n",
       "      <td>4.4</td>\n",
       "      <td>2.9</td>\n",
       "      <td>1.5</td>\n",
       "    </tr>\n",
       "    <tr>\n",
       "      <th>9</th>\n",
       "      <td>4.9</td>\n",
       "      <td>3.1</td>\n",
       "      <td>1.8</td>\n",
       "    </tr>\n",
       "    <tr>\n",
       "      <th>10</th>\n",
       "      <td>5.4</td>\n",
       "      <td>3.7</td>\n",
       "      <td>1.7</td>\n",
       "    </tr>\n",
       "  </tbody>\n",
       "</table>\n",
       "</div>"
      ],
      "text/plain": [
       "    Sepal_Length  Sepal_Width  SepaLSepWdiff\n",
       "0            5.1          3.5            1.6\n",
       "1            4.9          3.0            1.9\n",
       "2            4.7          3.2            1.5\n",
       "3            4.6          3.1            1.5\n",
       "4            5.0          3.6            1.4\n",
       "5            5.4          3.9            1.5\n",
       "6            4.6          3.4            1.2\n",
       "7            5.0          3.4            1.6\n",
       "8            4.4          2.9            1.5\n",
       "9            4.9          3.1            1.8\n",
       "10           5.4          3.7            1.7"
      ]
     },
     "execution_count": 14,
     "metadata": {},
     "output_type": "execute_result"
    }
   ],
   "source": [
    "def cal_diff(fs):\n",
    "    return fs[0] - fs[1]\n",
    "df[\"SepaLSepWdiff\"]= df[[\"Sepal_Length\",\"Sepal_Width\"]].apply(cal_diff,axis=1)\n",
    "df.loc[0:10,[\"Sepal_Length\",\"Sepal_Width\",\"SepaLSepWdiff\"]]"
   ]
  },
  {
   "cell_type": "code",
   "execution_count": 15,
   "id": "82362ec7",
   "metadata": {},
   "outputs": [
    {
     "data": {
      "image/png": "[encoded data removed]",
      "text/plain": [
       "<Figure size 432x288 with 1 Axes>"
      ]
     },
     "metadata": {
      "needs_background": "light"
     },
     "output_type": "display_data"
    }
   ],
   "source": [
    "plt.plot(df[ df[\"Species\"]==\"setosa\"].SepaLSepWdiff,label=\"setosa\")\n",
    "plt.plot(df[ df[\"Species\"]==\"virginica\"].SepaLSepWdiff,label=\"virginica\")\n",
    "plt.plot(df[ df[\"Species\"]==\"versicolor\"].SepaLSepWdiff,label= \"versicolor\")\n",
    "plt.legend()\n",
    "plt.show();"
   ]
  },
  {
   "cell_type": "code",
   "execution_count": 16,
   "id": "6ca73996",
   "metadata": {},
   "outputs": [
    {
     "data": {
      "text/html": [
       "<div>\n",
       "<style scoped>\n",
       "    .dataframe tbody tr th:only-of-type {\n",
       "        vertical-align: middle;\n",
       "    }\n",
       "\n",
       "    .dataframe tbody tr th {\n",
       "        vertical-align: top;\n",
       "    }\n",
       "\n",
       "    .dataframe thead th {\n",
       "        text-align: right;\n",
       "    }\n",
       "</style>\n",
       "<table border=\"1\" class=\"dataframe\">\n",
       "  <thead>\n",
       "    <tr style=\"text-align: right;\">\n",
       "      <th></th>\n",
       "      <th>height</th>\n",
       "      <th>weight</th>\n",
       "    </tr>\n",
       "  </thead>\n",
       "  <tbody>\n",
       "    <tr>\n",
       "      <th>0</th>\n",
       "      <td>173</td>\n",
       "      <td>60</td>\n",
       "    </tr>\n",
       "    <tr>\n",
       "      <th>1</th>\n",
       "      <td>168</td>\n",
       "      <td>70</td>\n",
       "    </tr>\n",
       "    <tr>\n",
       "      <th>2</th>\n",
       "      <td>171</td>\n",
       "      <td>67</td>\n",
       "    </tr>\n",
       "    <tr>\n",
       "      <th>3</th>\n",
       "      <td>168</td>\n",
       "      <td>77</td>\n",
       "    </tr>\n",
       "    <tr>\n",
       "      <th>4</th>\n",
       "      <td>171</td>\n",
       "      <td>83</td>\n",
       "    </tr>\n",
       "    <tr>\n",
       "      <th>5</th>\n",
       "      <td>167</td>\n",
       "      <td>67</td>\n",
       "    </tr>\n",
       "    <tr>\n",
       "      <th>6</th>\n",
       "      <td>173</td>\n",
       "      <td>59</td>\n",
       "    </tr>\n",
       "    <tr>\n",
       "      <th>7</th>\n",
       "      <td>167</td>\n",
       "      <td>56</td>\n",
       "    </tr>\n",
       "  </tbody>\n",
       "</table>\n",
       "</div>"
      ],
      "text/plain": [
       "   height  weight\n",
       "0     173      60\n",
       "1     168      70\n",
       "2     171      67\n",
       "3     168      77\n",
       "4     171      83\n",
       "5     167      67\n",
       "6     173      59\n",
       "7     167      56"
      ]
     },
     "execution_count": 16,
     "metadata": {},
     "output_type": "execute_result"
    }
   ],
   "source": [
    "height = 173,168,171,168,171,167,173,167\n",
    "weight = 60,70,67,77,83,67,59,56\n",
    "df2= pd.DataFrame({\"height\":height,\"weight\":weight})\n",
    "df2"
   ]
  },
  {
   "cell_type": "code",
   "execution_count": 17,
   "id": "9b085f2d",
   "metadata": {},
   "outputs": [
    {
     "data": {
      "text/plain": [
       "0    20.05\n",
       "1    24.80\n",
       "2    22.91\n",
       "3    27.28\n",
       "4    28.38\n",
       "5    24.02\n",
       "6    19.71\n",
       "7    20.08\n",
       "dtype: float64"
      ]
     },
     "execution_count": 17,
     "metadata": {},
     "output_type": "execute_result"
    }
   ],
   "source": [
    "def calc_bmi(weight,height):\n",
    "    return np.round(weight/(height/100)**2,2)\n",
    "df2.apply(lambda x:calc_bmi(x['weight'],x['height']),axis=1)"
   ]
  },
  {
   "cell_type": "code",
   "execution_count": 18,
   "id": "1ec85c3a",
   "metadata": {},
   "outputs": [
    {
     "data": {
      "text/html": [
       "<div>\n",
       "<style scoped>\n",
       "    .dataframe tbody tr th:only-of-type {\n",
       "        vertical-align: middle;\n",
       "    }\n",
       "\n",
       "    .dataframe tbody tr th {\n",
       "        vertical-align: top;\n",
       "    }\n",
       "\n",
       "    .dataframe thead th {\n",
       "        text-align: right;\n",
       "    }\n",
       "</style>\n",
       "<table border=\"1\" class=\"dataframe\">\n",
       "  <thead>\n",
       "    <tr style=\"text-align: right;\">\n",
       "      <th></th>\n",
       "      <th>height</th>\n",
       "      <th>weight</th>\n",
       "      <th>bmi</th>\n",
       "    </tr>\n",
       "  </thead>\n",
       "  <tbody>\n",
       "    <tr>\n",
       "      <th>0</th>\n",
       "      <td>173</td>\n",
       "      <td>60</td>\n",
       "      <td>20.05</td>\n",
       "    </tr>\n",
       "    <tr>\n",
       "      <th>1</th>\n",
       "      <td>168</td>\n",
       "      <td>70</td>\n",
       "      <td>24.80</td>\n",
       "    </tr>\n",
       "    <tr>\n",
       "      <th>2</th>\n",
       "      <td>171</td>\n",
       "      <td>67</td>\n",
       "      <td>22.91</td>\n",
       "    </tr>\n",
       "    <tr>\n",
       "      <th>3</th>\n",
       "      <td>168</td>\n",
       "      <td>77</td>\n",
       "      <td>27.28</td>\n",
       "    </tr>\n",
       "    <tr>\n",
       "      <th>4</th>\n",
       "      <td>171</td>\n",
       "      <td>83</td>\n",
       "      <td>28.38</td>\n",
       "    </tr>\n",
       "    <tr>\n",
       "      <th>5</th>\n",
       "      <td>167</td>\n",
       "      <td>67</td>\n",
       "      <td>24.02</td>\n",
       "    </tr>\n",
       "    <tr>\n",
       "      <th>6</th>\n",
       "      <td>173</td>\n",
       "      <td>59</td>\n",
       "      <td>19.71</td>\n",
       "    </tr>\n",
       "    <tr>\n",
       "      <th>7</th>\n",
       "      <td>167</td>\n",
       "      <td>56</td>\n",
       "      <td>20.08</td>\n",
       "    </tr>\n",
       "  </tbody>\n",
       "</table>\n",
       "</div>"
      ],
      "text/plain": [
       "   height  weight    bmi\n",
       "0     173      60  20.05\n",
       "1     168      70  24.80\n",
       "2     171      67  22.91\n",
       "3     168      77  27.28\n",
       "4     171      83  28.38\n",
       "5     167      67  24.02\n",
       "6     173      59  19.71\n",
       "7     167      56  20.08"
      ]
     },
     "execution_count": 18,
     "metadata": {},
     "output_type": "execute_result"
    }
   ],
   "source": [
    "def calc_bmi(weight,height):\n",
    "    return np.round(weight/(height/100)**2,2)\n",
    "df2[\"bmi\"]=df2.apply(lambda x:calc_bmi(x['weight'],x['height']),axis=1)\n",
    "df2"
   ]
  },
  {
   "cell_type": "code",
   "execution_count": 19,
   "id": "6157b96e",
   "metadata": {},
   "outputs": [
    {
     "data": {
      "text/html": [
       "<div>\n",
       "<style scoped>\n",
       "    .dataframe tbody tr th:only-of-type {\n",
       "        vertical-align: middle;\n",
       "    }\n",
       "\n",
       "    .dataframe tbody tr th {\n",
       "        vertical-align: top;\n",
       "    }\n",
       "\n",
       "    .dataframe thead th {\n",
       "        text-align: right;\n",
       "    }\n",
       "</style>\n",
       "<table border=\"1\" class=\"dataframe\">\n",
       "  <thead>\n",
       "    <tr style=\"text-align: right;\">\n",
       "      <th></th>\n",
       "      <th>height</th>\n",
       "      <th>weight</th>\n",
       "      <th>bmi</th>\n",
       "      <th>bmi_indicator</th>\n",
       "    </tr>\n",
       "  </thead>\n",
       "  <tbody>\n",
       "    <tr>\n",
       "      <th>0</th>\n",
       "      <td>173</td>\n",
       "      <td>60</td>\n",
       "      <td>20.05</td>\n",
       "      <td>Group 2</td>\n",
       "    </tr>\n",
       "    <tr>\n",
       "      <th>1</th>\n",
       "      <td>168</td>\n",
       "      <td>70</td>\n",
       "      <td>24.80</td>\n",
       "      <td>Group 2</td>\n",
       "    </tr>\n",
       "    <tr>\n",
       "      <th>2</th>\n",
       "      <td>171</td>\n",
       "      <td>67</td>\n",
       "      <td>22.91</td>\n",
       "      <td>Group 2</td>\n",
       "    </tr>\n",
       "    <tr>\n",
       "      <th>3</th>\n",
       "      <td>168</td>\n",
       "      <td>77</td>\n",
       "      <td>27.28</td>\n",
       "      <td>Group 3</td>\n",
       "    </tr>\n",
       "    <tr>\n",
       "      <th>4</th>\n",
       "      <td>171</td>\n",
       "      <td>83</td>\n",
       "      <td>28.38</td>\n",
       "      <td>Group 3</td>\n",
       "    </tr>\n",
       "    <tr>\n",
       "      <th>5</th>\n",
       "      <td>167</td>\n",
       "      <td>67</td>\n",
       "      <td>24.02</td>\n",
       "      <td>Group 2</td>\n",
       "    </tr>\n",
       "    <tr>\n",
       "      <th>6</th>\n",
       "      <td>173</td>\n",
       "      <td>59</td>\n",
       "      <td>19.71</td>\n",
       "      <td>Group 2</td>\n",
       "    </tr>\n",
       "    <tr>\n",
       "      <th>7</th>\n",
       "      <td>167</td>\n",
       "      <td>56</td>\n",
       "      <td>20.08</td>\n",
       "      <td>Group 2</td>\n",
       "    </tr>\n",
       "  </tbody>\n",
       "</table>\n",
       "</div>"
      ],
      "text/plain": [
       "   height  weight    bmi bmi_indicator\n",
       "0     173      60  20.05       Group 2\n",
       "1     168      70  24.80       Group 2\n",
       "2     171      67  22.91       Group 2\n",
       "3     168      77  27.28       Group 3\n",
       "4     171      83  28.38       Group 3\n",
       "5     167      67  24.02       Group 2\n",
       "6     173      59  19.71       Group 2\n",
       "7     167      56  20.08       Group 2"
      ]
     },
     "execution_count": 19,
     "metadata": {},
     "output_type": "execute_result"
    }
   ],
   "source": [
    "def indicator (bmi):\n",
    "    if(bmi < 18.5):\n",
    "        return 'Group 1'\n",
    "    elif (18.5 <= bmi <25):\n",
    "        return 'Group 2'\n",
    "    elif (25 <= bmi < 30):\n",
    "        return 'Group 3'\n",
    "    else:\n",
    "        return 'Group 2'\n",
    "df2['bmi_indicator'] = df2['bmi'].apply(indicator)  \n",
    "df2"
   ]
  },
  {
   "cell_type": "code",
   "execution_count": 20,
   "id": "3373df2e",
   "metadata": {},
   "outputs": [
    {
     "data": {
      "text/plain": [
       "False    0.75\n",
       "True     0.25\n",
       "Name: 0, dtype: float64"
      ]
     },
     "execution_count": 20,
     "metadata": {},
     "output_type": "execute_result"
    }
   ],
   "source": [
    "#proportion of of those with heigh difference greater than 5\n",
    "mask = df2['height'].apply(lambda x: df2.height- x > 5)\n",
    "mask[0].value_counts(normalize=True)"
   ]
  },
  {
   "cell_type": "code",
   "execution_count": 21,
   "id": "99bb8568",
   "metadata": {},
   "outputs": [
    {
     "data": {
      "text/html": [
       "<div>\n",
       "<style scoped>\n",
       "    .dataframe tbody tr th:only-of-type {\n",
       "        vertical-align: middle;\n",
       "    }\n",
       "\n",
       "    .dataframe tbody tr th {\n",
       "        vertical-align: top;\n",
       "    }\n",
       "\n",
       "    .dataframe thead th {\n",
       "        text-align: right;\n",
       "    }\n",
       "</style>\n",
       "<table border=\"1\" class=\"dataframe\">\n",
       "  <thead>\n",
       "    <tr style=\"text-align: right;\">\n",
       "      <th></th>\n",
       "      <th>height</th>\n",
       "      <th>weight</th>\n",
       "      <th>bmi</th>\n",
       "      <th>bmi_indicator</th>\n",
       "    </tr>\n",
       "  </thead>\n",
       "  <tbody>\n",
       "    <tr>\n",
       "      <th>0</th>\n",
       "      <td>173</td>\n",
       "      <td>60</td>\n",
       "      <td>20.05</td>\n",
       "      <td>Group 2</td>\n",
       "    </tr>\n",
       "    <tr>\n",
       "      <th>1</th>\n",
       "      <td>168</td>\n",
       "      <td>70</td>\n",
       "      <td>24.80</td>\n",
       "      <td>Group 2</td>\n",
       "    </tr>\n",
       "    <tr>\n",
       "      <th>2</th>\n",
       "      <td>171</td>\n",
       "      <td>67</td>\n",
       "      <td>22.91</td>\n",
       "      <td>Group 2</td>\n",
       "    </tr>\n",
       "    <tr>\n",
       "      <th>3</th>\n",
       "      <td>168</td>\n",
       "      <td>77</td>\n",
       "      <td>27.28</td>\n",
       "      <td>Group 3</td>\n",
       "    </tr>\n",
       "    <tr>\n",
       "      <th>4</th>\n",
       "      <td>171</td>\n",
       "      <td>83</td>\n",
       "      <td>28.38</td>\n",
       "      <td>Group 3</td>\n",
       "    </tr>\n",
       "    <tr>\n",
       "      <th>5</th>\n",
       "      <td>167</td>\n",
       "      <td>67</td>\n",
       "      <td>24.02</td>\n",
       "      <td>Group 2</td>\n",
       "    </tr>\n",
       "    <tr>\n",
       "      <th>6</th>\n",
       "      <td>173</td>\n",
       "      <td>59</td>\n",
       "      <td>19.71</td>\n",
       "      <td>Group 2</td>\n",
       "    </tr>\n",
       "    <tr>\n",
       "      <th>7</th>\n",
       "      <td>167</td>\n",
       "      <td>56</td>\n",
       "      <td>20.08</td>\n",
       "      <td>Group 2</td>\n",
       "    </tr>\n",
       "  </tbody>\n",
       "</table>\n",
       "</div>"
      ],
      "text/plain": [
       "   height  weight    bmi bmi_indicator\n",
       "0     173      60  20.05       Group 2\n",
       "1     168      70  24.80       Group 2\n",
       "2     171      67  22.91       Group 2\n",
       "3     168      77  27.28       Group 3\n",
       "4     171      83  28.38       Group 3\n",
       "5     167      67  24.02       Group 2\n",
       "6     173      59  19.71       Group 2\n",
       "7     167      56  20.08       Group 2"
      ]
     },
     "execution_count": 21,
     "metadata": {},
     "output_type": "execute_result"
    }
   ],
   "source": [
    "#condition selection with user defined function\n",
    "def indicator (bmi):\n",
    "    if(bmi < 18.5):\n",
    "        return 'Group 1'\n",
    "    elif (18.5 <= bmi <25):\n",
    "        return 'Group 2'\n",
    "    elif (25 <= bmi < 30):\n",
    "        return 'Group 3'\n",
    "    else:\n",
    "        return 'Group 2'\n",
    "df2['bmi_indicator'] = df2['bmi'].apply(indicator)  \n",
    "df2"
   ]
  },
  {
   "cell_type": "code",
   "execution_count": 22,
   "id": "aba4ee73",
   "metadata": {},
   "outputs": [
    {
     "data": {
      "image/png": "[encoded data removed]",
      "text/plain": [
       "<Figure size 432x288 with 1 Axes>"
      ]
     },
     "metadata": {
      "needs_background": "light"
     },
     "output_type": "display_data"
    }
   ],
   "source": [
    "sns.countplot(x=df2[\"bmi_indicator\"]);"
   ]
  },
  {
   "cell_type": "code",
   "execution_count": 23,
   "id": "18495f22",
   "metadata": {},
   "outputs": [
    {
     "data": {
      "text/html": [
       "<div>\n",
       "<style scoped>\n",
       "    .dataframe tbody tr th:only-of-type {\n",
       "        vertical-align: middle;\n",
       "    }\n",
       "\n",
       "    .dataframe tbody tr th {\n",
       "        vertical-align: top;\n",
       "    }\n",
       "\n",
       "    .dataframe thead th {\n",
       "        text-align: right;\n",
       "    }\n",
       "</style>\n",
       "<table border=\"1\" class=\"dataframe\">\n",
       "  <thead>\n",
       "    <tr style=\"text-align: right;\">\n",
       "      <th></th>\n",
       "      <th>height</th>\n",
       "      <th>weight</th>\n",
       "      <th>bmi</th>\n",
       "      <th>bmi_indicator</th>\n",
       "    </tr>\n",
       "  </thead>\n",
       "  <tbody>\n",
       "    <tr>\n",
       "      <th>1</th>\n",
       "      <td>168</td>\n",
       "      <td>70</td>\n",
       "      <td>24.80</td>\n",
       "      <td>Group 2</td>\n",
       "    </tr>\n",
       "    <tr>\n",
       "      <th>3</th>\n",
       "      <td>168</td>\n",
       "      <td>77</td>\n",
       "      <td>27.28</td>\n",
       "      <td>Group 3</td>\n",
       "    </tr>\n",
       "    <tr>\n",
       "      <th>4</th>\n",
       "      <td>171</td>\n",
       "      <td>83</td>\n",
       "      <td>28.38</td>\n",
       "      <td>Group 3</td>\n",
       "    </tr>\n",
       "    <tr>\n",
       "      <th>5</th>\n",
       "      <td>167</td>\n",
       "      <td>67</td>\n",
       "      <td>24.02</td>\n",
       "      <td>Group 2</td>\n",
       "    </tr>\n",
       "  </tbody>\n",
       "</table>\n",
       "</div>"
      ],
      "text/plain": [
       "   height  weight    bmi bmi_indicator\n",
       "1     168      70  24.80       Group 2\n",
       "3     168      77  27.28       Group 3\n",
       "4     171      83  28.38       Group 3\n",
       "5     167      67  24.02       Group 2"
      ]
     },
     "execution_count": 23,
     "metadata": {},
     "output_type": "execute_result"
    }
   ],
   "source": [
    "#conditioning values of the multiple columns\n",
    "\n",
    "df2[df2.apply(lambda x: True if x[\"bmi\"]>24 and  x['height'] > 165 else False, axis=1)]"
   ]
  },
  {
   "cell_type": "code",
   "execution_count": 24,
   "id": "136b02f9",
   "metadata": {},
   "outputs": [
    {
     "data": {
      "image/png": "[encoded data removed]",
      "text/plain": [
       "<Figure size 432x288 with 1 Axes>"
      ]
     },
     "metadata": {
      "needs_background": "light"
     },
     "output_type": "display_data"
    }
   ],
   "source": [
    "#comparison of groups\n",
    "df2['bmi_indicator'].value_counts().plot(kind=\"barh\");"
   ]
  }
 ],
 "metadata": {
  "kernelspec": {
   "display_name": "Python 3 (ipykernel)",
   "language": "python",
   "name": "python3"
  },
  "language_info": {
   "codemirror_mode": {
    "name": "ipython",
    "version": 3
   },
   "file_extension": ".py",
   "mimetype": "text/x-python",
   "name": "python",
   "nbconvert_exporter": "python",
   "pygments_lexer": "ipython3",
   "version": "3.9.12"
  }
 },
 "nbformat": 4,
 "nbformat_minor": 5
}
