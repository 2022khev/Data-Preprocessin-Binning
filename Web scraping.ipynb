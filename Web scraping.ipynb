{
 "cells": [
  {
   "cell_type": "code",
   "execution_count": 185,
   "id": "fa5c2a53",
   "metadata": {},
   "outputs": [],
   "source": [
    "import bs4 as BeautifulSoup\n",
    "import requests\n",
    "import datetime\n",
    "import smtplib"
   ]
  },
  {
   "cell_type": "code",
   "execution_count": 186,
   "id": "2500e518",
   "metadata": {},
   "outputs": [],
   "source": [
    "url = \"user-agent: Mozilla/5.0 (Macintosh; Intel Mac OS X 10_15_7) AppleWebKit/537.36 (KHTML, like Gecko) Chrome/101.0.4951.64 Safari/537.36 Edg/101.0.1210.47\"\n"
   ]
  },
  {
   "cell_type": "code",
   "execution_count": 187,
   "id": "b4813044",
   "metadata": {},
   "outputs": [],
   "source": [
    "header = \"https://httpbin.org/headers\""
   ]
  },
  {
   "cell_type": "code",
   "execution_count": 188,
   "id": "1fd5ec25",
   "metadata": {},
   "outputs": [],
   "source": [
    "import pandas as pd\n",
    "import numpy as np\n",
    "import matplotlib.pyplot as plt\n",
    "import seaborn as sns\n",
    "%matplotlib inline"
   ]
  },
  {
   "cell_type": "code",
   "execution_count": 189,
   "id": "8b751b01",
   "metadata": {},
   "outputs": [],
   "source": [
    "from urllib.request import urlopen\n",
    "from bs4 import BeautifulSoup"
   ]
  },
  {
   "cell_type": "code",
   "execution_count": 190,
   "id": "d924696a",
   "metadata": {},
   "outputs": [],
   "source": [
    "url = \"http://www.hubertiming.com/results/2017GPTR10K\"\n",
    "html = urlopen(url)"
   ]
  },
  {
   "cell_type": "code",
   "execution_count": 191,
   "id": "c7ea41a8",
   "metadata": {},
   "outputs": [
    {
     "data": {
      "text/plain": [
       "bs4.BeautifulSoup"
      ]
     },
     "execution_count": 191,
     "metadata": {},
     "output_type": "execute_result"
    }
   ],
   "source": [
    "soup = BeautifulSoup(html, 'lxml')\n",
    "type(soup)"
   ]
  },
  {
   "cell_type": "code",
   "execution_count": 192,
   "id": "203c2784",
   "metadata": {},
   "outputs": [
    {
     "name": "stdout",
     "output_type": "stream",
     "text": [
      "<title>Race results for the 2017 Intel Great Place to Run \\ Urban Clash Games!</title>\n"
     ]
    }
   ],
   "source": [
    "# Get the title\n",
    "title = soup.title\n",
    "print(title)"
   ]
  },
  {
   "cell_type": "code",
   "execution_count": 193,
   "id": "b1825d88",
   "metadata": {},
   "outputs": [],
   "source": [
    "# Print out the text\n",
    "text = soup.get_text()\n",
    "#print(soup.text)"
   ]
  },
  {
   "cell_type": "code",
   "execution_count": 194,
   "id": "66c07509",
   "metadata": {},
   "outputs": [
    {
     "data": {
      "text/plain": [
       "[<a href=\"mailto:timing@hubertiming.com\">timing@hubertiming.com</a>,\n",
       " <a href=\"https://www.hubertiming.com\">Huber Timing Home</a>,\n",
       " <a class=\"btn btn-primary btn-lg\" href=\"/results/2017GPTR\" role=\"button\" style=\"margin: 0px 0px 5px 5px\"><i aria-hidden=\"true\" class=\"fa fa-user\"></i> 5K Individual</a>,\n",
       " <a class=\"btn btn-primary btn-lg\" href=\"/results/team/2017GPTR\" role=\"button\" style=\"margin: 0px 0px 5px 5px\"><i aria-hidden=\"true\" class=\"fa fa-users\"></i> 5K Team</a>,\n",
       " <a class=\"btn btn-primary btn-lg\" href=\"/results/team/2017GPTR10K\" role=\"button\" style=\"margin: 0px 0px 5px 5px\"><i aria-hidden=\"true\" class=\"fa fa-users\"></i> 10K Team</a>,\n",
       " <a class=\"btn btn-primary btn-lg\" href=\"/results/summary/2017GPTR10K\" role=\"button\" style=\"margin: 0px 0px 5px 5px\"><i class=\"fa fa-stream\"></i> Summary</a>,\n",
       " <a id=\"individual\" name=\"individual\"></a>,\n",
       " <a data-url=\"/results/2017GPTR10K\" href=\"#tabs-1\" id=\"rootTab\" style=\"font-size: 18px\">10K Results</a>,\n",
       " <a href=\"https://www.hubertiming.com/\"><img height=\"65\" src=\"https://www.hubertiming.com//sites/all/themes/hubertiming/images/clockWithFinishSign_small.png\" width=\"50\"/>Huber Timing</a>,\n",
       " <a href=\"https://facebook.com/hubertiming/\"><img src=\"https://www.hubertiming.com/results/FB-f-Logo__blue_50.png\"/></a>,\n",
       " <a class=\"small\" id=\"bestFeatureEver\" style=\"color:#007bff\">Dark Mode</a>]"
      ]
     },
     "execution_count": 194,
     "metadata": {},
     "output_type": "execute_result"
    }
   ],
   "source": [
    "soup.find_all('a')"
   ]
  },
  {
   "cell_type": "code",
   "execution_count": 195,
   "id": "d400cca7",
   "metadata": {},
   "outputs": [
    {
     "name": "stdout",
     "output_type": "stream",
     "text": [
      "mailto:timing@hubertiming.com\n",
      "https://www.hubertiming.com\n",
      "/results/2017GPTR\n",
      "/results/team/2017GPTR\n",
      "/results/team/2017GPTR10K\n",
      "/results/summary/2017GPTR10K\n",
      "None\n",
      "#tabs-1\n",
      "https://www.hubertiming.com/\n",
      "https://facebook.com/hubertiming/\n",
      "None\n"
     ]
    }
   ],
   "source": [
    "all_links = soup.find_all(\"a\")\n",
    "for link in all_links:\n",
    "    print(link.get(\"href\"))"
   ]
  },
  {
   "cell_type": "code",
   "execution_count": 196,
   "id": "d906a56a",
   "metadata": {},
   "outputs": [
    {
     "name": "stdout",
     "output_type": "stream",
     "text": [
      "[<tr colspan=\"2\">\n",
      "<b>10K:</b>\n",
      "</tr>, <tr>\n",
      "<td>Finishers:</td>\n",
      "<td>577</td>\n",
      "</tr>, <tr>\n",
      "<td>Male:</td>\n",
      "<td>414</td>\n",
      "</tr>, <tr>\n",
      "<td>Female:</td>\n",
      "<td>163</td>\n",
      "</tr>, <tr class=\"header\">\n",
      "<th>Place</th>\n",
      "<th>Bib</th>\n",
      "<th>Name</th>\n",
      "<th>Gender</th>\n",
      "<th>City</th>\n",
      "<th>State</th>\n",
      "<th>Chip Time</th>\n",
      "<th>Gun Time</th>\n",
      "<th>Team</th>\n",
      "</tr>, <tr data-bib=\"814\">\n",
      "<td>1</td>\n",
      "<td>814</td>\n",
      "<td>\r\n",
      "\r\n",
      "                    JARED WILSON\r\n",
      "\r\n",
      "                </td>\n",
      "<td>M</td>\n",
      "<td>TIGARD</td>\n",
      "<td>OR</td>\n",
      "<td>36:21</td>\n",
      "<td>36:24</td>\n",
      "<td></td>\n",
      "</tr>, <tr data-bib=\"573\">\n",
      "<td>2</td>\n",
      "<td>573</td>\n",
      "<td>\r\n",
      "\r\n",
      "                    NATHAN A SUSTERSIC\r\n",
      "\r\n",
      "                </td>\n",
      "<td>M</td>\n",
      "<td>PORTLAND</td>\n",
      "<td>OR</td>\n",
      "<td>36:42</td>\n",
      "<td>36:45</td>\n",
      "<td>\n",
      "<img class=\"lazy teamThumbs\" data-src=\"/teamLogoThumbnail/logo?teamName=INTEL%20TEAM%20F&amp;raceId=1251&amp;state=OR\"/>\r\n",
      "                            INTEL TEAM F\r\n",
      "                        </td>\n",
      "</tr>, <tr data-bib=\"687\">\n",
      "<td>3</td>\n",
      "<td>687</td>\n",
      "<td>\r\n",
      "\r\n",
      "                    FRANCISCO MAYA\r\n",
      "\r\n",
      "                </td>\n",
      "<td>M</td>\n",
      "<td>PORTLAND</td>\n",
      "<td>OR</td>\n",
      "<td>37:44</td>\n",
      "<td>37:48</td>\n",
      "<td></td>\n",
      "</tr>, <tr data-bib=\"623\">\n",
      "<td>4</td>\n",
      "<td>623</td>\n",
      "<td>\r\n",
      "\r\n",
      "                    PAUL MORROW\r\n",
      "\r\n",
      "                </td>\n",
      "<td>M</td>\n",
      "<td>BEAVERTON</td>\n",
      "<td>OR</td>\n",
      "<td>38:34</td>\n",
      "<td>38:37</td>\n",
      "<td></td>\n",
      "</tr>, <tr data-bib=\"569\">\n",
      "<td>5</td>\n",
      "<td>569</td>\n",
      "<td>\r\n",
      "\r\n",
      "                    DEREK G OSBORNE\r\n",
      "\r\n",
      "                </td>\n",
      "<td>M</td>\n",
      "<td>HILLSBORO</td>\n",
      "<td>OR</td>\n",
      "<td>39:21</td>\n",
      "<td>39:24</td>\n",
      "<td>\n",
      "<img class=\"lazy teamThumbs\" data-src=\"/teamLogoThumbnail/logo?teamName=INTEL%20TEAM%20F&amp;raceId=1251&amp;state=OR\"/>\r\n",
      "                            INTEL TEAM F\r\n",
      "                        </td>\n",
      "</tr>]\n"
     ]
    }
   ],
   "source": [
    "# Print the first 10 rows for sanity check\n",
    "rows = soup.find_all('tr')\n",
    "print(rows[:10])"
   ]
  },
  {
   "cell_type": "code",
   "execution_count": 197,
   "id": "bfd75ce6",
   "metadata": {},
   "outputs": [
    {
     "name": "stdout",
     "output_type": "stream",
     "text": [
      "[<td>577</td>, <td>443</td>, <td>\r\n",
      "\r\n",
      "                    LIBBY B MITCHELL\r\n",
      "\r\n",
      "                </td>, <td>F</td>, <td>HILLSBORO</td>, <td>OR</td>, <td>1:41:18</td>, <td>1:42:10</td>, <td></td>]\n"
     ]
    },
    {
     "data": {
      "text/plain": [
       "bs4.element.ResultSet"
      ]
     },
     "execution_count": 197,
     "metadata": {},
     "output_type": "execute_result"
    }
   ],
   "source": [
    "for row in rows:\n",
    "    row_td = row.find_all('td')\n",
    "print(row_td)\n",
    "type(row_td)"
   ]
  },
  {
   "cell_type": "code",
   "execution_count": 198,
   "id": "afb2da9b",
   "metadata": {},
   "outputs": [
    {
     "name": "stdout",
     "output_type": "stream",
     "text": [
      "[577, 443, \r\n",
      "\r\n",
      "                    LIBBY B MITCHELL\r\n",
      "\r\n",
      "                , F, HILLSBORO, OR, 1:41:18, 1:42:10, ]\n"
     ]
    }
   ],
   "source": [
    "str_cells = str(row_td)\n",
    "cleantext = BeautifulSoup(str_cells, \"lxml\").get_text()\n",
    "print(cleantext)"
   ]
  },
  {
   "cell_type": "code",
   "execution_count": 199,
   "id": "a65ba7b6",
   "metadata": {},
   "outputs": [
    {
     "name": "stdout",
     "output_type": "stream",
     "text": [
      "[577, 443, \r\n",
      "\r\n",
      "                    LIBBY B MITCHELL\r\n",
      "\r\n",
      "                , F, HILLSBORO, OR, 1:41:18, 1:42:10, ]\n"
     ]
    },
    {
     "data": {
      "text/plain": [
       "str"
      ]
     },
     "execution_count": 199,
     "metadata": {},
     "output_type": "execute_result"
    }
   ],
   "source": [
    "import re\n",
    "\n",
    "list_rows = []\n",
    "for row in rows:\n",
    "    cells = row.find_all('td')\n",
    "    str_cells = str(cells)\n",
    "    clean = re.compile('<.*?>')\n",
    "    clean2 = (re.sub(clean, '',str_cells))\n",
    "    list_rows.append(clean2)\n",
    "print(clean2)\n",
    "type(clean2)"
   ]
  },
  {
   "cell_type": "code",
   "execution_count": 200,
   "id": "adb35c06",
   "metadata": {},
   "outputs": [
    {
     "data": {
      "text/html": [
       "<div>\n",
       "<style scoped>\n",
       "    .dataframe tbody tr th:only-of-type {\n",
       "        vertical-align: middle;\n",
       "    }\n",
       "\n",
       "    .dataframe tbody tr th {\n",
       "        vertical-align: top;\n",
       "    }\n",
       "\n",
       "    .dataframe thead th {\n",
       "        text-align: right;\n",
       "    }\n",
       "</style>\n",
       "<table border=\"1\" class=\"dataframe\">\n",
       "  <thead>\n",
       "    <tr style=\"text-align: right;\">\n",
       "      <th></th>\n",
       "      <th>0</th>\n",
       "    </tr>\n",
       "  </thead>\n",
       "  <tbody>\n",
       "    <tr>\n",
       "      <th>0</th>\n",
       "      <td>[]</td>\n",
       "    </tr>\n",
       "    <tr>\n",
       "      <th>1</th>\n",
       "      <td>[Finishers:, 577]</td>\n",
       "    </tr>\n",
       "    <tr>\n",
       "      <th>2</th>\n",
       "      <td>[Male:, 414]</td>\n",
       "    </tr>\n",
       "    <tr>\n",
       "      <th>3</th>\n",
       "      <td>[Female:, 163]</td>\n",
       "    </tr>\n",
       "    <tr>\n",
       "      <th>4</th>\n",
       "      <td>[]</td>\n",
       "    </tr>\n",
       "    <tr>\n",
       "      <th>5</th>\n",
       "      <td>[1, 814, \\r\\n\\r\\n                    JARED WIL...</td>\n",
       "    </tr>\n",
       "    <tr>\n",
       "      <th>6</th>\n",
       "      <td>[2, 573, \\r\\n\\r\\n                    NATHAN A ...</td>\n",
       "    </tr>\n",
       "    <tr>\n",
       "      <th>7</th>\n",
       "      <td>[3, 687, \\r\\n\\r\\n                    FRANCISCO...</td>\n",
       "    </tr>\n",
       "    <tr>\n",
       "      <th>8</th>\n",
       "      <td>[4, 623, \\r\\n\\r\\n                    PAUL MORR...</td>\n",
       "    </tr>\n",
       "    <tr>\n",
       "      <th>9</th>\n",
       "      <td>[5, 569, \\r\\n\\r\\n                    DEREK G O...</td>\n",
       "    </tr>\n",
       "  </tbody>\n",
       "</table>\n",
       "</div>"
      ],
      "text/plain": [
       "                                                   0\n",
       "0                                                 []\n",
       "1                                  [Finishers:, 577]\n",
       "2                                       [Male:, 414]\n",
       "3                                     [Female:, 163]\n",
       "4                                                 []\n",
       "5  [1, 814, \\r\\n\\r\\n                    JARED WIL...\n",
       "6  [2, 573, \\r\\n\\r\\n                    NATHAN A ...\n",
       "7  [3, 687, \\r\\n\\r\\n                    FRANCISCO...\n",
       "8  [4, 623, \\r\\n\\r\\n                    PAUL MORR...\n",
       "9  [5, 569, \\r\\n\\r\\n                    DEREK G O..."
      ]
     },
     "execution_count": 200,
     "metadata": {},
     "output_type": "execute_result"
    }
   ],
   "source": [
    "df = pd.DataFrame(list_rows)\n",
    "df.head(10)"
   ]
  },
  {
   "cell_type": "code",
   "execution_count": 201,
   "id": "85e99cb1",
   "metadata": {},
   "outputs": [
    {
     "data": {
      "text/plain": [
       "pandas.core.series.Series"
      ]
     },
     "execution_count": 201,
     "metadata": {},
     "output_type": "execute_result"
    }
   ],
   "source": [
    "type(df[0])"
   ]
  },
  {
   "cell_type": "code",
   "execution_count": 202,
   "id": "b64d5381",
   "metadata": {},
   "outputs": [
    {
     "data": {
      "text/html": [
       "<div>\n",
       "<style scoped>\n",
       "    .dataframe tbody tr th:only-of-type {\n",
       "        vertical-align: middle;\n",
       "    }\n",
       "\n",
       "    .dataframe tbody tr th {\n",
       "        vertical-align: top;\n",
       "    }\n",
       "\n",
       "    .dataframe thead th {\n",
       "        text-align: right;\n",
       "    }\n",
       "</style>\n",
       "<table border=\"1\" class=\"dataframe\">\n",
       "  <thead>\n",
       "    <tr style=\"text-align: right;\">\n",
       "      <th></th>\n",
       "      <th>0</th>\n",
       "      <th>1</th>\n",
       "      <th>2</th>\n",
       "      <th>3</th>\n",
       "      <th>4</th>\n",
       "      <th>5</th>\n",
       "      <th>6</th>\n",
       "      <th>7</th>\n",
       "      <th>8</th>\n",
       "    </tr>\n",
       "  </thead>\n",
       "  <tbody>\n",
       "    <tr>\n",
       "      <th>0</th>\n",
       "      <td>[]</td>\n",
       "      <td>None</td>\n",
       "      <td>None</td>\n",
       "      <td>None</td>\n",
       "      <td>None</td>\n",
       "      <td>None</td>\n",
       "      <td>None</td>\n",
       "      <td>None</td>\n",
       "      <td>None</td>\n",
       "    </tr>\n",
       "    <tr>\n",
       "      <th>1</th>\n",
       "      <td>[Finishers:</td>\n",
       "      <td>577]</td>\n",
       "      <td>None</td>\n",
       "      <td>None</td>\n",
       "      <td>None</td>\n",
       "      <td>None</td>\n",
       "      <td>None</td>\n",
       "      <td>None</td>\n",
       "      <td>None</td>\n",
       "    </tr>\n",
       "    <tr>\n",
       "      <th>2</th>\n",
       "      <td>[Male:</td>\n",
       "      <td>414]</td>\n",
       "      <td>None</td>\n",
       "      <td>None</td>\n",
       "      <td>None</td>\n",
       "      <td>None</td>\n",
       "      <td>None</td>\n",
       "      <td>None</td>\n",
       "      <td>None</td>\n",
       "    </tr>\n",
       "    <tr>\n",
       "      <th>3</th>\n",
       "      <td>[Female:</td>\n",
       "      <td>163]</td>\n",
       "      <td>None</td>\n",
       "      <td>None</td>\n",
       "      <td>None</td>\n",
       "      <td>None</td>\n",
       "      <td>None</td>\n",
       "      <td>None</td>\n",
       "      <td>None</td>\n",
       "    </tr>\n",
       "    <tr>\n",
       "      <th>4</th>\n",
       "      <td>[]</td>\n",
       "      <td>None</td>\n",
       "      <td>None</td>\n",
       "      <td>None</td>\n",
       "      <td>None</td>\n",
       "      <td>None</td>\n",
       "      <td>None</td>\n",
       "      <td>None</td>\n",
       "      <td>None</td>\n",
       "    </tr>\n",
       "    <tr>\n",
       "      <th>...</th>\n",
       "      <td>...</td>\n",
       "      <td>...</td>\n",
       "      <td>...</td>\n",
       "      <td>...</td>\n",
       "      <td>...</td>\n",
       "      <td>...</td>\n",
       "      <td>...</td>\n",
       "      <td>...</td>\n",
       "      <td>...</td>\n",
       "    </tr>\n",
       "    <tr>\n",
       "      <th>577</th>\n",
       "      <td>[573</td>\n",
       "      <td>273</td>\n",
       "      <td>\\r\\n\\r\\n                    RACHEL L VANEY\\r\\...</td>\n",
       "      <td>F</td>\n",
       "      <td>OTHER</td>\n",
       "      <td>OR</td>\n",
       "      <td>1:38:17</td>\n",
       "      <td>1:38:34</td>\n",
       "      <td>]</td>\n",
       "    </tr>\n",
       "    <tr>\n",
       "      <th>578</th>\n",
       "      <td>[574</td>\n",
       "      <td>467</td>\n",
       "      <td>\\r\\n\\r\\n                    ROHIT B DSOUZA\\r\\...</td>\n",
       "      <td>M</td>\n",
       "      <td>PORTLAND</td>\n",
       "      <td>OR</td>\n",
       "      <td>1:38:31</td>\n",
       "      <td>1:40:32</td>\n",
       "      <td>\\n\\r\\n                            INTEL TEAM ...</td>\n",
       "    </tr>\n",
       "    <tr>\n",
       "      <th>579</th>\n",
       "      <td>[575</td>\n",
       "      <td>471</td>\n",
       "      <td>\\r\\n\\r\\n                    CENITA D'SOUZA\\r\\...</td>\n",
       "      <td>F</td>\n",
       "      <td>PORTLAND</td>\n",
       "      <td>OR</td>\n",
       "      <td>1:38:32</td>\n",
       "      <td>1:40:34</td>\n",
       "      <td>]</td>\n",
       "    </tr>\n",
       "    <tr>\n",
       "      <th>580</th>\n",
       "      <td>[576</td>\n",
       "      <td>338</td>\n",
       "      <td>\\r\\n\\r\\n                    PRANAVI APPANA\\r\\...</td>\n",
       "      <td>F</td>\n",
       "      <td>HILLSBORO</td>\n",
       "      <td>OR</td>\n",
       "      <td>1:40:47</td>\n",
       "      <td>1:42:01</td>\n",
       "      <td>]</td>\n",
       "    </tr>\n",
       "    <tr>\n",
       "      <th>581</th>\n",
       "      <td>[577</td>\n",
       "      <td>443</td>\n",
       "      <td>\\r\\n\\r\\n                    LIBBY B MITCHELL\\...</td>\n",
       "      <td>F</td>\n",
       "      <td>HILLSBORO</td>\n",
       "      <td>OR</td>\n",
       "      <td>1:41:18</td>\n",
       "      <td>1:42:10</td>\n",
       "      <td>]</td>\n",
       "    </tr>\n",
       "  </tbody>\n",
       "</table>\n",
       "<p>582 rows × 9 columns</p>\n",
       "</div>"
      ],
      "text/plain": [
       "               0      1                                                  2  \\\n",
       "0             []   None                                               None   \n",
       "1    [Finishers:   577]                                               None   \n",
       "2         [Male:   414]                                               None   \n",
       "3       [Female:   163]                                               None   \n",
       "4             []   None                                               None   \n",
       "..           ...    ...                                                ...   \n",
       "577         [573    273   \\r\\n\\r\\n                    RACHEL L VANEY\\r\\...   \n",
       "578         [574    467   \\r\\n\\r\\n                    ROHIT B DSOUZA\\r\\...   \n",
       "579         [575    471   \\r\\n\\r\\n                    CENITA D'SOUZA\\r\\...   \n",
       "580         [576    338   \\r\\n\\r\\n                    PRANAVI APPANA\\r\\...   \n",
       "581         [577    443   \\r\\n\\r\\n                    LIBBY B MITCHELL\\...   \n",
       "\n",
       "        3           4     5         6         7  \\\n",
       "0    None        None  None      None      None   \n",
       "1    None        None  None      None      None   \n",
       "2    None        None  None      None      None   \n",
       "3    None        None  None      None      None   \n",
       "4    None        None  None      None      None   \n",
       "..    ...         ...   ...       ...       ...   \n",
       "577     F       OTHER    OR   1:38:17   1:38:34   \n",
       "578     M    PORTLAND    OR   1:38:31   1:40:32   \n",
       "579     F    PORTLAND    OR   1:38:32   1:40:34   \n",
       "580     F   HILLSBORO    OR   1:40:47   1:42:01   \n",
       "581     F   HILLSBORO    OR   1:41:18   1:42:10   \n",
       "\n",
       "                                                     8  \n",
       "0                                                 None  \n",
       "1                                                 None  \n",
       "2                                                 None  \n",
       "3                                                 None  \n",
       "4                                                 None  \n",
       "..                                                 ...  \n",
       "577                                                  ]  \n",
       "578   \\n\\r\\n                            INTEL TEAM ...  \n",
       "579                                                  ]  \n",
       "580                                                  ]  \n",
       "581                                                  ]  \n",
       "\n",
       "[582 rows x 9 columns]"
      ]
     },
     "execution_count": 202,
     "metadata": {},
     "output_type": "execute_result"
    }
   ],
   "source": [
    "df1 = df[0].str.split(',', expand=True)\n",
    "df1.head(10)\n",
    "df1"
   ]
  },
  {
   "cell_type": "code",
   "execution_count": 203,
   "id": "3a51de18",
   "metadata": {},
   "outputs": [
    {
     "data": {
      "text/html": [
       "<div>\n",
       "<style scoped>\n",
       "    .dataframe tbody tr th:only-of-type {\n",
       "        vertical-align: middle;\n",
       "    }\n",
       "\n",
       "    .dataframe tbody tr th {\n",
       "        vertical-align: top;\n",
       "    }\n",
       "\n",
       "    .dataframe thead th {\n",
       "        text-align: right;\n",
       "    }\n",
       "</style>\n",
       "<table border=\"1\" class=\"dataframe\">\n",
       "  <thead>\n",
       "    <tr style=\"text-align: right;\">\n",
       "      <th></th>\n",
       "      <th>0</th>\n",
       "      <th>1</th>\n",
       "      <th>2</th>\n",
       "      <th>3</th>\n",
       "      <th>4</th>\n",
       "      <th>5</th>\n",
       "      <th>6</th>\n",
       "      <th>7</th>\n",
       "      <th>8</th>\n",
       "    </tr>\n",
       "  </thead>\n",
       "  <tbody>\n",
       "    <tr>\n",
       "      <th>0</th>\n",
       "      <td>]</td>\n",
       "      <td>None</td>\n",
       "      <td>None</td>\n",
       "      <td>None</td>\n",
       "      <td>None</td>\n",
       "      <td>None</td>\n",
       "      <td>None</td>\n",
       "      <td>None</td>\n",
       "      <td>None</td>\n",
       "    </tr>\n",
       "    <tr>\n",
       "      <th>1</th>\n",
       "      <td>Finishers:</td>\n",
       "      <td>577]</td>\n",
       "      <td>None</td>\n",
       "      <td>None</td>\n",
       "      <td>None</td>\n",
       "      <td>None</td>\n",
       "      <td>None</td>\n",
       "      <td>None</td>\n",
       "      <td>None</td>\n",
       "    </tr>\n",
       "    <tr>\n",
       "      <th>2</th>\n",
       "      <td>Male:</td>\n",
       "      <td>414]</td>\n",
       "      <td>None</td>\n",
       "      <td>None</td>\n",
       "      <td>None</td>\n",
       "      <td>None</td>\n",
       "      <td>None</td>\n",
       "      <td>None</td>\n",
       "      <td>None</td>\n",
       "    </tr>\n",
       "    <tr>\n",
       "      <th>3</th>\n",
       "      <td>Female:</td>\n",
       "      <td>163]</td>\n",
       "      <td>None</td>\n",
       "      <td>None</td>\n",
       "      <td>None</td>\n",
       "      <td>None</td>\n",
       "      <td>None</td>\n",
       "      <td>None</td>\n",
       "      <td>None</td>\n",
       "    </tr>\n",
       "    <tr>\n",
       "      <th>4</th>\n",
       "      <td>]</td>\n",
       "      <td>None</td>\n",
       "      <td>None</td>\n",
       "      <td>None</td>\n",
       "      <td>None</td>\n",
       "      <td>None</td>\n",
       "      <td>None</td>\n",
       "      <td>None</td>\n",
       "      <td>None</td>\n",
       "    </tr>\n",
       "    <tr>\n",
       "      <th>5</th>\n",
       "      <td>1</td>\n",
       "      <td>814</td>\n",
       "      <td>\\r\\n\\r\\n                    JARED WILSON\\r\\n\\...</td>\n",
       "      <td>M</td>\n",
       "      <td>TIGARD</td>\n",
       "      <td>OR</td>\n",
       "      <td>36:21</td>\n",
       "      <td>36:24</td>\n",
       "      <td>]</td>\n",
       "    </tr>\n",
       "    <tr>\n",
       "      <th>6</th>\n",
       "      <td>2</td>\n",
       "      <td>573</td>\n",
       "      <td>\\r\\n\\r\\n                    NATHAN A SUSTERSI...</td>\n",
       "      <td>M</td>\n",
       "      <td>PORTLAND</td>\n",
       "      <td>OR</td>\n",
       "      <td>36:42</td>\n",
       "      <td>36:45</td>\n",
       "      <td>\\n\\r\\n                            INTEL TEAM ...</td>\n",
       "    </tr>\n",
       "    <tr>\n",
       "      <th>7</th>\n",
       "      <td>3</td>\n",
       "      <td>687</td>\n",
       "      <td>\\r\\n\\r\\n                    FRANCISCO MAYA\\r\\...</td>\n",
       "      <td>M</td>\n",
       "      <td>PORTLAND</td>\n",
       "      <td>OR</td>\n",
       "      <td>37:44</td>\n",
       "      <td>37:48</td>\n",
       "      <td>]</td>\n",
       "    </tr>\n",
       "    <tr>\n",
       "      <th>8</th>\n",
       "      <td>4</td>\n",
       "      <td>623</td>\n",
       "      <td>\\r\\n\\r\\n                    PAUL MORROW\\r\\n\\r...</td>\n",
       "      <td>M</td>\n",
       "      <td>BEAVERTON</td>\n",
       "      <td>OR</td>\n",
       "      <td>38:34</td>\n",
       "      <td>38:37</td>\n",
       "      <td>]</td>\n",
       "    </tr>\n",
       "    <tr>\n",
       "      <th>9</th>\n",
       "      <td>5</td>\n",
       "      <td>569</td>\n",
       "      <td>\\r\\n\\r\\n                    DEREK G OSBORNE\\r...</td>\n",
       "      <td>M</td>\n",
       "      <td>HILLSBORO</td>\n",
       "      <td>OR</td>\n",
       "      <td>39:21</td>\n",
       "      <td>39:24</td>\n",
       "      <td>\\n\\r\\n                            INTEL TEAM ...</td>\n",
       "    </tr>\n",
       "  </tbody>\n",
       "</table>\n",
       "</div>"
      ],
      "text/plain": [
       "            0      1                                                  2     3  \\\n",
       "0           ]   None                                               None  None   \n",
       "1  Finishers:   577]                                               None  None   \n",
       "2       Male:   414]                                               None  None   \n",
       "3     Female:   163]                                               None  None   \n",
       "4           ]   None                                               None  None   \n",
       "5           1    814   \\r\\n\\r\\n                    JARED WILSON\\r\\n\\...     M   \n",
       "6           2    573   \\r\\n\\r\\n                    NATHAN A SUSTERSI...     M   \n",
       "7           3    687   \\r\\n\\r\\n                    FRANCISCO MAYA\\r\\...     M   \n",
       "8           4    623   \\r\\n\\r\\n                    PAUL MORROW\\r\\n\\r...     M   \n",
       "9           5    569   \\r\\n\\r\\n                    DEREK G OSBORNE\\r...     M   \n",
       "\n",
       "            4     5       6       7  \\\n",
       "0        None  None    None    None   \n",
       "1        None  None    None    None   \n",
       "2        None  None    None    None   \n",
       "3        None  None    None    None   \n",
       "4        None  None    None    None   \n",
       "5      TIGARD    OR   36:21   36:24   \n",
       "6    PORTLAND    OR   36:42   36:45   \n",
       "7    PORTLAND    OR   37:44   37:48   \n",
       "8   BEAVERTON    OR   38:34   38:37   \n",
       "9   HILLSBORO    OR   39:21   39:24   \n",
       "\n",
       "                                                   8  \n",
       "0                                               None  \n",
       "1                                               None  \n",
       "2                                               None  \n",
       "3                                               None  \n",
       "4                                               None  \n",
       "5                                                  ]  \n",
       "6   \\n\\r\\n                            INTEL TEAM ...  \n",
       "7                                                  ]  \n",
       "8                                                  ]  \n",
       "9   \\n\\r\\n                            INTEL TEAM ...  "
      ]
     },
     "execution_count": 203,
     "metadata": {},
     "output_type": "execute_result"
    }
   ],
   "source": [
    "df1[0] = df1[0].str.strip('[')\n",
    "df1.head(10)"
   ]
  },
  {
   "cell_type": "code",
   "execution_count": 204,
   "id": "29fb98ae",
   "metadata": {},
   "outputs": [],
   "source": [
    "col_labels = soup.find_all('th')"
   ]
  },
  {
   "cell_type": "code",
   "execution_count": 205,
   "id": "c70cf9ac",
   "metadata": {},
   "outputs": [
    {
     "name": "stdout",
     "output_type": "stream",
     "text": [
      "['[Place, Bib, Name, Gender, City, State, Chip Time, Gun Time, Team]']\n"
     ]
    }
   ],
   "source": [
    "all_header = []\n",
    "col_str = str(col_labels)\n",
    "cleantext2 = BeautifulSoup(col_str, \"lxml\").get_text()\n",
    "all_header.append(cleantext2)\n",
    "print(all_header)"
   ]
  },
  {
   "cell_type": "code",
   "execution_count": 206,
   "id": "98608331",
   "metadata": {},
   "outputs": [
    {
     "data": {
      "text/html": [
       "<div>\n",
       "<style scoped>\n",
       "    .dataframe tbody tr th:only-of-type {\n",
       "        vertical-align: middle;\n",
       "    }\n",
       "\n",
       "    .dataframe tbody tr th {\n",
       "        vertical-align: top;\n",
       "    }\n",
       "\n",
       "    .dataframe thead th {\n",
       "        text-align: right;\n",
       "    }\n",
       "</style>\n",
       "<table border=\"1\" class=\"dataframe\">\n",
       "  <thead>\n",
       "    <tr style=\"text-align: right;\">\n",
       "      <th></th>\n",
       "      <th>0</th>\n",
       "    </tr>\n",
       "  </thead>\n",
       "  <tbody>\n",
       "    <tr>\n",
       "      <th>0</th>\n",
       "      <td>[Place, Bib, Name, Gender, City, State, Chip T...</td>\n",
       "    </tr>\n",
       "  </tbody>\n",
       "</table>\n",
       "</div>"
      ],
      "text/plain": [
       "                                                   0\n",
       "0  [Place, Bib, Name, Gender, City, State, Chip T..."
      ]
     },
     "execution_count": 206,
     "metadata": {},
     "output_type": "execute_result"
    }
   ],
   "source": [
    "df2 = pd.DataFrame(all_header)\n",
    "df2.head()"
   ]
  },
  {
   "cell_type": "code",
   "execution_count": 207,
   "id": "d9ad0a86",
   "metadata": {},
   "outputs": [
    {
     "data": {
      "text/html": [
       "<div>\n",
       "<style scoped>\n",
       "    .dataframe tbody tr th:only-of-type {\n",
       "        vertical-align: middle;\n",
       "    }\n",
       "\n",
       "    .dataframe tbody tr th {\n",
       "        vertical-align: top;\n",
       "    }\n",
       "\n",
       "    .dataframe thead th {\n",
       "        text-align: right;\n",
       "    }\n",
       "</style>\n",
       "<table border=\"1\" class=\"dataframe\">\n",
       "  <thead>\n",
       "    <tr style=\"text-align: right;\">\n",
       "      <th></th>\n",
       "      <th>0</th>\n",
       "      <th>1</th>\n",
       "      <th>2</th>\n",
       "      <th>3</th>\n",
       "      <th>4</th>\n",
       "      <th>5</th>\n",
       "      <th>6</th>\n",
       "      <th>7</th>\n",
       "      <th>8</th>\n",
       "    </tr>\n",
       "  </thead>\n",
       "  <tbody>\n",
       "    <tr>\n",
       "      <th>0</th>\n",
       "      <td>[Place</td>\n",
       "      <td>Bib</td>\n",
       "      <td>Name</td>\n",
       "      <td>Gender</td>\n",
       "      <td>City</td>\n",
       "      <td>State</td>\n",
       "      <td>Chip Time</td>\n",
       "      <td>Gun Time</td>\n",
       "      <td>Team]</td>\n",
       "    </tr>\n",
       "  </tbody>\n",
       "</table>\n",
       "</div>"
      ],
      "text/plain": [
       "        0     1      2        3      4       5           6          7       8\n",
       "0  [Place   Bib   Name   Gender   City   State   Chip Time   Gun Time   Team]"
      ]
     },
     "execution_count": 207,
     "metadata": {},
     "output_type": "execute_result"
    }
   ],
   "source": [
    "df3 = df2[0].str.split(',', expand=True)\n",
    "df3.head()"
   ]
  },
  {
   "cell_type": "code",
   "execution_count": 208,
   "id": "bb86fa0e",
   "metadata": {},
   "outputs": [
    {
     "data": {
      "text/html": [
       "<div>\n",
       "<style scoped>\n",
       "    .dataframe tbody tr th:only-of-type {\n",
       "        vertical-align: middle;\n",
       "    }\n",
       "\n",
       "    .dataframe tbody tr th {\n",
       "        vertical-align: top;\n",
       "    }\n",
       "\n",
       "    .dataframe thead th {\n",
       "        text-align: right;\n",
       "    }\n",
       "</style>\n",
       "<table border=\"1\" class=\"dataframe\">\n",
       "  <thead>\n",
       "    <tr style=\"text-align: right;\">\n",
       "      <th></th>\n",
       "      <th>0</th>\n",
       "      <th>1</th>\n",
       "      <th>2</th>\n",
       "      <th>3</th>\n",
       "      <th>4</th>\n",
       "      <th>5</th>\n",
       "      <th>6</th>\n",
       "      <th>7</th>\n",
       "      <th>8</th>\n",
       "    </tr>\n",
       "  </thead>\n",
       "  <tbody>\n",
       "    <tr>\n",
       "      <th>0</th>\n",
       "      <td>[Place</td>\n",
       "      <td>Bib</td>\n",
       "      <td>Name</td>\n",
       "      <td>Gender</td>\n",
       "      <td>City</td>\n",
       "      <td>State</td>\n",
       "      <td>Chip Time</td>\n",
       "      <td>Gun Time</td>\n",
       "      <td>Team]</td>\n",
       "    </tr>\n",
       "    <tr>\n",
       "      <th>0</th>\n",
       "      <td>]</td>\n",
       "      <td>None</td>\n",
       "      <td>None</td>\n",
       "      <td>None</td>\n",
       "      <td>None</td>\n",
       "      <td>None</td>\n",
       "      <td>None</td>\n",
       "      <td>None</td>\n",
       "      <td>None</td>\n",
       "    </tr>\n",
       "    <tr>\n",
       "      <th>1</th>\n",
       "      <td>Finishers:</td>\n",
       "      <td>577]</td>\n",
       "      <td>None</td>\n",
       "      <td>None</td>\n",
       "      <td>None</td>\n",
       "      <td>None</td>\n",
       "      <td>None</td>\n",
       "      <td>None</td>\n",
       "      <td>None</td>\n",
       "    </tr>\n",
       "    <tr>\n",
       "      <th>2</th>\n",
       "      <td>Male:</td>\n",
       "      <td>414]</td>\n",
       "      <td>None</td>\n",
       "      <td>None</td>\n",
       "      <td>None</td>\n",
       "      <td>None</td>\n",
       "      <td>None</td>\n",
       "      <td>None</td>\n",
       "      <td>None</td>\n",
       "    </tr>\n",
       "    <tr>\n",
       "      <th>3</th>\n",
       "      <td>Female:</td>\n",
       "      <td>163]</td>\n",
       "      <td>None</td>\n",
       "      <td>None</td>\n",
       "      <td>None</td>\n",
       "      <td>None</td>\n",
       "      <td>None</td>\n",
       "      <td>None</td>\n",
       "      <td>None</td>\n",
       "    </tr>\n",
       "    <tr>\n",
       "      <th>4</th>\n",
       "      <td>]</td>\n",
       "      <td>None</td>\n",
       "      <td>None</td>\n",
       "      <td>None</td>\n",
       "      <td>None</td>\n",
       "      <td>None</td>\n",
       "      <td>None</td>\n",
       "      <td>None</td>\n",
       "      <td>None</td>\n",
       "    </tr>\n",
       "    <tr>\n",
       "      <th>5</th>\n",
       "      <td>1</td>\n",
       "      <td>814</td>\n",
       "      <td>\\r\\n\\r\\n                    JARED WILSON\\r\\n\\...</td>\n",
       "      <td>M</td>\n",
       "      <td>TIGARD</td>\n",
       "      <td>OR</td>\n",
       "      <td>36:21</td>\n",
       "      <td>36:24</td>\n",
       "      <td>]</td>\n",
       "    </tr>\n",
       "    <tr>\n",
       "      <th>6</th>\n",
       "      <td>2</td>\n",
       "      <td>573</td>\n",
       "      <td>\\r\\n\\r\\n                    NATHAN A SUSTERSI...</td>\n",
       "      <td>M</td>\n",
       "      <td>PORTLAND</td>\n",
       "      <td>OR</td>\n",
       "      <td>36:42</td>\n",
       "      <td>36:45</td>\n",
       "      <td>\\n\\r\\n                            INTEL TEAM ...</td>\n",
       "    </tr>\n",
       "    <tr>\n",
       "      <th>7</th>\n",
       "      <td>3</td>\n",
       "      <td>687</td>\n",
       "      <td>\\r\\n\\r\\n                    FRANCISCO MAYA\\r\\...</td>\n",
       "      <td>M</td>\n",
       "      <td>PORTLAND</td>\n",
       "      <td>OR</td>\n",
       "      <td>37:44</td>\n",
       "      <td>37:48</td>\n",
       "      <td>]</td>\n",
       "    </tr>\n",
       "    <tr>\n",
       "      <th>8</th>\n",
       "      <td>4</td>\n",
       "      <td>623</td>\n",
       "      <td>\\r\\n\\r\\n                    PAUL MORROW\\r\\n\\r...</td>\n",
       "      <td>M</td>\n",
       "      <td>BEAVERTON</td>\n",
       "      <td>OR</td>\n",
       "      <td>38:34</td>\n",
       "      <td>38:37</td>\n",
       "      <td>]</td>\n",
       "    </tr>\n",
       "  </tbody>\n",
       "</table>\n",
       "</div>"
      ],
      "text/plain": [
       "            0      1                                                  2  \\\n",
       "0      [Place    Bib                                               Name   \n",
       "0           ]   None                                               None   \n",
       "1  Finishers:   577]                                               None   \n",
       "2       Male:   414]                                               None   \n",
       "3     Female:   163]                                               None   \n",
       "4           ]   None                                               None   \n",
       "5           1    814   \\r\\n\\r\\n                    JARED WILSON\\r\\n\\...   \n",
       "6           2    573   \\r\\n\\r\\n                    NATHAN A SUSTERSI...   \n",
       "7           3    687   \\r\\n\\r\\n                    FRANCISCO MAYA\\r\\...   \n",
       "8           4    623   \\r\\n\\r\\n                    PAUL MORROW\\r\\n\\r...   \n",
       "\n",
       "         3           4       5           6          7  \\\n",
       "0   Gender        City   State   Chip Time   Gun Time   \n",
       "0     None        None    None        None       None   \n",
       "1     None        None    None        None       None   \n",
       "2     None        None    None        None       None   \n",
       "3     None        None    None        None       None   \n",
       "4     None        None    None        None       None   \n",
       "5        M      TIGARD      OR       36:21      36:24   \n",
       "6        M    PORTLAND      OR       36:42      36:45   \n",
       "7        M    PORTLAND      OR       37:44      37:48   \n",
       "8        M   BEAVERTON      OR       38:34      38:37   \n",
       "\n",
       "                                                   8  \n",
       "0                                              Team]  \n",
       "0                                               None  \n",
       "1                                               None  \n",
       "2                                               None  \n",
       "3                                               None  \n",
       "4                                               None  \n",
       "5                                                  ]  \n",
       "6   \\n\\r\\n                            INTEL TEAM ...  \n",
       "7                                                  ]  \n",
       "8                                                  ]  "
      ]
     },
     "execution_count": 208,
     "metadata": {},
     "output_type": "execute_result"
    }
   ],
   "source": [
    "frames = [df3, df1]\n",
    "\n",
    "df4 = pd.concat(frames)\n",
    "df4.head(10)"
   ]
  },
  {
   "cell_type": "code",
   "execution_count": 209,
   "id": "b54b8ea8",
   "metadata": {},
   "outputs": [
    {
     "data": {
      "text/html": [
       "<div>\n",
       "<style scoped>\n",
       "    .dataframe tbody tr th:only-of-type {\n",
       "        vertical-align: middle;\n",
       "    }\n",
       "\n",
       "    .dataframe tbody tr th {\n",
       "        vertical-align: top;\n",
       "    }\n",
       "\n",
       "    .dataframe thead th {\n",
       "        text-align: right;\n",
       "    }\n",
       "</style>\n",
       "<table border=\"1\" class=\"dataframe\">\n",
       "  <thead>\n",
       "    <tr style=\"text-align: right;\">\n",
       "      <th></th>\n",
       "      <th>[Place</th>\n",
       "      <th>Bib</th>\n",
       "      <th>Name</th>\n",
       "      <th>Gender</th>\n",
       "      <th>City</th>\n",
       "      <th>State</th>\n",
       "      <th>Chip Time</th>\n",
       "      <th>Gun Time</th>\n",
       "      <th>Team]</th>\n",
       "    </tr>\n",
       "  </thead>\n",
       "  <tbody>\n",
       "    <tr>\n",
       "      <th>0</th>\n",
       "      <td>[Place</td>\n",
       "      <td>Bib</td>\n",
       "      <td>Name</td>\n",
       "      <td>Gender</td>\n",
       "      <td>City</td>\n",
       "      <td>State</td>\n",
       "      <td>Chip Time</td>\n",
       "      <td>Gun Time</td>\n",
       "      <td>Team]</td>\n",
       "    </tr>\n",
       "    <tr>\n",
       "      <th>0</th>\n",
       "      <td>]</td>\n",
       "      <td>None</td>\n",
       "      <td>None</td>\n",
       "      <td>None</td>\n",
       "      <td>None</td>\n",
       "      <td>None</td>\n",
       "      <td>None</td>\n",
       "      <td>None</td>\n",
       "      <td>None</td>\n",
       "    </tr>\n",
       "    <tr>\n",
       "      <th>1</th>\n",
       "      <td>Finishers:</td>\n",
       "      <td>577]</td>\n",
       "      <td>None</td>\n",
       "      <td>None</td>\n",
       "      <td>None</td>\n",
       "      <td>None</td>\n",
       "      <td>None</td>\n",
       "      <td>None</td>\n",
       "      <td>None</td>\n",
       "    </tr>\n",
       "    <tr>\n",
       "      <th>2</th>\n",
       "      <td>Male:</td>\n",
       "      <td>414]</td>\n",
       "      <td>None</td>\n",
       "      <td>None</td>\n",
       "      <td>None</td>\n",
       "      <td>None</td>\n",
       "      <td>None</td>\n",
       "      <td>None</td>\n",
       "      <td>None</td>\n",
       "    </tr>\n",
       "    <tr>\n",
       "      <th>3</th>\n",
       "      <td>Female:</td>\n",
       "      <td>163]</td>\n",
       "      <td>None</td>\n",
       "      <td>None</td>\n",
       "      <td>None</td>\n",
       "      <td>None</td>\n",
       "      <td>None</td>\n",
       "      <td>None</td>\n",
       "      <td>None</td>\n",
       "    </tr>\n",
       "  </tbody>\n",
       "</table>\n",
       "</div>"
      ],
      "text/plain": [
       "       [Place    Bib   Name   Gender   City   State   Chip Time   Gun Time  \\\n",
       "0      [Place    Bib   Name   Gender   City   State   Chip Time   Gun Time   \n",
       "0           ]   None   None     None   None    None        None       None   \n",
       "1  Finishers:   577]   None     None   None    None        None       None   \n",
       "2       Male:   414]   None     None   None    None        None       None   \n",
       "3     Female:   163]   None     None   None    None        None       None   \n",
       "\n",
       "    Team]  \n",
       "0   Team]  \n",
       "0    None  \n",
       "1    None  \n",
       "2    None  \n",
       "3    None  "
      ]
     },
     "execution_count": 209,
     "metadata": {},
     "output_type": "execute_result"
    }
   ],
   "source": [
    "df5 = df4.rename(columns=df4.iloc[0])\n",
    "df5.head()"
   ]
  },
  {
   "cell_type": "code",
   "execution_count": 210,
   "id": "b4fe2bc1",
   "metadata": {},
   "outputs": [
    {
     "name": "stdout",
     "output_type": "stream",
     "text": [
      "<class 'pandas.core.frame.DataFrame'>\n",
      "Int64Index: 583 entries, 0 to 581\n",
      "Data columns (total 9 columns):\n",
      " #   Column      Non-Null Count  Dtype \n",
      "---  ------      --------------  ----- \n",
      " 0   [Place      583 non-null    object\n",
      " 1    Bib        581 non-null    object\n",
      " 2    Name       578 non-null    object\n",
      " 3    Gender     578 non-null    object\n",
      " 4    City       578 non-null    object\n",
      " 5    State      578 non-null    object\n",
      " 6    Chip Time  578 non-null    object\n",
      " 7    Gun Time   578 non-null    object\n",
      " 8    Team]      578 non-null    object\n",
      "dtypes: object(9)\n",
      "memory usage: 45.5+ KB\n"
     ]
    },
    {
     "data": {
      "text/plain": [
       "(583, 9)"
      ]
     },
     "execution_count": 210,
     "metadata": {},
     "output_type": "execute_result"
    }
   ],
   "source": [
    "df5.info()\n",
    "df5.shape"
   ]
  },
  {
   "cell_type": "code",
   "execution_count": 211,
   "id": "2444dfbd",
   "metadata": {},
   "outputs": [],
   "source": [
    "df6 = df5.dropna(axis=0, how='any')"
   ]
  },
  {
   "cell_type": "code",
   "execution_count": 212,
   "id": "4ff34a65",
   "metadata": {},
   "outputs": [
    {
     "data": {
      "text/html": [
       "<div>\n",
       "<style scoped>\n",
       "    .dataframe tbody tr th:only-of-type {\n",
       "        vertical-align: middle;\n",
       "    }\n",
       "\n",
       "    .dataframe tbody tr th {\n",
       "        vertical-align: top;\n",
       "    }\n",
       "\n",
       "    .dataframe thead th {\n",
       "        text-align: right;\n",
       "    }\n",
       "</style>\n",
       "<table border=\"1\" class=\"dataframe\">\n",
       "  <thead>\n",
       "    <tr style=\"text-align: right;\">\n",
       "      <th></th>\n",
       "      <th>[Place</th>\n",
       "      <th>Bib</th>\n",
       "      <th>Name</th>\n",
       "      <th>Gender</th>\n",
       "      <th>City</th>\n",
       "      <th>State</th>\n",
       "      <th>Chip Time</th>\n",
       "      <th>Gun Time</th>\n",
       "      <th>Team]</th>\n",
       "    </tr>\n",
       "  </thead>\n",
       "  <tbody>\n",
       "    <tr>\n",
       "      <th>5</th>\n",
       "      <td>1</td>\n",
       "      <td>814</td>\n",
       "      <td>\\r\\n\\r\\n                    JARED WILSON\\r\\n\\...</td>\n",
       "      <td>M</td>\n",
       "      <td>TIGARD</td>\n",
       "      <td>OR</td>\n",
       "      <td>36:21</td>\n",
       "      <td>36:24</td>\n",
       "      <td>]</td>\n",
       "    </tr>\n",
       "    <tr>\n",
       "      <th>6</th>\n",
       "      <td>2</td>\n",
       "      <td>573</td>\n",
       "      <td>\\r\\n\\r\\n                    NATHAN A SUSTERSI...</td>\n",
       "      <td>M</td>\n",
       "      <td>PORTLAND</td>\n",
       "      <td>OR</td>\n",
       "      <td>36:42</td>\n",
       "      <td>36:45</td>\n",
       "      <td>\\n\\r\\n                            INTEL TEAM ...</td>\n",
       "    </tr>\n",
       "    <tr>\n",
       "      <th>7</th>\n",
       "      <td>3</td>\n",
       "      <td>687</td>\n",
       "      <td>\\r\\n\\r\\n                    FRANCISCO MAYA\\r\\...</td>\n",
       "      <td>M</td>\n",
       "      <td>PORTLAND</td>\n",
       "      <td>OR</td>\n",
       "      <td>37:44</td>\n",
       "      <td>37:48</td>\n",
       "      <td>]</td>\n",
       "    </tr>\n",
       "    <tr>\n",
       "      <th>8</th>\n",
       "      <td>4</td>\n",
       "      <td>623</td>\n",
       "      <td>\\r\\n\\r\\n                    PAUL MORROW\\r\\n\\r...</td>\n",
       "      <td>M</td>\n",
       "      <td>BEAVERTON</td>\n",
       "      <td>OR</td>\n",
       "      <td>38:34</td>\n",
       "      <td>38:37</td>\n",
       "      <td>]</td>\n",
       "    </tr>\n",
       "    <tr>\n",
       "      <th>9</th>\n",
       "      <td>5</td>\n",
       "      <td>569</td>\n",
       "      <td>\\r\\n\\r\\n                    DEREK G OSBORNE\\r...</td>\n",
       "      <td>M</td>\n",
       "      <td>HILLSBORO</td>\n",
       "      <td>OR</td>\n",
       "      <td>39:21</td>\n",
       "      <td>39:24</td>\n",
       "      <td>\\n\\r\\n                            INTEL TEAM ...</td>\n",
       "    </tr>\n",
       "  </tbody>\n",
       "</table>\n",
       "</div>"
      ],
      "text/plain": [
       "  [Place   Bib                                               Name  Gender  \\\n",
       "5      1   814   \\r\\n\\r\\n                    JARED WILSON\\r\\n\\...       M   \n",
       "6      2   573   \\r\\n\\r\\n                    NATHAN A SUSTERSI...       M   \n",
       "7      3   687   \\r\\n\\r\\n                    FRANCISCO MAYA\\r\\...       M   \n",
       "8      4   623   \\r\\n\\r\\n                    PAUL MORROW\\r\\n\\r...       M   \n",
       "9      5   569   \\r\\n\\r\\n                    DEREK G OSBORNE\\r...       M   \n",
       "\n",
       "         City  State  Chip Time  Gun Time  \\\n",
       "5      TIGARD     OR      36:21     36:24   \n",
       "6    PORTLAND     OR      36:42     36:45   \n",
       "7    PORTLAND     OR      37:44     37:48   \n",
       "8   BEAVERTON     OR      38:34     38:37   \n",
       "9   HILLSBORO     OR      39:21     39:24   \n",
       "\n",
       "                                               Team]  \n",
       "5                                                  ]  \n",
       "6   \\n\\r\\n                            INTEL TEAM ...  \n",
       "7                                                  ]  \n",
       "8                                                  ]  \n",
       "9   \\n\\r\\n                            INTEL TEAM ...  "
      ]
     },
     "execution_count": 212,
     "metadata": {},
     "output_type": "execute_result"
    }
   ],
   "source": [
    "df7 = df6.drop(df6.index[0])\n",
    "df7.head()"
   ]
  },
  {
   "cell_type": "code",
   "execution_count": 213,
   "id": "fa7f747d",
   "metadata": {},
   "outputs": [
    {
     "data": {
      "text/html": [
       "<div>\n",
       "<style scoped>\n",
       "    .dataframe tbody tr th:only-of-type {\n",
       "        vertical-align: middle;\n",
       "    }\n",
       "\n",
       "    .dataframe tbody tr th {\n",
       "        vertical-align: top;\n",
       "    }\n",
       "\n",
       "    .dataframe thead th {\n",
       "        text-align: right;\n",
       "    }\n",
       "</style>\n",
       "<table border=\"1\" class=\"dataframe\">\n",
       "  <thead>\n",
       "    <tr style=\"text-align: right;\">\n",
       "      <th></th>\n",
       "      <th>Place</th>\n",
       "      <th>Bib</th>\n",
       "      <th>Name</th>\n",
       "      <th>Gender</th>\n",
       "      <th>City</th>\n",
       "      <th>State</th>\n",
       "      <th>Chip Time</th>\n",
       "      <th>Gun Time</th>\n",
       "      <th>Team</th>\n",
       "    </tr>\n",
       "  </thead>\n",
       "  <tbody>\n",
       "    <tr>\n",
       "      <th>5</th>\n",
       "      <td>1</td>\n",
       "      <td>814</td>\n",
       "      <td>\\r\\n\\r\\n                    JARED WILSON\\r\\n\\...</td>\n",
       "      <td>M</td>\n",
       "      <td>TIGARD</td>\n",
       "      <td>OR</td>\n",
       "      <td>36:21</td>\n",
       "      <td>36:24</td>\n",
       "      <td>]</td>\n",
       "    </tr>\n",
       "    <tr>\n",
       "      <th>6</th>\n",
       "      <td>2</td>\n",
       "      <td>573</td>\n",
       "      <td>\\r\\n\\r\\n                    NATHAN A SUSTERSI...</td>\n",
       "      <td>M</td>\n",
       "      <td>PORTLAND</td>\n",
       "      <td>OR</td>\n",
       "      <td>36:42</td>\n",
       "      <td>36:45</td>\n",
       "      <td>\\n\\r\\n                            INTEL TEAM ...</td>\n",
       "    </tr>\n",
       "    <tr>\n",
       "      <th>7</th>\n",
       "      <td>3</td>\n",
       "      <td>687</td>\n",
       "      <td>\\r\\n\\r\\n                    FRANCISCO MAYA\\r\\...</td>\n",
       "      <td>M</td>\n",
       "      <td>PORTLAND</td>\n",
       "      <td>OR</td>\n",
       "      <td>37:44</td>\n",
       "      <td>37:48</td>\n",
       "      <td>]</td>\n",
       "    </tr>\n",
       "    <tr>\n",
       "      <th>8</th>\n",
       "      <td>4</td>\n",
       "      <td>623</td>\n",
       "      <td>\\r\\n\\r\\n                    PAUL MORROW\\r\\n\\r...</td>\n",
       "      <td>M</td>\n",
       "      <td>BEAVERTON</td>\n",
       "      <td>OR</td>\n",
       "      <td>38:34</td>\n",
       "      <td>38:37</td>\n",
       "      <td>]</td>\n",
       "    </tr>\n",
       "    <tr>\n",
       "      <th>9</th>\n",
       "      <td>5</td>\n",
       "      <td>569</td>\n",
       "      <td>\\r\\n\\r\\n                    DEREK G OSBORNE\\r...</td>\n",
       "      <td>M</td>\n",
       "      <td>HILLSBORO</td>\n",
       "      <td>OR</td>\n",
       "      <td>39:21</td>\n",
       "      <td>39:24</td>\n",
       "      <td>\\n\\r\\n                            INTEL TEAM ...</td>\n",
       "    </tr>\n",
       "  </tbody>\n",
       "</table>\n",
       "</div>"
      ],
      "text/plain": [
       "  Place   Bib                                               Name  Gender  \\\n",
       "5     1   814   \\r\\n\\r\\n                    JARED WILSON\\r\\n\\...       M   \n",
       "6     2   573   \\r\\n\\r\\n                    NATHAN A SUSTERSI...       M   \n",
       "7     3   687   \\r\\n\\r\\n                    FRANCISCO MAYA\\r\\...       M   \n",
       "8     4   623   \\r\\n\\r\\n                    PAUL MORROW\\r\\n\\r...       M   \n",
       "9     5   569   \\r\\n\\r\\n                    DEREK G OSBORNE\\r...       M   \n",
       "\n",
       "         City  State  Chip Time  Gun Time  \\\n",
       "5      TIGARD     OR      36:21     36:24   \n",
       "6    PORTLAND     OR      36:42     36:45   \n",
       "7    PORTLAND     OR      37:44     37:48   \n",
       "8   BEAVERTON     OR      38:34     38:37   \n",
       "9   HILLSBORO     OR      39:21     39:24   \n",
       "\n",
       "                                                Team  \n",
       "5                                                  ]  \n",
       "6   \\n\\r\\n                            INTEL TEAM ...  \n",
       "7                                                  ]  \n",
       "8                                                  ]  \n",
       "9   \\n\\r\\n                            INTEL TEAM ...  "
      ]
     },
     "execution_count": 213,
     "metadata": {},
     "output_type": "execute_result"
    }
   ],
   "source": [
    "df7.rename(columns={'[Place': 'Place'},inplace=True)\n",
    "df7.rename(columns={' Team]': 'Team'},inplace=True)\n",
    "df7.head()"
   ]
  },
  {
   "cell_type": "code",
   "execution_count": 214,
   "id": "bb4565a1",
   "metadata": {},
   "outputs": [
    {
     "data": {
      "text/html": [
       "<div>\n",
       "<style scoped>\n",
       "    .dataframe tbody tr th:only-of-type {\n",
       "        vertical-align: middle;\n",
       "    }\n",
       "\n",
       "    .dataframe tbody tr th {\n",
       "        vertical-align: top;\n",
       "    }\n",
       "\n",
       "    .dataframe thead th {\n",
       "        text-align: right;\n",
       "    }\n",
       "</style>\n",
       "<table border=\"1\" class=\"dataframe\">\n",
       "  <thead>\n",
       "    <tr style=\"text-align: right;\">\n",
       "      <th></th>\n",
       "      <th>Place</th>\n",
       "      <th>Bib</th>\n",
       "      <th>Name</th>\n",
       "      <th>Gender</th>\n",
       "      <th>City</th>\n",
       "      <th>State</th>\n",
       "      <th>Chip Time</th>\n",
       "      <th>Gun Time</th>\n",
       "      <th>Team</th>\n",
       "    </tr>\n",
       "  </thead>\n",
       "  <tbody>\n",
       "    <tr>\n",
       "      <th>5</th>\n",
       "      <td>1</td>\n",
       "      <td>814</td>\n",
       "      <td>\\r\\n\\r\\n                    JARED WILSON\\r\\n\\...</td>\n",
       "      <td>M</td>\n",
       "      <td>TIGARD</td>\n",
       "      <td>OR</td>\n",
       "      <td>36:21</td>\n",
       "      <td>36:24</td>\n",
       "      <td></td>\n",
       "    </tr>\n",
       "    <tr>\n",
       "      <th>6</th>\n",
       "      <td>2</td>\n",
       "      <td>573</td>\n",
       "      <td>\\r\\n\\r\\n                    NATHAN A SUSTERSI...</td>\n",
       "      <td>M</td>\n",
       "      <td>PORTLAND</td>\n",
       "      <td>OR</td>\n",
       "      <td>36:42</td>\n",
       "      <td>36:45</td>\n",
       "      <td>\\n\\r\\n                            INTEL TEAM ...</td>\n",
       "    </tr>\n",
       "    <tr>\n",
       "      <th>7</th>\n",
       "      <td>3</td>\n",
       "      <td>687</td>\n",
       "      <td>\\r\\n\\r\\n                    FRANCISCO MAYA\\r\\...</td>\n",
       "      <td>M</td>\n",
       "      <td>PORTLAND</td>\n",
       "      <td>OR</td>\n",
       "      <td>37:44</td>\n",
       "      <td>37:48</td>\n",
       "      <td></td>\n",
       "    </tr>\n",
       "    <tr>\n",
       "      <th>8</th>\n",
       "      <td>4</td>\n",
       "      <td>623</td>\n",
       "      <td>\\r\\n\\r\\n                    PAUL MORROW\\r\\n\\r...</td>\n",
       "      <td>M</td>\n",
       "      <td>BEAVERTON</td>\n",
       "      <td>OR</td>\n",
       "      <td>38:34</td>\n",
       "      <td>38:37</td>\n",
       "      <td></td>\n",
       "    </tr>\n",
       "    <tr>\n",
       "      <th>9</th>\n",
       "      <td>5</td>\n",
       "      <td>569</td>\n",
       "      <td>\\r\\n\\r\\n                    DEREK G OSBORNE\\r...</td>\n",
       "      <td>M</td>\n",
       "      <td>HILLSBORO</td>\n",
       "      <td>OR</td>\n",
       "      <td>39:21</td>\n",
       "      <td>39:24</td>\n",
       "      <td>\\n\\r\\n                            INTEL TEAM ...</td>\n",
       "    </tr>\n",
       "  </tbody>\n",
       "</table>\n",
       "</div>"
      ],
      "text/plain": [
       "  Place   Bib                                               Name  Gender  \\\n",
       "5     1   814   \\r\\n\\r\\n                    JARED WILSON\\r\\n\\...       M   \n",
       "6     2   573   \\r\\n\\r\\n                    NATHAN A SUSTERSI...       M   \n",
       "7     3   687   \\r\\n\\r\\n                    FRANCISCO MAYA\\r\\...       M   \n",
       "8     4   623   \\r\\n\\r\\n                    PAUL MORROW\\r\\n\\r...       M   \n",
       "9     5   569   \\r\\n\\r\\n                    DEREK G OSBORNE\\r...       M   \n",
       "\n",
       "         City  State  Chip Time  Gun Time  \\\n",
       "5      TIGARD     OR      36:21     36:24   \n",
       "6    PORTLAND     OR      36:42     36:45   \n",
       "7    PORTLAND     OR      37:44     37:48   \n",
       "8   BEAVERTON     OR      38:34     38:37   \n",
       "9   HILLSBORO     OR      39:21     39:24   \n",
       "\n",
       "                                                Team  \n",
       "5                                                     \n",
       "6   \\n\\r\\n                            INTEL TEAM ...  \n",
       "7                                                     \n",
       "8                                                     \n",
       "9   \\n\\r\\n                            INTEL TEAM ...  "
      ]
     },
     "execution_count": 214,
     "metadata": {},
     "output_type": "execute_result"
    }
   ],
   "source": [
    "df7['Team'] = df7['Team'].str.strip(']')\n",
    "df7.head()"
   ]
  },
  {
   "cell_type": "code",
   "execution_count": 215,
   "id": "6f7a872d",
   "metadata": {},
   "outputs": [
    {
     "name": "stdout",
     "output_type": "stream",
     "text": [
      "Index(['Place', ' Bib', ' Name', ' Gender', ' City', ' State', ' Chip Time',\n",
      "       ' Gun Time', 'Team'],\n",
      "      dtype='object')\n"
     ]
    }
   ],
   "source": [
    "cols = df7.columns\n",
    "print(cols)"
   ]
  },
  {
   "cell_type": "code",
   "execution_count": 216,
   "id": "2bc71814",
   "metadata": {},
   "outputs": [
    {
     "data": {
      "text/plain": [
       "5         36:21\n",
       "6         36:42\n",
       "7         37:44\n",
       "8         38:34\n",
       "9         39:21\n",
       "         ...   \n",
       "577     1:38:17\n",
       "578     1:38:31\n",
       "579     1:38:32\n",
       "580     1:40:47\n",
       "581     1:41:18\n",
       "Name:  Chip Time, Length: 577, dtype: object"
      ]
     },
     "execution_count": 216,
     "metadata": {},
     "output_type": "execute_result"
    }
   ],
   "source": [
    "ChipTime = df7.iloc[:,6]\n",
    "ChipTime"
   ]
  },
  {
   "cell_type": "markdown",
   "id": "177eda50",
   "metadata": {},
   "source": [
    "df77 = df7.rename(columns = {\"Chip Time\":'ChipTime'}, inplace = True)\n",
    "df77.head()"
   ]
  },
  {
   "cell_type": "markdown",
   "id": "21d930d2",
   "metadata": {},
   "source": [
    "df7.City.value_counts()"
   ]
  },
  {
   "cell_type": "markdown",
   "id": "694b29e0",
   "metadata": {},
   "source": [
    "time_list = ChipTime.tolist()\n",
    "\n",
    "# You can use a for loop to convert 'Chip Time' to minutes\n",
    "\n",
    "time_mins = []\n",
    "for i in time_list:\n",
    "    h, m, s = i.split(':')\n",
    "    math = (int(h) * 3600 + int(m) * 60 + int(s))/60\n",
    "    time_mins.append(math)\n",
    "#print(time_mins)"
   ]
  },
  {
   "cell_type": "markdown",
   "id": "1209ba87",
   "metadata": {},
   "source": [
    "df7['Runner_mins'] = time_mins\n",
    "df7.head()"
   ]
  },
  {
   "cell_type": "markdown",
   "id": "67886aa7",
   "metadata": {},
   "source": [
    "df7.describe(include=[np.number])"
   ]
  },
  {
   "cell_type": "code",
   "execution_count": 217,
   "id": "b7cfa243",
   "metadata": {},
   "outputs": [],
   "source": [
    "from pylab import rcParams\n",
    "rcParams['figure.figsize'] = 15, 5"
   ]
  },
  {
   "cell_type": "markdown",
   "id": "1ba62b3f",
   "metadata": {},
   "source": [
    "df7.boxplot(column='Runner_mins')\n",
    "plt.grid(True, axis='y')\n",
    "plt.ylabel('Chip Time')\n",
    "plt.xticks([1], ['Runners'])"
   ]
  },
  {
   "cell_type": "markdown",
   "id": "cd46c05f",
   "metadata": {},
   "source": [
    "x = df7['Runner_mins']\n",
    "ax = sns.distplot(x, hist=True, kde=True, rug=False, color='m', bins=25, hist_kws={'edgecolor':'black'})\n",
    "plt.show()"
   ]
  },
  {
   "cell_type": "markdown",
   "id": "b6b554c9",
   "metadata": {},
   "source": [
    "f_fuko = df7.loc[df7[' Gender']==' F']['Runner_mins']\n",
    "m_fuko = df7.loc[df7[' Gender']==' M']['Runner_mins']\n",
    "sns.distplot(f_fuko, hist=True, kde=True, rug=False, hist_kws={'edgecolor':'black'}, label='Female')\n",
    "sns.distplot(m_fuko, hist=False, kde=True, rug=False, hist_kws={'edgecolor':'black'}, label='Male')\n",
    "plt.legend()"
   ]
  },
  {
   "cell_type": "code",
   "execution_count": 218,
   "id": "0738fcf7",
   "metadata": {},
   "outputs": [
    {
     "name": "stdout",
     "output_type": "stream",
     "text": [
      "        Place                   Bib                    Name         ...  \\\n",
      "        count unique top freq count unique   top freq count unique  ...   \n",
      " Gender                                                             ...   \n",
      " F        163    163  30    1   163    163   253    1   163    163  ...   \n",
      " M        414    414   1    1   414    414   814    1   414    413  ...   \n",
      "\n",
      "         Chip Time       Gun Time                        Team                  \n",
      "               top freq     count unique       top freq count unique top freq  \n",
      " Gender                                                                        \n",
      " F         1:03:34    2       163    155   1:13:04    2   163     12      141  \n",
      " M           55:00    5       414    378     55:43    3   414     21      356  \n",
      "\n",
      "[2 rows x 32 columns]\n"
     ]
    }
   ],
   "source": [
    "g_stats = df7.groupby(\" Gender\", as_index=True).describe()\n",
    "print(g_stats)"
   ]
  },
  {
   "cell_type": "markdown",
   "id": "544ffcf9",
   "metadata": {},
   "source": [
    "df7.boxplot(column='Runner_mins', by=' Gender')\n",
    "plt.ylabel('Chip Time')\n",
    "plt.suptitle(\"\")"
   ]
  },
  {
   "cell_type": "code",
   "execution_count": 219,
   "id": "82943fc8",
   "metadata": {},
   "outputs": [],
   "source": [
    "#PROJECT 2"
   ]
  },
  {
   "cell_type": "code",
   "execution_count": 220,
   "id": "e9cca929",
   "metadata": {},
   "outputs": [],
   "source": [
    "url = \"https://en.wikipedia.org/wiki/List_of_African_countries_by_GDP_(nominal)\"\n",
    "html = urlopen(url)"
   ]
  },
  {
   "cell_type": "code",
   "execution_count": 221,
   "id": "a6792fec",
   "metadata": {},
   "outputs": [
    {
     "data": {
      "text/plain": [
       "bs4.BeautifulSoup"
      ]
     },
     "execution_count": 221,
     "metadata": {},
     "output_type": "execute_result"
    }
   ],
   "source": [
    "soup = BeautifulSoup(html, 'lxml')\n",
    "type(soup)"
   ]
  },
  {
   "cell_type": "code",
   "execution_count": 222,
   "id": "8e6c199c",
   "metadata": {},
   "outputs": [
    {
     "name": "stdout",
     "output_type": "stream",
     "text": [
      "<title>List of African countries by GDP (nominal) - Wikipedia</title>\n"
     ]
    }
   ],
   "source": [
    "# Get the title\n",
    "title = soup.title\n",
    "print(title)"
   ]
  },
  {
   "cell_type": "code",
   "execution_count": 223,
   "id": "a640e4df",
   "metadata": {},
   "outputs": [],
   "source": [
    "# Print out the text\n",
    "text = soup.get_text()\n",
    "#print(soup.text)"
   ]
  },
  {
   "cell_type": "code",
   "execution_count": 224,
   "id": "54be5b41",
   "metadata": {},
   "outputs": [
    {
     "data": {
      "text/plain": [
       "[<a id=\"top\"></a>,\n",
       " <a class=\"mw-jump-link\" href=\"#mw-head\">Jump to navigation</a>,\n",
       " <a class=\"mw-jump-link\" href=\"#searchInput\">Jump to search</a>,\n",
       " <a href=\"/wiki/Gross_domestic_product\" title=\"Gross domestic product\">Gross domestic product</a>,\n",
       " <a href=\"/wiki/Market_value\" title=\"Market value\">market value</a>,\n",
       " <a href=\"/wiki/Africa\" title=\"Africa\">Africa</a>,\n",
       " <a href=\"/wiki/International_Monetary_Fund\" title=\"International Monetary Fund\">International Monetary Fund</a>,\n",
       " <a href=\"/wiki/Cost_of_living\" title=\"Cost of living\">cost of living</a>,\n",
       " <a href=\"/wiki/Exchange_rate\" title=\"Exchange rate\">exchange rates</a>,\n",
       " <a href=\"/wiki/Currency\" title=\"Currency\">currency</a>,\n",
       " <a href=\"#cite_note-1\">[1]</a>,\n",
       " <a href=\"#cite_note-2\">[2]</a>,\n",
       " <a href=\"#cite_note-3\">[3]</a>,\n",
       " <a href=\"#cite_note-4\">[4]</a>,\n",
       " <a class=\"mw-redirect\" href=\"/wiki/National_wealth\" title=\"National wealth\">national wealth</a>,\n",
       " <a href=\"/wiki/Purchasing_power_parity\" title=\"Purchasing power parity\">purchasing power parity</a>,\n",
       " <a href=\"/wiki/International_trade\" title=\"International trade\">international trade</a>,\n",
       " <a href=\"#cite_note-5\">[5]</a>,\n",
       " <a href=\"#cite_note-6\">[6]</a>,\n",
       " <a class=\"image\" href=\"/wiki/File:Africa_GDP_Map_2020_including_Somaliland.svg\"><img alt=\"\" class=\"thumbimage\" data-file-height=\"1000\" data-file-width=\"1000\" decoding=\"async\" height=\"220\" src=\"//upload.wikimedia.org/wikipedia/commons/thumb/d/d1/Africa_GDP_Map_2020_including_Somaliland.svg/220px-Africa_GDP_Map_2020_including_Somaliland.svg.png\" srcset=\"//upload.wikimedia.org/wikipedia/commons/thumb/d/d1/Africa_GDP_Map_2020_including_Somaliland.svg/330px-Africa_GDP_Map_2020_including_Somaliland.svg.png 1.5x, //upload.wikimedia.org/wikipedia/commons/thumb/d/d1/Africa_GDP_Map_2020_including_Somaliland.svg/440px-Africa_GDP_Map_2020_including_Somaliland.svg.png 2x\" width=\"220\"/></a>,\n",
       " <a class=\"internal\" href=\"/wiki/File:Africa_GDP_Map_2020_including_Somaliland.svg\" title=\"Enlarge\"></a>,\n",
       " <a class=\"image\" href=\"/wiki/File:Map_of_Africa_by_2020_nominal_GDP_per_capita_(USD).svg\"><img alt=\"\" class=\"thumbimage\" data-file-height=\"1000\" data-file-width=\"1000\" decoding=\"async\" height=\"220\" src=\"//upload.wikimedia.org/wikipedia/commons/thumb/f/fc/Map_of_Africa_by_2020_nominal_GDP_per_capita_%28USD%29.svg/220px-Map_of_Africa_by_2020_nominal_GDP_per_capita_%28USD%29.svg.png\" srcset=\"//upload.wikimedia.org/wikipedia/commons/thumb/f/fc/Map_of_Africa_by_2020_nominal_GDP_per_capita_%28USD%29.svg/330px-Map_of_Africa_by_2020_nominal_GDP_per_capita_%28USD%29.svg.png 1.5x, //upload.wikimedia.org/wikipedia/commons/thumb/f/fc/Map_of_Africa_by_2020_nominal_GDP_per_capita_%28USD%29.svg/440px-Map_of_Africa_by_2020_nominal_GDP_per_capita_%28USD%29.svg.png 2x\" width=\"220\"/></a>,\n",
       " <a class=\"internal\" href=\"/wiki/File:Map_of_Africa_by_2020_nominal_GDP_per_capita_(USD).svg\" title=\"Enlarge\"></a>,\n",
       " <a href=\"#cite_note-IMF_OCTOBER_2022-7\">[7]</a>,\n",
       " <a href=\"/wiki/Nigeria\" title=\"Nigeria\">Nigeria</a>,\n",
       " <a href=\"/wiki/Egypt\" title=\"Egypt\">Egypt</a>,\n",
       " <a href=\"/wiki/South_Africa\" title=\"South Africa\">South Africa</a>,\n",
       " <a href=\"/wiki/Algeria\" title=\"Algeria\">Algeria</a>,\n",
       " <a href=\"/wiki/Morocco\" title=\"Morocco\">Morocco</a>,\n",
       " <a href=\"/wiki/Angola\" title=\"Angola\">Angola</a>,\n",
       " <a href=\"/wiki/Kenya\" title=\"Kenya\">Kenya</a>,\n",
       " <a href=\"/wiki/Ethiopia\" title=\"Ethiopia\">Ethiopia</a>,\n",
       " <a href=\"/wiki/Tanzania\" title=\"Tanzania\">Tanzania</a>,\n",
       " <a href=\"/wiki/Ghana\" title=\"Ghana\">Ghana</a>,\n",
       " <a href=\"/wiki/List_of_countries_by_GDP_(nominal)\" title=\"List of countries by GDP (nominal)\">Nominal GDP</a>,\n",
       " <a href=\"#cite_note-imf_data_ssa-8\">[8]</a>,\n",
       " <a href=\"#cite_note-imf_data_na-9\">[9]</a>,\n",
       " <a href=\"/wiki/List_of_countries_by_GDP_(nominal)_per_capita\" title=\"List of countries by GDP (nominal) per capita\">Per Capita</a>,\n",
       " <a href=\"#cite_note-imf_data_ssa-8\">[8]</a>,\n",
       " <a href=\"#cite_note-imf_data_na-9\">[9]</a>,\n",
       " <a href=\"/wiki/Nigeria\" title=\"Nigeria\">Nigeria</a>,\n",
       " <a href=\"/wiki/Egypt\" title=\"Egypt\">Egypt</a>,\n",
       " <a href=\"/wiki/South_Africa\" title=\"South Africa\">South Africa</a>,\n",
       " <a href=\"/wiki/Algeria\" title=\"Algeria\">Algeria</a>,\n",
       " <a href=\"/wiki/Morocco\" title=\"Morocco\">Morocco</a>,\n",
       " <a href=\"/wiki/Angola\" title=\"Angola\">Angola</a>,\n",
       " <a href=\"/wiki/Kenya\" title=\"Kenya\">Kenya</a>,\n",
       " <a href=\"/wiki/Ethiopia\" title=\"Ethiopia\">Ethiopia</a>,\n",
       " <a href=\"/wiki/Tanzania\" title=\"Tanzania\">Tanzania</a>,\n",
       " <a href=\"/wiki/Ghana\" title=\"Ghana\">Ghana</a>,\n",
       " <a href=\"/wiki/Ivory_Coast\" title=\"Ivory Coast\">Ivory Coast</a>,\n",
       " <a href=\"/wiki/Democratic_Republic_of_the_Congo\" title=\"Democratic Republic of the Congo\">Democratic Republic of the Congo</a>,\n",
       " <a href=\"/wiki/Uganda\" title=\"Uganda\">Uganda</a>,\n",
       " <a href=\"/wiki/Tunisia\" title=\"Tunisia\">Tunisia</a>,\n",
       " <a href=\"/wiki/Cameroon\" title=\"Cameroon\">Cameroon</a>,\n",
       " <a href=\"/wiki/Sudan\" title=\"Sudan\">Sudan</a>,\n",
       " <a href=\"/wiki/Libya\" title=\"Libya\">Libya</a>,\n",
       " <a href=\"/wiki/Zimbabwe\" title=\"Zimbabwe\">Zimbabwe</a>,\n",
       " <a href=\"/wiki/Senegal\" title=\"Senegal\">Senegal</a>,\n",
       " <a href=\"/wiki/Zambia\" title=\"Zambia\">Zambia</a>,\n",
       " <a href=\"/wiki/Gabon\" title=\"Gabon\">Gabon</a>,\n",
       " <a href=\"/wiki/Guinea\" title=\"Guinea\">Guinea</a>,\n",
       " <a href=\"/wiki/Mali\" title=\"Mali\">Mali</a>,\n",
       " <a href=\"/wiki/Burkina_Faso\" title=\"Burkina Faso\">Burkina Faso</a>,\n",
       " <a href=\"/wiki/Botswana\" title=\"Botswana\">Botswana</a>,\n",
       " <a href=\"/wiki/Mozambique\" title=\"Mozambique\">Mozambique</a>,\n",
       " <a href=\"/wiki/Benin\" title=\"Benin\">Benin</a>,\n",
       " <a href=\"/wiki/Equatorial_Guinea\" title=\"Equatorial Guinea\">Equatorial Guinea</a>,\n",
       " <a href=\"/wiki/Madagascar\" title=\"Madagascar\">Madagascar</a>,\n",
       " <a href=\"/wiki/Niger\" title=\"Niger\">Niger</a>,\n",
       " <a href=\"/wiki/Republic_of_the_Congo\" title=\"Republic of the Congo\"><img alt=\"Republic of the Congo\" class=\"thumbborder\" data-file-height=\"600\" data-file-width=\"900\" decoding=\"async\" height=\"15\" src=\"//upload.wikimedia.org/wikipedia/commons/thumb/9/92/Flag_of_the_Republic_of_the_Congo.svg/23px-Flag_of_the_Republic_of_the_Congo.svg.png\" srcset=\"//upload.wikimedia.org/wikipedia/commons/thumb/9/92/Flag_of_the_Republic_of_the_Congo.svg/35px-Flag_of_the_Republic_of_the_Congo.svg.png 1.5x, //upload.wikimedia.org/wikipedia/commons/thumb/9/92/Flag_of_the_Republic_of_the_Congo.svg/45px-Flag_of_the_Republic_of_the_Congo.svg.png 2x\" width=\"23\"/></a>,\n",
       " <a href=\"/wiki/Republic_of_the_Congo\" title=\"Republic of the Congo\">Republic of Congo</a>,\n",
       " <a href=\"/wiki/Chad\" title=\"Chad\">Chad</a>,\n",
       " <a href=\"/wiki/Namibia\" title=\"Namibia\">Namibia</a>,\n",
       " <a href=\"/wiki/Rwanda\" title=\"Rwanda\">Rwanda</a>,\n",
       " <a href=\"/wiki/Malawi\" title=\"Malawi\">Malawi</a>,\n",
       " <a href=\"/wiki/Mauritius\" title=\"Mauritius\">Mauritius</a>,\n",
       " <a href=\"/wiki/Mauritania\" title=\"Mauritania\">Mauritania</a>,\n",
       " <a href=\"/wiki/Somalia\" title=\"Somalia\">Somalia</a>,\n",
       " <a href=\"/wiki/Togo\" title=\"Togo\">Togo</a>,\n",
       " <a href=\"/wiki/South_Sudan\" title=\"South Sudan\">South Sudan</a>,\n",
       " <a href=\"/wiki/Eswatini\" title=\"Eswatini\">Eswatini</a>,\n",
       " <a href=\"/wiki/Sierra_Leone\" title=\"Sierra Leone\">Sierra Leone</a>,\n",
       " <a href=\"/wiki/Liberia\" title=\"Liberia\">Liberia</a>,\n",
       " <a href=\"/wiki/Djibouti\" title=\"Djibouti\">Djibouti</a>,\n",
       " <a href=\"/wiki/Burundi\" title=\"Burundi\">Burundi</a>,\n",
       " <a href=\"/wiki/Lesotho\" title=\"Lesotho\">Lesotho</a>,\n",
       " <a href=\"/wiki/Central_African_Republic\" title=\"Central African Republic\">Central African Republic</a>,\n",
       " <a href=\"/wiki/Eritrea\" title=\"Eritrea\">Eritrea</a>,\n",
       " <a href=\"/wiki/The_Gambia\" title=\"The Gambia\">The Gambia</a>,\n",
       " <a href=\"/wiki/Cape_Verde\" title=\"Cape Verde\">Cape Verde</a>,\n",
       " <a href=\"/wiki/Seychelles\" title=\"Seychelles\">Seychelles</a>,\n",
       " <a href=\"/wiki/Guinea-Bissau\" title=\"Guinea-Bissau\">Guinea-Bissau</a>,\n",
       " <a href=\"/wiki/Comoros\" title=\"Comoros\">Comoros</a>,\n",
       " <a href=\"/wiki/S%C3%A3o_Tom%C3%A9_and_Pr%C3%ADncipe\" title=\"São Tomé and Príncipe\">São Tomé and Príncipe</a>,\n",
       " <a href=\"/w/index.php?title=List_of_African_countries_by_GDP_(nominal)&amp;action=edit&amp;section=1\" title=\"Edit section: See also\">edit</a>,\n",
       " <a href=\"/wiki/Portal:Africa\" title=\"Portal:Africa\">Africa portal</a>,\n",
       " <a href=\"/wiki/List_of_African_countries_by_GDP_(PPP)\" title=\"List of African countries by GDP (PPP)\">List of African countries by GDP (PPP)</a>,\n",
       " <a href=\"/wiki/List_of_African_countries_by_Human_Development_Index\" title=\"List of African countries by Human Development Index\">List of African countries by Human Development Index</a>,\n",
       " <a href=\"/wiki/Economy_of_Africa\" title=\"Economy of Africa\">Economy of Africa</a>,\n",
       " <a href=\"/w/index.php?title=List_of_African_countries_by_GDP_(nominal)&amp;action=edit&amp;section=2\" title=\"Edit section: References\">edit</a>,\n",
       " <a href=\"#cite_ref-1\">^</a>,\n",
       " <a class=\"external text\" href=\"http://economics.about.com/cs/money/a/purchasingpower.htm\" rel=\"nofollow\">\"A Beginner's Guide to Purchasing Power Parity Theory\"</a>,\n",
       " <a class=\"mw-redirect\" href=\"/wiki/About.com\" title=\"About.com\">About.com</a>,\n",
       " <a class=\"mw-redirect\" href=\"/wiki/IAC/InterActiveCorp\" title=\"IAC/InterActiveCorp\">IAC/InterActiveCorp</a>,\n",
       " <a href=\"#cite_ref-2\">^</a>,\n",
       " <a href=\"/wiki/Takatoshi_Ito\" title=\"Takatoshi Ito\">Ito, Takatoshi</a>,\n",
       " <a class=\"external text\" href=\"https://www.nber.org/chapters/c8616.pdf\" rel=\"nofollow\">\"Economic Growth and Real Exchange Rate: An Overview of the Balassa-Samuelson Hypothesis in Asia\"</a>,\n",
       " <a href=\"/wiki/National_Bureau_of_Economic_Research\" title=\"National Bureau of Economic Research\">National Bureau of Economic Research</a>,\n",
       " <a href=\"#cite_ref-3\">^</a>,\n",
       " <a class=\"external text\" href=\"http://www.investopedia.com/ask/answers/199.asp\" rel=\"nofollow\">\"What is GDP and why is it so important?\"</a>,\n",
       " <a href=\"/wiki/Investopedia\" title=\"Investopedia\">Investopedia</a>,\n",
       " <a class=\"mw-redirect\" href=\"/wiki/IAC/InterActiveCorp\" title=\"IAC/InterActiveCorp\">IAC/InterActiveCorp</a>,\n",
       " <a href=\"#cite_ref-4\">^</a>,\n",
       " <a class=\"external text\" href=\"http://visafrican.com/gdp-rankings-in-africa/\" rel=\"nofollow\">\"GDP rankings in Africa\"</a>,\n",
       " <a href=\"#cite_ref-5\">^</a>,\n",
       " <a class=\"external text\" href=\"http://www.imf.org/external/pubs/ft/fandd/basics/ppp.htm\" rel=\"nofollow\">\"Purchasing Power Parity: Weights Matter\"</a>,\n",
       " <a href=\"/wiki/Finance_%26_Development\" title=\"Finance &amp; Development\">Finance &amp; Development</a>,\n",
       " <a href=\"/wiki/International_Monetary_Fund\" title=\"International Monetary Fund\">International Monetary Fund</a>,\n",
       " <a href=\"#cite_ref-6\">^</a>,\n",
       " <a class=\"external text\" href=\"http://www.imf.org/external/pubs/ft/fandd/basics/gdp.htm\" rel=\"nofollow\">\"Gross Domestic Product: An Economy's All\"</a>,\n",
       " <a href=\"/wiki/Finance_%26_Development\" title=\"Finance &amp; Development\">Finance &amp; Development</a>,\n",
       " <a href=\"/wiki/International_Monetary_Fund\" title=\"International Monetary Fund\">International Monetary Fund</a>,\n",
       " <a href=\"#cite_ref-IMF_OCTOBER_2022_7-0\">^</a>,\n",
       " <a class=\"external text\" href=\"https://www.imf.org/en/Publications/WEO/weo-database/2022/October/weo-report?c=612,614,638,616,748,618,624,622,626,628,632,636,634,662,611,469,642,643,734,644,646,648,652,656,654,664,666,668,672,674,676,678,682,684,686,688,728,692,694,714,716,722,718,724,726,199,733,732,738,742,744,746,754,698,&amp;s=NGDPD,NGDPDPC,LP,&amp;sy=2022&amp;ey=2022&amp;ssm=0&amp;scsm=1&amp;scc=0&amp;ssd=1&amp;ssc=0&amp;sic=0&amp;sort=country&amp;ds=.&amp;br=1\" rel=\"nofollow\">\"Report for Selected Countries and Subjects\"</a>,\n",
       " <a href=\"#cite_ref-imf_data_ssa_8-0\"><sup><i><b>a</b></i></sup></a>,\n",
       " <a href=\"#cite_ref-imf_data_ssa_8-1\"><sup><i><b>b</b></i></sup></a>,\n",
       " <a class=\"external text\" href=\"https://www.imf.org/en/Publications/WEO/weo-database/2022/April/weo-report?c=614,638,616,748,618,624,622,626,628,632,636,634,662,642,643,734,644,646,648,652,656,654,664,666,668,674,676,678,684,688,728,692,694,714,716,722,718,724,199,733,738,742,746,754,698,&amp;s=NGDPD,NGDPDPC,&amp;sy=2022&amp;ey=2022&amp;ssm=0&amp;scsm=1&amp;scc=0&amp;ssd=1&amp;ssc=0&amp;sic=0&amp;sort=country&amp;ds=.&amp;br=1\" rel=\"nofollow\">\"World Economic Outlook database SSA: April 2022 Nominal GDP\"</a>,\n",
       " <a href=\"#cite_ref-imf_data_na_9-0\"><sup><i><b>a</b></i></sup></a>,\n",
       " <a href=\"#cite_ref-imf_data_na_9-1\"><sup><i><b>b</b></i></sup></a>,\n",
       " <a class=\"external text\" href=\"https://www.imf.org/en/Publications/WEO/weo-database/2022/April/weo-report?c=612,611,469,672,682,726,732,744,&amp;s=NGDPD,NGDPDPC,&amp;sy=2022&amp;ey=2022&amp;ssm=0&amp;scsm=1&amp;scc=0&amp;ssd=1&amp;ssc=0&amp;sic=0&amp;sort=country&amp;ds=.&amp;br=1\" rel=\"nofollow\">\"World Economic Outlook database NA: April 2022 Nominal GDP\"</a>,\n",
       " <a href=\"/wiki/Template:Africa_topics\" title=\"Template:Africa topics\"><abbr style=\";;background:none transparent;border:none;box-shadow:none;padding:0;\" title=\"View this template\">v</abbr></a>,\n",
       " <a href=\"/wiki/Template_talk:Africa_topics\" title=\"Template talk:Africa topics\"><abbr style=\";;background:none transparent;border:none;box-shadow:none;padding:0;\" title=\"Discuss this template\">t</abbr></a>,\n",
       " <a class=\"external text\" href=\"https://en.wikipedia.org/w/index.php?title=Template:Africa_topics&amp;action=edit\"><abbr style=\";;background:none transparent;border:none;box-shadow:none;padding:0;\" title=\"Edit this template\">e</abbr></a>,\n",
       " <a href=\"/wiki/Africa\" title=\"Africa\">Africa</a>,\n",
       " <a href=\"/wiki/Index_of_Africa-related_articles\" title=\"Index of Africa-related articles\">articles</a>,\n",
       " <a href=\"/wiki/History_of_Africa\" title=\"History of Africa\">History</a>,\n",
       " <a class=\"mw-redirect\" href=\"/wiki/Ancient_history_of_Africa\" title=\"Ancient history of Africa\">Antiquity</a>,\n",
       " <a href=\"/wiki/North_Africa_during_Antiquity\" title=\"North Africa during Antiquity\">North Africa</a>,\n",
       " <a href=\"/wiki/African_archaeology\" title=\"African archaeology\">Archaeology</a>,\n",
       " <a href=\"/wiki/List_of_kingdoms_in_pre-colonial_Africa\" title=\"List of kingdoms in pre-colonial Africa\">Pre-colonial kingdoms</a>,\n",
       " <a href=\"/wiki/African_empires\" title=\"African empires\">Empires</a>,\n",
       " <a href=\"/wiki/Sahelian_kingdoms\" title=\"Sahelian kingdoms\">Sahelian</a>,\n",
       " <a href=\"/wiki/Indian_Ocean_trade\" title=\"Indian Ocean trade\">Indian Ocean trade</a>,\n",
       " <a href=\"/wiki/Bantu_expansion\" title=\"Bantu expansion\">Bantu expansion</a>,\n",
       " <a href=\"/wiki/Muslim_conquest_of_the_Maghreb\" title=\"Muslim conquest of the Maghreb\">Muslim conquest</a>,\n",
       " <a href=\"/wiki/European_exploration_of_Africa\" title=\"European exploration of Africa\">European exploration</a>,\n",
       " <a href=\"/wiki/Colonisation_of_Africa\" title=\"Colonisation of Africa\">European colonisation</a>,\n",
       " <a href=\"/wiki/Slavery_in_Africa\" title=\"Slavery in Africa\">Slavery</a>,\n",
       " <a href=\"/wiki/Atlantic_slave_trade\" title=\"Atlantic slave trade\">Atlantic</a>,\n",
       " <a href=\"/wiki/Barbary_slave_trade\" title=\"Barbary slave trade\">Barbary</a>,\n",
       " <a href=\"/wiki/Indian_Ocean_slave_trade\" title=\"Indian Ocean slave trade\">Indian Ocean</a>,\n",
       " <a href=\"/wiki/Trans-Saharan_slave_trade\" title=\"Trans-Saharan slave trade\">Trans-Saharan</a>,\n",
       " <a href=\"/wiki/Scramble_for_Africa\" title=\"Scramble for Africa\">Scramble for Africa</a>,\n",
       " <a href=\"/wiki/Decolonisation_of_Africa\" title=\"Decolonisation of Africa\">Decolonisation</a>,\n",
       " <a href=\"/wiki/Economic_history_of_Africa\" title=\"Economic history of Africa\">Economy</a>,\n",
       " <a href=\"/wiki/African_empires\" title=\"African empires\">Empires</a>,\n",
       " <a href=\"/wiki/Talk:History_of_Africa#Historiography_of_Africa\" title=\"Talk:History of Africa\">Historiography</a>,\n",
       " <a href=\"/wiki/Military_history_of_Africa\" title=\"Military history of Africa\">Military</a>,\n",
       " <a href=\"/wiki/List_of_conflicts_in_Africa\" title=\"List of conflicts in Africa\">conflicts</a>,\n",
       " <a href=\"/wiki/History_of_science_and_technology_in_Africa\" title=\"History of science and technology in Africa\">Science and technology</a>,\n",
       " <a href=\"/wiki/History_of_Central_Africa\" title=\"History of Central Africa\">Central</a>,\n",
       " <a href=\"/wiki/History_of_East_Africa\" title=\"History of East Africa\">East</a>,\n",
       " <a href=\"/wiki/History_of_North_Africa\" title=\"History of North Africa\">North</a>,\n",
       " <a href=\"/wiki/History_of_Southern_Africa\" title=\"History of Southern Africa\">South</a>,\n",
       " <a href=\"/wiki/History_of_West_Africa\" title=\"History of West Africa\">West</a>,\n",
       " <a href=\"/wiki/Geography_of_Africa\" title=\"Geography of Africa\">Geography</a>,\n",
       " <a href=\"/wiki/List_of_sovereign_states_and_dependent_territories_in_Africa\" title=\"List of sovereign states and dependent territories in Africa\">Countries and territories</a>,\n",
       " <a href=\"/wiki/List_of_highest_points_of_African_countries\" title=\"List of highest points of African countries\">Highest points</a>,\n",
       " <a href=\"/wiki/List_of_impact_craters_in_Africa\" title=\"List of impact craters in Africa\">Impact craters</a>,\n",
       " <a href=\"/wiki/List_of_islands_of_Africa\" title=\"List of islands of Africa\">Islands</a>,\n",
       " <a href=\"/wiki/Natural_history_of_Africa\" title=\"Natural history of Africa\">Natural history</a>,\n",
       " <a href=\"/wiki/List_of_regions_of_Africa\" title=\"List of regions of Africa\">Regions</a>,\n",
       " <a href=\"/wiki/Central_Africa\" title=\"Central Africa\">Central</a>,\n",
       " <a href=\"/wiki/East_Africa\" title=\"East Africa\">East</a>,\n",
       " <a href=\"/wiki/North_Africa\" title=\"North Africa\">North</a>,\n",
       " <a href=\"/wiki/Southern_Africa\" title=\"Southern Africa\">South</a>,\n",
       " <a href=\"/wiki/West_Africa\" title=\"West Africa\">West</a>,\n",
       " <a href=\"/wiki/List_of_rivers_of_Africa\" title=\"List of rivers of Africa\">Rivers</a>,\n",
       " <a href=\"/wiki/Africa#Politics\" title=\"Africa\">Politics</a>,\n",
       " <a href=\"/wiki/African_Union\" title=\"African Union\">African Union</a>,\n",
       " <a href=\"/wiki/Elections_in_Africa\" title=\"Elections in Africa\">Elections</a>,\n",
       " <a href=\"/wiki/Category:Heads_of_government_in_Africa\" title=\"Category:Heads of government in Africa\">Heads of government</a>,\n",
       " <a href=\"/wiki/Category:Heads_of_state_in_Africa\" title=\"Category:Heads of state in Africa\">Heads of state</a>,\n",
       " <a href=\"/wiki/Human_rights_in_Africa\" title=\"Human rights in Africa\">Human rights</a>,\n",
       " <a href=\"/wiki/Freedom_of_religion_in_Africa_by_country\" title=\"Freedom of religion in Africa by country\">Freedom of religion</a>,\n",
       " <a href=\"/wiki/LGBT_rights_in_Africa\" title=\"LGBT rights in Africa\">LGBT rights</a>,\n",
       " <a href=\"/wiki/List_of_linguistic_rights_in_African_constitutions\" title=\"List of linguistic rights in African constitutions\">Linguistic rights</a>,\n",
       " <a href=\"/wiki/Women_in_Africa#More_Women_Rights\" title=\"Women in Africa\">Women's rights</a>,\n",
       " <a href=\"/wiki/African_feminism\" title=\"African feminism\">feminism</a>,\n",
       " <a href=\"/wiki/International_organisations_in_Africa\" title=\"International organisations in Africa\">International organisations</a>,\n",
       " <a href=\"/wiki/Pan-African_Parliament\" title=\"Pan-African Parliament\">Pan-African Parliament</a>,\n",
       " <a href=\"/wiki/Pan-Africanism\" title=\"Pan-Africanism\">Pan-Africanism</a>,\n",
       " <a class=\"mw-redirect\" href=\"/wiki/Politics_of_Africa\" title=\"Politics of Africa\">Politics</a>,\n",
       " <a href=\"/wiki/Category:Political_parties_in_Africa\" title=\"Category:Political parties in Africa\">parties</a>,\n",
       " <a href=\"/wiki/United_States_of_Africa\" title=\"United States of Africa\">United States of Africa</a>,\n",
       " <a href=\"/wiki/Economy_of_Africa\" title=\"Economy of Africa\">Economy</a>,\n",
       " <a href=\"/wiki/List_of_central_banks_of_Africa\" title=\"List of central banks of Africa\">Central banks</a>,\n",
       " <a class=\"mw-selflink selflink\">Countries by GDP (nominal)</a>,\n",
       " <a href=\"/wiki/List_of_African_countries_by_GDP_(PPP)\" title=\"List of African countries by GDP (PPP)\">Countries by GDP (PPP)</a>,\n",
       " <a href=\"/wiki/List_of_African_countries_by_Human_Development_Index\" title=\"List of African countries by Human Development Index\">Countries by HDI</a>,\n",
       " <a href=\"/wiki/List_of_Africans_by_net_worth\" title=\"List of Africans by net worth\">Billionaires</a>,\n",
       " <a href=\"/wiki/Education_in_Africa\" title=\"Education in Africa\">Education</a>,\n",
       " <a href=\"/wiki/Infrastructure_in_Africa\" title=\"Infrastructure in Africa\">Infrastructure</a>,\n",
       " <a href=\"/wiki/Internet_in_Africa\" title=\"Internet in Africa\">Internet</a>,\n",
       " <a href=\"/wiki/Natural_resources_of_Africa\" title=\"Natural resources of Africa\">Natural resources</a>,\n",
       " <a href=\"/wiki/Poverty_in_Africa\" title=\"Poverty in Africa\">Poverty</a>,\n",
       " <a href=\"/wiki/Renewable_energy_in_Africa\" title=\"Renewable energy in Africa\">Renewable energy</a>,\n",
       " <a href=\"/wiki/List_of_African_stock_exchanges\" title=\"List of African stock exchanges\">Stock exchanges</a>,\n",
       " <a href=\"/wiki/Caste_systems_in_Africa\" title=\"Caste systems in Africa\">Caste systems</a>,\n",
       " <a href=\"/wiki/Etiquette_in_Africa\" title=\"Etiquette in Africa\">Etiquette</a>,\n",
       " <a href=\"/wiki/Category:Health_in_Africa\" title=\"Category:Health in Africa\">Health</a>,\n",
       " <a href=\"/wiki/Languages_of_Africa\" title=\"Languages of Africa\">Languages</a>,\n",
       " <a href=\"/wiki/Religion_in_Africa\" title=\"Religion in Africa\">Religion</a>,\n",
       " <a href=\"/wiki/Culture_of_Africa\" title=\"Culture of Africa\">Culture</a>,\n",
       " <a href=\"/wiki/Architecture_of_Africa\" title=\"Architecture of Africa\">Architecture</a>,\n",
       " <a href=\"/wiki/African_art\" title=\"African art\">Art</a>,\n",
       " <a href=\"/wiki/Cinema_of_Africa\" title=\"Cinema of Africa\">Cinema</a>,\n",
       " <a href=\"/wiki/African_cuisine\" title=\"African cuisine\">Cuisine</a>,\n",
       " <a href=\"/wiki/African_literature\" title=\"African literature\">Literature</a>,\n",
       " <a href=\"/wiki/Africanfuturism\" title=\"Africanfuturism\">Africanfuturism</a>,\n",
       " <a href=\"/wiki/Media_of_Africa\" title=\"Media of Africa\">Media</a>,\n",
       " <a href=\"/wiki/Music_of_Africa\" title=\"Music of Africa\">Music</a>,\n",
       " <a href=\"/wiki/African_philosophy\" title=\"African philosophy\">Philosophy</a>,\n",
       " <a href=\"/wiki/List_of_World_Heritage_Sites_in_Africa\" title=\"List of World Heritage Sites in Africa\">World Heritage Sites</a>,\n",
       " <a href=\"/wiki/Sport_in_Africa\" title=\"Sport in Africa\">Sport</a>,\n",
       " <a class=\"mw-redirect\" href=\"/wiki/African_Cricket_Association\" title=\"African Cricket Association\">African Cricket Association</a>,\n",
       " <a href=\"/wiki/African_Games\" title=\"African Games\">African Games</a>,\n",
       " <a href=\"/wiki/Afro-Asian_Games\" title=\"Afro-Asian Games\">Afro-Asian Games</a>,\n",
       " <a href=\"/wiki/Australian_rules_football_in_Africa\" title=\"Australian rules football in Africa\">Australian-rules football</a>,\n",
       " <a href=\"/wiki/Confederation_of_African_Football\" title=\"Confederation of African Football\">Confederation of African Football</a>,\n",
       " <a href=\"/wiki/FIBA_Africa\" title=\"FIBA Africa\">FIBA Africa</a>,\n",
       " <a href=\"/wiki/Rugby_Africa\" title=\"Rugby Africa\">Rugby Africa</a>,\n",
       " <a href=\"/wiki/List_of_African_stadiums_by_capacity\" title=\"List of African stadiums by capacity\">Stadiums by capacity</a>,\n",
       " <a href=\"/wiki/Tour_d%27Afrique\" title=\"Tour d'Afrique\">Tour d'Afrique</a>,\n",
       " <a href=\"/wiki/Demographics_of_Africa\" title=\"Demographics of Africa\">Demographics</a>,\n",
       " <a href=\"/wiki/List_of_African_countries_by_population\" title=\"List of African countries by population\">Countries by population</a>,\n",
       " <a href=\"/wiki/List_of_African_countries_by_population_density\" title=\"List of African countries by population density\">density</a>,\n",
       " <a href=\"/wiki/Emigration_from_Africa\" title=\"Emigration from Africa\">Emigration</a>,\n",
       " <a href=\"/wiki/List_of_ethnic_groups_of_Africa\" title=\"List of ethnic groups of Africa\">Ethnic groups</a>,\n",
       " <a href=\"/wiki/HIV/AIDS_in_Africa\" title=\"HIV/AIDS in Africa\">HIV/AIDS</a>,\n",
       " <a href=\"/wiki/List_of_African_countries_by_life_expectancy\" title=\"List of African countries by life expectancy\">Life expectancy</a>,\n",
       " <a href=\"/wiki/Urbanization_in_Africa\" title=\"Urbanization in Africa\">Urbanization</a>,\n",
       " <a href=\"/wiki/Lists_of_cities_in_Africa\" title=\"Lists of cities in Africa\">cities</a>,\n",
       " <a href=\"/wiki/List_of_urban_areas_in_Africa_by_population\" title=\"List of urban areas in Africa by population\">urban areas</a>,\n",
       " <a href=\"/wiki/Youth_in_Africa\" title=\"Youth in Africa\">Youth in Africa</a>,\n",
       " <a href=\"/wiki/Category:Years_in_Africa\" title=\"Category:Years in Africa\">By year</a>,\n",
       " <a href=\"/wiki/2005_in_Africa\" title=\"2005 in Africa\">2005</a>,\n",
       " <a href=\"/wiki/2006_in_Africa\" title=\"2006 in Africa\">2006</a>,\n",
       " <a href=\"/wiki/2007_in_Africa\" title=\"2007 in Africa\">2007</a>,\n",
       " <a class=\"new\" href=\"/w/index.php?title=2008_in_Africa&amp;action=edit&amp;redlink=1\" title=\"2008 in Africa (page does not exist)\">2008</a>,\n",
       " <a class=\"new\" href=\"/w/index.php?title=2009_in_Africa&amp;action=edit&amp;redlink=1\" title=\"2009 in Africa (page does not exist)\">2009</a>,\n",
       " <a class=\"new\" href=\"/w/index.php?title=2010_in_Africa&amp;action=edit&amp;redlink=1\" title=\"2010 in Africa (page does not exist)\">2010</a>,\n",
       " <a class=\"new\" href=\"/w/index.php?title=2011_in_Africa&amp;action=edit&amp;redlink=1\" title=\"2011 in Africa (page does not exist)\">2011</a>,\n",
       " <a class=\"new\" href=\"/w/index.php?title=2012_in_Africa&amp;action=edit&amp;redlink=1\" title=\"2012 in Africa (page does not exist)\">2012</a>,\n",
       " <a class=\"new\" href=\"/w/index.php?title=2013_in_Africa&amp;action=edit&amp;redlink=1\" title=\"2013 in Africa (page does not exist)\">2013</a>,\n",
       " <a class=\"new\" href=\"/w/index.php?title=2014_in_Africa&amp;action=edit&amp;redlink=1\" title=\"2014 in Africa (page does not exist)\">2014</a>,\n",
       " <a class=\"new\" href=\"/w/index.php?title=2015_in_Africa&amp;action=edit&amp;redlink=1\" title=\"2015 in Africa (page does not exist)\">2015</a>,\n",
       " <a href=\"/wiki/2016_in_Africa\" title=\"2016 in Africa\">2016</a>,\n",
       " <a class=\"new\" href=\"/w/index.php?title=2017_in_Africa&amp;action=edit&amp;redlink=1\" title=\"2017 in Africa (page does not exist)\">2017</a>,\n",
       " <a class=\"new\" href=\"/w/index.php?title=2018_in_Africa&amp;action=edit&amp;redlink=1\" title=\"2018 in Africa (page does not exist)\">2018</a>,\n",
       " <a class=\"new\" href=\"/w/index.php?title=2019_in_Africa&amp;action=edit&amp;redlink=1\" title=\"2019 in Africa (page does not exist)\">2019</a>,\n",
       " <a class=\"new\" href=\"/w/index.php?title=2020_in_Africa&amp;action=edit&amp;redlink=1\" title=\"2020 in Africa (page does not exist)\">2020</a>,\n",
       " <a href=\"/wiki/Outline_of_Africa\" title=\"Outline of Africa\">Outline</a>,\n",
       " <a href=\"/wiki/Index_of_Africa-related_articles\" title=\"Index of Africa-related articles\">Index</a>,\n",
       " <a href=\"/wiki/Category:Africa\" title=\"Category:Africa\">Category</a>,\n",
       " <a href=\"/wiki/Portal:Africa\" title=\"Portal:Africa\">Portal</a>,\n",
       " <a href=\"/wiki/Template:GDP_country_lists\" title=\"Template:GDP country lists\"><abbr style=\";;background:none transparent;border:none;box-shadow:none;padding:0;\" title=\"View this template\">v</abbr></a>,\n",
       " <a href=\"/wiki/Template_talk:GDP_country_lists\" title=\"Template talk:GDP country lists\"><abbr style=\";;background:none transparent;border:none;box-shadow:none;padding:0;\" title=\"Discuss this template\">t</abbr></a>,\n",
       " <a class=\"external text\" href=\"https://en.wikipedia.org/w/index.php?title=Template:GDP_country_lists&amp;action=edit\"><abbr style=\";;background:none transparent;border:none;box-shadow:none;padding:0;\" title=\"Edit this template\">e</abbr></a>,\n",
       " <a href=\"/wiki/Gross_domestic_product\" title=\"Gross domestic product\">GDP</a>,\n",
       " <a href=\"/wiki/List_of_countries_by_GDP_(nominal)\" title=\"List of countries by GDP (nominal)\">Nominal</a>,\n",
       " <a href=\"/wiki/List_of_countries_by_GDP_(nominal)_per_capita\" title=\"List of countries by GDP (nominal) per capita\">Per capita</a>,\n",
       " <a href=\"/wiki/List_of_countries_by_past_and_projected_GDP_(nominal)\" title=\"List of countries by past and projected GDP (nominal)\">Past and projected</a>,\n",
       " <a href=\"/wiki/List_of_countries_by_past_and_projected_GDP_(nominal)_per_capita\" title=\"List of countries by past and projected GDP (nominal) per capita\">per capita</a>,\n",
       " <a href=\"/wiki/List_of_countries_by_GDP_sector_composition\" title=\"List of countries by GDP sector composition\">Sector composition</a>,\n",
       " <a href=\"/wiki/List_of_countries_by_GDP_(PPP)\" title=\"List of countries by GDP (PPP)\">Purchasing power parity<br/>(PPP)</a>,\n",
       " <a href=\"/wiki/List_of_countries_by_GDP_(PPP)_per_capita\" title=\"List of countries by GDP (PPP) per capita\">Per capita</a>,\n",
       " <a href=\"/wiki/List_of_regions_by_past_GDP_(PPP)\" title=\"List of regions by past GDP (PPP)\">Past</a>,\n",
       " <a href=\"/wiki/List_of_regions_by_past_GDP_(PPP)_per_capita\" title=\"List of regions by past GDP (PPP) per capita\">per capita</a>,\n",
       " <a href=\"/wiki/List_of_countries_by_past_and_projected_GDP_(PPP)\" title=\"List of countries by past and projected GDP (PPP)\">Past and projected</a>,\n",
       " <a href=\"/wiki/List_of_countries_by_past_and_projected_GDP_(PPP)_per_capita\" title=\"List of countries by past and projected GDP (PPP) per capita\">per capita</a>,\n",
       " <a class=\"mw-redirect\" href=\"/wiki/List_of_countries_by_household_final_consumption_expenditure_per_capita\" title=\"List of countries by household final consumption expenditure per capita\">Private consumption per capita</a>,\n",
       " <a href=\"/wiki/List_of_countries_by_GDP_(PPP)_per_person_employed\" title=\"List of countries by GDP (PPP) per person employed\">Per person employed</a>,\n",
       " <a href=\"/wiki/List_of_countries_by_largest_historical_GDP\" title=\"List of countries by largest historical GDP\">Ten largest historically</a>,\n",
       " <a href=\"/wiki/List_of_countries_by_GDP_(PPP)_in_the_nineteenth_century\" title=\"List of countries by GDP (PPP) in the nineteenth century\">19th century</a>,\n",
       " <a href=\"/wiki/List_of_countries_by_real_GDP_growth_rate\" title=\"List of countries by real GDP growth rate\">Growth rate</a>,\n",
       " <a href=\"/wiki/List_of_African_countries_by_GDP_growth\" title=\"List of African countries by GDP growth\">African countries</a>,\n",
       " <a href=\"/wiki/List_of_Asian_states_by_GDP_growth\" title=\"List of Asian states by GDP growth\">Asian states</a>,\n",
       " <a href=\"/wiki/List_of_European_Union_member_states_by_GDP_growth\" title=\"List of European Union member states by GDP growth\">European Union member states</a>,\n",
       " <a href=\"/wiki/List_of_European_countries_by_GDP_growth\" title=\"List of European countries by GDP growth\">European countries</a>,\n",
       " <a href=\"/wiki/List_of_Latin_American_and_Caribbean_countries_by_GDP_growth\" title=\"List of Latin American and Caribbean countries by GDP growth\">Latin American and Caribbean countries</a>,\n",
       " <a href=\"/wiki/List_of_Oceanian_countries_by_GDP_growth\" title=\"List of Oceanian countries by GDP growth\">Oceanian countries</a>,\n",
       " <a href=\"/wiki/List_of_countries_by_GDP_(real)_per_capita_growth_rate\" title=\"List of countries by GDP (real) per capita growth rate\">Per capita</a>,\n",
       " <a href=\"/wiki/List_of_countries_by_GDP_growth_1980%E2%80%932010\" title=\"List of countries by GDP growth 1980–2010\">1980–2010 growth</a>,\n",
       " <a href=\"/wiki/List_of_countries_by_industrial_production_growth_rate\" title=\"List of countries by industrial production growth rate\">Industrial growth</a>,\n",
       " <a href=\"/wiki/List_of_countries_by_GNI_(PPP)_per_capita\" title=\"List of countries by GNI (PPP) per capita\">PPP per capita</a>,\n",
       " <a href=\"/wiki/List_of_countries_by_GNI_(nominal)_per_capita\" title=\"List of countries by GNI (nominal) per capita\">Nominal per capita</a>,\n",
       " <a href=\"/wiki/List_of_African_countries_by_GDP_(PPP)\" title=\"List of African countries by GDP (PPP)\">PPP</a>,\n",
       " <a class=\"mw-selflink selflink\">nominal</a>,\n",
       " <a href=\"/wiki/List_of_Commonwealth_of_Nations_countries_by_GDP_(PPP)\" title=\"List of Commonwealth of Nations countries by GDP (PPP)\">PPP</a>,\n",
       " <a href=\"/wiki/List_of_Commonwealth_of_Nations_countries_by_GDP_(nominal)\" title=\"List of Commonwealth of Nations countries by GDP (nominal)\">nominal</a>,\n",
       " <a href=\"/wiki/List_of_Latin_American_and_Caribbean_countries_by_GDP_(PPP)\" title=\"List of Latin American and Caribbean countries by GDP (PPP)\">PPP</a>,\n",
       " <a href=\"/wiki/List_of_Latin_American_and_Caribbean_countries_by_GDP_(nominal)\" title=\"List of Latin American and Caribbean countries by GDP (nominal)\">nominal</a>,\n",
       " <a href=\"/wiki/List_of_North_American_countries_by_GDP_(PPP)\" title=\"List of North American countries by GDP (PPP)\">PPP</a>,\n",
       " <a href=\"/wiki/List_of_North_American_countries_by_GDP_(nominal)\" title=\"List of North American countries by GDP (nominal)\">nominal</a>,\n",
       " <a href=\"/wiki/List_of_North_American_countries_by_GDP_(nominal)_per_capita\" title=\"List of North American countries by GDP (nominal) per capita\">nominal per capita</a>,\n",
       " <a href=\"/wiki/List_of_South_American_countries_and_dependencies_by_GDP_(PPP)\" title=\"List of South American countries and dependencies by GDP (PPP)\">PPP</a>,\n",
       " <a href=\"/wiki/List_of_Arab_League_countries_by_GDP_(nominal)\" title=\"List of Arab League countries by GDP (nominal)\">nominal and per capita</a>,\n",
       " <a href=\"/wiki/List_of_Arab_League_countries_by_GDP_(PPP)\" title=\"List of Arab League countries by GDP (PPP)\">PPP and per capita</a>,\n",
       " <a href=\"/wiki/List_of_ASEAN_countries_by_GDP\" title=\"List of ASEAN countries by GDP\">ASEAN</a>,\n",
       " <a href=\"/wiki/List_of_ASEAN_country_subdivisions_by_GDP\" title=\"List of ASEAN country subdivisions by GDP\">subdivision</a>,\n",
       " <a href=\"/wiki/List_of_Asian_countries_by_GDP\" title=\"List of Asian countries by GDP\">Asia</a>,\n",
       " <a href=\"/wiki/List_of_Asian_and_Pacific_countries_by_GDP_(PPP)\" title=\"List of Asian and Pacific countries by GDP (PPP)\">PPP</a>,\n",
       " <a href=\"/wiki/Post-Soviet_states#Economy\" title=\"Post-Soviet states\">Former Soviet Republics</a>,\n",
       " <a href=\"/wiki/List_of_sovereign_states_and_dependent_territories_in_Europe_by_GDP_(PPP)\" title=\"List of sovereign states and dependent territories in Europe by GDP (PPP)\">PPP</a>,\n",
       " <a href=\"/wiki/List_of_sovereign_states_in_Europe_by_GDP_(PPP)_per_capita\" title=\"List of sovereign states in Europe by GDP (PPP) per capita\">PPP per capita</a>,\n",
       " <a href=\"/wiki/List_of_sovereign_states_in_Europe_by_GDP_(nominal)\" title=\"List of sovereign states in Europe by GDP (nominal)\">nominal</a>,\n",
       " <a href=\"/wiki/List_of_sovereign_states_in_Europe_by_GDP_(nominal)_per_capita\" title=\"List of sovereign states in Europe by GDP (nominal) per capita\">nominal per capita</a>,\n",
       " <a class=\"mw-redirect\" href=\"/wiki/List_of_Oceanian_countries_by_GDP_(PPP)\" title=\"List of Oceanian countries by GDP (PPP)\">PPP</a>,\n",
       " <a class=\"mw-redirect\" href=\"/wiki/List_of_Oceanian_countries_by_GDP_(PPP)_per_capita\" title=\"List of Oceanian countries by GDP (PPP) per capita\">PPP per capita</a>,\n",
       " <a href=\"/wiki/List_of_Oceanian_countries_by_GDP_(nominal)\" title=\"List of Oceanian countries by GDP (nominal)\">nominal</a>,\n",
       " <a class=\"mw-redirect\" href=\"/wiki/List_of_Oceanian_countries_by_GDP_(nominal)_per_capita\" title=\"List of Oceanian countries by GDP (nominal) per capita\">nominal per capita</a>,\n",
       " <a href=\"/wiki/List_of_counties_of_Albania_by_GDP\" title=\"List of counties of Albania by GDP\">Albania</a>,\n",
       " <a href=\"/wiki/List_of_Argentine_provinces_by_gross_regional_product\" title=\"List of Argentine provinces by gross regional product\">Argentina</a>,\n",
       " <a href=\"/wiki/List_of_Australian_states_and_territories_by_gross_state_product\" title=\"List of Australian states and territories by gross state product\">Australia</a>,\n",
       " <a href=\"/wiki/List_of_Austrian_states_by_GDP\" title=\"List of Austrian states by GDP\">Austria</a>,\n",
       " <a href=\"/wiki/List_of_regions_of_Baltic_States_by_gross_regional_product_(GRP)\" title=\"List of regions of Baltic States by gross regional product (GRP)\">Baltic States</a>,\n",
       " <a href=\"/wiki/Economy_of_Belarus#Gross_Regional_Product_(GRP)\" title=\"Economy of Belarus\">Belarus</a>,\n",
       " <a href=\"/wiki/List_of_Belgian_provinces_by_GDP\" title=\"List of Belgian provinces by GDP\">Belgium</a>,\n",
       " <a href=\"/wiki/List_of_Brazilian_federative_units_by_gross_regional_product\" title=\"List of Brazilian federative units by gross regional product\">Brazil</a>,\n",
       " <a href=\"/wiki/List_of_Bulgarian_provinces_by_GDP\" title=\"List of Bulgarian provinces by GDP\">Bulgaria</a>,\n",
       " <a href=\"/wiki/List_of_Canadian_provinces_and_territories_by_gross_domestic_product\" title=\"List of Canadian provinces and territories by gross domestic product\">Canada</a>,\n",
       " <a href=\"/wiki/Ranked_lists_of_Chilean_regions#By_regional_GDP_(PPP)\" title=\"Ranked lists of Chilean regions\">Chile</a>,\n",
       " <a href=\"/wiki/Ranked_lists_of_Chilean_regions#By_regional_GDP_(PPP)_per_capita\" title=\"Ranked lists of Chilean regions\">per capita</a>,\n",
       " <a href=\"/wiki/List_of_Chinese_administrative_divisions_by_GDP\" title=\"List of Chinese administrative divisions by GDP\">China</a>,\n",
       " <a href=\"/wiki/List_of_Chinese_administrative_divisions_by_GDP_per_capita\" title=\"List of Chinese administrative divisions by GDP per capita\">per capita</a>,\n",
       " <a href=\"/wiki/List_of_Colombian_departments_by_GDP\" title=\"List of Colombian departments by GDP\">Colombia</a>,\n",
       " <a href=\"/wiki/List_of_Croatian_counties_by_GDP\" title=\"List of Croatian counties by GDP\">Croatia</a>,\n",
       " <a href=\"/wiki/List_of_Czech_regions_by_GDP\" title=\"List of Czech regions by GDP\">Czech Republic</a>,\n",
       " <a href=\"/wiki/List_of_Finnish_regions_by_GDP\" title=\"List of Finnish regions by GDP\">Finland</a>,\n",
       " <a href=\"/wiki/List_of_French_regions_and_overseas_collectivities_by_GDP\" title=\"List of French regions and overseas collectivities by GDP\">nominal</a>,\n",
       " <a href=\"/wiki/List_of_French_regions_and_overseas_departments_by_GRP_per_capita\" title=\"List of French regions and overseas departments by GRP per capita\">nominal per capita</a>,\n",
       " <a href=\"/wiki/List_of_German_states_by_GRP\" title=\"List of German states by GRP\">nominal</a>,\n",
       " <a href=\"/wiki/List_of_German_states_by_GRP_per_capita\" title=\"List of German states by GRP per capita\">nominal per capita</a>,\n",
       " <a href=\"/wiki/List_of_Greek_subdivisions_by_GDP\" title=\"List of Greek subdivisions by GDP\">Greece</a>,\n",
       " <a href=\"/wiki/List_of_Hungarian_counties_by_GDP\" title=\"List of Hungarian counties by GDP\">Hungary</a>,\n",
       " <a href=\"/wiki/List_of_Indian_states_and_union_territories_by_GDP\" title=\"List of Indian states and union territories by GDP\">India</a>,\n",
       " <a href=\"/wiki/Comparison_between_Indian_states_and_countries_by_GDP_(PPP)\" title=\"Comparison between Indian states and countries by GDP (PPP)\">PPP</a>,\n",
       " <a href=\"/wiki/List_of_Indian_states_and_union_territories_by_GDP_per_capita\" title=\"List of Indian states and union territories by GDP per capita\">per capita</a>,\n",
       " <a href=\"/wiki/List_of_Indonesian_provinces_by_GDP\" title=\"List of Indonesian provinces by GDP\">Indonesia</a>,\n",
       " <a href=\"/wiki/List_of_Indonesian_provinces_by_GRP_per_capita\" title=\"List of Indonesian provinces by GRP per capita\">per capita</a>,\n",
       " <a href=\"/wiki/List_of_Indonesian_cities_by_GDP\" title=\"List of Indonesian cities by GDP\">Cities</a>,\n",
       " <a href=\"/wiki/List_of_Italian_regions_by_GDP\" title=\"List of Italian regions by GDP\">Italy</a>,\n",
       " <a href=\"/wiki/List_of_Italian_regions_by_GRP_per_capita\" title=\"List of Italian regions by GRP per capita\">nominal per capita</a>,\n",
       " <a href=\"/wiki/List_of_Japanese_prefectures_by_GDP\" title=\"List of Japanese prefectures by GDP\">Japan</a>,\n",
       " <a href=\"/wiki/List_of_Japanese_prefectures_by_GDP_per_capita\" title=\"List of Japanese prefectures by GDP per capita\">per capita</a>,\n",
       " <a href=\"/wiki/List_of_counties_of_Kenya_by_GDP\" title=\"List of counties of Kenya by GDP\">Kenya</a>,\n",
       " <a href=\"/wiki/List_of_Malaysian_states_by_GDP\" title=\"List of Malaysian states by GDP\">Malaysia</a>,\n",
       " <a href=\"/wiki/List_of_Mexican_states_by_GDP\" title=\"List of Mexican states by GDP\">Mexico</a>,\n",
       " <a href=\"/wiki/List_of_Mexican_states_by_GDP_per_capita\" title=\"List of Mexican states by GDP per capita\">per capita</a>,\n",
       " <a href=\"/wiki/List_of_Mongolian_provinces_by_GDP\" title=\"List of Mongolian provinces by GDP\">Mongolia</a>,\n",
       " <a href=\"/wiki/Provinces_of_the_Netherlands#Geography\" title=\"Provinces of the Netherlands\">Netherlands</a>,\n",
       " <a href=\"/wiki/List_of_Nigerian_states_by_GDP\" title=\"List of Nigerian states by GDP\">Nigeria</a>,\n",
       " <a href=\"/wiki/List_of_Nepalese_provinces_by_GDP\" title=\"List of Nepalese provinces by GDP\">Nepal</a>,\n",
       " <a href=\"/wiki/List_of_Norwegian_counties_by_GDP\" title=\"List of Norwegian counties by GDP\">Norway</a>,\n",
       " <a class=\"mw-redirect\" href=\"/wiki/List_of_Pakistani_provinces_by_gross_state_product\" title=\"List of Pakistani provinces by gross state product\">Pakistan</a>,\n",
       " <a href=\"/wiki/List_of_regions_of_Peru_by_GDP\" title=\"List of regions of Peru by GDP\">Peru</a>,\n",
       " <a href=\"/wiki/List_of_regions_of_the_Philippines_by_GDP\" title=\"List of regions of the Philippines by GDP\">Philippines</a>,\n",
       " <a class=\"mw-redirect\" href=\"/wiki/List_of_Polish_voivodeships_by_GRP_per_capita\" title=\"List of Polish voivodeships by GRP per capita\">Poland</a>,\n",
       " <a href=\"/wiki/List_of_Portuguese_administrative_divisions_by_GDP\" title=\"List of Portuguese administrative divisions by GDP\">Portugal</a>,\n",
       " <a href=\"/wiki/List_of_Romanian_counties_by_GDP\" title=\"List of Romanian counties by GDP\">Romania</a>,\n",
       " <a class=\"mw-redirect\" href=\"/wiki/List_of_federal_subjects_of_Russia_by_GRP\" title=\"List of federal subjects of Russia by GRP\">Russia</a>,\n",
       " <a href=\"/wiki/List_of_federal_subjects_of_Russia_by_GDP_per_capita\" title=\"List of federal subjects of Russia by GDP per capita\">per capita</a>,\n",
       " <a href=\"/wiki/List_of_Serbian_regions_by_GDP\" title=\"List of Serbian regions by GDP\">Serbia</a>,\n",
       " <a href=\"/wiki/List_of_Slovak_regions_by_GDP\" title=\"List of Slovak regions by GDP\">Slovakia</a>,\n",
       " <a href=\"/wiki/List_of_South_African_provinces_by_gross_domestic_product\" title=\"List of South African provinces by gross domestic product\">South Africa</a>,\n",
       " <a href=\"/wiki/List_of_South_African_provinces_by_gross_domestic_product_per_capita\" title=\"List of South African provinces by gross domestic product per capita\">per capita</a>,\n",
       " <a href=\"/wiki/List_of_South_Korean_regions_by_GDP\" title=\"List of South Korean regions by GDP\">South Korea</a>,\n",
       " <a href=\"/wiki/List_of_Spanish_autonomous_communities_by_gross_domestic_product\" title=\"List of Spanish autonomous communities by gross domestic product\">Spain</a>,\n",
       " <a href=\"/wiki/List_of_Swedish_counties_by_GDP\" title=\"List of Swedish counties by GDP\">Sweden</a>,\n",
       " <a href=\"/wiki/List_of_Swiss_cantons_by_GRP\" title=\"List of Swiss cantons by GRP\">Switzerland</a>,\n",
       " <a href=\"/wiki/List_of_Ukrainian_subdivisions_by_GRP\" title=\"List of Ukrainian subdivisions by GRP\">Ukraine</a>,\n",
       " <a href=\"/wiki/List_of_regions_of_the_United_Kingdom_by_GRP\" title=\"List of regions of the United Kingdom by GRP\">nominal</a>,\n",
       " <a href=\"/wiki/List_of_regions_of_the_United_Kingdom_by_GRP_per_capita\" title=\"List of regions of the United Kingdom by GRP per capita\">nominal per capita</a>,\n",
       " <a class=\"mw-redirect\" href=\"/wiki/List_of_states_and_territories_of_the_United_States_by_GDP\" title=\"List of states and territories of the United States by GDP\">United States</a>,\n",
       " <a class=\"mw-redirect\" href=\"/wiki/List_of_U.S._states_by_GDP_per_capita\" title=\"List of U.S. states by GDP per capita\">nominal per capita</a>,\n",
       " <a href=\"/wiki/Economy_of_Taiwan#Economy_by_region\" title=\"Economy of Taiwan\">Taiwan</a>,\n",
       " <a href=\"/wiki/List_of_regions_of_Tanzania_by_GDP\" title=\"List of regions of Tanzania by GDP\">Tanzania</a>,\n",
       " <a href=\"/wiki/List_of_Thai_provinces_by_GPP\" title=\"List of Thai provinces by GPP\">Thailand</a>,\n",
       " <a href=\"/wiki/List_of_Turkish_provinces_by_GDP\" title=\"List of Turkish provinces by GDP\">Turkey</a>,\n",
       " <a href=\"/wiki/List_of_Vietnamese_subdivisions_by_GDP\" title=\"List of Vietnamese subdivisions by GDP\">Vietnam</a>,\n",
       " <a href=\"/wiki/List_of_OECD_regions_by_GDP_(PPP)_per_capita\" title=\"List of OECD regions by GDP (PPP) per capita\">OECD</a>,\n",
       " <a href=\"/wiki/List_of_country_subdivisions_by_GDP_over_200_billion_US_dollars\" title=\"List of country subdivisions by GDP over 200 billion US dollars\">nominal</a>,\n",
       " <a href=\"/wiki/Template:Finance_country_lists\" title=\"Template:Finance country lists\">Lists of countries by financial rankings</a>,\n",
       " <a href=\"/wiki/List_of_international_rankings\" title=\"List of international rankings\">List of international rankings</a>,\n",
       " <a href=\"/wiki/Lists_by_country\" title=\"Lists by country\">Lists by country</a>,\n",
       " <a dir=\"ltr\" href=\"https://en.wikipedia.org/w/index.php?title=List_of_African_countries_by_GDP_(nominal)&amp;oldid=1129179162\">https://en.wikipedia.org/w/index.php?title=List_of_African_countries_by_GDP_(nominal)&amp;oldid=1129179162</a>,\n",
       " <a href=\"/wiki/Help:Category\" title=\"Help:Category\">Categories</a>,\n",
       " <a href=\"/wiki/Category:Lists_of_countries_in_Africa\" title=\"Category:Lists of countries in Africa\">Lists of countries in Africa</a>,\n",
       " <a href=\"/wiki/Category:Economy_of_Africa-related_lists\" title=\"Category:Economy of Africa-related lists\">Economy of Africa-related lists</a>,\n",
       " <a href=\"/wiki/Category:Articles_with_short_description\" title=\"Category:Articles with short description\">Articles with short description</a>,\n",
       " <a href=\"/wiki/Category:Short_description_is_different_from_Wikidata\" title=\"Category:Short description is different from Wikidata\">Short description is different from Wikidata</a>,\n",
       " <a accesskey=\"n\" href=\"/wiki/Special:MyTalk\" title=\"Discussion about edits from this IP address [n]\"><span>Talk</span></a>,\n",
       " <a accesskey=\"y\" href=\"/wiki/Special:MyContributions\" title=\"A list of edits made from this IP address [y]\"><span>Contributions</span></a>,\n",
       " <a href=\"/w/index.php?title=Special:CreateAccount&amp;returnto=List+of+African+countries+by+GDP+%28nominal%29\" title=\"You are encouraged to create an account and log in; however, it is not mandatory\"><span>Create account</span></a>,\n",
       " <a accesskey=\"o\" href=\"/w/index.php?title=Special:UserLogin&amp;returnto=List+of+African+countries+by+GDP+%28nominal%29\" title=\"You're encouraged to log in; however, it's not mandatory. [o]\"><span>Log in</span></a>,\n",
       " <a accesskey=\"c\" href=\"/wiki/List_of_African_countries_by_GDP_(nominal)\" title=\"View the content page [c]\"><span>Article</span></a>,\n",
       " <a accesskey=\"t\" href=\"/wiki/Talk:List_of_African_countries_by_GDP_(nominal)\" rel=\"discussion\" title=\"Discuss improvements to the content page [t]\"><span>Talk</span></a>,\n",
       " <a href=\"/wiki/List_of_African_countries_by_GDP_(nominal)\"><span>Read</span></a>,\n",
       " <a accesskey=\"e\" href=\"/w/index.php?title=List_of_African_countries_by_GDP_(nominal)&amp;action=edit\" title=\"Edit this page [e]\"><span>Edit</span></a>,\n",
       " <a accesskey=\"h\" href=\"/w/index.php?title=List_of_African_countries_by_GDP_(nominal)&amp;action=history\" title=\"Past revisions of this page [h]\"><span>View history</span></a>,\n",
       " <a class=\"mw-wiki-logo\" href=\"/wiki/Main_Page\" title=\"Visit the main page\"></a>,\n",
       " <a accesskey=\"z\" href=\"/wiki/Main_Page\" title=\"Visit the main page [z]\"><span>Main page</span></a>,\n",
       " <a href=\"/wiki/Wikipedia:Contents\" title=\"Guides to browsing Wikipedia\"><span>Contents</span></a>,\n",
       " <a href=\"/wiki/Portal:Current_events\" title=\"Articles related to current events\"><span>Current events</span></a>,\n",
       " <a accesskey=\"x\" href=\"/wiki/Special:Random\" title=\"Visit a randomly selected article [x]\"><span>Random article</span></a>,\n",
       " <a href=\"/wiki/Wikipedia:About\" title=\"Learn about Wikipedia and how it works\"><span>About Wikipedia</span></a>,\n",
       " <a href=\"//en.wikipedia.org/wiki/Wikipedia:Contact_us\" title=\"How to contact Wikipedia\"><span>Contact us</span></a>,\n",
       " <a href=\"https://donate.wikimedia.org/wiki/Special:FundraiserRedirector?utm_source=donate&amp;utm_medium=sidebar&amp;utm_campaign=C13_en.wikipedia.org&amp;uselang=en\" title=\"Support us by donating to the Wikimedia Foundation\"><span>Donate</span></a>,\n",
       " <a href=\"/wiki/Help:Contents\" title=\"Guidance on how to use and edit Wikipedia\"><span>Help</span></a>,\n",
       " <a href=\"/wiki/Help:Introduction\" title=\"Learn how to edit Wikipedia\"><span>Learn to edit</span></a>,\n",
       " <a href=\"/wiki/Wikipedia:Community_portal\" title=\"The hub for editors\"><span>Community portal</span></a>,\n",
       " <a accesskey=\"r\" href=\"/wiki/Special:RecentChanges\" title=\"A list of recent changes to Wikipedia [r]\"><span>Recent changes</span></a>,\n",
       " <a href=\"/wiki/Wikipedia:File_upload_wizard\" title=\"Add images or other media for use on Wikipedia\"><span>Upload file</span></a>,\n",
       " <a accesskey=\"j\" href=\"/wiki/Special:WhatLinksHere/List_of_African_countries_by_GDP_(nominal)\" title=\"List of all English Wikipedia pages containing links to this page [j]\"><span>What links here</span></a>,\n",
       " <a accesskey=\"k\" href=\"/wiki/Special:RecentChangesLinked/List_of_African_countries_by_GDP_(nominal)\" rel=\"nofollow\" title=\"Recent changes in pages linked from this page [k]\"><span>Related changes</span></a>,\n",
       " <a accesskey=\"u\" href=\"/wiki/Wikipedia:File_Upload_Wizard\" title=\"Upload files [u]\"><span>Upload file</span></a>,\n",
       " <a accesskey=\"q\" href=\"/wiki/Special:SpecialPages\" title=\"A list of all special pages [q]\"><span>Special pages</span></a>,\n",
       " <a href=\"/w/index.php?title=List_of_African_countries_by_GDP_(nominal)&amp;oldid=1129179162\" title=\"Permanent link to this revision of this page\"><span>Permanent link</span></a>,\n",
       " <a href=\"/w/index.php?title=List_of_African_countries_by_GDP_(nominal)&amp;action=info\" title=\"More information about this page\"><span>Page information</span></a>,\n",
       " <a href=\"/w/index.php?title=Special:CiteThisPage&amp;page=List_of_African_countries_by_GDP_%28nominal%29&amp;id=1129179162&amp;wpFormIdentifier=titleform\" title=\"Information on how to cite this page\"><span>Cite this page</span></a>,\n",
       " <a accesskey=\"g\" href=\"https://www.wikidata.org/wiki/Special:EntityPage/Q3622706\" title=\"Structured data on this page hosted by Wikidata [g]\"><span>Wikidata item</span></a>,\n",
       " <a href=\"/w/index.php?title=Special:DownloadAsPdf&amp;page=List_of_African_countries_by_GDP_%28nominal%29&amp;action=show-download-screen\" title=\"Download this page as a PDF file\"><span>Download as PDF</span></a>,\n",
       " <a accesskey=\"p\" href=\"/w/index.php?title=List_of_African_countries_by_GDP_(nominal)&amp;printable=yes\" title=\"Printable version of this page [p]\"><span>Printable version</span></a>,\n",
       " <a class=\"interlanguage-link-target\" href=\"https://ar.wikipedia.org/wiki/%D9%82%D8%A7%D8%A6%D9%85%D8%A9_%D8%A7%D9%84%D8%AF%D9%88%D9%84_%D8%A7%D9%84%D8%A3%D9%81%D8%B1%D9%8A%D9%82%D9%8A%D8%A9_%D8%AD%D8%B3%D8%A8_%D8%A7%D9%84%D9%86%D8%A7%D8%AA%D8%AC_%D8%A7%D9%84%D9%82%D9%88%D9%85%D9%8A_%D8%A7%D9%84%D8%A5%D8%AC%D9%85%D8%A7%D9%84%D9%8A\" hreflang=\"ar\" lang=\"ar\" title=\"قائمة الدول الأفريقية حسب الناتج القومي الإجمالي – Arabic\"><span>العربية</span></a>,\n",
       " <a class=\"interlanguage-link-target\" href=\"https://bg.wikipedia.org/wiki/%D0%A1%D0%BF%D0%B8%D1%81%D1%8A%D0%BA_%D0%BD%D0%B0_%D0%B4%D1%8A%D1%80%D0%B6%D0%B0%D0%B2%D0%B8%D1%82%D0%B5_%D0%B2_%D0%90%D1%84%D1%80%D0%B8%D0%BA%D0%B0_%D0%BF%D0%BE_%D0%91%D0%92%D0%9F\" hreflang=\"bg\" lang=\"bg\" title=\"Списък на държавите в Африка по БВП – Bulgarian\"><span>Български</span></a>,\n",
       " <a class=\"interlanguage-link-target\" href=\"https://es.wikipedia.org/wiki/Anexo:Pa%C3%ADses_de_%C3%81frica_por_PIB\" hreflang=\"es\" lang=\"es\" title=\"Anexo:Países de África por PIB – Spanish\"><span>Español</span></a>,\n",
       " <a class=\"interlanguage-link-target\" href=\"https://id.wikipedia.org/wiki/Daftar_negara-negara_Afrika_menurut_PDB_(nominal)\" hreflang=\"id\" lang=\"id\" title=\"Daftar negara-negara Afrika menurut PDB (nominal) – Indonesian\"><span>Bahasa Indonesia</span></a>,\n",
       " <a class=\"interlanguage-link-target\" href=\"https://sw.wikipedia.org/wiki/Orodha_ya_nchi_za_Afrika_kulingana_na_pato_la_taifa\" hreflang=\"sw\" lang=\"sw\" title=\"Orodha ya nchi za Afrika kulingana na pato la taifa – Swahili\"><span>Kiswahili</span></a>,\n",
       " <a class=\"interlanguage-link-target\" href=\"https://pt.wikipedia.org/wiki/Lista_de_pa%C3%ADses_da_%C3%81frica_por_PIB\" hreflang=\"pt\" lang=\"pt\" title=\"Lista de países da África por PIB – Portuguese\"><span>Português</span></a>,\n",
       " <a class=\"interlanguage-link-target\" href=\"https://uk.wikipedia.org/wiki/%D0%A1%D0%BF%D0%B8%D1%81%D0%BE%D0%BA_%D0%B0%D1%84%D1%80%D0%B8%D0%BA%D0%B0%D0%BD%D1%81%D1%8C%D0%BA%D0%B8%D1%85_%D0%BA%D1%80%D0%B0%D1%97%D0%BD_%D0%B7%D0%B0_%D0%BD%D0%BE%D0%BC%D1%96%D0%BD%D0%B0%D0%BB%D1%8C%D0%BD%D0%B8%D0%BC_%D0%92%D0%92%D0%9F\" hreflang=\"uk\" lang=\"uk\" title=\"Список африканських країн за номінальним ВВП – Ukrainian\"><span>Українська</span></a>,\n",
       " <a class=\"interlanguage-link-target\" href=\"https://ur.wikipedia.org/wiki/%D9%81%DB%81%D8%B1%D8%B3%D8%AA_%D8%A7%D9%81%D8%B1%DB%8C%D9%82%DB%8C_%D9%85%D9%85%D8%A7%D9%84%DA%A9_%D8%A8%D9%84%D8%AD%D8%A7%D8%B8_%D8%AE%D8%A7%D9%85_%D9%85%D9%84%DA%A9%DB%8C_%D9%BE%DB%8C%D8%AF%D8%A7%D9%88%D8%A7%D8%B1\" hreflang=\"ur\" lang=\"ur\" title=\"فہرست افریقی ممالک بلحاظ خام ملکی پیداوار – Urdu\"><span>اردو</span></a>,\n",
       " <a class=\"wbc-editpage\" href=\"https://www.wikidata.org/wiki/Special:EntityPage/Q3622706#sitelinks-wikipedia\" title=\"Edit interlanguage links\">Edit links</a>,\n",
       " <a href=\"//en.wikipedia.org/wiki/Wikipedia:Text_of_the_Creative_Commons_Attribution-ShareAlike_3.0_Unported_License\" rel=\"license\">Creative Commons Attribution-ShareAlike License 3.0</a>,\n",
       " <a href=\"//creativecommons.org/licenses/by-sa/3.0/\" rel=\"license\" style=\"display:none;\"></a>,\n",
       " <a href=\"//foundation.wikimedia.org/wiki/Terms_of_Use\">Terms of Use</a>,\n",
       " <a href=\"//foundation.wikimedia.org/wiki/Privacy_policy\">Privacy Policy</a>,\n",
       " <a href=\"//www.wikimediafoundation.org/\">Wikimedia Foundation, Inc.</a>,\n",
       " <a href=\"https://foundation.wikimedia.org/wiki/Privacy_policy\">Privacy policy</a>,\n",
       " <a href=\"/wiki/Wikipedia:About\">About Wikipedia</a>,\n",
       " <a href=\"/wiki/Wikipedia:General_disclaimer\">Disclaimers</a>,\n",
       " <a href=\"//en.wikipedia.org/wiki/Wikipedia:Contact_us\">Contact Wikipedia</a>,\n",
       " <a class=\"noprint stopMobileRedirectToggle\" href=\"//en.m.wikipedia.org/w/index.php?title=List_of_African_countries_by_GDP_(nominal)&amp;mobileaction=toggle_view_mobile\">Mobile view</a>,\n",
       " <a href=\"https://developer.wikimedia.org\">Developers</a>,\n",
       " <a href=\"https://stats.wikimedia.org/#/en.wikipedia.org\">Statistics</a>,\n",
       " <a href=\"https://foundation.wikimedia.org/wiki/Cookie_statement\">Cookie statement</a>,\n",
       " <a href=\"https://wikimediafoundation.org/\"><img alt=\"Wikimedia Foundation\" height=\"31\" loading=\"lazy\" src=\"/static/images/footer/wikimedia-button.png\" srcset=\"/static/images/footer/wikimedia-button-1.5x.png 1.5x, /static/images/footer/wikimedia-button-2x.png 2x\" width=\"88\"/></a>,\n",
       " <a href=\"https://www.mediawiki.org/\"><img alt=\"Powered by MediaWiki\" height=\"31\" loading=\"lazy\" src=\"/static/images/footer/poweredby_mediawiki_88x31.png\" srcset=\"/static/images/footer/poweredby_mediawiki_132x47.png 1.5x, /static/images/footer/poweredby_mediawiki_176x62.png 2x\" width=\"88\"/></a>]"
      ]
     },
     "execution_count": 224,
     "metadata": {},
     "output_type": "execute_result"
    }
   ],
   "source": [
    "soup.find_all('a')"
   ]
  },
  {
   "cell_type": "code",
   "execution_count": 225,
   "id": "9aef2649",
   "metadata": {},
   "outputs": [
    {
     "name": "stdout",
     "output_type": "stream",
     "text": [
      "None\n",
      "#mw-head\n",
      "#searchInput\n",
      "/wiki/Gross_domestic_product\n",
      "/wiki/Market_value\n",
      "/wiki/Africa\n",
      "/wiki/International_Monetary_Fund\n",
      "/wiki/Cost_of_living\n",
      "/wiki/Exchange_rate\n",
      "/wiki/Currency\n",
      "#cite_note-1\n",
      "#cite_note-2\n",
      "#cite_note-3\n",
      "#cite_note-4\n",
      "/wiki/National_wealth\n",
      "/wiki/Purchasing_power_parity\n",
      "/wiki/International_trade\n",
      "#cite_note-5\n",
      "#cite_note-6\n",
      "/wiki/File:Africa_GDP_Map_2020_including_Somaliland.svg\n",
      "/wiki/File:Africa_GDP_Map_2020_including_Somaliland.svg\n",
      "/wiki/File:Map_of_Africa_by_2020_nominal_GDP_per_capita_(USD).svg\n",
      "/wiki/File:Map_of_Africa_by_2020_nominal_GDP_per_capita_(USD).svg\n",
      "#cite_note-IMF_OCTOBER_2022-7\n",
      "/wiki/Nigeria\n",
      "/wiki/Egypt\n",
      "/wiki/South_Africa\n",
      "/wiki/Algeria\n",
      "/wiki/Morocco\n",
      "/wiki/Angola\n",
      "/wiki/Kenya\n",
      "/wiki/Ethiopia\n",
      "/wiki/Tanzania\n",
      "/wiki/Ghana\n",
      "/wiki/List_of_countries_by_GDP_(nominal)\n",
      "#cite_note-imf_data_ssa-8\n",
      "#cite_note-imf_data_na-9\n",
      "/wiki/List_of_countries_by_GDP_(nominal)_per_capita\n",
      "#cite_note-imf_data_ssa-8\n",
      "#cite_note-imf_data_na-9\n",
      "/wiki/Nigeria\n",
      "/wiki/Egypt\n",
      "/wiki/South_Africa\n",
      "/wiki/Algeria\n",
      "/wiki/Morocco\n",
      "/wiki/Angola\n",
      "/wiki/Kenya\n",
      "/wiki/Ethiopia\n",
      "/wiki/Tanzania\n",
      "/wiki/Ghana\n",
      "/wiki/Ivory_Coast\n",
      "/wiki/Democratic_Republic_of_the_Congo\n",
      "/wiki/Uganda\n",
      "/wiki/Tunisia\n",
      "/wiki/Cameroon\n",
      "/wiki/Sudan\n",
      "/wiki/Libya\n",
      "/wiki/Zimbabwe\n",
      "/wiki/Senegal\n",
      "/wiki/Zambia\n",
      "/wiki/Gabon\n",
      "/wiki/Guinea\n",
      "/wiki/Mali\n",
      "/wiki/Burkina_Faso\n",
      "/wiki/Botswana\n",
      "/wiki/Mozambique\n",
      "/wiki/Benin\n",
      "/wiki/Equatorial_Guinea\n",
      "/wiki/Madagascar\n",
      "/wiki/Niger\n",
      "/wiki/Republic_of_the_Congo\n",
      "/wiki/Republic_of_the_Congo\n",
      "/wiki/Chad\n",
      "/wiki/Namibia\n",
      "/wiki/Rwanda\n",
      "/wiki/Malawi\n",
      "/wiki/Mauritius\n",
      "/wiki/Mauritania\n",
      "/wiki/Somalia\n",
      "/wiki/Togo\n",
      "/wiki/South_Sudan\n",
      "/wiki/Eswatini\n",
      "/wiki/Sierra_Leone\n",
      "/wiki/Liberia\n",
      "/wiki/Djibouti\n",
      "/wiki/Burundi\n",
      "/wiki/Lesotho\n",
      "/wiki/Central_African_Republic\n",
      "/wiki/Eritrea\n",
      "/wiki/The_Gambia\n",
      "/wiki/Cape_Verde\n",
      "/wiki/Seychelles\n",
      "/wiki/Guinea-Bissau\n",
      "/wiki/Comoros\n",
      "/wiki/S%C3%A3o_Tom%C3%A9_and_Pr%C3%ADncipe\n",
      "/w/index.php?title=List_of_African_countries_by_GDP_(nominal)&action=edit&section=1\n",
      "/wiki/Portal:Africa\n",
      "/wiki/List_of_African_countries_by_GDP_(PPP)\n",
      "/wiki/List_of_African_countries_by_Human_Development_Index\n",
      "/wiki/Economy_of_Africa\n",
      "/w/index.php?title=List_of_African_countries_by_GDP_(nominal)&action=edit&section=2\n",
      "#cite_ref-1\n",
      "http://economics.about.com/cs/money/a/purchasingpower.htm\n",
      "/wiki/About.com\n",
      "/wiki/IAC/InterActiveCorp\n",
      "#cite_ref-2\n",
      "/wiki/Takatoshi_Ito\n",
      "https://www.nber.org/chapters/c8616.pdf\n",
      "/wiki/National_Bureau_of_Economic_Research\n",
      "#cite_ref-3\n",
      "http://www.investopedia.com/ask/answers/199.asp\n",
      "/wiki/Investopedia\n",
      "/wiki/IAC/InterActiveCorp\n",
      "#cite_ref-4\n",
      "http://visafrican.com/gdp-rankings-in-africa/\n",
      "#cite_ref-5\n",
      "http://www.imf.org/external/pubs/ft/fandd/basics/ppp.htm\n",
      "/wiki/Finance_%26_Development\n",
      "/wiki/International_Monetary_Fund\n",
      "#cite_ref-6\n",
      "http://www.imf.org/external/pubs/ft/fandd/basics/gdp.htm\n",
      "/wiki/Finance_%26_Development\n",
      "/wiki/International_Monetary_Fund\n",
      "#cite_ref-IMF_OCTOBER_2022_7-0\n",
      "https://www.imf.org/en/Publications/WEO/weo-database/2022/October/weo-report?c=612,614,638,616,748,618,624,622,626,628,632,636,634,662,611,469,642,643,734,644,646,648,652,656,654,664,666,668,672,674,676,678,682,684,686,688,728,692,694,714,716,722,718,724,726,199,733,732,738,742,744,746,754,698,&s=NGDPD,NGDPDPC,LP,&sy=2022&ey=2022&ssm=0&scsm=1&scc=0&ssd=1&ssc=0&sic=0&sort=country&ds=.&br=1\n",
      "#cite_ref-imf_data_ssa_8-0\n",
      "#cite_ref-imf_data_ssa_8-1\n",
      "https://www.imf.org/en/Publications/WEO/weo-database/2022/April/weo-report?c=614,638,616,748,618,624,622,626,628,632,636,634,662,642,643,734,644,646,648,652,656,654,664,666,668,674,676,678,684,688,728,692,694,714,716,722,718,724,199,733,738,742,746,754,698,&s=NGDPD,NGDPDPC,&sy=2022&ey=2022&ssm=0&scsm=1&scc=0&ssd=1&ssc=0&sic=0&sort=country&ds=.&br=1\n",
      "#cite_ref-imf_data_na_9-0\n",
      "#cite_ref-imf_data_na_9-1\n",
      "https://www.imf.org/en/Publications/WEO/weo-database/2022/April/weo-report?c=612,611,469,672,682,726,732,744,&s=NGDPD,NGDPDPC,&sy=2022&ey=2022&ssm=0&scsm=1&scc=0&ssd=1&ssc=0&sic=0&sort=country&ds=.&br=1\n",
      "/wiki/Template:Africa_topics\n",
      "/wiki/Template_talk:Africa_topics\n",
      "https://en.wikipedia.org/w/index.php?title=Template:Africa_topics&action=edit\n",
      "/wiki/Africa\n",
      "/wiki/Index_of_Africa-related_articles\n",
      "/wiki/History_of_Africa\n",
      "/wiki/Ancient_history_of_Africa\n",
      "/wiki/North_Africa_during_Antiquity\n",
      "/wiki/African_archaeology\n",
      "/wiki/List_of_kingdoms_in_pre-colonial_Africa\n",
      "/wiki/African_empires\n",
      "/wiki/Sahelian_kingdoms\n",
      "/wiki/Indian_Ocean_trade\n",
      "/wiki/Bantu_expansion\n",
      "/wiki/Muslim_conquest_of_the_Maghreb\n",
      "/wiki/European_exploration_of_Africa\n",
      "/wiki/Colonisation_of_Africa\n",
      "/wiki/Slavery_in_Africa\n",
      "/wiki/Atlantic_slave_trade\n",
      "/wiki/Barbary_slave_trade\n",
      "/wiki/Indian_Ocean_slave_trade\n",
      "/wiki/Trans-Saharan_slave_trade\n",
      "/wiki/Scramble_for_Africa\n",
      "/wiki/Decolonisation_of_Africa\n",
      "/wiki/Economic_history_of_Africa\n",
      "/wiki/African_empires\n",
      "/wiki/Talk:History_of_Africa#Historiography_of_Africa\n",
      "/wiki/Military_history_of_Africa\n",
      "/wiki/List_of_conflicts_in_Africa\n",
      "/wiki/History_of_science_and_technology_in_Africa\n",
      "/wiki/History_of_Central_Africa\n",
      "/wiki/History_of_East_Africa\n",
      "/wiki/History_of_North_Africa\n",
      "/wiki/History_of_Southern_Africa\n",
      "/wiki/History_of_West_Africa\n",
      "/wiki/Geography_of_Africa\n",
      "/wiki/List_of_sovereign_states_and_dependent_territories_in_Africa\n",
      "/wiki/List_of_highest_points_of_African_countries\n",
      "/wiki/List_of_impact_craters_in_Africa\n",
      "/wiki/List_of_islands_of_Africa\n",
      "/wiki/Natural_history_of_Africa\n",
      "/wiki/List_of_regions_of_Africa\n",
      "/wiki/Central_Africa\n",
      "/wiki/East_Africa\n",
      "/wiki/North_Africa\n",
      "/wiki/Southern_Africa\n",
      "/wiki/West_Africa\n",
      "/wiki/List_of_rivers_of_Africa\n",
      "/wiki/Africa#Politics\n",
      "/wiki/African_Union\n",
      "/wiki/Elections_in_Africa\n",
      "/wiki/Category:Heads_of_government_in_Africa\n",
      "/wiki/Category:Heads_of_state_in_Africa\n",
      "/wiki/Human_rights_in_Africa\n",
      "/wiki/Freedom_of_religion_in_Africa_by_country\n",
      "/wiki/LGBT_rights_in_Africa\n",
      "/wiki/List_of_linguistic_rights_in_African_constitutions\n",
      "/wiki/Women_in_Africa#More_Women_Rights\n",
      "/wiki/African_feminism\n",
      "/wiki/International_organisations_in_Africa\n",
      "/wiki/Pan-African_Parliament\n",
      "/wiki/Pan-Africanism\n",
      "/wiki/Politics_of_Africa\n",
      "/wiki/Category:Political_parties_in_Africa\n",
      "/wiki/United_States_of_Africa\n",
      "/wiki/Economy_of_Africa\n",
      "/wiki/List_of_central_banks_of_Africa\n",
      "None\n",
      "/wiki/List_of_African_countries_by_GDP_(PPP)\n",
      "/wiki/List_of_African_countries_by_Human_Development_Index\n",
      "/wiki/List_of_Africans_by_net_worth\n",
      "/wiki/Education_in_Africa\n",
      "/wiki/Infrastructure_in_Africa\n",
      "/wiki/Internet_in_Africa\n",
      "/wiki/Natural_resources_of_Africa\n",
      "/wiki/Poverty_in_Africa\n",
      "/wiki/Renewable_energy_in_Africa\n",
      "/wiki/List_of_African_stock_exchanges\n",
      "/wiki/Caste_systems_in_Africa\n",
      "/wiki/Etiquette_in_Africa\n",
      "/wiki/Category:Health_in_Africa\n",
      "/wiki/Languages_of_Africa\n",
      "/wiki/Religion_in_Africa\n",
      "/wiki/Culture_of_Africa\n",
      "/wiki/Architecture_of_Africa\n",
      "/wiki/African_art\n",
      "/wiki/Cinema_of_Africa\n",
      "/wiki/African_cuisine\n",
      "/wiki/African_literature\n",
      "/wiki/Africanfuturism\n",
      "/wiki/Media_of_Africa\n",
      "/wiki/Music_of_Africa\n",
      "/wiki/African_philosophy\n",
      "/wiki/List_of_World_Heritage_Sites_in_Africa\n",
      "/wiki/Sport_in_Africa\n",
      "/wiki/African_Cricket_Association\n",
      "/wiki/African_Games\n",
      "/wiki/Afro-Asian_Games\n",
      "/wiki/Australian_rules_football_in_Africa\n",
      "/wiki/Confederation_of_African_Football\n",
      "/wiki/FIBA_Africa\n",
      "/wiki/Rugby_Africa\n",
      "/wiki/List_of_African_stadiums_by_capacity\n",
      "/wiki/Tour_d%27Afrique\n",
      "/wiki/Demographics_of_Africa\n",
      "/wiki/List_of_African_countries_by_population\n",
      "/wiki/List_of_African_countries_by_population_density\n",
      "/wiki/Emigration_from_Africa\n",
      "/wiki/List_of_ethnic_groups_of_Africa\n",
      "/wiki/HIV/AIDS_in_Africa\n",
      "/wiki/List_of_African_countries_by_life_expectancy\n",
      "/wiki/Urbanization_in_Africa\n",
      "/wiki/Lists_of_cities_in_Africa\n",
      "/wiki/List_of_urban_areas_in_Africa_by_population\n",
      "/wiki/Youth_in_Africa\n",
      "/wiki/Category:Years_in_Africa\n",
      "/wiki/2005_in_Africa\n",
      "/wiki/2006_in_Africa\n",
      "/wiki/2007_in_Africa\n",
      "/w/index.php?title=2008_in_Africa&action=edit&redlink=1\n",
      "/w/index.php?title=2009_in_Africa&action=edit&redlink=1\n",
      "/w/index.php?title=2010_in_Africa&action=edit&redlink=1\n",
      "/w/index.php?title=2011_in_Africa&action=edit&redlink=1\n",
      "/w/index.php?title=2012_in_Africa&action=edit&redlink=1\n",
      "/w/index.php?title=2013_in_Africa&action=edit&redlink=1\n",
      "/w/index.php?title=2014_in_Africa&action=edit&redlink=1\n",
      "/w/index.php?title=2015_in_Africa&action=edit&redlink=1\n",
      "/wiki/2016_in_Africa\n",
      "/w/index.php?title=2017_in_Africa&action=edit&redlink=1\n",
      "/w/index.php?title=2018_in_Africa&action=edit&redlink=1\n",
      "/w/index.php?title=2019_in_Africa&action=edit&redlink=1\n",
      "/w/index.php?title=2020_in_Africa&action=edit&redlink=1\n",
      "/wiki/Outline_of_Africa\n",
      "/wiki/Index_of_Africa-related_articles\n",
      "/wiki/Category:Africa\n",
      "/wiki/Portal:Africa\n",
      "/wiki/Template:GDP_country_lists\n",
      "/wiki/Template_talk:GDP_country_lists\n",
      "https://en.wikipedia.org/w/index.php?title=Template:GDP_country_lists&action=edit\n",
      "/wiki/Gross_domestic_product\n",
      "/wiki/List_of_countries_by_GDP_(nominal)\n",
      "/wiki/List_of_countries_by_GDP_(nominal)_per_capita\n",
      "/wiki/List_of_countries_by_past_and_projected_GDP_(nominal)\n",
      "/wiki/List_of_countries_by_past_and_projected_GDP_(nominal)_per_capita\n",
      "/wiki/List_of_countries_by_GDP_sector_composition\n",
      "/wiki/List_of_countries_by_GDP_(PPP)\n",
      "/wiki/List_of_countries_by_GDP_(PPP)_per_capita\n",
      "/wiki/List_of_regions_by_past_GDP_(PPP)\n",
      "/wiki/List_of_regions_by_past_GDP_(PPP)_per_capita\n",
      "/wiki/List_of_countries_by_past_and_projected_GDP_(PPP)\n",
      "/wiki/List_of_countries_by_past_and_projected_GDP_(PPP)_per_capita\n",
      "/wiki/List_of_countries_by_household_final_consumption_expenditure_per_capita\n",
      "/wiki/List_of_countries_by_GDP_(PPP)_per_person_employed\n",
      "/wiki/List_of_countries_by_largest_historical_GDP\n",
      "/wiki/List_of_countries_by_GDP_(PPP)_in_the_nineteenth_century\n",
      "/wiki/List_of_countries_by_real_GDP_growth_rate\n",
      "/wiki/List_of_African_countries_by_GDP_growth\n",
      "/wiki/List_of_Asian_states_by_GDP_growth\n",
      "/wiki/List_of_European_Union_member_states_by_GDP_growth\n",
      "/wiki/List_of_European_countries_by_GDP_growth\n",
      "/wiki/List_of_Latin_American_and_Caribbean_countries_by_GDP_growth\n",
      "/wiki/List_of_Oceanian_countries_by_GDP_growth\n",
      "/wiki/List_of_countries_by_GDP_(real)_per_capita_growth_rate\n",
      "/wiki/List_of_countries_by_GDP_growth_1980%E2%80%932010\n",
      "/wiki/List_of_countries_by_industrial_production_growth_rate\n",
      "/wiki/List_of_countries_by_GNI_(PPP)_per_capita\n",
      "/wiki/List_of_countries_by_GNI_(nominal)_per_capita\n",
      "/wiki/List_of_African_countries_by_GDP_(PPP)\n",
      "None\n",
      "/wiki/List_of_Commonwealth_of_Nations_countries_by_GDP_(PPP)\n",
      "/wiki/List_of_Commonwealth_of_Nations_countries_by_GDP_(nominal)\n",
      "/wiki/List_of_Latin_American_and_Caribbean_countries_by_GDP_(PPP)\n",
      "/wiki/List_of_Latin_American_and_Caribbean_countries_by_GDP_(nominal)\n",
      "/wiki/List_of_North_American_countries_by_GDP_(PPP)\n",
      "/wiki/List_of_North_American_countries_by_GDP_(nominal)\n",
      "/wiki/List_of_North_American_countries_by_GDP_(nominal)_per_capita\n",
      "/wiki/List_of_South_American_countries_and_dependencies_by_GDP_(PPP)\n",
      "/wiki/List_of_Arab_League_countries_by_GDP_(nominal)\n",
      "/wiki/List_of_Arab_League_countries_by_GDP_(PPP)\n",
      "/wiki/List_of_ASEAN_countries_by_GDP\n",
      "/wiki/List_of_ASEAN_country_subdivisions_by_GDP\n",
      "/wiki/List_of_Asian_countries_by_GDP\n",
      "/wiki/List_of_Asian_and_Pacific_countries_by_GDP_(PPP)\n",
      "/wiki/Post-Soviet_states#Economy\n",
      "/wiki/List_of_sovereign_states_and_dependent_territories_in_Europe_by_GDP_(PPP)\n",
      "/wiki/List_of_sovereign_states_in_Europe_by_GDP_(PPP)_per_capita\n",
      "/wiki/List_of_sovereign_states_in_Europe_by_GDP_(nominal)\n",
      "/wiki/List_of_sovereign_states_in_Europe_by_GDP_(nominal)_per_capita\n",
      "/wiki/List_of_Oceanian_countries_by_GDP_(PPP)\n",
      "/wiki/List_of_Oceanian_countries_by_GDP_(PPP)_per_capita\n",
      "/wiki/List_of_Oceanian_countries_by_GDP_(nominal)\n",
      "/wiki/List_of_Oceanian_countries_by_GDP_(nominal)_per_capita\n",
      "/wiki/List_of_counties_of_Albania_by_GDP\n",
      "/wiki/List_of_Argentine_provinces_by_gross_regional_product\n",
      "/wiki/List_of_Australian_states_and_territories_by_gross_state_product\n",
      "/wiki/List_of_Austrian_states_by_GDP\n",
      "/wiki/List_of_regions_of_Baltic_States_by_gross_regional_product_(GRP)\n",
      "/wiki/Economy_of_Belarus#Gross_Regional_Product_(GRP)\n",
      "/wiki/List_of_Belgian_provinces_by_GDP\n",
      "/wiki/List_of_Brazilian_federative_units_by_gross_regional_product\n",
      "/wiki/List_of_Bulgarian_provinces_by_GDP\n",
      "/wiki/List_of_Canadian_provinces_and_territories_by_gross_domestic_product\n",
      "/wiki/Ranked_lists_of_Chilean_regions#By_regional_GDP_(PPP)\n",
      "/wiki/Ranked_lists_of_Chilean_regions#By_regional_GDP_(PPP)_per_capita\n",
      "/wiki/List_of_Chinese_administrative_divisions_by_GDP\n",
      "/wiki/List_of_Chinese_administrative_divisions_by_GDP_per_capita\n",
      "/wiki/List_of_Colombian_departments_by_GDP\n",
      "/wiki/List_of_Croatian_counties_by_GDP\n",
      "/wiki/List_of_Czech_regions_by_GDP\n",
      "/wiki/List_of_Finnish_regions_by_GDP\n",
      "/wiki/List_of_French_regions_and_overseas_collectivities_by_GDP\n",
      "/wiki/List_of_French_regions_and_overseas_departments_by_GRP_per_capita\n",
      "/wiki/List_of_German_states_by_GRP\n",
      "/wiki/List_of_German_states_by_GRP_per_capita\n",
      "/wiki/List_of_Greek_subdivisions_by_GDP\n",
      "/wiki/List_of_Hungarian_counties_by_GDP\n",
      "/wiki/List_of_Indian_states_and_union_territories_by_GDP\n",
      "/wiki/Comparison_between_Indian_states_and_countries_by_GDP_(PPP)\n",
      "/wiki/List_of_Indian_states_and_union_territories_by_GDP_per_capita\n",
      "/wiki/List_of_Indonesian_provinces_by_GDP\n",
      "/wiki/List_of_Indonesian_provinces_by_GRP_per_capita\n",
      "/wiki/List_of_Indonesian_cities_by_GDP\n",
      "/wiki/List_of_Italian_regions_by_GDP\n",
      "/wiki/List_of_Italian_regions_by_GRP_per_capita\n",
      "/wiki/List_of_Japanese_prefectures_by_GDP\n",
      "/wiki/List_of_Japanese_prefectures_by_GDP_per_capita\n",
      "/wiki/List_of_counties_of_Kenya_by_GDP\n",
      "/wiki/List_of_Malaysian_states_by_GDP\n",
      "/wiki/List_of_Mexican_states_by_GDP\n",
      "/wiki/List_of_Mexican_states_by_GDP_per_capita\n",
      "/wiki/List_of_Mongolian_provinces_by_GDP\n",
      "/wiki/Provinces_of_the_Netherlands#Geography\n",
      "/wiki/List_of_Nigerian_states_by_GDP\n",
      "/wiki/List_of_Nepalese_provinces_by_GDP\n",
      "/wiki/List_of_Norwegian_counties_by_GDP\n",
      "/wiki/List_of_Pakistani_provinces_by_gross_state_product\n",
      "/wiki/List_of_regions_of_Peru_by_GDP\n",
      "/wiki/List_of_regions_of_the_Philippines_by_GDP\n",
      "/wiki/List_of_Polish_voivodeships_by_GRP_per_capita\n",
      "/wiki/List_of_Portuguese_administrative_divisions_by_GDP\n",
      "/wiki/List_of_Romanian_counties_by_GDP\n",
      "/wiki/List_of_federal_subjects_of_Russia_by_GRP\n",
      "/wiki/List_of_federal_subjects_of_Russia_by_GDP_per_capita\n",
      "/wiki/List_of_Serbian_regions_by_GDP\n",
      "/wiki/List_of_Slovak_regions_by_GDP\n",
      "/wiki/List_of_South_African_provinces_by_gross_domestic_product\n",
      "/wiki/List_of_South_African_provinces_by_gross_domestic_product_per_capita\n",
      "/wiki/List_of_South_Korean_regions_by_GDP\n",
      "/wiki/List_of_Spanish_autonomous_communities_by_gross_domestic_product\n",
      "/wiki/List_of_Swedish_counties_by_GDP\n",
      "/wiki/List_of_Swiss_cantons_by_GRP\n",
      "/wiki/List_of_Ukrainian_subdivisions_by_GRP\n",
      "/wiki/List_of_regions_of_the_United_Kingdom_by_GRP\n",
      "/wiki/List_of_regions_of_the_United_Kingdom_by_GRP_per_capita\n",
      "/wiki/List_of_states_and_territories_of_the_United_States_by_GDP\n",
      "/wiki/List_of_U.S._states_by_GDP_per_capita\n",
      "/wiki/Economy_of_Taiwan#Economy_by_region\n",
      "/wiki/List_of_regions_of_Tanzania_by_GDP\n",
      "/wiki/List_of_Thai_provinces_by_GPP\n",
      "/wiki/List_of_Turkish_provinces_by_GDP\n",
      "/wiki/List_of_Vietnamese_subdivisions_by_GDP\n",
      "/wiki/List_of_OECD_regions_by_GDP_(PPP)_per_capita\n",
      "/wiki/List_of_country_subdivisions_by_GDP_over_200_billion_US_dollars\n",
      "/wiki/Template:Finance_country_lists\n",
      "/wiki/List_of_international_rankings\n",
      "/wiki/Lists_by_country\n",
      "https://en.wikipedia.org/w/index.php?title=List_of_African_countries_by_GDP_(nominal)&oldid=1129179162\n",
      "/wiki/Help:Category\n",
      "/wiki/Category:Lists_of_countries_in_Africa\n",
      "/wiki/Category:Economy_of_Africa-related_lists\n",
      "/wiki/Category:Articles_with_short_description\n",
      "/wiki/Category:Short_description_is_different_from_Wikidata\n",
      "/wiki/Special:MyTalk\n",
      "/wiki/Special:MyContributions\n",
      "/w/index.php?title=Special:CreateAccount&returnto=List+of+African+countries+by+GDP+%28nominal%29\n",
      "/w/index.php?title=Special:UserLogin&returnto=List+of+African+countries+by+GDP+%28nominal%29\n",
      "/wiki/List_of_African_countries_by_GDP_(nominal)\n",
      "/wiki/Talk:List_of_African_countries_by_GDP_(nominal)\n",
      "/wiki/List_of_African_countries_by_GDP_(nominal)\n",
      "/w/index.php?title=List_of_African_countries_by_GDP_(nominal)&action=edit\n",
      "/w/index.php?title=List_of_African_countries_by_GDP_(nominal)&action=history\n",
      "/wiki/Main_Page\n",
      "/wiki/Main_Page\n",
      "/wiki/Wikipedia:Contents\n",
      "/wiki/Portal:Current_events\n",
      "/wiki/Special:Random\n",
      "/wiki/Wikipedia:About\n",
      "//en.wikipedia.org/wiki/Wikipedia:Contact_us\n",
      "https://donate.wikimedia.org/wiki/Special:FundraiserRedirector?utm_source=donate&utm_medium=sidebar&utm_campaign=C13_en.wikipedia.org&uselang=en\n",
      "/wiki/Help:Contents\n",
      "/wiki/Help:Introduction\n",
      "/wiki/Wikipedia:Community_portal\n",
      "/wiki/Special:RecentChanges\n",
      "/wiki/Wikipedia:File_upload_wizard\n",
      "/wiki/Special:WhatLinksHere/List_of_African_countries_by_GDP_(nominal)\n",
      "/wiki/Special:RecentChangesLinked/List_of_African_countries_by_GDP_(nominal)\n",
      "/wiki/Wikipedia:File_Upload_Wizard\n",
      "/wiki/Special:SpecialPages\n",
      "/w/index.php?title=List_of_African_countries_by_GDP_(nominal)&oldid=1129179162\n",
      "/w/index.php?title=List_of_African_countries_by_GDP_(nominal)&action=info\n",
      "/w/index.php?title=Special:CiteThisPage&page=List_of_African_countries_by_GDP_%28nominal%29&id=1129179162&wpFormIdentifier=titleform\n",
      "https://www.wikidata.org/wiki/Special:EntityPage/Q3622706\n",
      "/w/index.php?title=Special:DownloadAsPdf&page=List_of_African_countries_by_GDP_%28nominal%29&action=show-download-screen\n",
      "/w/index.php?title=List_of_African_countries_by_GDP_(nominal)&printable=yes\n",
      "https://ar.wikipedia.org/wiki/%D9%82%D8%A7%D8%A6%D9%85%D8%A9_%D8%A7%D9%84%D8%AF%D9%88%D9%84_%D8%A7%D9%84%D8%A3%D9%81%D8%B1%D9%8A%D9%82%D9%8A%D8%A9_%D8%AD%D8%B3%D8%A8_%D8%A7%D9%84%D9%86%D8%A7%D8%AA%D8%AC_%D8%A7%D9%84%D9%82%D9%88%D9%85%D9%8A_%D8%A7%D9%84%D8%A5%D8%AC%D9%85%D8%A7%D9%84%D9%8A\n",
      "https://bg.wikipedia.org/wiki/%D0%A1%D0%BF%D0%B8%D1%81%D1%8A%D0%BA_%D0%BD%D0%B0_%D0%B4%D1%8A%D1%80%D0%B6%D0%B0%D0%B2%D0%B8%D1%82%D0%B5_%D0%B2_%D0%90%D1%84%D1%80%D0%B8%D0%BA%D0%B0_%D0%BF%D0%BE_%D0%91%D0%92%D0%9F\n",
      "https://es.wikipedia.org/wiki/Anexo:Pa%C3%ADses_de_%C3%81frica_por_PIB\n",
      "https://id.wikipedia.org/wiki/Daftar_negara-negara_Afrika_menurut_PDB_(nominal)\n",
      "https://sw.wikipedia.org/wiki/Orodha_ya_nchi_za_Afrika_kulingana_na_pato_la_taifa\n",
      "https://pt.wikipedia.org/wiki/Lista_de_pa%C3%ADses_da_%C3%81frica_por_PIB\n",
      "https://uk.wikipedia.org/wiki/%D0%A1%D0%BF%D0%B8%D1%81%D0%BE%D0%BA_%D0%B0%D1%84%D1%80%D0%B8%D0%BA%D0%B0%D0%BD%D1%81%D1%8C%D0%BA%D0%B8%D1%85_%D0%BA%D1%80%D0%B0%D1%97%D0%BD_%D0%B7%D0%B0_%D0%BD%D0%BE%D0%BC%D1%96%D0%BD%D0%B0%D0%BB%D1%8C%D0%BD%D0%B8%D0%BC_%D0%92%D0%92%D0%9F\n",
      "https://ur.wikipedia.org/wiki/%D9%81%DB%81%D8%B1%D8%B3%D8%AA_%D8%A7%D9%81%D8%B1%DB%8C%D9%82%DB%8C_%D9%85%D9%85%D8%A7%D9%84%DA%A9_%D8%A8%D9%84%D8%AD%D8%A7%D8%B8_%D8%AE%D8%A7%D9%85_%D9%85%D9%84%DA%A9%DB%8C_%D9%BE%DB%8C%D8%AF%D8%A7%D9%88%D8%A7%D8%B1\n",
      "https://www.wikidata.org/wiki/Special:EntityPage/Q3622706#sitelinks-wikipedia\n",
      "//en.wikipedia.org/wiki/Wikipedia:Text_of_the_Creative_Commons_Attribution-ShareAlike_3.0_Unported_License\n",
      "//creativecommons.org/licenses/by-sa/3.0/\n",
      "//foundation.wikimedia.org/wiki/Terms_of_Use\n",
      "//foundation.wikimedia.org/wiki/Privacy_policy\n",
      "//www.wikimediafoundation.org/\n",
      "https://foundation.wikimedia.org/wiki/Privacy_policy\n",
      "/wiki/Wikipedia:About\n",
      "/wiki/Wikipedia:General_disclaimer\n",
      "//en.wikipedia.org/wiki/Wikipedia:Contact_us\n",
      "//en.m.wikipedia.org/w/index.php?title=List_of_African_countries_by_GDP_(nominal)&mobileaction=toggle_view_mobile\n",
      "https://developer.wikimedia.org\n",
      "https://stats.wikimedia.org/#/en.wikipedia.org\n",
      "https://foundation.wikimedia.org/wiki/Cookie_statement\n",
      "https://wikimediafoundation.org/\n",
      "https://www.mediawiki.org/\n"
     ]
    }
   ],
   "source": [
    "all_links = soup.find_all(\"a\")\n",
    "for link in all_links:\n",
    "    print(link.get(\"href\"))"
   ]
  },
  {
   "cell_type": "code",
   "execution_count": 226,
   "id": "e3eaeae1",
   "metadata": {},
   "outputs": [
    {
     "name": "stdout",
     "output_type": "stream",
     "text": [
      "[<tr>\n",
      "<th>Rank\n",
      "</th>\n",
      "<th>Country\n",
      "</th>\n",
      "<th><a href=\"/wiki/List_of_countries_by_GDP_(nominal)\" title=\"List of countries by GDP (nominal)\">Nominal GDP</a><br/>(Billion US$)<sup class=\"reference\" id=\"cite_ref-imf_data_ssa_8-0\"><a href=\"#cite_note-imf_data_ssa-8\">[8]</a></sup><sup class=\"reference\" id=\"cite_ref-imf_data_na_9-0\"><a href=\"#cite_note-imf_data_na-9\">[9]</a></sup>\n",
      "</th>\n",
      "<th><a href=\"/wiki/List_of_countries_by_GDP_(nominal)_per_capita\" title=\"List of countries by GDP (nominal) per capita\">Per Capita</a><br/>(US$)<sup class=\"reference\" id=\"cite_ref-imf_data_ssa_8-1\"><a href=\"#cite_note-imf_data_ssa-8\">[8]</a></sup><sup class=\"reference\" id=\"cite_ref-imf_data_na_9-1\"><a href=\"#cite_note-imf_data_na-9\">[9]</a></sup>\n",
      "</th></tr>, <tr>\n",
      "<td align=\"center\">1\n",
      "</td>\n",
      "<td align=\"left\"><span class=\"flagicon\"><img alt=\"\" class=\"thumbborder\" data-file-height=\"600\" data-file-width=\"1200\" decoding=\"async\" height=\"12\" src=\"//upload.wikimedia.org/wikipedia/commons/thumb/7/79/Flag_of_Nigeria.svg/23px-Flag_of_Nigeria.svg.png\" srcset=\"//upload.wikimedia.org/wikipedia/commons/thumb/7/79/Flag_of_Nigeria.svg/35px-Flag_of_Nigeria.svg.png 1.5x, //upload.wikimedia.org/wikipedia/commons/thumb/7/79/Flag_of_Nigeria.svg/46px-Flag_of_Nigeria.svg.png 2x\" width=\"23\"/> </span><a href=\"/wiki/Nigeria\" title=\"Nigeria\">Nigeria</a>\n",
      "</td>\n",
      "<td>504.203\n",
      "</td>\n",
      "<td>2,326.230\n",
      "</td></tr>, <tr>\n",
      "<td align=\"center\">2\n",
      "</td>\n",
      "<td align=\"left\"><span class=\"flagicon\"><img alt=\"\" class=\"thumbborder\" data-file-height=\"600\" data-file-width=\"900\" decoding=\"async\" height=\"15\" src=\"//upload.wikimedia.org/wikipedia/commons/thumb/f/fe/Flag_of_Egypt.svg/23px-Flag_of_Egypt.svg.png\" srcset=\"//upload.wikimedia.org/wikipedia/commons/thumb/f/fe/Flag_of_Egypt.svg/35px-Flag_of_Egypt.svg.png 1.5x, //upload.wikimedia.org/wikipedia/commons/thumb/f/fe/Flag_of_Egypt.svg/45px-Flag_of_Egypt.svg.png 2x\" width=\"23\"/> </span><a href=\"/wiki/Egypt\" title=\"Egypt\">Egypt</a>\n",
      "</td>\n",
      "<td>469.094\n",
      "</td>\n",
      "<td>4,504.369\n",
      "</td></tr>, <tr>\n",
      "<td align=\"center\">3\n",
      "</td>\n",
      "<td align=\"left\"><span class=\"flagicon\"><img alt=\"\" class=\"thumbborder\" data-file-height=\"600\" data-file-width=\"900\" decoding=\"async\" height=\"15\" src=\"//upload.wikimedia.org/wikipedia/commons/thumb/a/af/Flag_of_South_Africa.svg/23px-Flag_of_South_Africa.svg.png\" srcset=\"//upload.wikimedia.org/wikipedia/commons/thumb/a/af/Flag_of_South_Africa.svg/35px-Flag_of_South_Africa.svg.png 1.5x, //upload.wikimedia.org/wikipedia/commons/thumb/a/af/Flag_of_South_Africa.svg/45px-Flag_of_South_Africa.svg.png 2x\" width=\"23\"/> </span><a href=\"/wiki/South_Africa\" title=\"South Africa\">South Africa</a>\n",
      "</td>\n",
      "<td>411.480\n",
      "</td>\n",
      "<td>6,738.926\n",
      "</td></tr>, <tr>\n",
      "<td align=\"center\">4\n",
      "</td>\n",
      "<td align=\"left\"><span class=\"flagicon\"><img alt=\"\" class=\"thumbborder\" data-file-height=\"600\" data-file-width=\"900\" decoding=\"async\" height=\"15\" src=\"//upload.wikimedia.org/wikipedia/commons/thumb/7/77/Flag_of_Algeria.svg/23px-Flag_of_Algeria.svg.png\" srcset=\"//upload.wikimedia.org/wikipedia/commons/thumb/7/77/Flag_of_Algeria.svg/35px-Flag_of_Algeria.svg.png 1.5x, //upload.wikimedia.org/wikipedia/commons/thumb/7/77/Flag_of_Algeria.svg/45px-Flag_of_Algeria.svg.png 2x\" width=\"23\"/> </span><a href=\"/wiki/Algeria\" title=\"Algeria\">Algeria</a>\n",
      "</td>\n",
      "<td>187.155\n",
      "</td>\n",
      "<td>4,151.437\n",
      "</td></tr>, <tr>\n",
      "<td align=\"center\">5\n",
      "</td>\n",
      "<td align=\"left\"><span class=\"flagicon\"><img alt=\"\" class=\"thumbborder\" data-file-height=\"600\" data-file-width=\"900\" decoding=\"async\" height=\"15\" src=\"//upload.wikimedia.org/wikipedia/commons/thumb/2/2c/Flag_of_Morocco.svg/23px-Flag_of_Morocco.svg.png\" srcset=\"//upload.wikimedia.org/wikipedia/commons/thumb/2/2c/Flag_of_Morocco.svg/35px-Flag_of_Morocco.svg.png 1.5x, //upload.wikimedia.org/wikipedia/commons/thumb/2/2c/Flag_of_Morocco.svg/45px-Flag_of_Morocco.svg.png 2x\" width=\"23\"/> </span><a href=\"/wiki/Morocco\" title=\"Morocco\">Morocco</a>\n",
      "</td>\n",
      "<td>142.874\n",
      "</td>\n",
      "<td>3,896.214\n",
      "</td></tr>, <tr>\n",
      "<td align=\"center\">6\n",
      "</td>\n",
      "<td align=\"left\"><span class=\"flagicon\"><img alt=\"\" class=\"thumbborder\" data-file-height=\"600\" data-file-width=\"900\" decoding=\"async\" height=\"15\" src=\"//upload.wikimedia.org/wikipedia/commons/thumb/9/9d/Flag_of_Angola.svg/23px-Flag_of_Angola.svg.png\" srcset=\"//upload.wikimedia.org/wikipedia/commons/thumb/9/9d/Flag_of_Angola.svg/35px-Flag_of_Angola.svg.png 1.5x, //upload.wikimedia.org/wikipedia/commons/thumb/9/9d/Flag_of_Angola.svg/45px-Flag_of_Angola.svg.png 2x\" width=\"23\"/> </span><a href=\"/wiki/Angola\" title=\"Angola\">Angola</a>\n",
      "</td>\n",
      "<td>124.794\n",
      "</td>\n",
      "<td>3,790.704\n",
      "</td></tr>, <tr>\n",
      "<td align=\"center\">7\n",
      "</td>\n",
      "<td align=\"left\"><span class=\"flagicon\"><img alt=\"\" class=\"thumbborder\" data-file-height=\"600\" data-file-width=\"900\" decoding=\"async\" height=\"15\" src=\"//upload.wikimedia.org/wikipedia/commons/thumb/4/49/Flag_of_Kenya.svg/23px-Flag_of_Kenya.svg.png\" srcset=\"//upload.wikimedia.org/wikipedia/commons/thumb/4/49/Flag_of_Kenya.svg/35px-Flag_of_Kenya.svg.png 1.5x, //upload.wikimedia.org/wikipedia/commons/thumb/4/49/Flag_of_Kenya.svg/45px-Flag_of_Kenya.svg.png 2x\" width=\"23\"/> </span><a href=\"/wiki/Kenya\" title=\"Kenya\">Kenya</a>\n",
      "</td>\n",
      "<td>114.858\n",
      "</td>\n",
      "<td>2,255.480\n",
      "</td></tr>, <tr>\n",
      "<td align=\"center\">8\n",
      "</td>\n",
      "<td align=\"left\"><span class=\"flagicon\"><img alt=\"\" class=\"thumbborder\" data-file-height=\"600\" data-file-width=\"1200\" decoding=\"async\" height=\"12\" src=\"//upload.wikimedia.org/wikipedia/commons/thumb/7/71/Flag_of_Ethiopia.svg/23px-Flag_of_Ethiopia.svg.png\" srcset=\"//upload.wikimedia.org/wikipedia/commons/thumb/7/71/Flag_of_Ethiopia.svg/35px-Flag_of_Ethiopia.svg.png 1.5x, //upload.wikimedia.org/wikipedia/commons/thumb/7/71/Flag_of_Ethiopia.svg/46px-Flag_of_Ethiopia.svg.png 2x\" width=\"23\"/> </span><a href=\"/wiki/Ethiopia\" title=\"Ethiopia\">Ethiopia</a>\n",
      "</td>\n",
      "<td>111.181\n",
      "</td>\n",
      "<td>1,097.584\n",
      "</td></tr>, <tr>\n",
      "<td align=\"center\">9\n",
      "</td>\n",
      "<td align=\"left\"><span class=\"flagicon\"><img alt=\"\" class=\"thumbborder\" data-file-height=\"600\" data-file-width=\"900\" decoding=\"async\" height=\"15\" src=\"//upload.wikimedia.org/wikipedia/commons/thumb/3/38/Flag_of_Tanzania.svg/23px-Flag_of_Tanzania.svg.png\" srcset=\"//upload.wikimedia.org/wikipedia/commons/thumb/3/38/Flag_of_Tanzania.svg/35px-Flag_of_Tanzania.svg.png 1.5x, //upload.wikimedia.org/wikipedia/commons/thumb/3/38/Flag_of_Tanzania.svg/45px-Flag_of_Tanzania.svg.png 2x\" width=\"23\"/> </span><a href=\"/wiki/Tanzania\" title=\"Tanzania\">Tanzania</a>\n",
      "</td>\n",
      "<td>76.582\n",
      "</td>\n",
      "<td>1,245.040\n",
      "</td></tr>]\n"
     ]
    }
   ],
   "source": [
    "# Print the first 10 rows for sanity check\n",
    "rows = soup.find_all('tr')\n",
    "print(rows[:10])"
   ]
  },
  {
   "cell_type": "code",
   "execution_count": 227,
   "id": "8a811968",
   "metadata": {},
   "outputs": [
    {
     "name": "stdout",
     "output_type": "stream",
     "text": [
      "[<td class=\"navbox-abovebelow hlist\" colspan=\"2\"><div>\n",
      "<ul><li><a href=\"/wiki/Template:Finance_country_lists\" title=\"Template:Finance country lists\">Lists of countries by financial rankings</a></li></ul>\n",
      "<div class=\"hlist\" style=\"text-align:center\">\n",
      "<ul><li><a href=\"/wiki/List_of_international_rankings\" title=\"List of international rankings\">List of international rankings</a></li>\n",
      "<li><a href=\"/wiki/Lists_by_country\" title=\"Lists by country\">Lists by country</a></li></ul>\n",
      "</div>\n",
      "</div></td>]\n"
     ]
    },
    {
     "data": {
      "text/plain": [
       "bs4.element.ResultSet"
      ]
     },
     "execution_count": 227,
     "metadata": {},
     "output_type": "execute_result"
    }
   ],
   "source": [
    "for row in rows:\n",
    "    row_td = row.find_all('td')\n",
    "print(row_td)\n",
    "type(row_td)"
   ]
  },
  {
   "cell_type": "code",
   "execution_count": 228,
   "id": "7f491bcb",
   "metadata": {},
   "outputs": [
    {
     "name": "stdout",
     "output_type": "stream",
     "text": [
      "[\n",
      "Lists of countries by financial rankings\n",
      "\n",
      "List of international rankings\n",
      "Lists by country\n",
      "\n",
      "]\n"
     ]
    }
   ],
   "source": [
    "str_cells = str(row_td)\n",
    "cleantext = BeautifulSoup(str_cells, \"lxml\").get_text()\n",
    "print(cleantext)"
   ]
  },
  {
   "cell_type": "code",
   "execution_count": 229,
   "id": "1158d472",
   "metadata": {},
   "outputs": [
    {
     "name": "stdout",
     "output_type": "stream",
     "text": [
      "[\n",
      "Lists of countries by financial rankings\n",
      "\n",
      "List of international rankings\n",
      "Lists by country\n",
      "\n",
      "]\n"
     ]
    },
    {
     "data": {
      "text/plain": [
       "str"
      ]
     },
     "execution_count": 229,
     "metadata": {},
     "output_type": "execute_result"
    }
   ],
   "source": [
    "import re\n",
    "\n",
    "list_rows = []\n",
    "for row in rows:\n",
    "    cells = row.find_all('td')\n",
    "    str_cells = str(cells)\n",
    "    clean = re.compile('<.*?>')\n",
    "    clean2 = (re.sub(clean, '',str_cells))\n",
    "    list_rows.append(clean2)\n",
    "print(clean2)\n",
    "type(clean2)"
   ]
  },
  {
   "cell_type": "code",
   "execution_count": 230,
   "id": "dcf5a2f8",
   "metadata": {},
   "outputs": [
    {
     "data": {
      "text/html": [
       "<div>\n",
       "<style scoped>\n",
       "    .dataframe tbody tr th:only-of-type {\n",
       "        vertical-align: middle;\n",
       "    }\n",
       "\n",
       "    .dataframe tbody tr th {\n",
       "        vertical-align: top;\n",
       "    }\n",
       "\n",
       "    .dataframe thead th {\n",
       "        text-align: right;\n",
       "    }\n",
       "</style>\n",
       "<table border=\"1\" class=\"dataframe\">\n",
       "  <thead>\n",
       "    <tr style=\"text-align: right;\">\n",
       "      <th></th>\n",
       "      <th>0</th>\n",
       "    </tr>\n",
       "  </thead>\n",
       "  <tbody>\n",
       "    <tr>\n",
       "      <th>0</th>\n",
       "      <td>[]</td>\n",
       "    </tr>\n",
       "    <tr>\n",
       "      <th>1</th>\n",
       "      <td>[1\\n,  Nigeria\\n, 504.203\\n, 2,326.230\\n]</td>\n",
       "    </tr>\n",
       "    <tr>\n",
       "      <th>2</th>\n",
       "      <td>[2\\n,  Egypt\\n, 469.094\\n, 4,504.369\\n]</td>\n",
       "    </tr>\n",
       "    <tr>\n",
       "      <th>3</th>\n",
       "      <td>[3\\n,  South Africa\\n, 411.480\\n, 6,738.926\\n]</td>\n",
       "    </tr>\n",
       "    <tr>\n",
       "      <th>4</th>\n",
       "      <td>[4\\n,  Algeria\\n, 187.155\\n, 4,151.437\\n]</td>\n",
       "    </tr>\n",
       "    <tr>\n",
       "      <th>5</th>\n",
       "      <td>[5\\n,  Morocco\\n, 142.874\\n, 3,896.214\\n]</td>\n",
       "    </tr>\n",
       "    <tr>\n",
       "      <th>6</th>\n",
       "      <td>[6\\n,  Angola\\n, 124.794\\n, 3,790.704\\n]</td>\n",
       "    </tr>\n",
       "    <tr>\n",
       "      <th>7</th>\n",
       "      <td>[7\\n,  Kenya\\n, 114.858\\n, 2,255.480\\n]</td>\n",
       "    </tr>\n",
       "    <tr>\n",
       "      <th>8</th>\n",
       "      <td>[8\\n,  Ethiopia\\n, 111.181\\n, 1,097.584\\n]</td>\n",
       "    </tr>\n",
       "    <tr>\n",
       "      <th>9</th>\n",
       "      <td>[9\\n,  Tanzania\\n, 76.582\\n, 1,245.040\\n]</td>\n",
       "    </tr>\n",
       "  </tbody>\n",
       "</table>\n",
       "</div>"
      ],
      "text/plain": [
       "                                                0\n",
       "0                                              []\n",
       "1       [1\\n,  Nigeria\\n, 504.203\\n, 2,326.230\\n]\n",
       "2         [2\\n,  Egypt\\n, 469.094\\n, 4,504.369\\n]\n",
       "3  [3\\n,  South Africa\\n, 411.480\\n, 6,738.926\\n]\n",
       "4       [4\\n,  Algeria\\n, 187.155\\n, 4,151.437\\n]\n",
       "5       [5\\n,  Morocco\\n, 142.874\\n, 3,896.214\\n]\n",
       "6        [6\\n,  Angola\\n, 124.794\\n, 3,790.704\\n]\n",
       "7         [7\\n,  Kenya\\n, 114.858\\n, 2,255.480\\n]\n",
       "8      [8\\n,  Ethiopia\\n, 111.181\\n, 1,097.584\\n]\n",
       "9       [9\\n,  Tanzania\\n, 76.582\\n, 1,245.040\\n]"
      ]
     },
     "execution_count": 230,
     "metadata": {},
     "output_type": "execute_result"
    }
   ],
   "source": [
    "df = pd.DataFrame(list_rows)\n",
    "df.head(10)"
   ]
  },
  {
   "cell_type": "code",
   "execution_count": 231,
   "id": "56eeb8e3",
   "metadata": {},
   "outputs": [],
   "source": [
    "df.to_csv(r\"C:\\Users\\kelvin\\OneDrive\\Desktop\\imported _data\\data_split1.csv\")"
   ]
  },
  {
   "cell_type": "code",
   "execution_count": 232,
   "id": "a669d3ab",
   "metadata": {},
   "outputs": [
    {
     "data": {
      "text/html": [
       "<div>\n",
       "<style scoped>\n",
       "    .dataframe tbody tr th:only-of-type {\n",
       "        vertical-align: middle;\n",
       "    }\n",
       "\n",
       "    .dataframe tbody tr th {\n",
       "        vertical-align: top;\n",
       "    }\n",
       "\n",
       "    .dataframe thead th {\n",
       "        text-align: right;\n",
       "    }\n",
       "</style>\n",
       "<table border=\"1\" class=\"dataframe\">\n",
       "  <thead>\n",
       "    <tr style=\"text-align: right;\">\n",
       "      <th></th>\n",
       "      <th>0</th>\n",
       "      <th>1</th>\n",
       "      <th>2</th>\n",
       "      <th>3</th>\n",
       "      <th>4</th>\n",
       "      <th>5</th>\n",
       "    </tr>\n",
       "  </thead>\n",
       "  <tbody>\n",
       "    <tr>\n",
       "      <th>0</th>\n",
       "      <td>[]</td>\n",
       "      <td>None</td>\n",
       "      <td>None</td>\n",
       "      <td>None</td>\n",
       "      <td>None</td>\n",
       "      <td>None</td>\n",
       "    </tr>\n",
       "    <tr>\n",
       "      <th>1</th>\n",
       "      <td>[1\\n</td>\n",
       "      <td>Nigeria\\n</td>\n",
       "      <td>504.203\\n</td>\n",
       "      <td>2</td>\n",
       "      <td>326.230\\n]</td>\n",
       "      <td>None</td>\n",
       "    </tr>\n",
       "    <tr>\n",
       "      <th>2</th>\n",
       "      <td>[2\\n</td>\n",
       "      <td>Egypt\\n</td>\n",
       "      <td>469.094\\n</td>\n",
       "      <td>4</td>\n",
       "      <td>504.369\\n]</td>\n",
       "      <td>None</td>\n",
       "    </tr>\n",
       "    <tr>\n",
       "      <th>3</th>\n",
       "      <td>[3\\n</td>\n",
       "      <td>South Africa\\n</td>\n",
       "      <td>411.480\\n</td>\n",
       "      <td>6</td>\n",
       "      <td>738.926\\n]</td>\n",
       "      <td>None</td>\n",
       "    </tr>\n",
       "    <tr>\n",
       "      <th>4</th>\n",
       "      <td>[4\\n</td>\n",
       "      <td>Algeria\\n</td>\n",
       "      <td>187.155\\n</td>\n",
       "      <td>4</td>\n",
       "      <td>151.437\\n]</td>\n",
       "      <td>None</td>\n",
       "    </tr>\n",
       "    <tr>\n",
       "      <th>5</th>\n",
       "      <td>[5\\n</td>\n",
       "      <td>Morocco\\n</td>\n",
       "      <td>142.874\\n</td>\n",
       "      <td>3</td>\n",
       "      <td>896.214\\n]</td>\n",
       "      <td>None</td>\n",
       "    </tr>\n",
       "    <tr>\n",
       "      <th>6</th>\n",
       "      <td>[6\\n</td>\n",
       "      <td>Angola\\n</td>\n",
       "      <td>124.794\\n</td>\n",
       "      <td>3</td>\n",
       "      <td>790.704\\n]</td>\n",
       "      <td>None</td>\n",
       "    </tr>\n",
       "    <tr>\n",
       "      <th>7</th>\n",
       "      <td>[7\\n</td>\n",
       "      <td>Kenya\\n</td>\n",
       "      <td>114.858\\n</td>\n",
       "      <td>2</td>\n",
       "      <td>255.480\\n]</td>\n",
       "      <td>None</td>\n",
       "    </tr>\n",
       "    <tr>\n",
       "      <th>8</th>\n",
       "      <td>[8\\n</td>\n",
       "      <td>Ethiopia\\n</td>\n",
       "      <td>111.181\\n</td>\n",
       "      <td>1</td>\n",
       "      <td>097.584\\n]</td>\n",
       "      <td>None</td>\n",
       "    </tr>\n",
       "    <tr>\n",
       "      <th>9</th>\n",
       "      <td>[9\\n</td>\n",
       "      <td>Tanzania\\n</td>\n",
       "      <td>76.582\\n</td>\n",
       "      <td>1</td>\n",
       "      <td>245.040\\n]</td>\n",
       "      <td>None</td>\n",
       "    </tr>\n",
       "  </tbody>\n",
       "</table>\n",
       "</div>"
      ],
      "text/plain": [
       "      0                 1           2     3           4     5\n",
       "0    []              None        None  None        None  None\n",
       "1  [1\\n         Nigeria\\n   504.203\\n     2  326.230\\n]  None\n",
       "2  [2\\n           Egypt\\n   469.094\\n     4  504.369\\n]  None\n",
       "3  [3\\n    South Africa\\n   411.480\\n     6  738.926\\n]  None\n",
       "4  [4\\n         Algeria\\n   187.155\\n     4  151.437\\n]  None\n",
       "5  [5\\n         Morocco\\n   142.874\\n     3  896.214\\n]  None\n",
       "6  [6\\n          Angola\\n   124.794\\n     3  790.704\\n]  None\n",
       "7  [7\\n           Kenya\\n   114.858\\n     2  255.480\\n]  None\n",
       "8  [8\\n        Ethiopia\\n   111.181\\n     1  097.584\\n]  None\n",
       "9  [9\\n        Tanzania\\n    76.582\\n     1  245.040\\n]  None"
      ]
     },
     "execution_count": 232,
     "metadata": {},
     "output_type": "execute_result"
    }
   ],
   "source": [
    "df1 = df[0].str.split(',', expand=True)\n",
    "df1.head(10)"
   ]
  },
  {
   "cell_type": "code",
   "execution_count": null,
   "id": "e39e100f",
   "metadata": {},
   "outputs": [],
   "source": [
    "# df2 = df1.iloc[0:55,:5]"
   ]
  },
  {
   "cell_type": "code",
   "execution_count": 276,
   "id": "6a87bc91",
   "metadata": {},
   "outputs": [
    {
     "data": {
      "text/html": [
       "<div>\n",
       "<style scoped>\n",
       "    .dataframe tbody tr th:only-of-type {\n",
       "        vertical-align: middle;\n",
       "    }\n",
       "\n",
       "    .dataframe tbody tr th {\n",
       "        vertical-align: top;\n",
       "    }\n",
       "\n",
       "    .dataframe thead th {\n",
       "        text-align: right;\n",
       "    }\n",
       "</style>\n",
       "<table border=\"1\" class=\"dataframe\">\n",
       "  <thead>\n",
       "    <tr style=\"text-align: right;\">\n",
       "      <th></th>\n",
       "      <th>Ranking</th>\n",
       "      <th>PCI</th>\n",
       "    </tr>\n",
       "  </thead>\n",
       "  <tbody>\n",
       "    <tr>\n",
       "      <th>1</th>\n",
       "      <td>2</td>\n",
       "      <td>326.230</td>\n",
       "    </tr>\n",
       "    <tr>\n",
       "      <th>2</th>\n",
       "      <td>4</td>\n",
       "      <td>504.369</td>\n",
       "    </tr>\n",
       "    <tr>\n",
       "      <th>3</th>\n",
       "      <td>6</td>\n",
       "      <td>738.926</td>\n",
       "    </tr>\n",
       "    <tr>\n",
       "      <th>4</th>\n",
       "      <td>4</td>\n",
       "      <td>151.437</td>\n",
       "    </tr>\n",
       "    <tr>\n",
       "      <th>5</th>\n",
       "      <td>3</td>\n",
       "      <td>896.214</td>\n",
       "    </tr>\n",
       "    <tr>\n",
       "      <th>6</th>\n",
       "      <td>3</td>\n",
       "      <td>790.704</td>\n",
       "    </tr>\n",
       "    <tr>\n",
       "      <th>7</th>\n",
       "      <td>2</td>\n",
       "      <td>255.480</td>\n",
       "    </tr>\n",
       "    <tr>\n",
       "      <th>8</th>\n",
       "      <td>1</td>\n",
       "      <td>097.584</td>\n",
       "    </tr>\n",
       "    <tr>\n",
       "      <th>9</th>\n",
       "      <td>1</td>\n",
       "      <td>245.040</td>\n",
       "    </tr>\n",
       "    <tr>\n",
       "      <th>10</th>\n",
       "      <td>2</td>\n",
       "      <td>368.814</td>\n",
       "    </tr>\n",
       "    <tr>\n",
       "      <th>11</th>\n",
       "      <td>2</td>\n",
       "      <td>418.436</td>\n",
       "    </tr>\n",
       "    <tr>\n",
       "      <th>13</th>\n",
       "      <td>1</td>\n",
       "      <td>105.590</td>\n",
       "    </tr>\n",
       "    <tr>\n",
       "      <th>14</th>\n",
       "      <td>3</td>\n",
       "      <td>815.820</td>\n",
       "    </tr>\n",
       "    <tr>\n",
       "      <th>15</th>\n",
       "      <td>1</td>\n",
       "      <td>584.003</td>\n",
       "    </tr>\n",
       "    <tr>\n",
       "      <th>17</th>\n",
       "      <td>6</td>\n",
       "      <td>025.680</td>\n",
       "    </tr>\n",
       "    <tr>\n",
       "      <th>18</th>\n",
       "      <td>2</td>\n",
       "      <td>420.220</td>\n",
       "    </tr>\n",
       "    <tr>\n",
       "      <th>19</th>\n",
       "      <td>1</td>\n",
       "      <td>558.144</td>\n",
       "    </tr>\n",
       "    <tr>\n",
       "      <th>20</th>\n",
       "      <td>1</td>\n",
       "      <td>348.360</td>\n",
       "    </tr>\n",
       "    <tr>\n",
       "      <th>21</th>\n",
       "      <td>10</td>\n",
       "      <td>281.775</td>\n",
       "    </tr>\n",
       "    <tr>\n",
       "      <th>22</th>\n",
       "      <td>1</td>\n",
       "      <td>345.568</td>\n",
       "    </tr>\n",
       "    <tr>\n",
       "      <th>25</th>\n",
       "      <td>7</td>\n",
       "      <td>347.738</td>\n",
       "    </tr>\n",
       "    <tr>\n",
       "      <th>27</th>\n",
       "      <td>1</td>\n",
       "      <td>366.871</td>\n",
       "    </tr>\n",
       "    <tr>\n",
       "      <th>28</th>\n",
       "      <td>11</td>\n",
       "      <td>264.416</td>\n",
       "    </tr>\n",
       "    <tr>\n",
       "      <th>31</th>\n",
       "      <td>2</td>\n",
       "      <td>945.102</td>\n",
       "    </tr>\n",
       "    <tr>\n",
       "      <th>33</th>\n",
       "      <td>4</td>\n",
       "      <td>808.922</td>\n",
       "    </tr>\n",
       "    <tr>\n",
       "      <th>36</th>\n",
       "      <td>9</td>\n",
       "      <td>111.606</td>\n",
       "    </tr>\n",
       "    <tr>\n",
       "      <th>37</th>\n",
       "      <td>2</td>\n",
       "      <td>328.251</td>\n",
       "    </tr>\n",
       "    <tr>\n",
       "      <th>41</th>\n",
       "      <td>4</td>\n",
       "      <td>056.177</td>\n",
       "    </tr>\n",
       "    <tr>\n",
       "      <th>44</th>\n",
       "      <td>3</td>\n",
       "      <td>665.827</td>\n",
       "    </tr>\n",
       "    <tr>\n",
       "      <th>46</th>\n",
       "      <td>1</td>\n",
       "      <td>186.744</td>\n",
       "    </tr>\n",
       "    <tr>\n",
       "      <th>50</th>\n",
       "      <td>3</td>\n",
       "      <td>600.223</td>\n",
       "    </tr>\n",
       "    <tr>\n",
       "      <th>51</th>\n",
       "      <td>20</td>\n",
       "      <td>265.681</td>\n",
       "    </tr>\n",
       "    <tr>\n",
       "      <th>53</th>\n",
       "      <td>1</td>\n",
       "      <td>299.682</td>\n",
       "    </tr>\n",
       "    <tr>\n",
       "      <th>54</th>\n",
       "      <td>2</td>\n",
       "      <td>230.662</td>\n",
       "    </tr>\n",
       "    <tr>\n",
       "      <th>67</th>\n",
       "      <td>\\nArchitecture\\nArt\\nCinema\\nCuisine\\nLiterat...</td>\n",
       "      <td>\\nAfrican Cricket Association\\nAfrican Games\\...</td>\n",
       "    </tr>\n",
       "  </tbody>\n",
       "</table>\n",
       "</div>"
      ],
      "text/plain": [
       "                                              Ranking  \\\n",
       "1                                                   2   \n",
       "2                                                   4   \n",
       "3                                                   6   \n",
       "4                                                   4   \n",
       "5                                                   3   \n",
       "6                                                   3   \n",
       "7                                                   2   \n",
       "8                                                   1   \n",
       "9                                                   1   \n",
       "10                                                  2   \n",
       "11                                                  2   \n",
       "13                                                  1   \n",
       "14                                                  3   \n",
       "15                                                  1   \n",
       "17                                                  6   \n",
       "18                                                  2   \n",
       "19                                                  1   \n",
       "20                                                  1   \n",
       "21                                                 10   \n",
       "22                                                  1   \n",
       "25                                                  7   \n",
       "27                                                  1   \n",
       "28                                                 11   \n",
       "31                                                  2   \n",
       "33                                                  4   \n",
       "36                                                  9   \n",
       "37                                                  2   \n",
       "41                                                  4   \n",
       "44                                                  3   \n",
       "46                                                  1   \n",
       "50                                                  3   \n",
       "51                                                 20   \n",
       "53                                                  1   \n",
       "54                                                  2   \n",
       "67   \\nArchitecture\\nArt\\nCinema\\nCuisine\\nLiterat...   \n",
       "\n",
       "                                                  PCI  \n",
       "1                                             326.230  \n",
       "2                                             504.369  \n",
       "3                                             738.926  \n",
       "4                                             151.437  \n",
       "5                                             896.214  \n",
       "6                                             790.704  \n",
       "7                                             255.480  \n",
       "8                                             097.584  \n",
       "9                                             245.040  \n",
       "10                                            368.814  \n",
       "11                                            418.436  \n",
       "13                                            105.590  \n",
       "14                                            815.820  \n",
       "15                                            584.003  \n",
       "17                                            025.680  \n",
       "18                                            420.220  \n",
       "19                                            558.144  \n",
       "20                                            348.360  \n",
       "21                                            281.775  \n",
       "22                                            345.568  \n",
       "25                                            347.738  \n",
       "27                                            366.871  \n",
       "28                                            264.416  \n",
       "31                                            945.102  \n",
       "33                                            808.922  \n",
       "36                                            111.606  \n",
       "37                                            328.251  \n",
       "41                                            056.177  \n",
       "44                                            665.827  \n",
       "46                                            186.744  \n",
       "50                                            600.223  \n",
       "51                                            265.681  \n",
       "53                                            299.682  \n",
       "54                                            230.662  \n",
       "67   \\nAfrican Cricket Association\\nAfrican Games\\...  "
      ]
     },
     "execution_count": 276,
     "metadata": {},
     "output_type": "execute_result"
    }
   ],
   "source": [
    "df1 = df1.iloc[0:55,1:5]\n",
    "df1.head(83)"
   ]
  },
  {
   "cell_type": "code",
   "execution_count": null,
   "id": "e100efe9",
   "metadata": {},
   "outputs": [],
   "source": []
  },
  {
   "cell_type": "code",
   "execution_count": 234,
   "id": "51951cec",
   "metadata": {},
   "outputs": [
    {
     "data": {
      "text/html": [
       "<div>\n",
       "<style scoped>\n",
       "    .dataframe tbody tr th:only-of-type {\n",
       "        vertical-align: middle;\n",
       "    }\n",
       "\n",
       "    .dataframe tbody tr th {\n",
       "        vertical-align: top;\n",
       "    }\n",
       "\n",
       "    .dataframe thead th {\n",
       "        text-align: right;\n",
       "    }\n",
       "</style>\n",
       "<table border=\"1\" class=\"dataframe\">\n",
       "  <thead>\n",
       "    <tr style=\"text-align: right;\">\n",
       "      <th></th>\n",
       "      <th>Country</th>\n",
       "      <th>GDP</th>\n",
       "      <th>Ranking</th>\n",
       "      <th>PCI</th>\n",
       "    </tr>\n",
       "  </thead>\n",
       "  <tbody>\n",
       "    <tr>\n",
       "      <th>0</th>\n",
       "      <td>None</td>\n",
       "      <td>None</td>\n",
       "      <td>None</td>\n",
       "      <td>None</td>\n",
       "    </tr>\n",
       "    <tr>\n",
       "      <th>1</th>\n",
       "      <td>Nigeria\\n</td>\n",
       "      <td>504.203\\n</td>\n",
       "      <td>2</td>\n",
       "      <td>326.230\\n]</td>\n",
       "    </tr>\n",
       "    <tr>\n",
       "      <th>2</th>\n",
       "      <td>Egypt\\n</td>\n",
       "      <td>469.094\\n</td>\n",
       "      <td>4</td>\n",
       "      <td>504.369\\n]</td>\n",
       "    </tr>\n",
       "    <tr>\n",
       "      <th>3</th>\n",
       "      <td>South Africa\\n</td>\n",
       "      <td>411.480\\n</td>\n",
       "      <td>6</td>\n",
       "      <td>738.926\\n]</td>\n",
       "    </tr>\n",
       "    <tr>\n",
       "      <th>4</th>\n",
       "      <td>Algeria\\n</td>\n",
       "      <td>187.155\\n</td>\n",
       "      <td>4</td>\n",
       "      <td>151.437\\n]</td>\n",
       "    </tr>\n",
       "    <tr>\n",
       "      <th>...</th>\n",
       "      <td>...</td>\n",
       "      <td>...</td>\n",
       "      <td>...</td>\n",
       "      <td>...</td>\n",
       "    </tr>\n",
       "    <tr>\n",
       "      <th>78</th>\n",
       "      <td>None</td>\n",
       "      <td>None</td>\n",
       "      <td>None</td>\n",
       "      <td>None</td>\n",
       "    </tr>\n",
       "    <tr>\n",
       "      <th>79</th>\n",
       "      <td>None</td>\n",
       "      <td>None</td>\n",
       "      <td>None</td>\n",
       "      <td>None</td>\n",
       "    </tr>\n",
       "    <tr>\n",
       "      <th>80</th>\n",
       "      <td>None</td>\n",
       "      <td>None</td>\n",
       "      <td>None</td>\n",
       "      <td>None</td>\n",
       "    </tr>\n",
       "    <tr>\n",
       "      <th>81</th>\n",
       "      <td>None</td>\n",
       "      <td>None</td>\n",
       "      <td>None</td>\n",
       "      <td>None</td>\n",
       "    </tr>\n",
       "    <tr>\n",
       "      <th>82</th>\n",
       "      <td>None</td>\n",
       "      <td>None</td>\n",
       "      <td>None</td>\n",
       "      <td>None</td>\n",
       "    </tr>\n",
       "  </tbody>\n",
       "</table>\n",
       "<p>83 rows × 4 columns</p>\n",
       "</div>"
      ],
      "text/plain": [
       "             Country         GDP Ranking         PCI\n",
       "0               None        None    None        None\n",
       "1          Nigeria\\n   504.203\\n       2  326.230\\n]\n",
       "2            Egypt\\n   469.094\\n       4  504.369\\n]\n",
       "3     South Africa\\n   411.480\\n       6  738.926\\n]\n",
       "4          Algeria\\n   187.155\\n       4  151.437\\n]\n",
       "..               ...         ...     ...         ...\n",
       "78              None        None    None        None\n",
       "79              None        None    None        None\n",
       "80              None        None    None        None\n",
       "81              None        None    None        None\n",
       "82              None        None    None        None\n",
       "\n",
       "[83 rows x 4 columns]"
      ]
     },
     "execution_count": 234,
     "metadata": {},
     "output_type": "execute_result"
    }
   ],
   "source": [
    "df1= df1.rename(columns={1: 'Country', 2: 'GDP',3:\"Ranking\",4:\"PCI\"})\n",
    "df1"
   ]
  },
  {
   "cell_type": "code",
   "execution_count": 277,
   "id": "69cbaa20",
   "metadata": {},
   "outputs": [
    {
     "data": {
      "text/html": [
       "<div>\n",
       "<style scoped>\n",
       "    .dataframe tbody tr th:only-of-type {\n",
       "        vertical-align: middle;\n",
       "    }\n",
       "\n",
       "    .dataframe tbody tr th {\n",
       "        vertical-align: top;\n",
       "    }\n",
       "\n",
       "    .dataframe thead th {\n",
       "        text-align: right;\n",
       "    }\n",
       "</style>\n",
       "<table border=\"1\" class=\"dataframe\">\n",
       "  <thead>\n",
       "    <tr style=\"text-align: right;\">\n",
       "      <th></th>\n",
       "      <th>Ranking</th>\n",
       "      <th>PCI</th>\n",
       "    </tr>\n",
       "  </thead>\n",
       "  <tbody>\n",
       "    <tr>\n",
       "      <th>1</th>\n",
       "      <td>2</td>\n",
       "      <td>326.230</td>\n",
       "    </tr>\n",
       "    <tr>\n",
       "      <th>2</th>\n",
       "      <td>4</td>\n",
       "      <td>504.369</td>\n",
       "    </tr>\n",
       "    <tr>\n",
       "      <th>3</th>\n",
       "      <td>6</td>\n",
       "      <td>738.926</td>\n",
       "    </tr>\n",
       "    <tr>\n",
       "      <th>4</th>\n",
       "      <td>4</td>\n",
       "      <td>151.437</td>\n",
       "    </tr>\n",
       "    <tr>\n",
       "      <th>5</th>\n",
       "      <td>3</td>\n",
       "      <td>896.214</td>\n",
       "    </tr>\n",
       "    <tr>\n",
       "      <th>6</th>\n",
       "      <td>3</td>\n",
       "      <td>790.704</td>\n",
       "    </tr>\n",
       "    <tr>\n",
       "      <th>7</th>\n",
       "      <td>2</td>\n",
       "      <td>255.480</td>\n",
       "    </tr>\n",
       "    <tr>\n",
       "      <th>8</th>\n",
       "      <td>1</td>\n",
       "      <td>097.584</td>\n",
       "    </tr>\n",
       "    <tr>\n",
       "      <th>9</th>\n",
       "      <td>1</td>\n",
       "      <td>245.040</td>\n",
       "    </tr>\n",
       "    <tr>\n",
       "      <th>10</th>\n",
       "      <td>2</td>\n",
       "      <td>368.814</td>\n",
       "    </tr>\n",
       "    <tr>\n",
       "      <th>11</th>\n",
       "      <td>2</td>\n",
       "      <td>418.436</td>\n",
       "    </tr>\n",
       "    <tr>\n",
       "      <th>13</th>\n",
       "      <td>1</td>\n",
       "      <td>105.590</td>\n",
       "    </tr>\n",
       "    <tr>\n",
       "      <th>14</th>\n",
       "      <td>3</td>\n",
       "      <td>815.820</td>\n",
       "    </tr>\n",
       "    <tr>\n",
       "      <th>15</th>\n",
       "      <td>1</td>\n",
       "      <td>584.003</td>\n",
       "    </tr>\n",
       "    <tr>\n",
       "      <th>17</th>\n",
       "      <td>6</td>\n",
       "      <td>025.680</td>\n",
       "    </tr>\n",
       "    <tr>\n",
       "      <th>18</th>\n",
       "      <td>2</td>\n",
       "      <td>420.220</td>\n",
       "    </tr>\n",
       "    <tr>\n",
       "      <th>19</th>\n",
       "      <td>1</td>\n",
       "      <td>558.144</td>\n",
       "    </tr>\n",
       "    <tr>\n",
       "      <th>20</th>\n",
       "      <td>1</td>\n",
       "      <td>348.360</td>\n",
       "    </tr>\n",
       "    <tr>\n",
       "      <th>21</th>\n",
       "      <td>10</td>\n",
       "      <td>281.775</td>\n",
       "    </tr>\n",
       "    <tr>\n",
       "      <th>22</th>\n",
       "      <td>1</td>\n",
       "      <td>345.568</td>\n",
       "    </tr>\n",
       "    <tr>\n",
       "      <th>25</th>\n",
       "      <td>7</td>\n",
       "      <td>347.738</td>\n",
       "    </tr>\n",
       "    <tr>\n",
       "      <th>27</th>\n",
       "      <td>1</td>\n",
       "      <td>366.871</td>\n",
       "    </tr>\n",
       "    <tr>\n",
       "      <th>28</th>\n",
       "      <td>11</td>\n",
       "      <td>264.416</td>\n",
       "    </tr>\n",
       "    <tr>\n",
       "      <th>31</th>\n",
       "      <td>2</td>\n",
       "      <td>945.102</td>\n",
       "    </tr>\n",
       "    <tr>\n",
       "      <th>33</th>\n",
       "      <td>4</td>\n",
       "      <td>808.922</td>\n",
       "    </tr>\n",
       "    <tr>\n",
       "      <th>36</th>\n",
       "      <td>9</td>\n",
       "      <td>111.606</td>\n",
       "    </tr>\n",
       "    <tr>\n",
       "      <th>37</th>\n",
       "      <td>2</td>\n",
       "      <td>328.251</td>\n",
       "    </tr>\n",
       "    <tr>\n",
       "      <th>41</th>\n",
       "      <td>4</td>\n",
       "      <td>056.177</td>\n",
       "    </tr>\n",
       "    <tr>\n",
       "      <th>44</th>\n",
       "      <td>3</td>\n",
       "      <td>665.827</td>\n",
       "    </tr>\n",
       "    <tr>\n",
       "      <th>46</th>\n",
       "      <td>1</td>\n",
       "      <td>186.744</td>\n",
       "    </tr>\n",
       "    <tr>\n",
       "      <th>50</th>\n",
       "      <td>3</td>\n",
       "      <td>600.223</td>\n",
       "    </tr>\n",
       "    <tr>\n",
       "      <th>51</th>\n",
       "      <td>20</td>\n",
       "      <td>265.681</td>\n",
       "    </tr>\n",
       "    <tr>\n",
       "      <th>53</th>\n",
       "      <td>1</td>\n",
       "      <td>299.682</td>\n",
       "    </tr>\n",
       "    <tr>\n",
       "      <th>54</th>\n",
       "      <td>2</td>\n",
       "      <td>230.662</td>\n",
       "    </tr>\n",
       "    <tr>\n",
       "      <th>67</th>\n",
       "      <td>\\nArchitecture\\nArt\\nCinema\\nCuisine\\nLiterat...</td>\n",
       "      <td>\\nAfrican Cricket Association\\nAfrican Games\\...</td>\n",
       "    </tr>\n",
       "  </tbody>\n",
       "</table>\n",
       "</div>"
      ],
      "text/plain": [
       "                                              Ranking  \\\n",
       "1                                                   2   \n",
       "2                                                   4   \n",
       "3                                                   6   \n",
       "4                                                   4   \n",
       "5                                                   3   \n",
       "6                                                   3   \n",
       "7                                                   2   \n",
       "8                                                   1   \n",
       "9                                                   1   \n",
       "10                                                  2   \n",
       "11                                                  2   \n",
       "13                                                  1   \n",
       "14                                                  3   \n",
       "15                                                  1   \n",
       "17                                                  6   \n",
       "18                                                  2   \n",
       "19                                                  1   \n",
       "20                                                  1   \n",
       "21                                                 10   \n",
       "22                                                  1   \n",
       "25                                                  7   \n",
       "27                                                  1   \n",
       "28                                                 11   \n",
       "31                                                  2   \n",
       "33                                                  4   \n",
       "36                                                  9   \n",
       "37                                                  2   \n",
       "41                                                  4   \n",
       "44                                                  3   \n",
       "46                                                  1   \n",
       "50                                                  3   \n",
       "51                                                 20   \n",
       "53                                                  1   \n",
       "54                                                  2   \n",
       "67   \\nArchitecture\\nArt\\nCinema\\nCuisine\\nLiterat...   \n",
       "\n",
       "                                                  PCI  \n",
       "1                                             326.230  \n",
       "2                                             504.369  \n",
       "3                                             738.926  \n",
       "4                                             151.437  \n",
       "5                                             896.214  \n",
       "6                                             790.704  \n",
       "7                                             255.480  \n",
       "8                                             097.584  \n",
       "9                                             245.040  \n",
       "10                                            368.814  \n",
       "11                                            418.436  \n",
       "13                                            105.590  \n",
       "14                                            815.820  \n",
       "15                                            584.003  \n",
       "17                                            025.680  \n",
       "18                                            420.220  \n",
       "19                                            558.144  \n",
       "20                                            348.360  \n",
       "21                                            281.775  \n",
       "22                                            345.568  \n",
       "25                                            347.738  \n",
       "27                                            366.871  \n",
       "28                                            264.416  \n",
       "31                                            945.102  \n",
       "33                                            808.922  \n",
       "36                                            111.606  \n",
       "37                                            328.251  \n",
       "41                                            056.177  \n",
       "44                                            665.827  \n",
       "46                                            186.744  \n",
       "50                                            600.223  \n",
       "51                                            265.681  \n",
       "53                                            299.682  \n",
       "54                                            230.662  \n",
       "67   \\nAfrican Cricket Association\\nAfrican Games\\...  "
      ]
     },
     "execution_count": 277,
     "metadata": {},
     "output_type": "execute_result"
    }
   ],
   "source": [
    "df1 = df1.dropna(axis=0, how='any')\n",
    "df1.shape\n",
    "df1"
   ]
  },
  {
   "cell_type": "code",
   "execution_count": 236,
   "id": "28e48d7e",
   "metadata": {},
   "outputs": [
    {
     "data": {
      "text/html": [
       "<div>\n",
       "<style scoped>\n",
       "    .dataframe tbody tr th:only-of-type {\n",
       "        vertical-align: middle;\n",
       "    }\n",
       "\n",
       "    .dataframe tbody tr th {\n",
       "        vertical-align: top;\n",
       "    }\n",
       "\n",
       "    .dataframe thead th {\n",
       "        text-align: right;\n",
       "    }\n",
       "</style>\n",
       "<table border=\"1\" class=\"dataframe\">\n",
       "  <thead>\n",
       "    <tr style=\"text-align: right;\">\n",
       "      <th></th>\n",
       "      <th>Country</th>\n",
       "      <th>GDP</th>\n",
       "      <th>Ranking</th>\n",
       "      <th>PCI</th>\n",
       "    </tr>\n",
       "  </thead>\n",
       "  <tbody>\n",
       "    <tr>\n",
       "      <th>1</th>\n",
       "      <td>Nigeria\\n</td>\n",
       "      <td>504.203\\n</td>\n",
       "      <td>2</td>\n",
       "      <td>326.230\\n]</td>\n",
       "    </tr>\n",
       "    <tr>\n",
       "      <th>2</th>\n",
       "      <td>Egypt\\n</td>\n",
       "      <td>469.094\\n</td>\n",
       "      <td>4</td>\n",
       "      <td>504.369\\n]</td>\n",
       "    </tr>\n",
       "    <tr>\n",
       "      <th>3</th>\n",
       "      <td>South Africa\\n</td>\n",
       "      <td>411.480\\n</td>\n",
       "      <td>6</td>\n",
       "      <td>738.926\\n]</td>\n",
       "    </tr>\n",
       "    <tr>\n",
       "      <th>4</th>\n",
       "      <td>Algeria\\n</td>\n",
       "      <td>187.155\\n</td>\n",
       "      <td>4</td>\n",
       "      <td>151.437\\n]</td>\n",
       "    </tr>\n",
       "    <tr>\n",
       "      <th>5</th>\n",
       "      <td>Morocco\\n</td>\n",
       "      <td>142.874\\n</td>\n",
       "      <td>3</td>\n",
       "      <td>896.214\\n]</td>\n",
       "    </tr>\n",
       "    <tr>\n",
       "      <th>6</th>\n",
       "      <td>Angola\\n</td>\n",
       "      <td>124.794\\n</td>\n",
       "      <td>3</td>\n",
       "      <td>790.704\\n]</td>\n",
       "    </tr>\n",
       "    <tr>\n",
       "      <th>7</th>\n",
       "      <td>Kenya\\n</td>\n",
       "      <td>114.858\\n</td>\n",
       "      <td>2</td>\n",
       "      <td>255.480\\n]</td>\n",
       "    </tr>\n",
       "    <tr>\n",
       "      <th>8</th>\n",
       "      <td>Ethiopia\\n</td>\n",
       "      <td>111.181\\n</td>\n",
       "      <td>1</td>\n",
       "      <td>097.584\\n]</td>\n",
       "    </tr>\n",
       "    <tr>\n",
       "      <th>9</th>\n",
       "      <td>Tanzania\\n</td>\n",
       "      <td>76.582\\n</td>\n",
       "      <td>1</td>\n",
       "      <td>245.040\\n]</td>\n",
       "    </tr>\n",
       "    <tr>\n",
       "      <th>10</th>\n",
       "      <td>Ghana\\n</td>\n",
       "      <td>75.996\\n</td>\n",
       "      <td>2</td>\n",
       "      <td>368.814\\n]</td>\n",
       "    </tr>\n",
       "    <tr>\n",
       "      <th>11</th>\n",
       "      <td>Ivory Coast\\n</td>\n",
       "      <td>68.630\\n</td>\n",
       "      <td>2</td>\n",
       "      <td>418.436\\n]</td>\n",
       "    </tr>\n",
       "    <tr>\n",
       "      <th>13</th>\n",
       "      <td>Uganda\\n</td>\n",
       "      <td>48.352\\n</td>\n",
       "      <td>1</td>\n",
       "      <td>105.590\\n]</td>\n",
       "    </tr>\n",
       "    <tr>\n",
       "      <th>14</th>\n",
       "      <td>Tunisia\\n</td>\n",
       "      <td>46.282\\n</td>\n",
       "      <td>3</td>\n",
       "      <td>815.820\\n]</td>\n",
       "    </tr>\n",
       "    <tr>\n",
       "      <th>15</th>\n",
       "      <td>Cameroon\\n</td>\n",
       "      <td>44.212\\n</td>\n",
       "      <td>1</td>\n",
       "      <td>584.003\\n]</td>\n",
       "    </tr>\n",
       "    <tr>\n",
       "      <th>17</th>\n",
       "      <td>Libya\\n</td>\n",
       "      <td>40.836\\n</td>\n",
       "      <td>6</td>\n",
       "      <td>025.680\\n]</td>\n",
       "    </tr>\n",
       "    <tr>\n",
       "      <th>18</th>\n",
       "      <td>Zimbabwe\\n</td>\n",
       "      <td>38.280\\n</td>\n",
       "      <td>2</td>\n",
       "      <td>420.220\\n]</td>\n",
       "    </tr>\n",
       "    <tr>\n",
       "      <th>19</th>\n",
       "      <td>Senegal\\n</td>\n",
       "      <td>27.542\\n</td>\n",
       "      <td>1</td>\n",
       "      <td>558.144\\n]</td>\n",
       "    </tr>\n",
       "    <tr>\n",
       "      <th>20</th>\n",
       "      <td>Zambia\\n</td>\n",
       "      <td>27.025\\n</td>\n",
       "      <td>1</td>\n",
       "      <td>348.360\\n]</td>\n",
       "    </tr>\n",
       "    <tr>\n",
       "      <th>21</th>\n",
       "      <td>Gabon\\n</td>\n",
       "      <td>22.221\\n</td>\n",
       "      <td>10</td>\n",
       "      <td>281.775\\n]</td>\n",
       "    </tr>\n",
       "    <tr>\n",
       "      <th>22</th>\n",
       "      <td>Guinea\\n</td>\n",
       "      <td>19.745\\n</td>\n",
       "      <td>1</td>\n",
       "      <td>345.568\\n]</td>\n",
       "    </tr>\n",
       "    <tr>\n",
       "      <th>25</th>\n",
       "      <td>Botswana\\n</td>\n",
       "      <td>18.005\\n</td>\n",
       "      <td>7</td>\n",
       "      <td>347.738\\n]</td>\n",
       "    </tr>\n",
       "    <tr>\n",
       "      <th>27</th>\n",
       "      <td>Benin\\n</td>\n",
       "      <td>17.547\\n</td>\n",
       "      <td>1</td>\n",
       "      <td>366.871\\n]</td>\n",
       "    </tr>\n",
       "    <tr>\n",
       "      <th>28</th>\n",
       "      <td>Equatorial Guinea\\n</td>\n",
       "      <td>16.877\\n</td>\n",
       "      <td>11</td>\n",
       "      <td>264.416\\n]</td>\n",
       "    </tr>\n",
       "    <tr>\n",
       "      <th>31</th>\n",
       "      <td>Republic of Congo\\n</td>\n",
       "      <td>14.486\\n</td>\n",
       "      <td>2</td>\n",
       "      <td>945.102\\n]</td>\n",
       "    </tr>\n",
       "    <tr>\n",
       "      <th>33</th>\n",
       "      <td>Namibia\\n</td>\n",
       "      <td>12.488\\n</td>\n",
       "      <td>4</td>\n",
       "      <td>808.922\\n]</td>\n",
       "    </tr>\n",
       "    <tr>\n",
       "      <th>36</th>\n",
       "      <td>Mauritius\\n</td>\n",
       "      <td>11.497\\n</td>\n",
       "      <td>9</td>\n",
       "      <td>111.606\\n]</td>\n",
       "    </tr>\n",
       "    <tr>\n",
       "      <th>37</th>\n",
       "      <td>Mauritania\\n</td>\n",
       "      <td>10.091\\n</td>\n",
       "      <td>2</td>\n",
       "      <td>328.251\\n]</td>\n",
       "    </tr>\n",
       "    <tr>\n",
       "      <th>41</th>\n",
       "      <td>Eswatini\\n</td>\n",
       "      <td>4.669\\n</td>\n",
       "      <td>4</td>\n",
       "      <td>056.177\\n]</td>\n",
       "    </tr>\n",
       "    <tr>\n",
       "      <th>44</th>\n",
       "      <td>Djibouti\\n</td>\n",
       "      <td>3.725\\n</td>\n",
       "      <td>3</td>\n",
       "      <td>665.827\\n]</td>\n",
       "    </tr>\n",
       "    <tr>\n",
       "      <th>46</th>\n",
       "      <td>Lesotho\\n</td>\n",
       "      <td>2.507\\n</td>\n",
       "      <td>1</td>\n",
       "      <td>186.744\\n]</td>\n",
       "    </tr>\n",
       "    <tr>\n",
       "      <th>50</th>\n",
       "      <td>Cape Verde\\n</td>\n",
       "      <td>2.053\\n</td>\n",
       "      <td>3</td>\n",
       "      <td>600.223\\n]</td>\n",
       "    </tr>\n",
       "    <tr>\n",
       "      <th>51</th>\n",
       "      <td>Seychelles\\n</td>\n",
       "      <td>2.005\\n</td>\n",
       "      <td>20</td>\n",
       "      <td>265.681\\n]</td>\n",
       "    </tr>\n",
       "    <tr>\n",
       "      <th>53</th>\n",
       "      <td>Comoros\\n</td>\n",
       "      <td>1.242\\n</td>\n",
       "      <td>1</td>\n",
       "      <td>299.682\\n]</td>\n",
       "    </tr>\n",
       "    <tr>\n",
       "      <th>54</th>\n",
       "      <td>São Tomé and Príncipe\\n</td>\n",
       "      <td>0.506\\n</td>\n",
       "      <td>2</td>\n",
       "      <td>230.662\\n]</td>\n",
       "    </tr>\n",
       "    <tr>\n",
       "      <th>67</th>\n",
       "      <td>\\nCaste systems\\nEtiquette\\nHealth\\nLanguages...</td>\n",
       "      <td>\\nArchitecture\\nArt\\nCinema\\nCuisine\\nLiterat...</td>\n",
       "      <td>\\nArchitecture\\nArt\\nCinema\\nCuisine\\nLiterat...</td>\n",
       "      <td>\\nAfrican Cricket Association\\nAfrican Games\\...</td>\n",
       "    </tr>\n",
       "  </tbody>\n",
       "</table>\n",
       "</div>"
      ],
      "text/plain": [
       "                                              Country  \\\n",
       "1                                           Nigeria\\n   \n",
       "2                                             Egypt\\n   \n",
       "3                                      South Africa\\n   \n",
       "4                                           Algeria\\n   \n",
       "5                                           Morocco\\n   \n",
       "6                                            Angola\\n   \n",
       "7                                             Kenya\\n   \n",
       "8                                          Ethiopia\\n   \n",
       "9                                          Tanzania\\n   \n",
       "10                                            Ghana\\n   \n",
       "11                                      Ivory Coast\\n   \n",
       "13                                           Uganda\\n   \n",
       "14                                          Tunisia\\n   \n",
       "15                                         Cameroon\\n   \n",
       "17                                            Libya\\n   \n",
       "18                                         Zimbabwe\\n   \n",
       "19                                          Senegal\\n   \n",
       "20                                           Zambia\\n   \n",
       "21                                            Gabon\\n   \n",
       "22                                           Guinea\\n   \n",
       "25                                         Botswana\\n   \n",
       "27                                            Benin\\n   \n",
       "28                                Equatorial Guinea\\n   \n",
       "31                                Republic of Congo\\n   \n",
       "33                                          Namibia\\n   \n",
       "36                                        Mauritius\\n   \n",
       "37                                       Mauritania\\n   \n",
       "41                                         Eswatini\\n   \n",
       "44                                         Djibouti\\n   \n",
       "46                                          Lesotho\\n   \n",
       "50                                       Cape Verde\\n   \n",
       "51                                       Seychelles\\n   \n",
       "53                                          Comoros\\n   \n",
       "54                            São Tomé and Príncipe\\n   \n",
       "67   \\nCaste systems\\nEtiquette\\nHealth\\nLanguages...   \n",
       "\n",
       "                                                  GDP  \\\n",
       "1                                           504.203\\n   \n",
       "2                                           469.094\\n   \n",
       "3                                           411.480\\n   \n",
       "4                                           187.155\\n   \n",
       "5                                           142.874\\n   \n",
       "6                                           124.794\\n   \n",
       "7                                           114.858\\n   \n",
       "8                                           111.181\\n   \n",
       "9                                            76.582\\n   \n",
       "10                                           75.996\\n   \n",
       "11                                           68.630\\n   \n",
       "13                                           48.352\\n   \n",
       "14                                           46.282\\n   \n",
       "15                                           44.212\\n   \n",
       "17                                           40.836\\n   \n",
       "18                                           38.280\\n   \n",
       "19                                           27.542\\n   \n",
       "20                                           27.025\\n   \n",
       "21                                           22.221\\n   \n",
       "22                                           19.745\\n   \n",
       "25                                           18.005\\n   \n",
       "27                                           17.547\\n   \n",
       "28                                           16.877\\n   \n",
       "31                                           14.486\\n   \n",
       "33                                           12.488\\n   \n",
       "36                                           11.497\\n   \n",
       "37                                           10.091\\n   \n",
       "41                                            4.669\\n   \n",
       "44                                            3.725\\n   \n",
       "46                                            2.507\\n   \n",
       "50                                            2.053\\n   \n",
       "51                                            2.005\\n   \n",
       "53                                            1.242\\n   \n",
       "54                                            0.506\\n   \n",
       "67   \\nArchitecture\\nArt\\nCinema\\nCuisine\\nLiterat...   \n",
       "\n",
       "                                              Ranking  \\\n",
       "1                                                   2   \n",
       "2                                                   4   \n",
       "3                                                   6   \n",
       "4                                                   4   \n",
       "5                                                   3   \n",
       "6                                                   3   \n",
       "7                                                   2   \n",
       "8                                                   1   \n",
       "9                                                   1   \n",
       "10                                                  2   \n",
       "11                                                  2   \n",
       "13                                                  1   \n",
       "14                                                  3   \n",
       "15                                                  1   \n",
       "17                                                  6   \n",
       "18                                                  2   \n",
       "19                                                  1   \n",
       "20                                                  1   \n",
       "21                                                 10   \n",
       "22                                                  1   \n",
       "25                                                  7   \n",
       "27                                                  1   \n",
       "28                                                 11   \n",
       "31                                                  2   \n",
       "33                                                  4   \n",
       "36                                                  9   \n",
       "37                                                  2   \n",
       "41                                                  4   \n",
       "44                                                  3   \n",
       "46                                                  1   \n",
       "50                                                  3   \n",
       "51                                                 20   \n",
       "53                                                  1   \n",
       "54                                                  2   \n",
       "67   \\nArchitecture\\nArt\\nCinema\\nCuisine\\nLiterat...   \n",
       "\n",
       "                                                  PCI  \n",
       "1                                          326.230\\n]  \n",
       "2                                          504.369\\n]  \n",
       "3                                          738.926\\n]  \n",
       "4                                          151.437\\n]  \n",
       "5                                          896.214\\n]  \n",
       "6                                          790.704\\n]  \n",
       "7                                          255.480\\n]  \n",
       "8                                          097.584\\n]  \n",
       "9                                          245.040\\n]  \n",
       "10                                         368.814\\n]  \n",
       "11                                         418.436\\n]  \n",
       "13                                         105.590\\n]  \n",
       "14                                         815.820\\n]  \n",
       "15                                         584.003\\n]  \n",
       "17                                         025.680\\n]  \n",
       "18                                         420.220\\n]  \n",
       "19                                         558.144\\n]  \n",
       "20                                         348.360\\n]  \n",
       "21                                         281.775\\n]  \n",
       "22                                         345.568\\n]  \n",
       "25                                         347.738\\n]  \n",
       "27                                         366.871\\n]  \n",
       "28                                         264.416\\n]  \n",
       "31                                         945.102\\n]  \n",
       "33                                         808.922\\n]  \n",
       "36                                         111.606\\n]  \n",
       "37                                         328.251\\n]  \n",
       "41                                         056.177\\n]  \n",
       "44                                         665.827\\n]  \n",
       "46                                         186.744\\n]  \n",
       "50                                         600.223\\n]  \n",
       "51                                         265.681\\n]  \n",
       "53                                         299.682\\n]  \n",
       "54                                         230.662\\n]  \n",
       "67   \\nAfrican Cricket Association\\nAfrican Games\\...  "
      ]
     },
     "execution_count": 236,
     "metadata": {},
     "output_type": "execute_result"
    }
   ],
   "source": [
    "df1 = df1.dropna(axis=1, how='any')\n",
    "df1.shape\n",
    "df1"
   ]
  },
  {
   "cell_type": "code",
   "execution_count": 237,
   "id": "87c9b116",
   "metadata": {},
   "outputs": [
    {
     "data": {
      "text/plain": [
       "(83, 1)"
      ]
     },
     "execution_count": 237,
     "metadata": {},
     "output_type": "execute_result"
    }
   ],
   "source": [
    "cols = ['Country', 'GDP', 'Ranking','PCI']\n",
    "df1[cols] = df1[cols].apply(lambda x: x.str.strip(\"\\n\"))\n",
    "df.shape"
   ]
  },
  {
   "cell_type": "code",
   "execution_count": 238,
   "id": "46d7b320",
   "metadata": {},
   "outputs": [],
   "source": [
    "df1[\"Ranking\"] = df1[\"Ranking\"].str.strip(\"\\n]\")\n",
    "df1[\"PCI\"] = df1[\"PCI\"].str.strip(\"\\n]\")"
   ]
  },
  {
   "cell_type": "code",
   "execution_count": 239,
   "id": "add997d6",
   "metadata": {},
   "outputs": [
    {
     "data": {
      "text/html": [
       "<div>\n",
       "<style scoped>\n",
       "    .dataframe tbody tr th:only-of-type {\n",
       "        vertical-align: middle;\n",
       "    }\n",
       "\n",
       "    .dataframe tbody tr th {\n",
       "        vertical-align: top;\n",
       "    }\n",
       "\n",
       "    .dataframe thead th {\n",
       "        text-align: right;\n",
       "    }\n",
       "</style>\n",
       "<table border=\"1\" class=\"dataframe\">\n",
       "  <thead>\n",
       "    <tr style=\"text-align: right;\">\n",
       "      <th></th>\n",
       "      <th>Country</th>\n",
       "      <th>GDP</th>\n",
       "      <th>Ranking</th>\n",
       "      <th>PCI</th>\n",
       "    </tr>\n",
       "  </thead>\n",
       "  <tbody>\n",
       "    <tr>\n",
       "      <th>1</th>\n",
       "      <td>Nigeria</td>\n",
       "      <td>504.203</td>\n",
       "      <td>2</td>\n",
       "      <td>326.230</td>\n",
       "    </tr>\n",
       "    <tr>\n",
       "      <th>2</th>\n",
       "      <td>Egypt</td>\n",
       "      <td>469.094</td>\n",
       "      <td>4</td>\n",
       "      <td>504.369</td>\n",
       "    </tr>\n",
       "    <tr>\n",
       "      <th>3</th>\n",
       "      <td>South Africa</td>\n",
       "      <td>411.480</td>\n",
       "      <td>6</td>\n",
       "      <td>738.926</td>\n",
       "    </tr>\n",
       "    <tr>\n",
       "      <th>4</th>\n",
       "      <td>Algeria</td>\n",
       "      <td>187.155</td>\n",
       "      <td>4</td>\n",
       "      <td>151.437</td>\n",
       "    </tr>\n",
       "    <tr>\n",
       "      <th>5</th>\n",
       "      <td>Morocco</td>\n",
       "      <td>142.874</td>\n",
       "      <td>3</td>\n",
       "      <td>896.214</td>\n",
       "    </tr>\n",
       "    <tr>\n",
       "      <th>6</th>\n",
       "      <td>Angola</td>\n",
       "      <td>124.794</td>\n",
       "      <td>3</td>\n",
       "      <td>790.704</td>\n",
       "    </tr>\n",
       "    <tr>\n",
       "      <th>7</th>\n",
       "      <td>Kenya</td>\n",
       "      <td>114.858</td>\n",
       "      <td>2</td>\n",
       "      <td>255.480</td>\n",
       "    </tr>\n",
       "    <tr>\n",
       "      <th>8</th>\n",
       "      <td>Ethiopia</td>\n",
       "      <td>111.181</td>\n",
       "      <td>1</td>\n",
       "      <td>097.584</td>\n",
       "    </tr>\n",
       "    <tr>\n",
       "      <th>9</th>\n",
       "      <td>Tanzania</td>\n",
       "      <td>76.582</td>\n",
       "      <td>1</td>\n",
       "      <td>245.040</td>\n",
       "    </tr>\n",
       "    <tr>\n",
       "      <th>10</th>\n",
       "      <td>Ghana</td>\n",
       "      <td>75.996</td>\n",
       "      <td>2</td>\n",
       "      <td>368.814</td>\n",
       "    </tr>\n",
       "    <tr>\n",
       "      <th>11</th>\n",
       "      <td>Ivory Coast</td>\n",
       "      <td>68.630</td>\n",
       "      <td>2</td>\n",
       "      <td>418.436</td>\n",
       "    </tr>\n",
       "    <tr>\n",
       "      <th>13</th>\n",
       "      <td>Uganda</td>\n",
       "      <td>48.352</td>\n",
       "      <td>1</td>\n",
       "      <td>105.590</td>\n",
       "    </tr>\n",
       "    <tr>\n",
       "      <th>14</th>\n",
       "      <td>Tunisia</td>\n",
       "      <td>46.282</td>\n",
       "      <td>3</td>\n",
       "      <td>815.820</td>\n",
       "    </tr>\n",
       "    <tr>\n",
       "      <th>15</th>\n",
       "      <td>Cameroon</td>\n",
       "      <td>44.212</td>\n",
       "      <td>1</td>\n",
       "      <td>584.003</td>\n",
       "    </tr>\n",
       "    <tr>\n",
       "      <th>17</th>\n",
       "      <td>Libya</td>\n",
       "      <td>40.836</td>\n",
       "      <td>6</td>\n",
       "      <td>025.680</td>\n",
       "    </tr>\n",
       "    <tr>\n",
       "      <th>18</th>\n",
       "      <td>Zimbabwe</td>\n",
       "      <td>38.280</td>\n",
       "      <td>2</td>\n",
       "      <td>420.220</td>\n",
       "    </tr>\n",
       "    <tr>\n",
       "      <th>19</th>\n",
       "      <td>Senegal</td>\n",
       "      <td>27.542</td>\n",
       "      <td>1</td>\n",
       "      <td>558.144</td>\n",
       "    </tr>\n",
       "    <tr>\n",
       "      <th>20</th>\n",
       "      <td>Zambia</td>\n",
       "      <td>27.025</td>\n",
       "      <td>1</td>\n",
       "      <td>348.360</td>\n",
       "    </tr>\n",
       "    <tr>\n",
       "      <th>21</th>\n",
       "      <td>Gabon</td>\n",
       "      <td>22.221</td>\n",
       "      <td>10</td>\n",
       "      <td>281.775</td>\n",
       "    </tr>\n",
       "    <tr>\n",
       "      <th>22</th>\n",
       "      <td>Guinea</td>\n",
       "      <td>19.745</td>\n",
       "      <td>1</td>\n",
       "      <td>345.568</td>\n",
       "    </tr>\n",
       "    <tr>\n",
       "      <th>25</th>\n",
       "      <td>Botswana</td>\n",
       "      <td>18.005</td>\n",
       "      <td>7</td>\n",
       "      <td>347.738</td>\n",
       "    </tr>\n",
       "    <tr>\n",
       "      <th>27</th>\n",
       "      <td>Benin</td>\n",
       "      <td>17.547</td>\n",
       "      <td>1</td>\n",
       "      <td>366.871</td>\n",
       "    </tr>\n",
       "    <tr>\n",
       "      <th>28</th>\n",
       "      <td>Equatorial Guinea</td>\n",
       "      <td>16.877</td>\n",
       "      <td>11</td>\n",
       "      <td>264.416</td>\n",
       "    </tr>\n",
       "    <tr>\n",
       "      <th>31</th>\n",
       "      <td>Republic of Congo</td>\n",
       "      <td>14.486</td>\n",
       "      <td>2</td>\n",
       "      <td>945.102</td>\n",
       "    </tr>\n",
       "    <tr>\n",
       "      <th>33</th>\n",
       "      <td>Namibia</td>\n",
       "      <td>12.488</td>\n",
       "      <td>4</td>\n",
       "      <td>808.922</td>\n",
       "    </tr>\n",
       "    <tr>\n",
       "      <th>36</th>\n",
       "      <td>Mauritius</td>\n",
       "      <td>11.497</td>\n",
       "      <td>9</td>\n",
       "      <td>111.606</td>\n",
       "    </tr>\n",
       "    <tr>\n",
       "      <th>37</th>\n",
       "      <td>Mauritania</td>\n",
       "      <td>10.091</td>\n",
       "      <td>2</td>\n",
       "      <td>328.251</td>\n",
       "    </tr>\n",
       "    <tr>\n",
       "      <th>41</th>\n",
       "      <td>Eswatini</td>\n",
       "      <td>4.669</td>\n",
       "      <td>4</td>\n",
       "      <td>056.177</td>\n",
       "    </tr>\n",
       "    <tr>\n",
       "      <th>44</th>\n",
       "      <td>Djibouti</td>\n",
       "      <td>3.725</td>\n",
       "      <td>3</td>\n",
       "      <td>665.827</td>\n",
       "    </tr>\n",
       "    <tr>\n",
       "      <th>46</th>\n",
       "      <td>Lesotho</td>\n",
       "      <td>2.507</td>\n",
       "      <td>1</td>\n",
       "      <td>186.744</td>\n",
       "    </tr>\n",
       "    <tr>\n",
       "      <th>50</th>\n",
       "      <td>Cape Verde</td>\n",
       "      <td>2.053</td>\n",
       "      <td>3</td>\n",
       "      <td>600.223</td>\n",
       "    </tr>\n",
       "    <tr>\n",
       "      <th>51</th>\n",
       "      <td>Seychelles</td>\n",
       "      <td>2.005</td>\n",
       "      <td>20</td>\n",
       "      <td>265.681</td>\n",
       "    </tr>\n",
       "    <tr>\n",
       "      <th>53</th>\n",
       "      <td>Comoros</td>\n",
       "      <td>1.242</td>\n",
       "      <td>1</td>\n",
       "      <td>299.682</td>\n",
       "    </tr>\n",
       "    <tr>\n",
       "      <th>54</th>\n",
       "      <td>São Tomé and Príncipe</td>\n",
       "      <td>0.506</td>\n",
       "      <td>2</td>\n",
       "      <td>230.662</td>\n",
       "    </tr>\n",
       "    <tr>\n",
       "      <th>67</th>\n",
       "      <td>\\nCaste systems\\nEtiquette\\nHealth\\nLanguages...</td>\n",
       "      <td>\\nArchitecture\\nArt\\nCinema\\nCuisine\\nLiterat...</td>\n",
       "      <td>\\nArchitecture\\nArt\\nCinema\\nCuisine\\nLiterat...</td>\n",
       "      <td>\\nAfrican Cricket Association\\nAfrican Games\\...</td>\n",
       "    </tr>\n",
       "  </tbody>\n",
       "</table>\n",
       "</div>"
      ],
      "text/plain": [
       "                                              Country  \\\n",
       "1                                             Nigeria   \n",
       "2                                               Egypt   \n",
       "3                                        South Africa   \n",
       "4                                             Algeria   \n",
       "5                                             Morocco   \n",
       "6                                              Angola   \n",
       "7                                               Kenya   \n",
       "8                                            Ethiopia   \n",
       "9                                            Tanzania   \n",
       "10                                              Ghana   \n",
       "11                                        Ivory Coast   \n",
       "13                                             Uganda   \n",
       "14                                            Tunisia   \n",
       "15                                           Cameroon   \n",
       "17                                              Libya   \n",
       "18                                           Zimbabwe   \n",
       "19                                            Senegal   \n",
       "20                                             Zambia   \n",
       "21                                              Gabon   \n",
       "22                                             Guinea   \n",
       "25                                           Botswana   \n",
       "27                                              Benin   \n",
       "28                                  Equatorial Guinea   \n",
       "31                                  Republic of Congo   \n",
       "33                                            Namibia   \n",
       "36                                          Mauritius   \n",
       "37                                         Mauritania   \n",
       "41                                           Eswatini   \n",
       "44                                           Djibouti   \n",
       "46                                            Lesotho   \n",
       "50                                         Cape Verde   \n",
       "51                                         Seychelles   \n",
       "53                                            Comoros   \n",
       "54                              São Tomé and Príncipe   \n",
       "67   \\nCaste systems\\nEtiquette\\nHealth\\nLanguages...   \n",
       "\n",
       "                                                  GDP  \\\n",
       "1                                             504.203   \n",
       "2                                             469.094   \n",
       "3                                             411.480   \n",
       "4                                             187.155   \n",
       "5                                             142.874   \n",
       "6                                             124.794   \n",
       "7                                             114.858   \n",
       "8                                             111.181   \n",
       "9                                              76.582   \n",
       "10                                             75.996   \n",
       "11                                             68.630   \n",
       "13                                             48.352   \n",
       "14                                             46.282   \n",
       "15                                             44.212   \n",
       "17                                             40.836   \n",
       "18                                             38.280   \n",
       "19                                             27.542   \n",
       "20                                             27.025   \n",
       "21                                             22.221   \n",
       "22                                             19.745   \n",
       "25                                             18.005   \n",
       "27                                             17.547   \n",
       "28                                             16.877   \n",
       "31                                             14.486   \n",
       "33                                             12.488   \n",
       "36                                             11.497   \n",
       "37                                             10.091   \n",
       "41                                              4.669   \n",
       "44                                              3.725   \n",
       "46                                              2.507   \n",
       "50                                              2.053   \n",
       "51                                              2.005   \n",
       "53                                              1.242   \n",
       "54                                              0.506   \n",
       "67   \\nArchitecture\\nArt\\nCinema\\nCuisine\\nLiterat...   \n",
       "\n",
       "                                              Ranking  \\\n",
       "1                                                   2   \n",
       "2                                                   4   \n",
       "3                                                   6   \n",
       "4                                                   4   \n",
       "5                                                   3   \n",
       "6                                                   3   \n",
       "7                                                   2   \n",
       "8                                                   1   \n",
       "9                                                   1   \n",
       "10                                                  2   \n",
       "11                                                  2   \n",
       "13                                                  1   \n",
       "14                                                  3   \n",
       "15                                                  1   \n",
       "17                                                  6   \n",
       "18                                                  2   \n",
       "19                                                  1   \n",
       "20                                                  1   \n",
       "21                                                 10   \n",
       "22                                                  1   \n",
       "25                                                  7   \n",
       "27                                                  1   \n",
       "28                                                 11   \n",
       "31                                                  2   \n",
       "33                                                  4   \n",
       "36                                                  9   \n",
       "37                                                  2   \n",
       "41                                                  4   \n",
       "44                                                  3   \n",
       "46                                                  1   \n",
       "50                                                  3   \n",
       "51                                                 20   \n",
       "53                                                  1   \n",
       "54                                                  2   \n",
       "67   \\nArchitecture\\nArt\\nCinema\\nCuisine\\nLiterat...   \n",
       "\n",
       "                                                  PCI  \n",
       "1                                             326.230  \n",
       "2                                             504.369  \n",
       "3                                             738.926  \n",
       "4                                             151.437  \n",
       "5                                             896.214  \n",
       "6                                             790.704  \n",
       "7                                             255.480  \n",
       "8                                             097.584  \n",
       "9                                             245.040  \n",
       "10                                            368.814  \n",
       "11                                            418.436  \n",
       "13                                            105.590  \n",
       "14                                            815.820  \n",
       "15                                            584.003  \n",
       "17                                            025.680  \n",
       "18                                            420.220  \n",
       "19                                            558.144  \n",
       "20                                            348.360  \n",
       "21                                            281.775  \n",
       "22                                            345.568  \n",
       "25                                            347.738  \n",
       "27                                            366.871  \n",
       "28                                            264.416  \n",
       "31                                            945.102  \n",
       "33                                            808.922  \n",
       "36                                            111.606  \n",
       "37                                            328.251  \n",
       "41                                            056.177  \n",
       "44                                            665.827  \n",
       "46                                            186.744  \n",
       "50                                            600.223  \n",
       "51                                            265.681  \n",
       "53                                            299.682  \n",
       "54                                            230.662  \n",
       "67   \\nAfrican Cricket Association\\nAfrican Games\\...  "
      ]
     },
     "execution_count": 239,
     "metadata": {},
     "output_type": "execute_result"
    }
   ],
   "source": [
    "df2 = df1.iloc[0:54,:]\n",
    "df2"
   ]
  },
  {
   "cell_type": "code",
   "execution_count": 240,
   "id": "c02867fe",
   "metadata": {},
   "outputs": [
    {
     "data": {
      "text/html": [
       "<div>\n",
       "<style scoped>\n",
       "    .dataframe tbody tr th:only-of-type {\n",
       "        vertical-align: middle;\n",
       "    }\n",
       "\n",
       "    .dataframe tbody tr th {\n",
       "        vertical-align: top;\n",
       "    }\n",
       "\n",
       "    .dataframe thead th {\n",
       "        text-align: right;\n",
       "    }\n",
       "</style>\n",
       "<table border=\"1\" class=\"dataframe\">\n",
       "  <thead>\n",
       "    <tr style=\"text-align: right;\">\n",
       "      <th></th>\n",
       "      <th>Country</th>\n",
       "      <th>GDP</th>\n",
       "      <th>Ranking</th>\n",
       "      <th>PCI</th>\n",
       "    </tr>\n",
       "  </thead>\n",
       "  <tbody>\n",
       "    <tr>\n",
       "      <th>1</th>\n",
       "      <td>Nigeria</td>\n",
       "      <td>504.203</td>\n",
       "      <td>2</td>\n",
       "      <td>2326.230</td>\n",
       "    </tr>\n",
       "    <tr>\n",
       "      <th>2</th>\n",
       "      <td>Egypt</td>\n",
       "      <td>469.094</td>\n",
       "      <td>4</td>\n",
       "      <td>4504.369</td>\n",
       "    </tr>\n",
       "    <tr>\n",
       "      <th>3</th>\n",
       "      <td>South Africa</td>\n",
       "      <td>411.480</td>\n",
       "      <td>6</td>\n",
       "      <td>6738.926</td>\n",
       "    </tr>\n",
       "    <tr>\n",
       "      <th>4</th>\n",
       "      <td>Algeria</td>\n",
       "      <td>187.155</td>\n",
       "      <td>4</td>\n",
       "      <td>4151.437</td>\n",
       "    </tr>\n",
       "    <tr>\n",
       "      <th>5</th>\n",
       "      <td>Morocco</td>\n",
       "      <td>142.874</td>\n",
       "      <td>3</td>\n",
       "      <td>3896.214</td>\n",
       "    </tr>\n",
       "    <tr>\n",
       "      <th>6</th>\n",
       "      <td>Angola</td>\n",
       "      <td>124.794</td>\n",
       "      <td>3</td>\n",
       "      <td>3790.704</td>\n",
       "    </tr>\n",
       "    <tr>\n",
       "      <th>7</th>\n",
       "      <td>Kenya</td>\n",
       "      <td>114.858</td>\n",
       "      <td>2</td>\n",
       "      <td>2255.480</td>\n",
       "    </tr>\n",
       "    <tr>\n",
       "      <th>8</th>\n",
       "      <td>Ethiopia</td>\n",
       "      <td>111.181</td>\n",
       "      <td>1</td>\n",
       "      <td>1097.584</td>\n",
       "    </tr>\n",
       "    <tr>\n",
       "      <th>9</th>\n",
       "      <td>Tanzania</td>\n",
       "      <td>76.582</td>\n",
       "      <td>1</td>\n",
       "      <td>1245.040</td>\n",
       "    </tr>\n",
       "    <tr>\n",
       "      <th>10</th>\n",
       "      <td>Ghana</td>\n",
       "      <td>75.996</td>\n",
       "      <td>2</td>\n",
       "      <td>2368.814</td>\n",
       "    </tr>\n",
       "    <tr>\n",
       "      <th>11</th>\n",
       "      <td>Ivory Coast</td>\n",
       "      <td>68.630</td>\n",
       "      <td>2</td>\n",
       "      <td>2418.436</td>\n",
       "    </tr>\n",
       "    <tr>\n",
       "      <th>13</th>\n",
       "      <td>Uganda</td>\n",
       "      <td>48.352</td>\n",
       "      <td>1</td>\n",
       "      <td>1105.590</td>\n",
       "    </tr>\n",
       "    <tr>\n",
       "      <th>14</th>\n",
       "      <td>Tunisia</td>\n",
       "      <td>46.282</td>\n",
       "      <td>3</td>\n",
       "      <td>3815.820</td>\n",
       "    </tr>\n",
       "    <tr>\n",
       "      <th>15</th>\n",
       "      <td>Cameroon</td>\n",
       "      <td>44.212</td>\n",
       "      <td>1</td>\n",
       "      <td>1584.003</td>\n",
       "    </tr>\n",
       "    <tr>\n",
       "      <th>17</th>\n",
       "      <td>Libya</td>\n",
       "      <td>40.836</td>\n",
       "      <td>6</td>\n",
       "      <td>6025.680</td>\n",
       "    </tr>\n",
       "    <tr>\n",
       "      <th>18</th>\n",
       "      <td>Zimbabwe</td>\n",
       "      <td>38.280</td>\n",
       "      <td>2</td>\n",
       "      <td>2420.220</td>\n",
       "    </tr>\n",
       "    <tr>\n",
       "      <th>19</th>\n",
       "      <td>Senegal</td>\n",
       "      <td>27.542</td>\n",
       "      <td>1</td>\n",
       "      <td>1558.144</td>\n",
       "    </tr>\n",
       "    <tr>\n",
       "      <th>20</th>\n",
       "      <td>Zambia</td>\n",
       "      <td>27.025</td>\n",
       "      <td>1</td>\n",
       "      <td>1348.360</td>\n",
       "    </tr>\n",
       "    <tr>\n",
       "      <th>21</th>\n",
       "      <td>Gabon</td>\n",
       "      <td>22.221</td>\n",
       "      <td>10</td>\n",
       "      <td>10281.775</td>\n",
       "    </tr>\n",
       "    <tr>\n",
       "      <th>22</th>\n",
       "      <td>Guinea</td>\n",
       "      <td>19.745</td>\n",
       "      <td>1</td>\n",
       "      <td>1345.568</td>\n",
       "    </tr>\n",
       "    <tr>\n",
       "      <th>25</th>\n",
       "      <td>Botswana</td>\n",
       "      <td>18.005</td>\n",
       "      <td>7</td>\n",
       "      <td>7347.738</td>\n",
       "    </tr>\n",
       "    <tr>\n",
       "      <th>27</th>\n",
       "      <td>Benin</td>\n",
       "      <td>17.547</td>\n",
       "      <td>1</td>\n",
       "      <td>1366.871</td>\n",
       "    </tr>\n",
       "    <tr>\n",
       "      <th>28</th>\n",
       "      <td>Equatorial Guinea</td>\n",
       "      <td>16.877</td>\n",
       "      <td>11</td>\n",
       "      <td>11264.416</td>\n",
       "    </tr>\n",
       "    <tr>\n",
       "      <th>31</th>\n",
       "      <td>Republic of Congo</td>\n",
       "      <td>14.486</td>\n",
       "      <td>2</td>\n",
       "      <td>2945.102</td>\n",
       "    </tr>\n",
       "    <tr>\n",
       "      <th>33</th>\n",
       "      <td>Namibia</td>\n",
       "      <td>12.488</td>\n",
       "      <td>4</td>\n",
       "      <td>4808.922</td>\n",
       "    </tr>\n",
       "    <tr>\n",
       "      <th>36</th>\n",
       "      <td>Mauritius</td>\n",
       "      <td>11.497</td>\n",
       "      <td>9</td>\n",
       "      <td>9111.606</td>\n",
       "    </tr>\n",
       "    <tr>\n",
       "      <th>37</th>\n",
       "      <td>Mauritania</td>\n",
       "      <td>10.091</td>\n",
       "      <td>2</td>\n",
       "      <td>2328.251</td>\n",
       "    </tr>\n",
       "    <tr>\n",
       "      <th>41</th>\n",
       "      <td>Eswatini</td>\n",
       "      <td>4.669</td>\n",
       "      <td>4</td>\n",
       "      <td>4056.177</td>\n",
       "    </tr>\n",
       "    <tr>\n",
       "      <th>44</th>\n",
       "      <td>Djibouti</td>\n",
       "      <td>3.725</td>\n",
       "      <td>3</td>\n",
       "      <td>3665.827</td>\n",
       "    </tr>\n",
       "    <tr>\n",
       "      <th>46</th>\n",
       "      <td>Lesotho</td>\n",
       "      <td>2.507</td>\n",
       "      <td>1</td>\n",
       "      <td>1186.744</td>\n",
       "    </tr>\n",
       "    <tr>\n",
       "      <th>50</th>\n",
       "      <td>Cape Verde</td>\n",
       "      <td>2.053</td>\n",
       "      <td>3</td>\n",
       "      <td>3600.223</td>\n",
       "    </tr>\n",
       "    <tr>\n",
       "      <th>51</th>\n",
       "      <td>Seychelles</td>\n",
       "      <td>2.005</td>\n",
       "      <td>20</td>\n",
       "      <td>20265.681</td>\n",
       "    </tr>\n",
       "    <tr>\n",
       "      <th>53</th>\n",
       "      <td>Comoros</td>\n",
       "      <td>1.242</td>\n",
       "      <td>1</td>\n",
       "      <td>1299.682</td>\n",
       "    </tr>\n",
       "    <tr>\n",
       "      <th>54</th>\n",
       "      <td>São Tomé and Príncipe</td>\n",
       "      <td>0.506</td>\n",
       "      <td>2</td>\n",
       "      <td>2230.662</td>\n",
       "    </tr>\n",
       "    <tr>\n",
       "      <th>67</th>\n",
       "      <td>\\nCaste systems\\nEtiquette\\nHealth\\nLanguages...</td>\n",
       "      <td>\\nArchitecture\\nArt\\nCinema\\nCuisine\\nLiterat...</td>\n",
       "      <td>\\nArchitecture\\nArt\\nCinema\\nCuisine\\nLiterat...</td>\n",
       "      <td>\\nArchitecture\\nArt\\nCinema\\nCuisine\\nLiterat...</td>\n",
       "    </tr>\n",
       "  </tbody>\n",
       "</table>\n",
       "</div>"
      ],
      "text/plain": [
       "                                              Country  \\\n",
       "1                                             Nigeria   \n",
       "2                                               Egypt   \n",
       "3                                        South Africa   \n",
       "4                                             Algeria   \n",
       "5                                             Morocco   \n",
       "6                                              Angola   \n",
       "7                                               Kenya   \n",
       "8                                            Ethiopia   \n",
       "9                                            Tanzania   \n",
       "10                                              Ghana   \n",
       "11                                        Ivory Coast   \n",
       "13                                             Uganda   \n",
       "14                                            Tunisia   \n",
       "15                                           Cameroon   \n",
       "17                                              Libya   \n",
       "18                                           Zimbabwe   \n",
       "19                                            Senegal   \n",
       "20                                             Zambia   \n",
       "21                                              Gabon   \n",
       "22                                             Guinea   \n",
       "25                                           Botswana   \n",
       "27                                              Benin   \n",
       "28                                  Equatorial Guinea   \n",
       "31                                  Republic of Congo   \n",
       "33                                            Namibia   \n",
       "36                                          Mauritius   \n",
       "37                                         Mauritania   \n",
       "41                                           Eswatini   \n",
       "44                                           Djibouti   \n",
       "46                                            Lesotho   \n",
       "50                                         Cape Verde   \n",
       "51                                         Seychelles   \n",
       "53                                            Comoros   \n",
       "54                              São Tomé and Príncipe   \n",
       "67   \\nCaste systems\\nEtiquette\\nHealth\\nLanguages...   \n",
       "\n",
       "                                                  GDP  \\\n",
       "1                                             504.203   \n",
       "2                                             469.094   \n",
       "3                                             411.480   \n",
       "4                                             187.155   \n",
       "5                                             142.874   \n",
       "6                                             124.794   \n",
       "7                                             114.858   \n",
       "8                                             111.181   \n",
       "9                                              76.582   \n",
       "10                                             75.996   \n",
       "11                                             68.630   \n",
       "13                                             48.352   \n",
       "14                                             46.282   \n",
       "15                                             44.212   \n",
       "17                                             40.836   \n",
       "18                                             38.280   \n",
       "19                                             27.542   \n",
       "20                                             27.025   \n",
       "21                                             22.221   \n",
       "22                                             19.745   \n",
       "25                                             18.005   \n",
       "27                                             17.547   \n",
       "28                                             16.877   \n",
       "31                                             14.486   \n",
       "33                                             12.488   \n",
       "36                                             11.497   \n",
       "37                                             10.091   \n",
       "41                                              4.669   \n",
       "44                                              3.725   \n",
       "46                                              2.507   \n",
       "50                                              2.053   \n",
       "51                                              2.005   \n",
       "53                                              1.242   \n",
       "54                                              0.506   \n",
       "67   \\nArchitecture\\nArt\\nCinema\\nCuisine\\nLiterat...   \n",
       "\n",
       "                                              Ranking  \\\n",
       "1                                                   2   \n",
       "2                                                   4   \n",
       "3                                                   6   \n",
       "4                                                   4   \n",
       "5                                                   3   \n",
       "6                                                   3   \n",
       "7                                                   2   \n",
       "8                                                   1   \n",
       "9                                                   1   \n",
       "10                                                  2   \n",
       "11                                                  2   \n",
       "13                                                  1   \n",
       "14                                                  3   \n",
       "15                                                  1   \n",
       "17                                                  6   \n",
       "18                                                  2   \n",
       "19                                                  1   \n",
       "20                                                  1   \n",
       "21                                                 10   \n",
       "22                                                  1   \n",
       "25                                                  7   \n",
       "27                                                  1   \n",
       "28                                                 11   \n",
       "31                                                  2   \n",
       "33                                                  4   \n",
       "36                                                  9   \n",
       "37                                                  2   \n",
       "41                                                  4   \n",
       "44                                                  3   \n",
       "46                                                  1   \n",
       "50                                                  3   \n",
       "51                                                 20   \n",
       "53                                                  1   \n",
       "54                                                  2   \n",
       "67   \\nArchitecture\\nArt\\nCinema\\nCuisine\\nLiterat...   \n",
       "\n",
       "                                                  PCI  \n",
       "1                                            2326.230  \n",
       "2                                            4504.369  \n",
       "3                                            6738.926  \n",
       "4                                            4151.437  \n",
       "5                                            3896.214  \n",
       "6                                            3790.704  \n",
       "7                                            2255.480  \n",
       "8                                            1097.584  \n",
       "9                                            1245.040  \n",
       "10                                           2368.814  \n",
       "11                                           2418.436  \n",
       "13                                           1105.590  \n",
       "14                                           3815.820  \n",
       "15                                           1584.003  \n",
       "17                                           6025.680  \n",
       "18                                           2420.220  \n",
       "19                                           1558.144  \n",
       "20                                           1348.360  \n",
       "21                                          10281.775  \n",
       "22                                           1345.568  \n",
       "25                                           7347.738  \n",
       "27                                           1366.871  \n",
       "28                                          11264.416  \n",
       "31                                           2945.102  \n",
       "33                                           4808.922  \n",
       "36                                           9111.606  \n",
       "37                                           2328.251  \n",
       "41                                           4056.177  \n",
       "44                                           3665.827  \n",
       "46                                           1186.744  \n",
       "50                                           3600.223  \n",
       "51                                          20265.681  \n",
       "53                                           1299.682  \n",
       "54                                           2230.662  \n",
       "67   \\nArchitecture\\nArt\\nCinema\\nCuisine\\nLiterat...  "
      ]
     },
     "execution_count": 240,
     "metadata": {},
     "output_type": "execute_result"
    }
   ],
   "source": [
    "df2[\"PCI\"] = df2['Ranking']+ \"\" + df2['PCI']\n",
    "df2"
   ]
  },
  {
   "cell_type": "code",
   "execution_count": 241,
   "id": "49a802a4",
   "metadata": {},
   "outputs": [
    {
     "data": {
      "text/html": [
       "<div>\n",
       "<style scoped>\n",
       "    .dataframe tbody tr th:only-of-type {\n",
       "        vertical-align: middle;\n",
       "    }\n",
       "\n",
       "    .dataframe tbody tr th {\n",
       "        vertical-align: top;\n",
       "    }\n",
       "\n",
       "    .dataframe thead th {\n",
       "        text-align: right;\n",
       "    }\n",
       "</style>\n",
       "<table border=\"1\" class=\"dataframe\">\n",
       "  <thead>\n",
       "    <tr style=\"text-align: right;\">\n",
       "      <th></th>\n",
       "      <th>Country</th>\n",
       "      <th>GDP</th>\n",
       "      <th>PCI</th>\n",
       "    </tr>\n",
       "  </thead>\n",
       "  <tbody>\n",
       "    <tr>\n",
       "      <th>1</th>\n",
       "      <td>Nigeria</td>\n",
       "      <td>504.203</td>\n",
       "      <td>2326.230</td>\n",
       "    </tr>\n",
       "    <tr>\n",
       "      <th>2</th>\n",
       "      <td>Egypt</td>\n",
       "      <td>469.094</td>\n",
       "      <td>4504.369</td>\n",
       "    </tr>\n",
       "    <tr>\n",
       "      <th>3</th>\n",
       "      <td>South Africa</td>\n",
       "      <td>411.480</td>\n",
       "      <td>6738.926</td>\n",
       "    </tr>\n",
       "    <tr>\n",
       "      <th>4</th>\n",
       "      <td>Algeria</td>\n",
       "      <td>187.155</td>\n",
       "      <td>4151.437</td>\n",
       "    </tr>\n",
       "    <tr>\n",
       "      <th>5</th>\n",
       "      <td>Morocco</td>\n",
       "      <td>142.874</td>\n",
       "      <td>3896.214</td>\n",
       "    </tr>\n",
       "    <tr>\n",
       "      <th>6</th>\n",
       "      <td>Angola</td>\n",
       "      <td>124.794</td>\n",
       "      <td>3790.704</td>\n",
       "    </tr>\n",
       "    <tr>\n",
       "      <th>7</th>\n",
       "      <td>Kenya</td>\n",
       "      <td>114.858</td>\n",
       "      <td>2255.480</td>\n",
       "    </tr>\n",
       "    <tr>\n",
       "      <th>8</th>\n",
       "      <td>Ethiopia</td>\n",
       "      <td>111.181</td>\n",
       "      <td>1097.584</td>\n",
       "    </tr>\n",
       "    <tr>\n",
       "      <th>9</th>\n",
       "      <td>Tanzania</td>\n",
       "      <td>76.582</td>\n",
       "      <td>1245.040</td>\n",
       "    </tr>\n",
       "    <tr>\n",
       "      <th>10</th>\n",
       "      <td>Ghana</td>\n",
       "      <td>75.996</td>\n",
       "      <td>2368.814</td>\n",
       "    </tr>\n",
       "    <tr>\n",
       "      <th>11</th>\n",
       "      <td>Ivory Coast</td>\n",
       "      <td>68.630</td>\n",
       "      <td>2418.436</td>\n",
       "    </tr>\n",
       "    <tr>\n",
       "      <th>13</th>\n",
       "      <td>Uganda</td>\n",
       "      <td>48.352</td>\n",
       "      <td>1105.590</td>\n",
       "    </tr>\n",
       "    <tr>\n",
       "      <th>14</th>\n",
       "      <td>Tunisia</td>\n",
       "      <td>46.282</td>\n",
       "      <td>3815.820</td>\n",
       "    </tr>\n",
       "    <tr>\n",
       "      <th>15</th>\n",
       "      <td>Cameroon</td>\n",
       "      <td>44.212</td>\n",
       "      <td>1584.003</td>\n",
       "    </tr>\n",
       "    <tr>\n",
       "      <th>17</th>\n",
       "      <td>Libya</td>\n",
       "      <td>40.836</td>\n",
       "      <td>6025.680</td>\n",
       "    </tr>\n",
       "    <tr>\n",
       "      <th>18</th>\n",
       "      <td>Zimbabwe</td>\n",
       "      <td>38.280</td>\n",
       "      <td>2420.220</td>\n",
       "    </tr>\n",
       "    <tr>\n",
       "      <th>19</th>\n",
       "      <td>Senegal</td>\n",
       "      <td>27.542</td>\n",
       "      <td>1558.144</td>\n",
       "    </tr>\n",
       "    <tr>\n",
       "      <th>20</th>\n",
       "      <td>Zambia</td>\n",
       "      <td>27.025</td>\n",
       "      <td>1348.360</td>\n",
       "    </tr>\n",
       "    <tr>\n",
       "      <th>21</th>\n",
       "      <td>Gabon</td>\n",
       "      <td>22.221</td>\n",
       "      <td>10281.775</td>\n",
       "    </tr>\n",
       "    <tr>\n",
       "      <th>22</th>\n",
       "      <td>Guinea</td>\n",
       "      <td>19.745</td>\n",
       "      <td>1345.568</td>\n",
       "    </tr>\n",
       "    <tr>\n",
       "      <th>25</th>\n",
       "      <td>Botswana</td>\n",
       "      <td>18.005</td>\n",
       "      <td>7347.738</td>\n",
       "    </tr>\n",
       "    <tr>\n",
       "      <th>27</th>\n",
       "      <td>Benin</td>\n",
       "      <td>17.547</td>\n",
       "      <td>1366.871</td>\n",
       "    </tr>\n",
       "    <tr>\n",
       "      <th>28</th>\n",
       "      <td>Equatorial Guinea</td>\n",
       "      <td>16.877</td>\n",
       "      <td>11264.416</td>\n",
       "    </tr>\n",
       "    <tr>\n",
       "      <th>31</th>\n",
       "      <td>Republic of Congo</td>\n",
       "      <td>14.486</td>\n",
       "      <td>2945.102</td>\n",
       "    </tr>\n",
       "    <tr>\n",
       "      <th>33</th>\n",
       "      <td>Namibia</td>\n",
       "      <td>12.488</td>\n",
       "      <td>4808.922</td>\n",
       "    </tr>\n",
       "    <tr>\n",
       "      <th>36</th>\n",
       "      <td>Mauritius</td>\n",
       "      <td>11.497</td>\n",
       "      <td>9111.606</td>\n",
       "    </tr>\n",
       "    <tr>\n",
       "      <th>37</th>\n",
       "      <td>Mauritania</td>\n",
       "      <td>10.091</td>\n",
       "      <td>2328.251</td>\n",
       "    </tr>\n",
       "    <tr>\n",
       "      <th>41</th>\n",
       "      <td>Eswatini</td>\n",
       "      <td>4.669</td>\n",
       "      <td>4056.177</td>\n",
       "    </tr>\n",
       "    <tr>\n",
       "      <th>44</th>\n",
       "      <td>Djibouti</td>\n",
       "      <td>3.725</td>\n",
       "      <td>3665.827</td>\n",
       "    </tr>\n",
       "    <tr>\n",
       "      <th>46</th>\n",
       "      <td>Lesotho</td>\n",
       "      <td>2.507</td>\n",
       "      <td>1186.744</td>\n",
       "    </tr>\n",
       "    <tr>\n",
       "      <th>50</th>\n",
       "      <td>Cape Verde</td>\n",
       "      <td>2.053</td>\n",
       "      <td>3600.223</td>\n",
       "    </tr>\n",
       "    <tr>\n",
       "      <th>51</th>\n",
       "      <td>Seychelles</td>\n",
       "      <td>2.005</td>\n",
       "      <td>20265.681</td>\n",
       "    </tr>\n",
       "    <tr>\n",
       "      <th>53</th>\n",
       "      <td>Comoros</td>\n",
       "      <td>1.242</td>\n",
       "      <td>1299.682</td>\n",
       "    </tr>\n",
       "    <tr>\n",
       "      <th>54</th>\n",
       "      <td>São Tomé and Príncipe</td>\n",
       "      <td>0.506</td>\n",
       "      <td>2230.662</td>\n",
       "    </tr>\n",
       "    <tr>\n",
       "      <th>67</th>\n",
       "      <td>\\nCaste systems\\nEtiquette\\nHealth\\nLanguages...</td>\n",
       "      <td>\\nArchitecture\\nArt\\nCinema\\nCuisine\\nLiterat...</td>\n",
       "      <td>\\nArchitecture\\nArt\\nCinema\\nCuisine\\nLiterat...</td>\n",
       "    </tr>\n",
       "  </tbody>\n",
       "</table>\n",
       "</div>"
      ],
      "text/plain": [
       "                                              Country  \\\n",
       "1                                             Nigeria   \n",
       "2                                               Egypt   \n",
       "3                                        South Africa   \n",
       "4                                             Algeria   \n",
       "5                                             Morocco   \n",
       "6                                              Angola   \n",
       "7                                               Kenya   \n",
       "8                                            Ethiopia   \n",
       "9                                            Tanzania   \n",
       "10                                              Ghana   \n",
       "11                                        Ivory Coast   \n",
       "13                                             Uganda   \n",
       "14                                            Tunisia   \n",
       "15                                           Cameroon   \n",
       "17                                              Libya   \n",
       "18                                           Zimbabwe   \n",
       "19                                            Senegal   \n",
       "20                                             Zambia   \n",
       "21                                              Gabon   \n",
       "22                                             Guinea   \n",
       "25                                           Botswana   \n",
       "27                                              Benin   \n",
       "28                                  Equatorial Guinea   \n",
       "31                                  Republic of Congo   \n",
       "33                                            Namibia   \n",
       "36                                          Mauritius   \n",
       "37                                         Mauritania   \n",
       "41                                           Eswatini   \n",
       "44                                           Djibouti   \n",
       "46                                            Lesotho   \n",
       "50                                         Cape Verde   \n",
       "51                                         Seychelles   \n",
       "53                                            Comoros   \n",
       "54                              São Tomé and Príncipe   \n",
       "67   \\nCaste systems\\nEtiquette\\nHealth\\nLanguages...   \n",
       "\n",
       "                                                  GDP  \\\n",
       "1                                             504.203   \n",
       "2                                             469.094   \n",
       "3                                             411.480   \n",
       "4                                             187.155   \n",
       "5                                             142.874   \n",
       "6                                             124.794   \n",
       "7                                             114.858   \n",
       "8                                             111.181   \n",
       "9                                              76.582   \n",
       "10                                             75.996   \n",
       "11                                             68.630   \n",
       "13                                             48.352   \n",
       "14                                             46.282   \n",
       "15                                             44.212   \n",
       "17                                             40.836   \n",
       "18                                             38.280   \n",
       "19                                             27.542   \n",
       "20                                             27.025   \n",
       "21                                             22.221   \n",
       "22                                             19.745   \n",
       "25                                             18.005   \n",
       "27                                             17.547   \n",
       "28                                             16.877   \n",
       "31                                             14.486   \n",
       "33                                             12.488   \n",
       "36                                             11.497   \n",
       "37                                             10.091   \n",
       "41                                              4.669   \n",
       "44                                              3.725   \n",
       "46                                              2.507   \n",
       "50                                              2.053   \n",
       "51                                              2.005   \n",
       "53                                              1.242   \n",
       "54                                              0.506   \n",
       "67   \\nArchitecture\\nArt\\nCinema\\nCuisine\\nLiterat...   \n",
       "\n",
       "                                                  PCI  \n",
       "1                                            2326.230  \n",
       "2                                            4504.369  \n",
       "3                                            6738.926  \n",
       "4                                            4151.437  \n",
       "5                                            3896.214  \n",
       "6                                            3790.704  \n",
       "7                                            2255.480  \n",
       "8                                            1097.584  \n",
       "9                                            1245.040  \n",
       "10                                           2368.814  \n",
       "11                                           2418.436  \n",
       "13                                           1105.590  \n",
       "14                                           3815.820  \n",
       "15                                           1584.003  \n",
       "17                                           6025.680  \n",
       "18                                           2420.220  \n",
       "19                                           1558.144  \n",
       "20                                           1348.360  \n",
       "21                                          10281.775  \n",
       "22                                           1345.568  \n",
       "25                                           7347.738  \n",
       "27                                           1366.871  \n",
       "28                                          11264.416  \n",
       "31                                           2945.102  \n",
       "33                                           4808.922  \n",
       "36                                           9111.606  \n",
       "37                                           2328.251  \n",
       "41                                           4056.177  \n",
       "44                                           3665.827  \n",
       "46                                           1186.744  \n",
       "50                                           3600.223  \n",
       "51                                          20265.681  \n",
       "53                                           1299.682  \n",
       "54                                           2230.662  \n",
       "67   \\nArchitecture\\nArt\\nCinema\\nCuisine\\nLiterat...  "
      ]
     },
     "execution_count": 241,
     "metadata": {},
     "output_type": "execute_result"
    }
   ],
   "source": [
    "df2.drop(columns =\"Ranking\", inplace = True)\n",
    "df2"
   ]
  },
  {
   "cell_type": "code",
   "execution_count": 242,
   "id": "5fad2546",
   "metadata": {},
   "outputs": [
    {
     "data": {
      "text/html": [
       "<div>\n",
       "<style scoped>\n",
       "    .dataframe tbody tr th:only-of-type {\n",
       "        vertical-align: middle;\n",
       "    }\n",
       "\n",
       "    .dataframe tbody tr th {\n",
       "        vertical-align: top;\n",
       "    }\n",
       "\n",
       "    .dataframe thead th {\n",
       "        text-align: right;\n",
       "    }\n",
       "</style>\n",
       "<table border=\"1\" class=\"dataframe\">\n",
       "  <thead>\n",
       "    <tr style=\"text-align: right;\">\n",
       "      <th></th>\n",
       "      <th>Country</th>\n",
       "      <th>GDP</th>\n",
       "      <th>PCI</th>\n",
       "    </tr>\n",
       "  </thead>\n",
       "  <tbody>\n",
       "    <tr>\n",
       "      <th>1</th>\n",
       "      <td>Nigeria</td>\n",
       "      <td>504.203</td>\n",
       "      <td>2326.230</td>\n",
       "    </tr>\n",
       "    <tr>\n",
       "      <th>2</th>\n",
       "      <td>Egypt</td>\n",
       "      <td>469.094</td>\n",
       "      <td>4504.369</td>\n",
       "    </tr>\n",
       "    <tr>\n",
       "      <th>3</th>\n",
       "      <td>South Africa</td>\n",
       "      <td>411.480</td>\n",
       "      <td>6738.926</td>\n",
       "    </tr>\n",
       "    <tr>\n",
       "      <th>4</th>\n",
       "      <td>Algeria</td>\n",
       "      <td>187.155</td>\n",
       "      <td>4151.437</td>\n",
       "    </tr>\n",
       "    <tr>\n",
       "      <th>5</th>\n",
       "      <td>Morocco</td>\n",
       "      <td>142.874</td>\n",
       "      <td>3896.214</td>\n",
       "    </tr>\n",
       "    <tr>\n",
       "      <th>6</th>\n",
       "      <td>Angola</td>\n",
       "      <td>124.794</td>\n",
       "      <td>3790.704</td>\n",
       "    </tr>\n",
       "    <tr>\n",
       "      <th>7</th>\n",
       "      <td>Kenya</td>\n",
       "      <td>114.858</td>\n",
       "      <td>2255.480</td>\n",
       "    </tr>\n",
       "    <tr>\n",
       "      <th>8</th>\n",
       "      <td>Ethiopia</td>\n",
       "      <td>111.181</td>\n",
       "      <td>1097.584</td>\n",
       "    </tr>\n",
       "    <tr>\n",
       "      <th>9</th>\n",
       "      <td>Tanzania</td>\n",
       "      <td>76.582</td>\n",
       "      <td>1245.040</td>\n",
       "    </tr>\n",
       "    <tr>\n",
       "      <th>10</th>\n",
       "      <td>Ghana</td>\n",
       "      <td>75.996</td>\n",
       "      <td>2368.814</td>\n",
       "    </tr>\n",
       "    <tr>\n",
       "      <th>11</th>\n",
       "      <td>Ivory Coast</td>\n",
       "      <td>68.630</td>\n",
       "      <td>2418.436</td>\n",
       "    </tr>\n",
       "    <tr>\n",
       "      <th>13</th>\n",
       "      <td>Uganda</td>\n",
       "      <td>48.352</td>\n",
       "      <td>1105.590</td>\n",
       "    </tr>\n",
       "    <tr>\n",
       "      <th>14</th>\n",
       "      <td>Tunisia</td>\n",
       "      <td>46.282</td>\n",
       "      <td>3815.820</td>\n",
       "    </tr>\n",
       "    <tr>\n",
       "      <th>15</th>\n",
       "      <td>Cameroon</td>\n",
       "      <td>44.212</td>\n",
       "      <td>1584.003</td>\n",
       "    </tr>\n",
       "    <tr>\n",
       "      <th>17</th>\n",
       "      <td>Libya</td>\n",
       "      <td>40.836</td>\n",
       "      <td>6025.680</td>\n",
       "    </tr>\n",
       "    <tr>\n",
       "      <th>18</th>\n",
       "      <td>Zimbabwe</td>\n",
       "      <td>38.280</td>\n",
       "      <td>2420.220</td>\n",
       "    </tr>\n",
       "    <tr>\n",
       "      <th>19</th>\n",
       "      <td>Senegal</td>\n",
       "      <td>27.542</td>\n",
       "      <td>1558.144</td>\n",
       "    </tr>\n",
       "    <tr>\n",
       "      <th>20</th>\n",
       "      <td>Zambia</td>\n",
       "      <td>27.025</td>\n",
       "      <td>1348.360</td>\n",
       "    </tr>\n",
       "    <tr>\n",
       "      <th>21</th>\n",
       "      <td>Gabon</td>\n",
       "      <td>22.221</td>\n",
       "      <td>10281.775</td>\n",
       "    </tr>\n",
       "    <tr>\n",
       "      <th>22</th>\n",
       "      <td>Guinea</td>\n",
       "      <td>19.745</td>\n",
       "      <td>1345.568</td>\n",
       "    </tr>\n",
       "    <tr>\n",
       "      <th>25</th>\n",
       "      <td>Botswana</td>\n",
       "      <td>18.005</td>\n",
       "      <td>7347.738</td>\n",
       "    </tr>\n",
       "    <tr>\n",
       "      <th>27</th>\n",
       "      <td>Benin</td>\n",
       "      <td>17.547</td>\n",
       "      <td>1366.871</td>\n",
       "    </tr>\n",
       "    <tr>\n",
       "      <th>28</th>\n",
       "      <td>Equatorial Guinea</td>\n",
       "      <td>16.877</td>\n",
       "      <td>11264.416</td>\n",
       "    </tr>\n",
       "    <tr>\n",
       "      <th>31</th>\n",
       "      <td>Republic of Congo</td>\n",
       "      <td>14.486</td>\n",
       "      <td>2945.102</td>\n",
       "    </tr>\n",
       "    <tr>\n",
       "      <th>33</th>\n",
       "      <td>Namibia</td>\n",
       "      <td>12.488</td>\n",
       "      <td>4808.922</td>\n",
       "    </tr>\n",
       "    <tr>\n",
       "      <th>36</th>\n",
       "      <td>Mauritius</td>\n",
       "      <td>11.497</td>\n",
       "      <td>9111.606</td>\n",
       "    </tr>\n",
       "    <tr>\n",
       "      <th>37</th>\n",
       "      <td>Mauritania</td>\n",
       "      <td>10.091</td>\n",
       "      <td>2328.251</td>\n",
       "    </tr>\n",
       "    <tr>\n",
       "      <th>41</th>\n",
       "      <td>Eswatini</td>\n",
       "      <td>4.669</td>\n",
       "      <td>4056.177</td>\n",
       "    </tr>\n",
       "    <tr>\n",
       "      <th>44</th>\n",
       "      <td>Djibouti</td>\n",
       "      <td>3.725</td>\n",
       "      <td>3665.827</td>\n",
       "    </tr>\n",
       "    <tr>\n",
       "      <th>46</th>\n",
       "      <td>Lesotho</td>\n",
       "      <td>2.507</td>\n",
       "      <td>1186.744</td>\n",
       "    </tr>\n",
       "    <tr>\n",
       "      <th>50</th>\n",
       "      <td>Cape Verde</td>\n",
       "      <td>2.053</td>\n",
       "      <td>3600.223</td>\n",
       "    </tr>\n",
       "    <tr>\n",
       "      <th>51</th>\n",
       "      <td>Seychelles</td>\n",
       "      <td>2.005</td>\n",
       "      <td>20265.681</td>\n",
       "    </tr>\n",
       "    <tr>\n",
       "      <th>53</th>\n",
       "      <td>Comoros</td>\n",
       "      <td>1.242</td>\n",
       "      <td>1299.682</td>\n",
       "    </tr>\n",
       "    <tr>\n",
       "      <th>54</th>\n",
       "      <td>São Tomé and Príncipe</td>\n",
       "      <td>0.506</td>\n",
       "      <td>2230.662</td>\n",
       "    </tr>\n",
       "  </tbody>\n",
       "</table>\n",
       "</div>"
      ],
      "text/plain": [
       "                    Country       GDP         PCI\n",
       "1                   Nigeria   504.203    2326.230\n",
       "2                     Egypt   469.094    4504.369\n",
       "3              South Africa   411.480    6738.926\n",
       "4                   Algeria   187.155    4151.437\n",
       "5                   Morocco   142.874    3896.214\n",
       "6                    Angola   124.794    3790.704\n",
       "7                     Kenya   114.858    2255.480\n",
       "8                  Ethiopia   111.181    1097.584\n",
       "9                  Tanzania    76.582    1245.040\n",
       "10                    Ghana    75.996    2368.814\n",
       "11              Ivory Coast    68.630    2418.436\n",
       "13                   Uganda    48.352    1105.590\n",
       "14                  Tunisia    46.282    3815.820\n",
       "15                 Cameroon    44.212    1584.003\n",
       "17                    Libya    40.836    6025.680\n",
       "18                 Zimbabwe    38.280    2420.220\n",
       "19                  Senegal    27.542    1558.144\n",
       "20                   Zambia    27.025    1348.360\n",
       "21                    Gabon    22.221   10281.775\n",
       "22                   Guinea    19.745    1345.568\n",
       "25                 Botswana    18.005    7347.738\n",
       "27                    Benin    17.547    1366.871\n",
       "28        Equatorial Guinea    16.877   11264.416\n",
       "31        Republic of Congo    14.486    2945.102\n",
       "33                  Namibia    12.488    4808.922\n",
       "36                Mauritius    11.497    9111.606\n",
       "37               Mauritania    10.091    2328.251\n",
       "41                 Eswatini     4.669    4056.177\n",
       "44                 Djibouti     3.725    3665.827\n",
       "46                  Lesotho     2.507    1186.744\n",
       "50               Cape Verde     2.053    3600.223\n",
       "51               Seychelles     2.005   20265.681\n",
       "53                  Comoros     1.242    1299.682\n",
       "54    São Tomé and Príncipe     0.506    2230.662"
      ]
     },
     "execution_count": 242,
     "metadata": {},
     "output_type": "execute_result"
    }
   ],
   "source": [
    "df_3 = df2.iloc[0:34,:]\n",
    "df_3"
   ]
  },
  {
   "cell_type": "code",
   "execution_count": 243,
   "id": "49300c66",
   "metadata": {},
   "outputs": [
    {
     "data": {
      "text/html": [
       "<div>\n",
       "<style scoped>\n",
       "    .dataframe tbody tr th:only-of-type {\n",
       "        vertical-align: middle;\n",
       "    }\n",
       "\n",
       "    .dataframe tbody tr th {\n",
       "        vertical-align: top;\n",
       "    }\n",
       "\n",
       "    .dataframe thead th {\n",
       "        text-align: right;\n",
       "    }\n",
       "</style>\n",
       "<table border=\"1\" class=\"dataframe\">\n",
       "  <thead>\n",
       "    <tr style=\"text-align: right;\">\n",
       "      <th></th>\n",
       "      <th>Country</th>\n",
       "      <th>GDP</th>\n",
       "      <th>PCI</th>\n",
       "    </tr>\n",
       "  </thead>\n",
       "  <tbody>\n",
       "    <tr>\n",
       "      <th>1</th>\n",
       "      <td>Nigeria</td>\n",
       "      <td>504.203</td>\n",
       "      <td>2326.230</td>\n",
       "    </tr>\n",
       "    <tr>\n",
       "      <th>2</th>\n",
       "      <td>Egypt</td>\n",
       "      <td>469.094</td>\n",
       "      <td>4504.369</td>\n",
       "    </tr>\n",
       "    <tr>\n",
       "      <th>3</th>\n",
       "      <td>South Africa</td>\n",
       "      <td>411.480</td>\n",
       "      <td>6738.926</td>\n",
       "    </tr>\n",
       "    <tr>\n",
       "      <th>4</th>\n",
       "      <td>Algeria</td>\n",
       "      <td>187.155</td>\n",
       "      <td>4151.437</td>\n",
       "    </tr>\n",
       "    <tr>\n",
       "      <th>5</th>\n",
       "      <td>Morocco</td>\n",
       "      <td>142.874</td>\n",
       "      <td>3896.214</td>\n",
       "    </tr>\n",
       "    <tr>\n",
       "      <th>6</th>\n",
       "      <td>Angola</td>\n",
       "      <td>124.794</td>\n",
       "      <td>3790.704</td>\n",
       "    </tr>\n",
       "    <tr>\n",
       "      <th>7</th>\n",
       "      <td>Kenya</td>\n",
       "      <td>114.858</td>\n",
       "      <td>2255.480</td>\n",
       "    </tr>\n",
       "    <tr>\n",
       "      <th>8</th>\n",
       "      <td>Ethiopia</td>\n",
       "      <td>111.181</td>\n",
       "      <td>1097.584</td>\n",
       "    </tr>\n",
       "    <tr>\n",
       "      <th>9</th>\n",
       "      <td>Tanzania</td>\n",
       "      <td>76.582</td>\n",
       "      <td>1245.040</td>\n",
       "    </tr>\n",
       "    <tr>\n",
       "      <th>10</th>\n",
       "      <td>Ghana</td>\n",
       "      <td>75.996</td>\n",
       "      <td>2368.814</td>\n",
       "    </tr>\n",
       "    <tr>\n",
       "      <th>11</th>\n",
       "      <td>Ivory Coast</td>\n",
       "      <td>68.630</td>\n",
       "      <td>2418.436</td>\n",
       "    </tr>\n",
       "    <tr>\n",
       "      <th>13</th>\n",
       "      <td>Uganda</td>\n",
       "      <td>48.352</td>\n",
       "      <td>1105.590</td>\n",
       "    </tr>\n",
       "    <tr>\n",
       "      <th>14</th>\n",
       "      <td>Tunisia</td>\n",
       "      <td>46.282</td>\n",
       "      <td>3815.820</td>\n",
       "    </tr>\n",
       "    <tr>\n",
       "      <th>15</th>\n",
       "      <td>Cameroon</td>\n",
       "      <td>44.212</td>\n",
       "      <td>1584.003</td>\n",
       "    </tr>\n",
       "    <tr>\n",
       "      <th>17</th>\n",
       "      <td>Libya</td>\n",
       "      <td>40.836</td>\n",
       "      <td>6025.680</td>\n",
       "    </tr>\n",
       "    <tr>\n",
       "      <th>18</th>\n",
       "      <td>Zimbabwe</td>\n",
       "      <td>38.280</td>\n",
       "      <td>2420.220</td>\n",
       "    </tr>\n",
       "    <tr>\n",
       "      <th>19</th>\n",
       "      <td>Senegal</td>\n",
       "      <td>27.542</td>\n",
       "      <td>1558.144</td>\n",
       "    </tr>\n",
       "    <tr>\n",
       "      <th>20</th>\n",
       "      <td>Zambia</td>\n",
       "      <td>27.025</td>\n",
       "      <td>1348.360</td>\n",
       "    </tr>\n",
       "    <tr>\n",
       "      <th>21</th>\n",
       "      <td>Gabon</td>\n",
       "      <td>22.221</td>\n",
       "      <td>10281.775</td>\n",
       "    </tr>\n",
       "    <tr>\n",
       "      <th>22</th>\n",
       "      <td>Guinea</td>\n",
       "      <td>19.745</td>\n",
       "      <td>1345.568</td>\n",
       "    </tr>\n",
       "    <tr>\n",
       "      <th>25</th>\n",
       "      <td>Botswana</td>\n",
       "      <td>18.005</td>\n",
       "      <td>7347.738</td>\n",
       "    </tr>\n",
       "    <tr>\n",
       "      <th>27</th>\n",
       "      <td>Benin</td>\n",
       "      <td>17.547</td>\n",
       "      <td>1366.871</td>\n",
       "    </tr>\n",
       "    <tr>\n",
       "      <th>28</th>\n",
       "      <td>Equatorial Guinea</td>\n",
       "      <td>16.877</td>\n",
       "      <td>11264.416</td>\n",
       "    </tr>\n",
       "    <tr>\n",
       "      <th>31</th>\n",
       "      <td>Republic of Congo</td>\n",
       "      <td>14.486</td>\n",
       "      <td>2945.102</td>\n",
       "    </tr>\n",
       "    <tr>\n",
       "      <th>33</th>\n",
       "      <td>Namibia</td>\n",
       "      <td>12.488</td>\n",
       "      <td>4808.922</td>\n",
       "    </tr>\n",
       "    <tr>\n",
       "      <th>36</th>\n",
       "      <td>Mauritius</td>\n",
       "      <td>11.497</td>\n",
       "      <td>9111.606</td>\n",
       "    </tr>\n",
       "    <tr>\n",
       "      <th>37</th>\n",
       "      <td>Mauritania</td>\n",
       "      <td>10.091</td>\n",
       "      <td>2328.251</td>\n",
       "    </tr>\n",
       "    <tr>\n",
       "      <th>41</th>\n",
       "      <td>Eswatini</td>\n",
       "      <td>4.669</td>\n",
       "      <td>4056.177</td>\n",
       "    </tr>\n",
       "    <tr>\n",
       "      <th>44</th>\n",
       "      <td>Djibouti</td>\n",
       "      <td>3.725</td>\n",
       "      <td>3665.827</td>\n",
       "    </tr>\n",
       "    <tr>\n",
       "      <th>46</th>\n",
       "      <td>Lesotho</td>\n",
       "      <td>2.507</td>\n",
       "      <td>1186.744</td>\n",
       "    </tr>\n",
       "    <tr>\n",
       "      <th>50</th>\n",
       "      <td>Cape Verde</td>\n",
       "      <td>2.053</td>\n",
       "      <td>3600.223</td>\n",
       "    </tr>\n",
       "    <tr>\n",
       "      <th>51</th>\n",
       "      <td>Seychelles</td>\n",
       "      <td>2.005</td>\n",
       "      <td>20265.681</td>\n",
       "    </tr>\n",
       "    <tr>\n",
       "      <th>53</th>\n",
       "      <td>Comoros</td>\n",
       "      <td>1.242</td>\n",
       "      <td>1299.682</td>\n",
       "    </tr>\n",
       "    <tr>\n",
       "      <th>54</th>\n",
       "      <td>São Tomé and Príncipe</td>\n",
       "      <td>0.506</td>\n",
       "      <td>2230.662</td>\n",
       "    </tr>\n",
       "  </tbody>\n",
       "</table>\n",
       "</div>"
      ],
      "text/plain": [
       "                    Country       GDP         PCI\n",
       "1                   Nigeria   504.203    2326.230\n",
       "2                     Egypt   469.094    4504.369\n",
       "3              South Africa   411.480    6738.926\n",
       "4                   Algeria   187.155    4151.437\n",
       "5                   Morocco   142.874    3896.214\n",
       "6                    Angola   124.794    3790.704\n",
       "7                     Kenya   114.858    2255.480\n",
       "8                  Ethiopia   111.181    1097.584\n",
       "9                  Tanzania    76.582    1245.040\n",
       "10                    Ghana    75.996    2368.814\n",
       "11              Ivory Coast    68.630    2418.436\n",
       "13                   Uganda    48.352    1105.590\n",
       "14                  Tunisia    46.282    3815.820\n",
       "15                 Cameroon    44.212    1584.003\n",
       "17                    Libya    40.836    6025.680\n",
       "18                 Zimbabwe    38.280    2420.220\n",
       "19                  Senegal    27.542    1558.144\n",
       "20                   Zambia    27.025    1348.360\n",
       "21                    Gabon    22.221   10281.775\n",
       "22                   Guinea    19.745    1345.568\n",
       "25                 Botswana    18.005    7347.738\n",
       "27                    Benin    17.547    1366.871\n",
       "28        Equatorial Guinea    16.877   11264.416\n",
       "31        Republic of Congo    14.486    2945.102\n",
       "33                  Namibia    12.488    4808.922\n",
       "36                Mauritius    11.497    9111.606\n",
       "37               Mauritania    10.091    2328.251\n",
       "41                 Eswatini     4.669    4056.177\n",
       "44                 Djibouti     3.725    3665.827\n",
       "46                  Lesotho     2.507    1186.744\n",
       "50               Cape Verde     2.053    3600.223\n",
       "51               Seychelles     2.005   20265.681\n",
       "53                  Comoros     1.242    1299.682\n",
       "54    São Tomé and Príncipe     0.506    2230.662"
      ]
     },
     "execution_count": 243,
     "metadata": {},
     "output_type": "execute_result"
    }
   ],
   "source": [
    "df_3"
   ]
  },
  {
   "cell_type": "code",
   "execution_count": 244,
   "id": "41178992",
   "metadata": {},
   "outputs": [
    {
     "data": {
      "image/png": "[encoded data removed]",
      "text/plain": [
       "<Figure size 1080x360 with 1 Axes>"
      ]
     },
     "metadata": {
      "needs_background": "light"
     },
     "output_type": "display_data"
    }
   ],
   "source": [
    "df_3[\"GDP\"].astype(float).plot(kind=\"barh\");"
   ]
  },
  {
   "cell_type": "code",
   "execution_count": 245,
   "id": "a9c1c4d5",
   "metadata": {},
   "outputs": [
    {
     "name": "stdout",
     "output_type": "stream",
     "text": [
      "<class 'pandas.core.frame.DataFrame'>\n",
      "Int64Index: 34 entries, 1 to 54\n",
      "Data columns (total 3 columns):\n",
      " #   Column   Non-Null Count  Dtype \n",
      "---  ------   --------------  ----- \n",
      " 0   Country  34 non-null     object\n",
      " 1   GDP      34 non-null     object\n",
      " 2   PCI      34 non-null     object\n",
      "dtypes: object(3)\n",
      "memory usage: 1.1+ KB\n"
     ]
    }
   ],
   "source": [
    "df_3.info()"
   ]
  },
  {
   "cell_type": "code",
   "execution_count": 246,
   "id": "207a538d",
   "metadata": {},
   "outputs": [
    {
     "name": "stderr",
     "output_type": "stream",
     "text": [
      "C:\\Users\\kelvin\\AppData\\Local\\Temp\\ipykernel_2456\\2518652009.py:1: SettingWithCopyWarning:\n",
      "\n",
      "\n",
      "A value is trying to be set on a copy of a slice from a DataFrame.\n",
      "Try using .loc[row_indexer,col_indexer] = value instead\n",
      "\n",
      "See the caveats in the documentation: https://pandas.pydata.org/pandas-docs/stable/user_guide/indexing.html#returning-a-view-versus-a-copy\n",
      "\n"
     ]
    }
   ],
   "source": [
    "df_3[\"GDP\"] = df_3[\"GDP\"].astype(float)"
   ]
  },
  {
   "cell_type": "code",
   "execution_count": 247,
   "id": "f3500ced",
   "metadata": {},
   "outputs": [
    {
     "name": "stderr",
     "output_type": "stream",
     "text": [
      "C:\\Users\\kelvin\\AppData\\Local\\Temp\\ipykernel_2456\\2783146089.py:1: SettingWithCopyWarning:\n",
      "\n",
      "\n",
      "A value is trying to be set on a copy of a slice from a DataFrame.\n",
      "Try using .loc[row_indexer,col_indexer] = value instead\n",
      "\n",
      "See the caveats in the documentation: https://pandas.pydata.org/pandas-docs/stable/user_guide/indexing.html#returning-a-view-versus-a-copy\n",
      "\n"
     ]
    }
   ],
   "source": [
    "df_3[\"PCI\"] = df_3[\"PCI\"].astype(float)"
   ]
  },
  {
   "cell_type": "code",
   "execution_count": 248,
   "id": "c5754a9f",
   "metadata": {},
   "outputs": [
    {
     "data": {
      "text/plain": [
       "<AxesSubplot:>"
      ]
     },
     "execution_count": 248,
     "metadata": {},
     "output_type": "execute_result"
    },
    {
     "data": {
      "image/png": "[encoded data removed]",
      "text/plain": [
       "<Figure size 1080x360 with 1 Axes>"
      ]
     },
     "metadata": {
      "needs_background": "light"
     },
     "output_type": "display_data"
    }
   ],
   "source": [
    "df_3[\"PCI\"].astype(float).plot(kind=\"barh\")"
   ]
  },
  {
   "cell_type": "code",
   "execution_count": 249,
   "id": "39172190",
   "metadata": {},
   "outputs": [],
   "source": [
    "#df_3 = df_3[\"GDP\"].astype(float)\n",
    "#df_3 = df_3[\"PCI\"].astype(float)"
   ]
  },
  {
   "cell_type": "code",
   "execution_count": 250,
   "id": "afa6399b",
   "metadata": {},
   "outputs": [
    {
     "data": {
      "text/plain": [
       "4110.479294117648"
      ]
     },
     "execution_count": 250,
     "metadata": {},
     "output_type": "execute_result"
    }
   ],
   "source": [
    "df_3[\"PCI\"].mean()"
   ]
  },
  {
   "cell_type": "code",
   "execution_count": 251,
   "id": "531414d7",
   "metadata": {},
   "outputs": [
    {
     "data": {
      "text/plain": [
       "1      2326.230\n",
       "2      4504.369\n",
       "3      6738.926\n",
       "4      4151.437\n",
       "5      3896.214\n",
       "6      3790.704\n",
       "7      2255.480\n",
       "8      1097.584\n",
       "9      1245.040\n",
       "10     2368.814\n",
       "11     2418.436\n",
       "13     1105.590\n",
       "14     3815.820\n",
       "15     1584.003\n",
       "17     6025.680\n",
       "18     2420.220\n",
       "19     1558.144\n",
       "20     1348.360\n",
       "21    10281.775\n",
       "22     1345.568\n",
       "25     7347.738\n",
       "27     1366.871\n",
       "28    11264.416\n",
       "31     2945.102\n",
       "33     4808.922\n",
       "36     9111.606\n",
       "37     2328.251\n",
       "41     4056.177\n",
       "44     3665.827\n",
       "46     1186.744\n",
       "50     3600.223\n",
       "51    20265.681\n",
       "53     1299.682\n",
       "54     2230.662\n",
       "Name: PCI, dtype: float64"
      ]
     },
     "execution_count": 251,
     "metadata": {},
     "output_type": "execute_result"
    }
   ],
   "source": [
    "df_3.groupby('Country')['PCI'].transform(lambda x: x.mean())"
   ]
  },
  {
   "cell_type": "code",
   "execution_count": 252,
   "id": "48041041",
   "metadata": {},
   "outputs": [
    {
     "data": {
      "text/plain": [
       "-0.05126474374224306"
      ]
     },
     "execution_count": 252,
     "metadata": {},
     "output_type": "execute_result"
    }
   ],
   "source": [
    "df_3[\"GDP\"].corr(df_3[\"PCI\"])"
   ]
  },
  {
   "cell_type": "code",
   "execution_count": 253,
   "id": "c1bdb495",
   "metadata": {},
   "outputs": [
    {
     "data": {
      "text/plain": [
       "<AxesSubplot:>"
      ]
     },
     "execution_count": 253,
     "metadata": {},
     "output_type": "execute_result"
    },
    {
     "data": {
      "image/png": "[encoded data removed]",
      "text/plain": [
       "<Figure size 1080x360 with 1 Axes>"
      ]
     },
     "metadata": {
      "needs_background": "light"
     },
     "output_type": "display_data"
    }
   ],
   "source": [
    "df_3[\"GDP\"].sort_values(ascending= False).plot(kind=\"barh\")"
   ]
  },
  {
   "cell_type": "code",
   "execution_count": 254,
   "id": "a151da59",
   "metadata": {},
   "outputs": [
    {
     "data": {
      "image/png": "[encoded data removed]",
      "text/plain": [
       "<Figure size 1080x360 with 1 Axes>"
      ]
     },
     "metadata": {
      "needs_background": "light"
     },
     "output_type": "display_data"
    }
   ],
   "source": [
    "df_3.groupby('Country')['PCI'].sum().head(54).sort_values(ascending= True).plot(kind=\"barh\")\n",
    "plt.axvline(df_3['PCI'].mean(), color = \"r\", linestyle= \"--\");\n"
   ]
  },
  {
   "cell_type": "code",
   "execution_count": 255,
   "id": "cdf1bd3a",
   "metadata": {},
   "outputs": [
    {
     "data": {
      "image/png": "[encoded data removed]",
      "text/plain": [
       "<Figure size 1080x360 with 1 Axes>"
      ]
     },
     "metadata": {
      "needs_background": "light"
     },
     "output_type": "display_data"
    }
   ],
   "source": [
    "df_3.groupby('Country')['GDP'].sum().sort_values(ascending= True).plot(kind=\"barh\")\n",
    "plt.axvline(df_3['GDP'].mean(), color = \"r\", linestyle= \"--\");"
   ]
  },
  {
   "cell_type": "code",
   "execution_count": 256,
   "id": "04a71d2a",
   "metadata": {},
   "outputs": [
    {
     "data": {
      "text/plain": [
       "504.203    1\n",
       "11.497     1\n",
       "19.745     1\n",
       "18.005     1\n",
       "17.547     1\n",
       "16.877     1\n",
       "14.486     1\n",
       "12.488     1\n",
       "10.091     1\n",
       "469.094    1\n",
       "4.669      1\n",
       "3.725      1\n",
       "2.507      1\n",
       "2.053      1\n",
       "2.005      1\n",
       "1.242      1\n",
       "22.221     1\n",
       "27.025     1\n",
       "27.542     1\n",
       "38.280     1\n",
       "40.836     1\n",
       "44.212     1\n",
       "46.282     1\n",
       "48.352     1\n",
       "68.630     1\n",
       "75.996     1\n",
       "76.582     1\n",
       "111.181    1\n",
       "114.858    1\n",
       "124.794    1\n",
       "142.874    1\n",
       "187.155    1\n",
       "411.480    1\n",
       "0.506      1\n",
       "Name: GDP, dtype: int64"
      ]
     },
     "execution_count": 256,
     "metadata": {},
     "output_type": "execute_result"
    }
   ],
   "source": [
    "age_cl_value_counts = df_3[\"GDP\"].value_counts()\n",
    "age_cl_value_counts"
   ]
  },
  {
   "cell_type": "code",
   "execution_count": 257,
   "id": "58916e86",
   "metadata": {},
   "outputs": [
    {
     "data": {
      "image/png": "[encoded data removed]",
      "text/plain": [
       "<Figure size 1080x360 with 1 Axes>"
      ]
     },
     "metadata": {
      "needs_background": "light"
     },
     "output_type": "display_data"
    }
   ],
   "source": [
    "age_cl_value_counts.plot(\n",
    "    kind = \"bar\",\n",
    "    xlabel = \"Age Group\",\n",
    "    ylabel = \"Frequency(count)\",\n",
    "    #title = \"Credit Fearful:Age\",\n",
    "    title = \"Credit Fearful : Age Groups\"\n",
    "    \n",
    ");"
   ]
  },
  {
   "cell_type": "code",
   "execution_count": 258,
   "id": "7ba7580f",
   "metadata": {},
   "outputs": [
    {
     "data": {
      "image/png": "[encoded data removed]",
      "text/plain": [
       "<Figure size 1080x360 with 1 Axes>"
      ]
     },
     "metadata": {
      "needs_background": "light"
     },
     "output_type": "display_data"
    }
   ],
   "source": [
    "gdp = df_3[\"GDP\"].value_counts()\n",
    "gdp.plot(\n",
    "    kind = \"bar\",\n",
    "    xlabel = \"Age Group\",\n",
    "    ylabel = \"Frequency(count)\",\n",
    "    #title = \"Credit Fearful:Age\",\n",
    "    title = \"Credit Fearful : Age Groups\"\n",
    "    \n",
    ");"
   ]
  },
  {
   "cell_type": "code",
   "execution_count": 259,
   "id": "7dfa48db",
   "metadata": {},
   "outputs": [
    {
     "data": {
      "text/plain": [
       "pandas.core.frame.DataFrame"
      ]
     },
     "execution_count": 259,
     "metadata": {},
     "output_type": "execute_result"
    }
   ],
   "source": [
    "dataf = gdp.to_frame()\n",
    "type(dataf)"
   ]
  },
  {
   "cell_type": "code",
   "execution_count": 260,
   "id": "472c3858",
   "metadata": {},
   "outputs": [
    {
     "data": {
      "text/html": [
       "<div>\n",
       "<style scoped>\n",
       "    .dataframe tbody tr th:only-of-type {\n",
       "        vertical-align: middle;\n",
       "    }\n",
       "\n",
       "    .dataframe tbody tr th {\n",
       "        vertical-align: top;\n",
       "    }\n",
       "\n",
       "    .dataframe thead th {\n",
       "        text-align: right;\n",
       "    }\n",
       "</style>\n",
       "<table border=\"1\" class=\"dataframe\">\n",
       "  <thead>\n",
       "    <tr style=\"text-align: right;\">\n",
       "      <th></th>\n",
       "      <th>Country</th>\n",
       "      <th>GDP</th>\n",
       "      <th>frequency</th>\n",
       "    </tr>\n",
       "  </thead>\n",
       "  <tbody>\n",
       "    <tr>\n",
       "      <th>0</th>\n",
       "      <td>Republic of Congo</td>\n",
       "      <td>14.486</td>\n",
       "      <td>1.0</td>\n",
       "    </tr>\n",
       "    <tr>\n",
       "      <th>1</th>\n",
       "      <td>Algeria</td>\n",
       "      <td>187.155</td>\n",
       "      <td>1.0</td>\n",
       "    </tr>\n",
       "    <tr>\n",
       "      <th>2</th>\n",
       "      <td>Angola</td>\n",
       "      <td>124.794</td>\n",
       "      <td>1.0</td>\n",
       "    </tr>\n",
       "    <tr>\n",
       "      <th>3</th>\n",
       "      <td>Benin</td>\n",
       "      <td>17.547</td>\n",
       "      <td>1.0</td>\n",
       "    </tr>\n",
       "    <tr>\n",
       "      <th>4</th>\n",
       "      <td>Botswana</td>\n",
       "      <td>18.005</td>\n",
       "      <td>1.0</td>\n",
       "    </tr>\n",
       "    <tr>\n",
       "      <th>5</th>\n",
       "      <td>Cameroon</td>\n",
       "      <td>44.212</td>\n",
       "      <td>1.0</td>\n",
       "    </tr>\n",
       "    <tr>\n",
       "      <th>6</th>\n",
       "      <td>Cape Verde</td>\n",
       "      <td>2.053</td>\n",
       "      <td>1.0</td>\n",
       "    </tr>\n",
       "    <tr>\n",
       "      <th>7</th>\n",
       "      <td>Comoros</td>\n",
       "      <td>1.242</td>\n",
       "      <td>1.0</td>\n",
       "    </tr>\n",
       "    <tr>\n",
       "      <th>8</th>\n",
       "      <td>Djibouti</td>\n",
       "      <td>3.725</td>\n",
       "      <td>1.0</td>\n",
       "    </tr>\n",
       "    <tr>\n",
       "      <th>9</th>\n",
       "      <td>Egypt</td>\n",
       "      <td>469.094</td>\n",
       "      <td>1.0</td>\n",
       "    </tr>\n",
       "    <tr>\n",
       "      <th>10</th>\n",
       "      <td>Equatorial Guinea</td>\n",
       "      <td>16.877</td>\n",
       "      <td>1.0</td>\n",
       "    </tr>\n",
       "    <tr>\n",
       "      <th>11</th>\n",
       "      <td>Eswatini</td>\n",
       "      <td>4.669</td>\n",
       "      <td>1.0</td>\n",
       "    </tr>\n",
       "    <tr>\n",
       "      <th>12</th>\n",
       "      <td>Ethiopia</td>\n",
       "      <td>111.181</td>\n",
       "      <td>1.0</td>\n",
       "    </tr>\n",
       "    <tr>\n",
       "      <th>13</th>\n",
       "      <td>Gabon</td>\n",
       "      <td>22.221</td>\n",
       "      <td>1.0</td>\n",
       "    </tr>\n",
       "    <tr>\n",
       "      <th>14</th>\n",
       "      <td>Ghana</td>\n",
       "      <td>75.996</td>\n",
       "      <td>1.0</td>\n",
       "    </tr>\n",
       "    <tr>\n",
       "      <th>15</th>\n",
       "      <td>Guinea</td>\n",
       "      <td>19.745</td>\n",
       "      <td>1.0</td>\n",
       "    </tr>\n",
       "    <tr>\n",
       "      <th>16</th>\n",
       "      <td>Ivory Coast</td>\n",
       "      <td>68.630</td>\n",
       "      <td>1.0</td>\n",
       "    </tr>\n",
       "    <tr>\n",
       "      <th>17</th>\n",
       "      <td>Kenya</td>\n",
       "      <td>114.858</td>\n",
       "      <td>1.0</td>\n",
       "    </tr>\n",
       "    <tr>\n",
       "      <th>18</th>\n",
       "      <td>Lesotho</td>\n",
       "      <td>2.507</td>\n",
       "      <td>1.0</td>\n",
       "    </tr>\n",
       "    <tr>\n",
       "      <th>19</th>\n",
       "      <td>Libya</td>\n",
       "      <td>40.836</td>\n",
       "      <td>1.0</td>\n",
       "    </tr>\n",
       "    <tr>\n",
       "      <th>20</th>\n",
       "      <td>Mauritania</td>\n",
       "      <td>10.091</td>\n",
       "      <td>1.0</td>\n",
       "    </tr>\n",
       "    <tr>\n",
       "      <th>21</th>\n",
       "      <td>Mauritius</td>\n",
       "      <td>11.497</td>\n",
       "      <td>1.0</td>\n",
       "    </tr>\n",
       "    <tr>\n",
       "      <th>22</th>\n",
       "      <td>Morocco</td>\n",
       "      <td>142.874</td>\n",
       "      <td>1.0</td>\n",
       "    </tr>\n",
       "    <tr>\n",
       "      <th>23</th>\n",
       "      <td>Namibia</td>\n",
       "      <td>12.488</td>\n",
       "      <td>1.0</td>\n",
       "    </tr>\n",
       "    <tr>\n",
       "      <th>24</th>\n",
       "      <td>Nigeria</td>\n",
       "      <td>504.203</td>\n",
       "      <td>1.0</td>\n",
       "    </tr>\n",
       "    <tr>\n",
       "      <th>25</th>\n",
       "      <td>Senegal</td>\n",
       "      <td>27.542</td>\n",
       "      <td>1.0</td>\n",
       "    </tr>\n",
       "    <tr>\n",
       "      <th>26</th>\n",
       "      <td>Seychelles</td>\n",
       "      <td>2.005</td>\n",
       "      <td>1.0</td>\n",
       "    </tr>\n",
       "    <tr>\n",
       "      <th>27</th>\n",
       "      <td>South Africa</td>\n",
       "      <td>411.480</td>\n",
       "      <td>1.0</td>\n",
       "    </tr>\n",
       "    <tr>\n",
       "      <th>28</th>\n",
       "      <td>São Tomé and Príncipe</td>\n",
       "      <td>0.506</td>\n",
       "      <td>1.0</td>\n",
       "    </tr>\n",
       "    <tr>\n",
       "      <th>29</th>\n",
       "      <td>Tanzania</td>\n",
       "      <td>76.582</td>\n",
       "      <td>1.0</td>\n",
       "    </tr>\n",
       "    <tr>\n",
       "      <th>30</th>\n",
       "      <td>Tunisia</td>\n",
       "      <td>46.282</td>\n",
       "      <td>1.0</td>\n",
       "    </tr>\n",
       "    <tr>\n",
       "      <th>31</th>\n",
       "      <td>Uganda</td>\n",
       "      <td>48.352</td>\n",
       "      <td>1.0</td>\n",
       "    </tr>\n",
       "    <tr>\n",
       "      <th>32</th>\n",
       "      <td>Zambia</td>\n",
       "      <td>27.025</td>\n",
       "      <td>1.0</td>\n",
       "    </tr>\n",
       "    <tr>\n",
       "      <th>33</th>\n",
       "      <td>Zimbabwe</td>\n",
       "      <td>38.280</td>\n",
       "      <td>1.0</td>\n",
       "    </tr>\n",
       "  </tbody>\n",
       "</table>\n",
       "</div>"
      ],
      "text/plain": [
       "                    Country      GDP  frequency\n",
       "0         Republic of Congo   14.486        1.0\n",
       "1                   Algeria  187.155        1.0\n",
       "2                    Angola  124.794        1.0\n",
       "3                     Benin   17.547        1.0\n",
       "4                  Botswana   18.005        1.0\n",
       "5                  Cameroon   44.212        1.0\n",
       "6                Cape Verde    2.053        1.0\n",
       "7                   Comoros    1.242        1.0\n",
       "8                  Djibouti    3.725        1.0\n",
       "9                     Egypt  469.094        1.0\n",
       "10        Equatorial Guinea   16.877        1.0\n",
       "11                 Eswatini    4.669        1.0\n",
       "12                 Ethiopia  111.181        1.0\n",
       "13                    Gabon   22.221        1.0\n",
       "14                    Ghana   75.996        1.0\n",
       "15                   Guinea   19.745        1.0\n",
       "16              Ivory Coast   68.630        1.0\n",
       "17                    Kenya  114.858        1.0\n",
       "18                  Lesotho    2.507        1.0\n",
       "19                    Libya   40.836        1.0\n",
       "20               Mauritania   10.091        1.0\n",
       "21                Mauritius   11.497        1.0\n",
       "22                  Morocco  142.874        1.0\n",
       "23                  Namibia   12.488        1.0\n",
       "24                  Nigeria  504.203        1.0\n",
       "25                  Senegal   27.542        1.0\n",
       "26               Seychelles    2.005        1.0\n",
       "27             South Africa  411.480        1.0\n",
       "28    São Tomé and Príncipe    0.506        1.0\n",
       "29                 Tanzania   76.582        1.0\n",
       "30                  Tunisia   46.282        1.0\n",
       "31                   Uganda   48.352        1.0\n",
       "32                   Zambia   27.025        1.0\n",
       "33                 Zimbabwe   38.280        1.0"
      ]
     },
     "execution_count": 260,
     "metadata": {},
     "output_type": "execute_result"
    }
   ],
   "source": [
    "df_educ = ( df_3[\"GDP\"]\n",
    "           .groupby(df_3[\"Country\"])\n",
    "           .value_counts(normalize =True)\n",
    "           .rename(\"frequency\")\n",
    "           .to_frame()\n",
    "           .reset_index()\n",
    "          )\n",
    "df_educ"
   ]
  },
  {
   "cell_type": "code",
   "execution_count": 261,
   "id": "0985a474",
   "metadata": {},
   "outputs": [
    {
     "data": {
      "image/png": "[encoded data removed]",
      "text/plain": [
       "<Figure size 1080x360 with 1 Axes>"
      ]
     },
     "metadata": {
      "needs_background": "light"
     },
     "output_type": "display_data"
    }
   ],
   "source": [
    "# Create bar chart of `df_educ`\n",
    "sns.barplot( \n",
    "    x = \"GDP\",\n",
    "    y = \"frequency\",\n",
    "    hue= \"Country\",\n",
    "    data = df_educ\n",
    ")\n",
    "plt.xlabel(\"Education Level\")\n",
    "plt.ylabel(\"Frequency (%)\")\n",
    "plt.title(\"Educational Attainment: Credit Fearful vs. Non-fearful\");"
   ]
  },
  {
   "cell_type": "code",
   "execution_count": 262,
   "id": "2e49e6ca",
   "metadata": {},
   "outputs": [
    {
     "name": "stderr",
     "output_type": "stream",
     "text": [
      "C:\\Users\\kelvin\\AppData\\Local\\Temp\\ipykernel_2456\\1345977685.py:1: FutureWarning:\n",
      "\n",
      "Dropping of nuisance columns in DataFrame reductions (with 'numeric_only=None') is deprecated; in a future version this will raise TypeError.  Select only valid columns before calling the reduction.\n",
      "\n"
     ]
    },
    {
     "data": {
      "text/plain": [
       "GDP    1.674441e+04\n",
       "PCI    1.513861e+07\n",
       "dtype: float64"
      ]
     },
     "execution_count": 262,
     "metadata": {},
     "output_type": "execute_result"
    }
   ],
   "source": [
    "top_ten_var = df_3.var().sort_values().tail()\n",
    "top_ten_var"
   ]
  },
  {
   "cell_type": "code",
   "execution_count": 263,
   "id": "2cbaa07d",
   "metadata": {},
   "outputs": [],
   "source": [
    "import plotly.express as px"
   ]
  },
  {
   "cell_type": "code",
   "execution_count": 264,
   "id": "161f3203",
   "metadata": {},
   "outputs": [
    {
     "data": {
      "application/vnd.plotly.v1+json": {
       "config": {
        "plotlyServerURL": "https://plot.ly"
       },
       "data": [
        {
         "alignmentgroup": "True",
         "hovertemplate": "x=%{x}<br>y=%{y}<extra></extra>",
         "legendgroup": "",
         "marker": {
          "color": "#636efa",
          "pattern": {
           "shape": ""
          }
         },
         "name": "",
         "offsetgroup": "",
         "orientation": "h",
         "showlegend": false,
         "textposition": "auto",
         "type": "bar",
         "x": [
          16744.40629776114,
          15138612.888960639
         ],
         "xaxis": "x",
         "y": [
          "GDP",
          "PCI"
         ],
         "yaxis": "y"
        }
       ],
       "layout": {
        "barmode": "relative",
        "legend": {
         "tracegroupgap": 0
        },
        "margin": {
         "t": 60
        },
        "template": {
         "data": {
          "bar": [
           {
            "error_x": {
             "color": "#2a3f5f"
            },
            "error_y": {
             "color": "#2a3f5f"
            },
            "marker": {
             "line": {
              "color": "#E5ECF6",
              "width": 0.5
             },
             "pattern": {
              "fillmode": "overlay",
              "size": 10,
              "solidity": 0.2
             }
            },
            "type": "bar"
           }
          ],
          "barpolar": [
           {
            "marker": {
             "line": {
              "color": "#E5ECF6",
              "width": 0.5
             },
             "pattern": {
              "fillmode": "overlay",
              "size": 10,
              "solidity": 0.2
             }
            },
            "type": "barpolar"
           }
          ],
          "carpet": [
           {
            "aaxis": {
             "endlinecolor": "#2a3f5f",
             "gridcolor": "white",
             "linecolor": "white",
             "minorgridcolor": "white",
             "startlinecolor": "#2a3f5f"
            },
            "baxis": {
             "endlinecolor": "#2a3f5f",
             "gridcolor": "white",
             "linecolor": "white",
             "minorgridcolor": "white",
             "startlinecolor": "#2a3f5f"
            },
            "type": "carpet"
           }
          ],
          "choropleth": [
           {
            "colorbar": {
             "outlinewidth": 0,
             "ticks": ""
            },
            "type": "choropleth"
           }
          ],
          "contour": [
           {
            "colorbar": {
             "outlinewidth": 0,
             "ticks": ""
            },
            "colorscale": [
             [
              0,
              "#0d0887"
             ],
             [
              0.1111111111111111,
              "#46039f"
             ],
             [
              0.2222222222222222,
              "#7201a8"
             ],
             [
              0.3333333333333333,
              "#9c179e"
             ],
             [
              0.4444444444444444,
              "#bd3786"
             ],
             [
              0.5555555555555556,
              "#d8576b"
             ],
             [
              0.6666666666666666,
              "#ed7953"
             ],
             [
              0.7777777777777778,
              "#fb9f3a"
             ],
             [
              0.8888888888888888,
              "#fdca26"
             ],
             [
              1,
              "#f0f921"
             ]
            ],
            "type": "contour"
           }
          ],
          "contourcarpet": [
           {
            "colorbar": {
             "outlinewidth": 0,
             "ticks": ""
            },
            "type": "contourcarpet"
           }
          ],
          "heatmap": [
           {
            "colorbar": {
             "outlinewidth": 0,
             "ticks": ""
            },
            "colorscale": [
             [
              0,
              "#0d0887"
             ],
             [
              0.1111111111111111,
              "#46039f"
             ],
             [
              0.2222222222222222,
              "#7201a8"
             ],
             [
              0.3333333333333333,
              "#9c179e"
             ],
             [
              0.4444444444444444,
              "#bd3786"
             ],
             [
              0.5555555555555556,
              "#d8576b"
             ],
             [
              0.6666666666666666,
              "#ed7953"
             ],
             [
              0.7777777777777778,
              "#fb9f3a"
             ],
             [
              0.8888888888888888,
              "#fdca26"
             ],
             [
              1,
              "#f0f921"
             ]
            ],
            "type": "heatmap"
           }
          ],
          "heatmapgl": [
           {
            "colorbar": {
             "outlinewidth": 0,
             "ticks": ""
            },
            "colorscale": [
             [
              0,
              "#0d0887"
             ],
             [
              0.1111111111111111,
              "#46039f"
             ],
             [
              0.2222222222222222,
              "#7201a8"
             ],
             [
              0.3333333333333333,
              "#9c179e"
             ],
             [
              0.4444444444444444,
              "#bd3786"
             ],
             [
              0.5555555555555556,
              "#d8576b"
             ],
             [
              0.6666666666666666,
              "#ed7953"
             ],
             [
              0.7777777777777778,
              "#fb9f3a"
             ],
             [
              0.8888888888888888,
              "#fdca26"
             ],
             [
              1,
              "#f0f921"
             ]
            ],
            "type": "heatmapgl"
           }
          ],
          "histogram": [
           {
            "marker": {
             "pattern": {
              "fillmode": "overlay",
              "size": 10,
              "solidity": 0.2
             }
            },
            "type": "histogram"
           }
          ],
          "histogram2d": [
           {
            "colorbar": {
             "outlinewidth": 0,
             "ticks": ""
            },
            "colorscale": [
             [
              0,
              "#0d0887"
             ],
             [
              0.1111111111111111,
              "#46039f"
             ],
             [
              0.2222222222222222,
              "#7201a8"
             ],
             [
              0.3333333333333333,
              "#9c179e"
             ],
             [
              0.4444444444444444,
              "#bd3786"
             ],
             [
              0.5555555555555556,
              "#d8576b"
             ],
             [
              0.6666666666666666,
              "#ed7953"
             ],
             [
              0.7777777777777778,
              "#fb9f3a"
             ],
             [
              0.8888888888888888,
              "#fdca26"
             ],
             [
              1,
              "#f0f921"
             ]
            ],
            "type": "histogram2d"
           }
          ],
          "histogram2dcontour": [
           {
            "colorbar": {
             "outlinewidth": 0,
             "ticks": ""
            },
            "colorscale": [
             [
              0,
              "#0d0887"
             ],
             [
              0.1111111111111111,
              "#46039f"
             ],
             [
              0.2222222222222222,
              "#7201a8"
             ],
             [
              0.3333333333333333,
              "#9c179e"
             ],
             [
              0.4444444444444444,
              "#bd3786"
             ],
             [
              0.5555555555555556,
              "#d8576b"
             ],
             [
              0.6666666666666666,
              "#ed7953"
             ],
             [
              0.7777777777777778,
              "#fb9f3a"
             ],
             [
              0.8888888888888888,
              "#fdca26"
             ],
             [
              1,
              "#f0f921"
             ]
            ],
            "type": "histogram2dcontour"
           }
          ],
          "mesh3d": [
           {
            "colorbar": {
             "outlinewidth": 0,
             "ticks": ""
            },
            "type": "mesh3d"
           }
          ],
          "parcoords": [
           {
            "line": {
             "colorbar": {
              "outlinewidth": 0,
              "ticks": ""
             }
            },
            "type": "parcoords"
           }
          ],
          "pie": [
           {
            "automargin": true,
            "type": "pie"
           }
          ],
          "scatter": [
           {
            "marker": {
             "colorbar": {
              "outlinewidth": 0,
              "ticks": ""
             }
            },
            "type": "scatter"
           }
          ],
          "scatter3d": [
           {
            "line": {
             "colorbar": {
              "outlinewidth": 0,
              "ticks": ""
             }
            },
            "marker": {
             "colorbar": {
              "outlinewidth": 0,
              "ticks": ""
             }
            },
            "type": "scatter3d"
           }
          ],
          "scattercarpet": [
           {
            "marker": {
             "colorbar": {
              "outlinewidth": 0,
              "ticks": ""
             }
            },
            "type": "scattercarpet"
           }
          ],
          "scattergeo": [
           {
            "marker": {
             "colorbar": {
              "outlinewidth": 0,
              "ticks": ""
             }
            },
            "type": "scattergeo"
           }
          ],
          "scattergl": [
           {
            "marker": {
             "colorbar": {
              "outlinewidth": 0,
              "ticks": ""
             }
            },
            "type": "scattergl"
           }
          ],
          "scattermapbox": [
           {
            "marker": {
             "colorbar": {
              "outlinewidth": 0,
              "ticks": ""
             }
            },
            "type": "scattermapbox"
           }
          ],
          "scatterpolar": [
           {
            "marker": {
             "colorbar": {
              "outlinewidth": 0,
              "ticks": ""
             }
            },
            "type": "scatterpolar"
           }
          ],
          "scatterpolargl": [
           {
            "marker": {
             "colorbar": {
              "outlinewidth": 0,
              "ticks": ""
             }
            },
            "type": "scatterpolargl"
           }
          ],
          "scatterternary": [
           {
            "marker": {
             "colorbar": {
              "outlinewidth": 0,
              "ticks": ""
             }
            },
            "type": "scatterternary"
           }
          ],
          "surface": [
           {
            "colorbar": {
             "outlinewidth": 0,
             "ticks": ""
            },
            "colorscale": [
             [
              0,
              "#0d0887"
             ],
             [
              0.1111111111111111,
              "#46039f"
             ],
             [
              0.2222222222222222,
              "#7201a8"
             ],
             [
              0.3333333333333333,
              "#9c179e"
             ],
             [
              0.4444444444444444,
              "#bd3786"
             ],
             [
              0.5555555555555556,
              "#d8576b"
             ],
             [
              0.6666666666666666,
              "#ed7953"
             ],
             [
              0.7777777777777778,
              "#fb9f3a"
             ],
             [
              0.8888888888888888,
              "#fdca26"
             ],
             [
              1,
              "#f0f921"
             ]
            ],
            "type": "surface"
           }
          ],
          "table": [
           {
            "cells": {
             "fill": {
              "color": "#EBF0F8"
             },
             "line": {
              "color": "white"
             }
            },
            "header": {
             "fill": {
              "color": "#C8D4E3"
             },
             "line": {
              "color": "white"
             }
            },
            "type": "table"
           }
          ]
         },
         "layout": {
          "annotationdefaults": {
           "arrowcolor": "#2a3f5f",
           "arrowhead": 0,
           "arrowwidth": 1
          },
          "autotypenumbers": "strict",
          "coloraxis": {
           "colorbar": {
            "outlinewidth": 0,
            "ticks": ""
           }
          },
          "colorscale": {
           "diverging": [
            [
             0,
             "#8e0152"
            ],
            [
             0.1,
             "#c51b7d"
            ],
            [
             0.2,
             "#de77ae"
            ],
            [
             0.3,
             "#f1b6da"
            ],
            [
             0.4,
             "#fde0ef"
            ],
            [
             0.5,
             "#f7f7f7"
            ],
            [
             0.6,
             "#e6f5d0"
            ],
            [
             0.7,
             "#b8e186"
            ],
            [
             0.8,
             "#7fbc41"
            ],
            [
             0.9,
             "#4d9221"
            ],
            [
             1,
             "#276419"
            ]
           ],
           "sequential": [
            [
             0,
             "#0d0887"
            ],
            [
             0.1111111111111111,
             "#46039f"
            ],
            [
             0.2222222222222222,
             "#7201a8"
            ],
            [
             0.3333333333333333,
             "#9c179e"
            ],
            [
             0.4444444444444444,
             "#bd3786"
            ],
            [
             0.5555555555555556,
             "#d8576b"
            ],
            [
             0.6666666666666666,
             "#ed7953"
            ],
            [
             0.7777777777777778,
             "#fb9f3a"
            ],
            [
             0.8888888888888888,
             "#fdca26"
            ],
            [
             1,
             "#f0f921"
            ]
           ],
           "sequentialminus": [
            [
             0,
             "#0d0887"
            ],
            [
             0.1111111111111111,
             "#46039f"
            ],
            [
             0.2222222222222222,
             "#7201a8"
            ],
            [
             0.3333333333333333,
             "#9c179e"
            ],
            [
             0.4444444444444444,
             "#bd3786"
            ],
            [
             0.5555555555555556,
             "#d8576b"
            ],
            [
             0.6666666666666666,
             "#ed7953"
            ],
            [
             0.7777777777777778,
             "#fb9f3a"
            ],
            [
             0.8888888888888888,
             "#fdca26"
            ],
            [
             1,
             "#f0f921"
            ]
           ]
          },
          "colorway": [
           "#636efa",
           "#EF553B",
           "#00cc96",
           "#ab63fa",
           "#FFA15A",
           "#19d3f3",
           "#FF6692",
           "#B6E880",
           "#FF97FF",
           "#FECB52"
          ],
          "font": {
           "color": "#2a3f5f"
          },
          "geo": {
           "bgcolor": "white",
           "lakecolor": "white",
           "landcolor": "#E5ECF6",
           "showlakes": true,
           "showland": true,
           "subunitcolor": "white"
          },
          "hoverlabel": {
           "align": "left"
          },
          "hovermode": "closest",
          "mapbox": {
           "style": "light"
          },
          "paper_bgcolor": "white",
          "plot_bgcolor": "#E5ECF6",
          "polar": {
           "angularaxis": {
            "gridcolor": "white",
            "linecolor": "white",
            "ticks": ""
           },
           "bgcolor": "#E5ECF6",
           "radialaxis": {
            "gridcolor": "white",
            "linecolor": "white",
            "ticks": ""
           }
          },
          "scene": {
           "xaxis": {
            "backgroundcolor": "#E5ECF6",
            "gridcolor": "white",
            "gridwidth": 2,
            "linecolor": "white",
            "showbackground": true,
            "ticks": "",
            "zerolinecolor": "white"
           },
           "yaxis": {
            "backgroundcolor": "#E5ECF6",
            "gridcolor": "white",
            "gridwidth": 2,
            "linecolor": "white",
            "showbackground": true,
            "ticks": "",
            "zerolinecolor": "white"
           },
           "zaxis": {
            "backgroundcolor": "#E5ECF6",
            "gridcolor": "white",
            "gridwidth": 2,
            "linecolor": "white",
            "showbackground": true,
            "ticks": "",
            "zerolinecolor": "white"
           }
          },
          "shapedefaults": {
           "line": {
            "color": "#2a3f5f"
           }
          },
          "ternary": {
           "aaxis": {
            "gridcolor": "white",
            "linecolor": "white",
            "ticks": ""
           },
           "baxis": {
            "gridcolor": "white",
            "linecolor": "white",
            "ticks": ""
           },
           "bgcolor": "#E5ECF6",
           "caxis": {
            "gridcolor": "white",
            "linecolor": "white",
            "ticks": ""
           }
          },
          "title": {
           "x": 0.05
          },
          "xaxis": {
           "automargin": true,
           "gridcolor": "white",
           "linecolor": "white",
           "ticks": "",
           "title": {
            "standoff": 15
           },
           "zerolinecolor": "white",
           "zerolinewidth": 2
          },
          "yaxis": {
           "automargin": true,
           "gridcolor": "white",
           "linecolor": "white",
           "ticks": "",
           "title": {
            "standoff": 15
           },
           "zerolinecolor": "white",
           "zerolinewidth": 2
          }
         }
        },
        "xaxis": {
         "anchor": "y",
         "domain": [
          0,
          1
         ],
         "title": {
          "text": "x"
         }
        },
        "yaxis": {
         "anchor": "x",
         "domain": [
          0,
          1
         ],
         "title": {
          "text": "y"
         }
        }
       }
      },
      "text/html": [
       "<div>                            <div id=\"a1916368-b53b-4c6f-ad61-c82b724da264\" class=\"plotly-graph-div\" style=\"height:525px; width:100%;\"></div>            <script type=\"text/javascript\">                require([\"plotly\"], function(Plotly) {                    window.PLOTLYENV=window.PLOTLYENV || {};                                    if (document.getElementById(\"a1916368-b53b-4c6f-ad61-c82b724da264\")) {                    Plotly.newPlot(                        \"a1916368-b53b-4c6f-ad61-c82b724da264\",                        [{\"alignmentgroup\":\"True\",\"hovertemplate\":\"x=%{x}<br>y=%{y}<extra></extra>\",\"legendgroup\":\"\",\"marker\":{\"color\":\"#636efa\",\"pattern\":{\"shape\":\"\"}},\"name\":\"\",\"offsetgroup\":\"\",\"orientation\":\"h\",\"showlegend\":false,\"textposition\":\"auto\",\"x\":[16744.40629776114,15138612.888960639],\"xaxis\":\"x\",\"y\":[\"GDP\",\"PCI\"],\"yaxis\":\"y\",\"type\":\"bar\"}],                        {\"template\":{\"data\":{\"bar\":[{\"error_x\":{\"color\":\"#2a3f5f\"},\"error_y\":{\"color\":\"#2a3f5f\"},\"marker\":{\"line\":{\"color\":\"#E5ECF6\",\"width\":0.5},\"pattern\":{\"fillmode\":\"overlay\",\"size\":10,\"solidity\":0.2}},\"type\":\"bar\"}],\"barpolar\":[{\"marker\":{\"line\":{\"color\":\"#E5ECF6\",\"width\":0.5},\"pattern\":{\"fillmode\":\"overlay\",\"size\":10,\"solidity\":0.2}},\"type\":\"barpolar\"}],\"carpet\":[{\"aaxis\":{\"endlinecolor\":\"#2a3f5f\",\"gridcolor\":\"white\",\"linecolor\":\"white\",\"minorgridcolor\":\"white\",\"startlinecolor\":\"#2a3f5f\"},\"baxis\":{\"endlinecolor\":\"#2a3f5f\",\"gridcolor\":\"white\",\"linecolor\":\"white\",\"minorgridcolor\":\"white\",\"startlinecolor\":\"#2a3f5f\"},\"type\":\"carpet\"}],\"choropleth\":[{\"colorbar\":{\"outlinewidth\":0,\"ticks\":\"\"},\"type\":\"choropleth\"}],\"contour\":[{\"colorbar\":{\"outlinewidth\":0,\"ticks\":\"\"},\"colorscale\":[[0.0,\"#0d0887\"],[0.1111111111111111,\"#46039f\"],[0.2222222222222222,\"#7201a8\"],[0.3333333333333333,\"#9c179e\"],[0.4444444444444444,\"#bd3786\"],[0.5555555555555556,\"#d8576b\"],[0.6666666666666666,\"#ed7953\"],[0.7777777777777778,\"#fb9f3a\"],[0.8888888888888888,\"#fdca26\"],[1.0,\"#f0f921\"]],\"type\":\"contour\"}],\"contourcarpet\":[{\"colorbar\":{\"outlinewidth\":0,\"ticks\":\"\"},\"type\":\"contourcarpet\"}],\"heatmap\":[{\"colorbar\":{\"outlinewidth\":0,\"ticks\":\"\"},\"colorscale\":[[0.0,\"#0d0887\"],[0.1111111111111111,\"#46039f\"],[0.2222222222222222,\"#7201a8\"],[0.3333333333333333,\"#9c179e\"],[0.4444444444444444,\"#bd3786\"],[0.5555555555555556,\"#d8576b\"],[0.6666666666666666,\"#ed7953\"],[0.7777777777777778,\"#fb9f3a\"],[0.8888888888888888,\"#fdca26\"],[1.0,\"#f0f921\"]],\"type\":\"heatmap\"}],\"heatmapgl\":[{\"colorbar\":{\"outlinewidth\":0,\"ticks\":\"\"},\"colorscale\":[[0.0,\"#0d0887\"],[0.1111111111111111,\"#46039f\"],[0.2222222222222222,\"#7201a8\"],[0.3333333333333333,\"#9c179e\"],[0.4444444444444444,\"#bd3786\"],[0.5555555555555556,\"#d8576b\"],[0.6666666666666666,\"#ed7953\"],[0.7777777777777778,\"#fb9f3a\"],[0.8888888888888888,\"#fdca26\"],[1.0,\"#f0f921\"]],\"type\":\"heatmapgl\"}],\"histogram\":[{\"marker\":{\"pattern\":{\"fillmode\":\"overlay\",\"size\":10,\"solidity\":0.2}},\"type\":\"histogram\"}],\"histogram2d\":[{\"colorbar\":{\"outlinewidth\":0,\"ticks\":\"\"},\"colorscale\":[[0.0,\"#0d0887\"],[0.1111111111111111,\"#46039f\"],[0.2222222222222222,\"#7201a8\"],[0.3333333333333333,\"#9c179e\"],[0.4444444444444444,\"#bd3786\"],[0.5555555555555556,\"#d8576b\"],[0.6666666666666666,\"#ed7953\"],[0.7777777777777778,\"#fb9f3a\"],[0.8888888888888888,\"#fdca26\"],[1.0,\"#f0f921\"]],\"type\":\"histogram2d\"}],\"histogram2dcontour\":[{\"colorbar\":{\"outlinewidth\":0,\"ticks\":\"\"},\"colorscale\":[[0.0,\"#0d0887\"],[0.1111111111111111,\"#46039f\"],[0.2222222222222222,\"#7201a8\"],[0.3333333333333333,\"#9c179e\"],[0.4444444444444444,\"#bd3786\"],[0.5555555555555556,\"#d8576b\"],[0.6666666666666666,\"#ed7953\"],[0.7777777777777778,\"#fb9f3a\"],[0.8888888888888888,\"#fdca26\"],[1.0,\"#f0f921\"]],\"type\":\"histogram2dcontour\"}],\"mesh3d\":[{\"colorbar\":{\"outlinewidth\":0,\"ticks\":\"\"},\"type\":\"mesh3d\"}],\"parcoords\":[{\"line\":{\"colorbar\":{\"outlinewidth\":0,\"ticks\":\"\"}},\"type\":\"parcoords\"}],\"pie\":[{\"automargin\":true,\"type\":\"pie\"}],\"scatter\":[{\"marker\":{\"colorbar\":{\"outlinewidth\":0,\"ticks\":\"\"}},\"type\":\"scatter\"}],\"scatter3d\":[{\"line\":{\"colorbar\":{\"outlinewidth\":0,\"ticks\":\"\"}},\"marker\":{\"colorbar\":{\"outlinewidth\":0,\"ticks\":\"\"}},\"type\":\"scatter3d\"}],\"scattercarpet\":[{\"marker\":{\"colorbar\":{\"outlinewidth\":0,\"ticks\":\"\"}},\"type\":\"scattercarpet\"}],\"scattergeo\":[{\"marker\":{\"colorbar\":{\"outlinewidth\":0,\"ticks\":\"\"}},\"type\":\"scattergeo\"}],\"scattergl\":[{\"marker\":{\"colorbar\":{\"outlinewidth\":0,\"ticks\":\"\"}},\"type\":\"scattergl\"}],\"scattermapbox\":[{\"marker\":{\"colorbar\":{\"outlinewidth\":0,\"ticks\":\"\"}},\"type\":\"scattermapbox\"}],\"scatterpolar\":[{\"marker\":{\"colorbar\":{\"outlinewidth\":0,\"ticks\":\"\"}},\"type\":\"scatterpolar\"}],\"scatterpolargl\":[{\"marker\":{\"colorbar\":{\"outlinewidth\":0,\"ticks\":\"\"}},\"type\":\"scatterpolargl\"}],\"scatterternary\":[{\"marker\":{\"colorbar\":{\"outlinewidth\":0,\"ticks\":\"\"}},\"type\":\"scatterternary\"}],\"surface\":[{\"colorbar\":{\"outlinewidth\":0,\"ticks\":\"\"},\"colorscale\":[[0.0,\"#0d0887\"],[0.1111111111111111,\"#46039f\"],[0.2222222222222222,\"#7201a8\"],[0.3333333333333333,\"#9c179e\"],[0.4444444444444444,\"#bd3786\"],[0.5555555555555556,\"#d8576b\"],[0.6666666666666666,\"#ed7953\"],[0.7777777777777778,\"#fb9f3a\"],[0.8888888888888888,\"#fdca26\"],[1.0,\"#f0f921\"]],\"type\":\"surface\"}],\"table\":[{\"cells\":{\"fill\":{\"color\":\"#EBF0F8\"},\"line\":{\"color\":\"white\"}},\"header\":{\"fill\":{\"color\":\"#C8D4E3\"},\"line\":{\"color\":\"white\"}},\"type\":\"table\"}]},\"layout\":{\"annotationdefaults\":{\"arrowcolor\":\"#2a3f5f\",\"arrowhead\":0,\"arrowwidth\":1},\"autotypenumbers\":\"strict\",\"coloraxis\":{\"colorbar\":{\"outlinewidth\":0,\"ticks\":\"\"}},\"colorscale\":{\"diverging\":[[0,\"#8e0152\"],[0.1,\"#c51b7d\"],[0.2,\"#de77ae\"],[0.3,\"#f1b6da\"],[0.4,\"#fde0ef\"],[0.5,\"#f7f7f7\"],[0.6,\"#e6f5d0\"],[0.7,\"#b8e186\"],[0.8,\"#7fbc41\"],[0.9,\"#4d9221\"],[1,\"#276419\"]],\"sequential\":[[0.0,\"#0d0887\"],[0.1111111111111111,\"#46039f\"],[0.2222222222222222,\"#7201a8\"],[0.3333333333333333,\"#9c179e\"],[0.4444444444444444,\"#bd3786\"],[0.5555555555555556,\"#d8576b\"],[0.6666666666666666,\"#ed7953\"],[0.7777777777777778,\"#fb9f3a\"],[0.8888888888888888,\"#fdca26\"],[1.0,\"#f0f921\"]],\"sequentialminus\":[[0.0,\"#0d0887\"],[0.1111111111111111,\"#46039f\"],[0.2222222222222222,\"#7201a8\"],[0.3333333333333333,\"#9c179e\"],[0.4444444444444444,\"#bd3786\"],[0.5555555555555556,\"#d8576b\"],[0.6666666666666666,\"#ed7953\"],[0.7777777777777778,\"#fb9f3a\"],[0.8888888888888888,\"#fdca26\"],[1.0,\"#f0f921\"]]},\"colorway\":[\"#636efa\",\"#EF553B\",\"#00cc96\",\"#ab63fa\",\"#FFA15A\",\"#19d3f3\",\"#FF6692\",\"#B6E880\",\"#FF97FF\",\"#FECB52\"],\"font\":{\"color\":\"#2a3f5f\"},\"geo\":{\"bgcolor\":\"white\",\"lakecolor\":\"white\",\"landcolor\":\"#E5ECF6\",\"showlakes\":true,\"showland\":true,\"subunitcolor\":\"white\"},\"hoverlabel\":{\"align\":\"left\"},\"hovermode\":\"closest\",\"mapbox\":{\"style\":\"light\"},\"paper_bgcolor\":\"white\",\"plot_bgcolor\":\"#E5ECF6\",\"polar\":{\"angularaxis\":{\"gridcolor\":\"white\",\"linecolor\":\"white\",\"ticks\":\"\"},\"bgcolor\":\"#E5ECF6\",\"radialaxis\":{\"gridcolor\":\"white\",\"linecolor\":\"white\",\"ticks\":\"\"}},\"scene\":{\"xaxis\":{\"backgroundcolor\":\"#E5ECF6\",\"gridcolor\":\"white\",\"gridwidth\":2,\"linecolor\":\"white\",\"showbackground\":true,\"ticks\":\"\",\"zerolinecolor\":\"white\"},\"yaxis\":{\"backgroundcolor\":\"#E5ECF6\",\"gridcolor\":\"white\",\"gridwidth\":2,\"linecolor\":\"white\",\"showbackground\":true,\"ticks\":\"\",\"zerolinecolor\":\"white\"},\"zaxis\":{\"backgroundcolor\":\"#E5ECF6\",\"gridcolor\":\"white\",\"gridwidth\":2,\"linecolor\":\"white\",\"showbackground\":true,\"ticks\":\"\",\"zerolinecolor\":\"white\"}},\"shapedefaults\":{\"line\":{\"color\":\"#2a3f5f\"}},\"ternary\":{\"aaxis\":{\"gridcolor\":\"white\",\"linecolor\":\"white\",\"ticks\":\"\"},\"baxis\":{\"gridcolor\":\"white\",\"linecolor\":\"white\",\"ticks\":\"\"},\"bgcolor\":\"#E5ECF6\",\"caxis\":{\"gridcolor\":\"white\",\"linecolor\":\"white\",\"ticks\":\"\"}},\"title\":{\"x\":0.05},\"xaxis\":{\"automargin\":true,\"gridcolor\":\"white\",\"linecolor\":\"white\",\"ticks\":\"\",\"title\":{\"standoff\":15},\"zerolinecolor\":\"white\",\"zerolinewidth\":2},\"yaxis\":{\"automargin\":true,\"gridcolor\":\"white\",\"linecolor\":\"white\",\"ticks\":\"\",\"title\":{\"standoff\":15},\"zerolinecolor\":\"white\",\"zerolinewidth\":2}}},\"xaxis\":{\"anchor\":\"y\",\"domain\":[0.0,1.0],\"title\":{\"text\":\"x\"}},\"yaxis\":{\"anchor\":\"x\",\"domain\":[0.0,1.0],\"title\":{\"text\":\"y\"}},\"legend\":{\"tracegroupgap\":0},\"margin\":{\"t\":60},\"barmode\":\"relative\"},                        {\"responsive\": true}                    ).then(function(){\n",
       "                            \n",
       "var gd = document.getElementById('a1916368-b53b-4c6f-ad61-c82b724da264');\n",
       "var x = new MutationObserver(function (mutations, observer) {{\n",
       "        var display = window.getComputedStyle(gd).display;\n",
       "        if (!display || display === 'none') {{\n",
       "            console.log([gd, 'removed!']);\n",
       "            Plotly.purge(gd);\n",
       "            observer.disconnect();\n",
       "        }}\n",
       "}});\n",
       "\n",
       "// Listen for the removal of the full notebook cells\n",
       "var notebookContainer = gd.closest('#notebook-container');\n",
       "if (notebookContainer) {{\n",
       "    x.observe(notebookContainer, {childList: true});\n",
       "}}\n",
       "\n",
       "// Listen for the clearing of the current output cell\n",
       "var outputEl = gd.closest('.output');\n",
       "if (outputEl) {{\n",
       "    x.observe(outputEl, {childList: true});\n",
       "}}\n",
       "\n",
       "                        })                };                });            </script>        </div>"
      ]
     },
     "metadata": {},
     "output_type": "display_data"
    }
   ],
   "source": [
    "# Create horizontal bar chart of `top_ten_var`\n",
    "fig = px.bar(\n",
    "    x =top_ten_var,\n",
    "    y= top_ten_var.index\n",
    ")\n",
    "\n",
    "fig.show()"
   ]
  },
  {
   "cell_type": "code",
   "execution_count": 265,
   "id": "37bfe240",
   "metadata": {},
   "outputs": [
    {
     "data": {
      "application/vnd.plotly.v1+json": {
       "config": {
        "plotlyServerURL": "https://plot.ly"
       },
       "data": [
        {
         "alignmentgroup": "True",
         "hovertemplate": "Country=%{x}<extra></extra>",
         "legendgroup": "",
         "marker": {
          "color": "#636efa"
         },
         "name": "",
         "notched": false,
         "offsetgroup": "",
         "orientation": "h",
         "showlegend": false,
         "type": "box",
         "x": [
          "  Nigeria",
          "  Egypt",
          "  South Africa",
          "  Algeria",
          "  Morocco",
          "  Angola",
          "  Kenya",
          "  Ethiopia",
          "  Tanzania",
          "  Ghana",
          "  Ivory Coast",
          "  Uganda",
          "  Tunisia",
          "  Cameroon",
          "  Libya",
          "  Zimbabwe",
          "  Senegal",
          "  Zambia",
          "  Gabon",
          "  Guinea",
          "  Botswana",
          "  Benin",
          "  Equatorial Guinea",
          "  Republic of Congo",
          "  Namibia",
          "  Mauritius",
          "  Mauritania",
          "  Eswatini",
          "  Djibouti",
          "  Lesotho",
          "  Cape Verde",
          "  Seychelles",
          "  Comoros",
          "  São Tomé and Príncipe"
         ],
         "x0": " ",
         "xaxis": "x",
         "y0": " ",
         "yaxis": "y"
        }
       ],
       "layout": {
        "boxmode": "group",
        "legend": {
         "tracegroupgap": 0
        },
        "template": {
         "data": {
          "bar": [
           {
            "error_x": {
             "color": "#2a3f5f"
            },
            "error_y": {
             "color": "#2a3f5f"
            },
            "marker": {
             "line": {
              "color": "#E5ECF6",
              "width": 0.5
             },
             "pattern": {
              "fillmode": "overlay",
              "size": 10,
              "solidity": 0.2
             }
            },
            "type": "bar"
           }
          ],
          "barpolar": [
           {
            "marker": {
             "line": {
              "color": "#E5ECF6",
              "width": 0.5
             },
             "pattern": {
              "fillmode": "overlay",
              "size": 10,
              "solidity": 0.2
             }
            },
            "type": "barpolar"
           }
          ],
          "carpet": [
           {
            "aaxis": {
             "endlinecolor": "#2a3f5f",
             "gridcolor": "white",
             "linecolor": "white",
             "minorgridcolor": "white",
             "startlinecolor": "#2a3f5f"
            },
            "baxis": {
             "endlinecolor": "#2a3f5f",
             "gridcolor": "white",
             "linecolor": "white",
             "minorgridcolor": "white",
             "startlinecolor": "#2a3f5f"
            },
            "type": "carpet"
           }
          ],
          "choropleth": [
           {
            "colorbar": {
             "outlinewidth": 0,
             "ticks": ""
            },
            "type": "choropleth"
           }
          ],
          "contour": [
           {
            "colorbar": {
             "outlinewidth": 0,
             "ticks": ""
            },
            "colorscale": [
             [
              0,
              "#0d0887"
             ],
             [
              0.1111111111111111,
              "#46039f"
             ],
             [
              0.2222222222222222,
              "#7201a8"
             ],
             [
              0.3333333333333333,
              "#9c179e"
             ],
             [
              0.4444444444444444,
              "#bd3786"
             ],
             [
              0.5555555555555556,
              "#d8576b"
             ],
             [
              0.6666666666666666,
              "#ed7953"
             ],
             [
              0.7777777777777778,
              "#fb9f3a"
             ],
             [
              0.8888888888888888,
              "#fdca26"
             ],
             [
              1,
              "#f0f921"
             ]
            ],
            "type": "contour"
           }
          ],
          "contourcarpet": [
           {
            "colorbar": {
             "outlinewidth": 0,
             "ticks": ""
            },
            "type": "contourcarpet"
           }
          ],
          "heatmap": [
           {
            "colorbar": {
             "outlinewidth": 0,
             "ticks": ""
            },
            "colorscale": [
             [
              0,
              "#0d0887"
             ],
             [
              0.1111111111111111,
              "#46039f"
             ],
             [
              0.2222222222222222,
              "#7201a8"
             ],
             [
              0.3333333333333333,
              "#9c179e"
             ],
             [
              0.4444444444444444,
              "#bd3786"
             ],
             [
              0.5555555555555556,
              "#d8576b"
             ],
             [
              0.6666666666666666,
              "#ed7953"
             ],
             [
              0.7777777777777778,
              "#fb9f3a"
             ],
             [
              0.8888888888888888,
              "#fdca26"
             ],
             [
              1,
              "#f0f921"
             ]
            ],
            "type": "heatmap"
           }
          ],
          "heatmapgl": [
           {
            "colorbar": {
             "outlinewidth": 0,
             "ticks": ""
            },
            "colorscale": [
             [
              0,
              "#0d0887"
             ],
             [
              0.1111111111111111,
              "#46039f"
             ],
             [
              0.2222222222222222,
              "#7201a8"
             ],
             [
              0.3333333333333333,
              "#9c179e"
             ],
             [
              0.4444444444444444,
              "#bd3786"
             ],
             [
              0.5555555555555556,
              "#d8576b"
             ],
             [
              0.6666666666666666,
              "#ed7953"
             ],
             [
              0.7777777777777778,
              "#fb9f3a"
             ],
             [
              0.8888888888888888,
              "#fdca26"
             ],
             [
              1,
              "#f0f921"
             ]
            ],
            "type": "heatmapgl"
           }
          ],
          "histogram": [
           {
            "marker": {
             "pattern": {
              "fillmode": "overlay",
              "size": 10,
              "solidity": 0.2
             }
            },
            "type": "histogram"
           }
          ],
          "histogram2d": [
           {
            "colorbar": {
             "outlinewidth": 0,
             "ticks": ""
            },
            "colorscale": [
             [
              0,
              "#0d0887"
             ],
             [
              0.1111111111111111,
              "#46039f"
             ],
             [
              0.2222222222222222,
              "#7201a8"
             ],
             [
              0.3333333333333333,
              "#9c179e"
             ],
             [
              0.4444444444444444,
              "#bd3786"
             ],
             [
              0.5555555555555556,
              "#d8576b"
             ],
             [
              0.6666666666666666,
              "#ed7953"
             ],
             [
              0.7777777777777778,
              "#fb9f3a"
             ],
             [
              0.8888888888888888,
              "#fdca26"
             ],
             [
              1,
              "#f0f921"
             ]
            ],
            "type": "histogram2d"
           }
          ],
          "histogram2dcontour": [
           {
            "colorbar": {
             "outlinewidth": 0,
             "ticks": ""
            },
            "colorscale": [
             [
              0,
              "#0d0887"
             ],
             [
              0.1111111111111111,
              "#46039f"
             ],
             [
              0.2222222222222222,
              "#7201a8"
             ],
             [
              0.3333333333333333,
              "#9c179e"
             ],
             [
              0.4444444444444444,
              "#bd3786"
             ],
             [
              0.5555555555555556,
              "#d8576b"
             ],
             [
              0.6666666666666666,
              "#ed7953"
             ],
             [
              0.7777777777777778,
              "#fb9f3a"
             ],
             [
              0.8888888888888888,
              "#fdca26"
             ],
             [
              1,
              "#f0f921"
             ]
            ],
            "type": "histogram2dcontour"
           }
          ],
          "mesh3d": [
           {
            "colorbar": {
             "outlinewidth": 0,
             "ticks": ""
            },
            "type": "mesh3d"
           }
          ],
          "parcoords": [
           {
            "line": {
             "colorbar": {
              "outlinewidth": 0,
              "ticks": ""
             }
            },
            "type": "parcoords"
           }
          ],
          "pie": [
           {
            "automargin": true,
            "type": "pie"
           }
          ],
          "scatter": [
           {
            "marker": {
             "colorbar": {
              "outlinewidth": 0,
              "ticks": ""
             }
            },
            "type": "scatter"
           }
          ],
          "scatter3d": [
           {
            "line": {
             "colorbar": {
              "outlinewidth": 0,
              "ticks": ""
             }
            },
            "marker": {
             "colorbar": {
              "outlinewidth": 0,
              "ticks": ""
             }
            },
            "type": "scatter3d"
           }
          ],
          "scattercarpet": [
           {
            "marker": {
             "colorbar": {
              "outlinewidth": 0,
              "ticks": ""
             }
            },
            "type": "scattercarpet"
           }
          ],
          "scattergeo": [
           {
            "marker": {
             "colorbar": {
              "outlinewidth": 0,
              "ticks": ""
             }
            },
            "type": "scattergeo"
           }
          ],
          "scattergl": [
           {
            "marker": {
             "colorbar": {
              "outlinewidth": 0,
              "ticks": ""
             }
            },
            "type": "scattergl"
           }
          ],
          "scattermapbox": [
           {
            "marker": {
             "colorbar": {
              "outlinewidth": 0,
              "ticks": ""
             }
            },
            "type": "scattermapbox"
           }
          ],
          "scatterpolar": [
           {
            "marker": {
             "colorbar": {
              "outlinewidth": 0,
              "ticks": ""
             }
            },
            "type": "scatterpolar"
           }
          ],
          "scatterpolargl": [
           {
            "marker": {
             "colorbar": {
              "outlinewidth": 0,
              "ticks": ""
             }
            },
            "type": "scatterpolargl"
           }
          ],
          "scatterternary": [
           {
            "marker": {
             "colorbar": {
              "outlinewidth": 0,
              "ticks": ""
             }
            },
            "type": "scatterternary"
           }
          ],
          "surface": [
           {
            "colorbar": {
             "outlinewidth": 0,
             "ticks": ""
            },
            "colorscale": [
             [
              0,
              "#0d0887"
             ],
             [
              0.1111111111111111,
              "#46039f"
             ],
             [
              0.2222222222222222,
              "#7201a8"
             ],
             [
              0.3333333333333333,
              "#9c179e"
             ],
             [
              0.4444444444444444,
              "#bd3786"
             ],
             [
              0.5555555555555556,
              "#d8576b"
             ],
             [
              0.6666666666666666,
              "#ed7953"
             ],
             [
              0.7777777777777778,
              "#fb9f3a"
             ],
             [
              0.8888888888888888,
              "#fdca26"
             ],
             [
              1,
              "#f0f921"
             ]
            ],
            "type": "surface"
           }
          ],
          "table": [
           {
            "cells": {
             "fill": {
              "color": "#EBF0F8"
             },
             "line": {
              "color": "white"
             }
            },
            "header": {
             "fill": {
              "color": "#C8D4E3"
             },
             "line": {
              "color": "white"
             }
            },
            "type": "table"
           }
          ]
         },
         "layout": {
          "annotationdefaults": {
           "arrowcolor": "#2a3f5f",
           "arrowhead": 0,
           "arrowwidth": 1
          },
          "autotypenumbers": "strict",
          "coloraxis": {
           "colorbar": {
            "outlinewidth": 0,
            "ticks": ""
           }
          },
          "colorscale": {
           "diverging": [
            [
             0,
             "#8e0152"
            ],
            [
             0.1,
             "#c51b7d"
            ],
            [
             0.2,
             "#de77ae"
            ],
            [
             0.3,
             "#f1b6da"
            ],
            [
             0.4,
             "#fde0ef"
            ],
            [
             0.5,
             "#f7f7f7"
            ],
            [
             0.6,
             "#e6f5d0"
            ],
            [
             0.7,
             "#b8e186"
            ],
            [
             0.8,
             "#7fbc41"
            ],
            [
             0.9,
             "#4d9221"
            ],
            [
             1,
             "#276419"
            ]
           ],
           "sequential": [
            [
             0,
             "#0d0887"
            ],
            [
             0.1111111111111111,
             "#46039f"
            ],
            [
             0.2222222222222222,
             "#7201a8"
            ],
            [
             0.3333333333333333,
             "#9c179e"
            ],
            [
             0.4444444444444444,
             "#bd3786"
            ],
            [
             0.5555555555555556,
             "#d8576b"
            ],
            [
             0.6666666666666666,
             "#ed7953"
            ],
            [
             0.7777777777777778,
             "#fb9f3a"
            ],
            [
             0.8888888888888888,
             "#fdca26"
            ],
            [
             1,
             "#f0f921"
            ]
           ],
           "sequentialminus": [
            [
             0,
             "#0d0887"
            ],
            [
             0.1111111111111111,
             "#46039f"
            ],
            [
             0.2222222222222222,
             "#7201a8"
            ],
            [
             0.3333333333333333,
             "#9c179e"
            ],
            [
             0.4444444444444444,
             "#bd3786"
            ],
            [
             0.5555555555555556,
             "#d8576b"
            ],
            [
             0.6666666666666666,
             "#ed7953"
            ],
            [
             0.7777777777777778,
             "#fb9f3a"
            ],
            [
             0.8888888888888888,
             "#fdca26"
            ],
            [
             1,
             "#f0f921"
            ]
           ]
          },
          "colorway": [
           "#636efa",
           "#EF553B",
           "#00cc96",
           "#ab63fa",
           "#FFA15A",
           "#19d3f3",
           "#FF6692",
           "#B6E880",
           "#FF97FF",
           "#FECB52"
          ],
          "font": {
           "color": "#2a3f5f"
          },
          "geo": {
           "bgcolor": "white",
           "lakecolor": "white",
           "landcolor": "#E5ECF6",
           "showlakes": true,
           "showland": true,
           "subunitcolor": "white"
          },
          "hoverlabel": {
           "align": "left"
          },
          "hovermode": "closest",
          "mapbox": {
           "style": "light"
          },
          "paper_bgcolor": "white",
          "plot_bgcolor": "#E5ECF6",
          "polar": {
           "angularaxis": {
            "gridcolor": "white",
            "linecolor": "white",
            "ticks": ""
           },
           "bgcolor": "#E5ECF6",
           "radialaxis": {
            "gridcolor": "white",
            "linecolor": "white",
            "ticks": ""
           }
          },
          "scene": {
           "xaxis": {
            "backgroundcolor": "#E5ECF6",
            "gridcolor": "white",
            "gridwidth": 2,
            "linecolor": "white",
            "showbackground": true,
            "ticks": "",
            "zerolinecolor": "white"
           },
           "yaxis": {
            "backgroundcolor": "#E5ECF6",
            "gridcolor": "white",
            "gridwidth": 2,
            "linecolor": "white",
            "showbackground": true,
            "ticks": "",
            "zerolinecolor": "white"
           },
           "zaxis": {
            "backgroundcolor": "#E5ECF6",
            "gridcolor": "white",
            "gridwidth": 2,
            "linecolor": "white",
            "showbackground": true,
            "ticks": "",
            "zerolinecolor": "white"
           }
          },
          "shapedefaults": {
           "line": {
            "color": "#2a3f5f"
           }
          },
          "ternary": {
           "aaxis": {
            "gridcolor": "white",
            "linecolor": "white",
            "ticks": ""
           },
           "baxis": {
            "gridcolor": "white",
            "linecolor": "white",
            "ticks": ""
           },
           "bgcolor": "#E5ECF6",
           "caxis": {
            "gridcolor": "white",
            "linecolor": "white",
            "ticks": ""
           }
          },
          "title": {
           "x": 0.05
          },
          "xaxis": {
           "automargin": true,
           "gridcolor": "white",
           "linecolor": "white",
           "ticks": "",
           "title": {
            "standoff": 15
           },
           "zerolinecolor": "white",
           "zerolinewidth": 2
          },
          "yaxis": {
           "automargin": true,
           "gridcolor": "white",
           "linecolor": "white",
           "ticks": "",
           "title": {
            "standoff": 15
           },
           "zerolinecolor": "white",
           "zerolinewidth": 2
          }
         }
        },
        "title": {
         "text": "Distribution of Non-home, Non-Financial Assets"
        },
        "xaxis": {
         "anchor": "y",
         "domain": [
          0,
          1
         ],
         "title": {
          "text": "Country"
         }
        },
        "yaxis": {
         "anchor": "x",
         "domain": [
          0,
          1
         ]
        }
       }
      },
      "text/html": [
       "<div>                            <div id=\"a5ca2a20-d3ef-48b9-bd2a-ccf9a946fdbd\" class=\"plotly-graph-div\" style=\"height:525px; width:100%;\"></div>            <script type=\"text/javascript\">                require([\"plotly\"], function(Plotly) {                    window.PLOTLYENV=window.PLOTLYENV || {};                                    if (document.getElementById(\"a5ca2a20-d3ef-48b9-bd2a-ccf9a946fdbd\")) {                    Plotly.newPlot(                        \"a5ca2a20-d3ef-48b9-bd2a-ccf9a946fdbd\",                        [{\"alignmentgroup\":\"True\",\"hovertemplate\":\"Country=%{x}<extra></extra>\",\"legendgroup\":\"\",\"marker\":{\"color\":\"#636efa\"},\"name\":\"\",\"notched\":false,\"offsetgroup\":\"\",\"orientation\":\"h\",\"showlegend\":false,\"x\":[\" \\u00a0Nigeria\",\" \\u00a0Egypt\",\" \\u00a0South Africa\",\" \\u00a0Algeria\",\" \\u00a0Morocco\",\" \\u00a0Angola\",\" \\u00a0Kenya\",\" \\u00a0Ethiopia\",\" \\u00a0Tanzania\",\" \\u00a0Ghana\",\" \\u00a0Ivory Coast\",\" \\u00a0Uganda\",\" \\u00a0Tunisia\",\" \\u00a0Cameroon\",\" \\u00a0Libya\",\" \\u00a0Zimbabwe\",\" \\u00a0Senegal\",\" \\u00a0Zambia\",\" \\u00a0Gabon\",\" \\u00a0Guinea\",\" \\u00a0Botswana\",\" \\u00a0Benin\",\" \\u00a0Equatorial Guinea\",\"  Republic of Congo\",\" \\u00a0Namibia\",\" \\u00a0Mauritius\",\" \\u00a0Mauritania\",\" \\u00a0Eswatini\",\" \\u00a0Djibouti\",\" \\u00a0Lesotho\",\" \\u00a0Cape Verde\",\" \\u00a0Seychelles\",\" \\u00a0Comoros\",\" \\u00a0S\\u00e3o Tom\\u00e9 and Pr\\u00edncipe\"],\"x0\":\" \",\"xaxis\":\"x\",\"y0\":\" \",\"yaxis\":\"y\",\"type\":\"box\"}],                        {\"template\":{\"data\":{\"bar\":[{\"error_x\":{\"color\":\"#2a3f5f\"},\"error_y\":{\"color\":\"#2a3f5f\"},\"marker\":{\"line\":{\"color\":\"#E5ECF6\",\"width\":0.5},\"pattern\":{\"fillmode\":\"overlay\",\"size\":10,\"solidity\":0.2}},\"type\":\"bar\"}],\"barpolar\":[{\"marker\":{\"line\":{\"color\":\"#E5ECF6\",\"width\":0.5},\"pattern\":{\"fillmode\":\"overlay\",\"size\":10,\"solidity\":0.2}},\"type\":\"barpolar\"}],\"carpet\":[{\"aaxis\":{\"endlinecolor\":\"#2a3f5f\",\"gridcolor\":\"white\",\"linecolor\":\"white\",\"minorgridcolor\":\"white\",\"startlinecolor\":\"#2a3f5f\"},\"baxis\":{\"endlinecolor\":\"#2a3f5f\",\"gridcolor\":\"white\",\"linecolor\":\"white\",\"minorgridcolor\":\"white\",\"startlinecolor\":\"#2a3f5f\"},\"type\":\"carpet\"}],\"choropleth\":[{\"colorbar\":{\"outlinewidth\":0,\"ticks\":\"\"},\"type\":\"choropleth\"}],\"contour\":[{\"colorbar\":{\"outlinewidth\":0,\"ticks\":\"\"},\"colorscale\":[[0.0,\"#0d0887\"],[0.1111111111111111,\"#46039f\"],[0.2222222222222222,\"#7201a8\"],[0.3333333333333333,\"#9c179e\"],[0.4444444444444444,\"#bd3786\"],[0.5555555555555556,\"#d8576b\"],[0.6666666666666666,\"#ed7953\"],[0.7777777777777778,\"#fb9f3a\"],[0.8888888888888888,\"#fdca26\"],[1.0,\"#f0f921\"]],\"type\":\"contour\"}],\"contourcarpet\":[{\"colorbar\":{\"outlinewidth\":0,\"ticks\":\"\"},\"type\":\"contourcarpet\"}],\"heatmap\":[{\"colorbar\":{\"outlinewidth\":0,\"ticks\":\"\"},\"colorscale\":[[0.0,\"#0d0887\"],[0.1111111111111111,\"#46039f\"],[0.2222222222222222,\"#7201a8\"],[0.3333333333333333,\"#9c179e\"],[0.4444444444444444,\"#bd3786\"],[0.5555555555555556,\"#d8576b\"],[0.6666666666666666,\"#ed7953\"],[0.7777777777777778,\"#fb9f3a\"],[0.8888888888888888,\"#fdca26\"],[1.0,\"#f0f921\"]],\"type\":\"heatmap\"}],\"heatmapgl\":[{\"colorbar\":{\"outlinewidth\":0,\"ticks\":\"\"},\"colorscale\":[[0.0,\"#0d0887\"],[0.1111111111111111,\"#46039f\"],[0.2222222222222222,\"#7201a8\"],[0.3333333333333333,\"#9c179e\"],[0.4444444444444444,\"#bd3786\"],[0.5555555555555556,\"#d8576b\"],[0.6666666666666666,\"#ed7953\"],[0.7777777777777778,\"#fb9f3a\"],[0.8888888888888888,\"#fdca26\"],[1.0,\"#f0f921\"]],\"type\":\"heatmapgl\"}],\"histogram\":[{\"marker\":{\"pattern\":{\"fillmode\":\"overlay\",\"size\":10,\"solidity\":0.2}},\"type\":\"histogram\"}],\"histogram2d\":[{\"colorbar\":{\"outlinewidth\":0,\"ticks\":\"\"},\"colorscale\":[[0.0,\"#0d0887\"],[0.1111111111111111,\"#46039f\"],[0.2222222222222222,\"#7201a8\"],[0.3333333333333333,\"#9c179e\"],[0.4444444444444444,\"#bd3786\"],[0.5555555555555556,\"#d8576b\"],[0.6666666666666666,\"#ed7953\"],[0.7777777777777778,\"#fb9f3a\"],[0.8888888888888888,\"#fdca26\"],[1.0,\"#f0f921\"]],\"type\":\"histogram2d\"}],\"histogram2dcontour\":[{\"colorbar\":{\"outlinewidth\":0,\"ticks\":\"\"},\"colorscale\":[[0.0,\"#0d0887\"],[0.1111111111111111,\"#46039f\"],[0.2222222222222222,\"#7201a8\"],[0.3333333333333333,\"#9c179e\"],[0.4444444444444444,\"#bd3786\"],[0.5555555555555556,\"#d8576b\"],[0.6666666666666666,\"#ed7953\"],[0.7777777777777778,\"#fb9f3a\"],[0.8888888888888888,\"#fdca26\"],[1.0,\"#f0f921\"]],\"type\":\"histogram2dcontour\"}],\"mesh3d\":[{\"colorbar\":{\"outlinewidth\":0,\"ticks\":\"\"},\"type\":\"mesh3d\"}],\"parcoords\":[{\"line\":{\"colorbar\":{\"outlinewidth\":0,\"ticks\":\"\"}},\"type\":\"parcoords\"}],\"pie\":[{\"automargin\":true,\"type\":\"pie\"}],\"scatter\":[{\"marker\":{\"colorbar\":{\"outlinewidth\":0,\"ticks\":\"\"}},\"type\":\"scatter\"}],\"scatter3d\":[{\"line\":{\"colorbar\":{\"outlinewidth\":0,\"ticks\":\"\"}},\"marker\":{\"colorbar\":{\"outlinewidth\":0,\"ticks\":\"\"}},\"type\":\"scatter3d\"}],\"scattercarpet\":[{\"marker\":{\"colorbar\":{\"outlinewidth\":0,\"ticks\":\"\"}},\"type\":\"scattercarpet\"}],\"scattergeo\":[{\"marker\":{\"colorbar\":{\"outlinewidth\":0,\"ticks\":\"\"}},\"type\":\"scattergeo\"}],\"scattergl\":[{\"marker\":{\"colorbar\":{\"outlinewidth\":0,\"ticks\":\"\"}},\"type\":\"scattergl\"}],\"scattermapbox\":[{\"marker\":{\"colorbar\":{\"outlinewidth\":0,\"ticks\":\"\"}},\"type\":\"scattermapbox\"}],\"scatterpolar\":[{\"marker\":{\"colorbar\":{\"outlinewidth\":0,\"ticks\":\"\"}},\"type\":\"scatterpolar\"}],\"scatterpolargl\":[{\"marker\":{\"colorbar\":{\"outlinewidth\":0,\"ticks\":\"\"}},\"type\":\"scatterpolargl\"}],\"scatterternary\":[{\"marker\":{\"colorbar\":{\"outlinewidth\":0,\"ticks\":\"\"}},\"type\":\"scatterternary\"}],\"surface\":[{\"colorbar\":{\"outlinewidth\":0,\"ticks\":\"\"},\"colorscale\":[[0.0,\"#0d0887\"],[0.1111111111111111,\"#46039f\"],[0.2222222222222222,\"#7201a8\"],[0.3333333333333333,\"#9c179e\"],[0.4444444444444444,\"#bd3786\"],[0.5555555555555556,\"#d8576b\"],[0.6666666666666666,\"#ed7953\"],[0.7777777777777778,\"#fb9f3a\"],[0.8888888888888888,\"#fdca26\"],[1.0,\"#f0f921\"]],\"type\":\"surface\"}],\"table\":[{\"cells\":{\"fill\":{\"color\":\"#EBF0F8\"},\"line\":{\"color\":\"white\"}},\"header\":{\"fill\":{\"color\":\"#C8D4E3\"},\"line\":{\"color\":\"white\"}},\"type\":\"table\"}]},\"layout\":{\"annotationdefaults\":{\"arrowcolor\":\"#2a3f5f\",\"arrowhead\":0,\"arrowwidth\":1},\"autotypenumbers\":\"strict\",\"coloraxis\":{\"colorbar\":{\"outlinewidth\":0,\"ticks\":\"\"}},\"colorscale\":{\"diverging\":[[0,\"#8e0152\"],[0.1,\"#c51b7d\"],[0.2,\"#de77ae\"],[0.3,\"#f1b6da\"],[0.4,\"#fde0ef\"],[0.5,\"#f7f7f7\"],[0.6,\"#e6f5d0\"],[0.7,\"#b8e186\"],[0.8,\"#7fbc41\"],[0.9,\"#4d9221\"],[1,\"#276419\"]],\"sequential\":[[0.0,\"#0d0887\"],[0.1111111111111111,\"#46039f\"],[0.2222222222222222,\"#7201a8\"],[0.3333333333333333,\"#9c179e\"],[0.4444444444444444,\"#bd3786\"],[0.5555555555555556,\"#d8576b\"],[0.6666666666666666,\"#ed7953\"],[0.7777777777777778,\"#fb9f3a\"],[0.8888888888888888,\"#fdca26\"],[1.0,\"#f0f921\"]],\"sequentialminus\":[[0.0,\"#0d0887\"],[0.1111111111111111,\"#46039f\"],[0.2222222222222222,\"#7201a8\"],[0.3333333333333333,\"#9c179e\"],[0.4444444444444444,\"#bd3786\"],[0.5555555555555556,\"#d8576b\"],[0.6666666666666666,\"#ed7953\"],[0.7777777777777778,\"#fb9f3a\"],[0.8888888888888888,\"#fdca26\"],[1.0,\"#f0f921\"]]},\"colorway\":[\"#636efa\",\"#EF553B\",\"#00cc96\",\"#ab63fa\",\"#FFA15A\",\"#19d3f3\",\"#FF6692\",\"#B6E880\",\"#FF97FF\",\"#FECB52\"],\"font\":{\"color\":\"#2a3f5f\"},\"geo\":{\"bgcolor\":\"white\",\"lakecolor\":\"white\",\"landcolor\":\"#E5ECF6\",\"showlakes\":true,\"showland\":true,\"subunitcolor\":\"white\"},\"hoverlabel\":{\"align\":\"left\"},\"hovermode\":\"closest\",\"mapbox\":{\"style\":\"light\"},\"paper_bgcolor\":\"white\",\"plot_bgcolor\":\"#E5ECF6\",\"polar\":{\"angularaxis\":{\"gridcolor\":\"white\",\"linecolor\":\"white\",\"ticks\":\"\"},\"bgcolor\":\"#E5ECF6\",\"radialaxis\":{\"gridcolor\":\"white\",\"linecolor\":\"white\",\"ticks\":\"\"}},\"scene\":{\"xaxis\":{\"backgroundcolor\":\"#E5ECF6\",\"gridcolor\":\"white\",\"gridwidth\":2,\"linecolor\":\"white\",\"showbackground\":true,\"ticks\":\"\",\"zerolinecolor\":\"white\"},\"yaxis\":{\"backgroundcolor\":\"#E5ECF6\",\"gridcolor\":\"white\",\"gridwidth\":2,\"linecolor\":\"white\",\"showbackground\":true,\"ticks\":\"\",\"zerolinecolor\":\"white\"},\"zaxis\":{\"backgroundcolor\":\"#E5ECF6\",\"gridcolor\":\"white\",\"gridwidth\":2,\"linecolor\":\"white\",\"showbackground\":true,\"ticks\":\"\",\"zerolinecolor\":\"white\"}},\"shapedefaults\":{\"line\":{\"color\":\"#2a3f5f\"}},\"ternary\":{\"aaxis\":{\"gridcolor\":\"white\",\"linecolor\":\"white\",\"ticks\":\"\"},\"baxis\":{\"gridcolor\":\"white\",\"linecolor\":\"white\",\"ticks\":\"\"},\"bgcolor\":\"#E5ECF6\",\"caxis\":{\"gridcolor\":\"white\",\"linecolor\":\"white\",\"ticks\":\"\"}},\"title\":{\"x\":0.05},\"xaxis\":{\"automargin\":true,\"gridcolor\":\"white\",\"linecolor\":\"white\",\"ticks\":\"\",\"title\":{\"standoff\":15},\"zerolinecolor\":\"white\",\"zerolinewidth\":2},\"yaxis\":{\"automargin\":true,\"gridcolor\":\"white\",\"linecolor\":\"white\",\"ticks\":\"\",\"title\":{\"standoff\":15},\"zerolinecolor\":\"white\",\"zerolinewidth\":2}}},\"xaxis\":{\"anchor\":\"y\",\"domain\":[0.0,1.0],\"title\":{\"text\":\"Country\"}},\"yaxis\":{\"anchor\":\"x\",\"domain\":[0.0,1.0]},\"legend\":{\"tracegroupgap\":0},\"title\":{\"text\":\"Distribution of Non-home, Non-Financial Assets\"},\"boxmode\":\"group\"},                        {\"responsive\": true}                    ).then(function(){\n",
       "                            \n",
       "var gd = document.getElementById('a5ca2a20-d3ef-48b9-bd2a-ccf9a946fdbd');\n",
       "var x = new MutationObserver(function (mutations, observer) {{\n",
       "        var display = window.getComputedStyle(gd).display;\n",
       "        if (!display || display === 'none') {{\n",
       "            console.log([gd, 'removed!']);\n",
       "            Plotly.purge(gd);\n",
       "            observer.disconnect();\n",
       "        }}\n",
       "}});\n",
       "\n",
       "// Listen for the removal of the full notebook cells\n",
       "var notebookContainer = gd.closest('#notebook-container');\n",
       "if (notebookContainer) {{\n",
       "    x.observe(notebookContainer, {childList: true});\n",
       "}}\n",
       "\n",
       "// Listen for the clearing of the current output cell\n",
       "var outputEl = gd.closest('.output');\n",
       "if (outputEl) {{\n",
       "    x.observe(outputEl, {childList: true});\n",
       "}}\n",
       "\n",
       "                        })                };                });            </script>        </div>"
      ]
     },
     "metadata": {},
     "output_type": "display_data"
    }
   ],
   "source": [
    "# Create a boxplot of `NHNFIN`\n",
    "fig = px.box(data_frame = df_3,\n",
    "            x = \"Country\",\n",
    "             title = \"Distribution of Non-home, Non-Financial Assets\"\n",
    "            )\n",
    "\n",
    "fig.show()"
   ]
  },
  {
   "cell_type": "code",
   "execution_count": 266,
   "id": "45a3cbcc",
   "metadata": {},
   "outputs": [
    {
     "data": {
      "text/html": [
       "<div>\n",
       "<style scoped>\n",
       "    .dataframe tbody tr th:only-of-type {\n",
       "        vertical-align: middle;\n",
       "    }\n",
       "\n",
       "    .dataframe tbody tr th {\n",
       "        vertical-align: top;\n",
       "    }\n",
       "\n",
       "    .dataframe thead th {\n",
       "        text-align: right;\n",
       "    }\n",
       "</style>\n",
       "<table border=\"1\" class=\"dataframe\">\n",
       "  <thead>\n",
       "    <tr style=\"text-align: right;\">\n",
       "      <th></th>\n",
       "      <th>GDP</th>\n",
       "      <th>PCI</th>\n",
       "    </tr>\n",
       "  </thead>\n",
       "  <tbody>\n",
       "    <tr>\n",
       "      <th>mean</th>\n",
       "      <td>79</td>\n",
       "      <td>4110</td>\n",
       "    </tr>\n",
       "    <tr>\n",
       "      <th>std</th>\n",
       "      <td>129</td>\n",
       "      <td>3890</td>\n",
       "    </tr>\n",
       "    <tr>\n",
       "      <th>max</th>\n",
       "      <td>504</td>\n",
       "      <td>20265</td>\n",
       "    </tr>\n",
       "    <tr>\n",
       "      <th>min</th>\n",
       "      <td>0</td>\n",
       "      <td>1097</td>\n",
       "    </tr>\n",
       "    <tr>\n",
       "      <th>count</th>\n",
       "      <td>34</td>\n",
       "      <td>34</td>\n",
       "    </tr>\n",
       "  </tbody>\n",
       "</table>\n",
       "</div>"
      ],
      "text/plain": [
       "       GDP    PCI\n",
       "mean    79   4110\n",
       "std    129   3890\n",
       "max    504  20265\n",
       "min      0   1097\n",
       "count   34     34"
      ]
     },
     "execution_count": 266,
     "metadata": {},
     "output_type": "execute_result"
    }
   ],
   "source": [
    "df_3[[\"GDP\",\"PCI\"]].aggregate([\"mean\",\"std\",\"max\",\"min\",\"count\"]).astype(int)"
   ]
  },
  {
   "cell_type": "code",
   "execution_count": 267,
   "id": "7c091b31",
   "metadata": {},
   "outputs": [],
   "source": [
    "from sklearn.preprocessing import StandardScaler"
   ]
  },
  {
   "cell_type": "code",
   "execution_count": 268,
   "id": "4e6da408",
   "metadata": {},
   "outputs": [
    {
     "data": {
      "text/html": [
       "<div>\n",
       "<style scoped>\n",
       "    .dataframe tbody tr th:only-of-type {\n",
       "        vertical-align: middle;\n",
       "    }\n",
       "\n",
       "    .dataframe tbody tr th {\n",
       "        vertical-align: top;\n",
       "    }\n",
       "\n",
       "    .dataframe thead th {\n",
       "        text-align: right;\n",
       "    }\n",
       "</style>\n",
       "<table border=\"1\" class=\"dataframe\">\n",
       "  <thead>\n",
       "    <tr style=\"text-align: right;\">\n",
       "      <th></th>\n",
       "      <th>GDP</th>\n",
       "      <th>PCI</th>\n",
       "    </tr>\n",
       "  </thead>\n",
       "  <tbody>\n",
       "    <tr>\n",
       "      <th>0</th>\n",
       "      <td>3.327747</td>\n",
       "      <td>-0.465474</td>\n",
       "    </tr>\n",
       "    <tr>\n",
       "      <th>1</th>\n",
       "      <td>3.052345</td>\n",
       "      <td>0.102758</td>\n",
       "    </tr>\n",
       "    <tr>\n",
       "      <th>2</th>\n",
       "      <td>2.600411</td>\n",
       "      <td>0.685707</td>\n",
       "    </tr>\n",
       "    <tr>\n",
       "      <th>3</th>\n",
       "      <td>0.840765</td>\n",
       "      <td>0.010685</td>\n",
       "    </tr>\n",
       "    <tr>\n",
       "      <th>4</th>\n",
       "      <td>0.493417</td>\n",
       "      <td>-0.055897</td>\n",
       "    </tr>\n",
       "    <tr>\n",
       "      <th>5</th>\n",
       "      <td>0.351594</td>\n",
       "      <td>-0.083423</td>\n",
       "    </tr>\n",
       "    <tr>\n",
       "      <th>6</th>\n",
       "      <td>0.273654</td>\n",
       "      <td>-0.483931</td>\n",
       "    </tr>\n",
       "    <tr>\n",
       "      <th>7</th>\n",
       "      <td>0.244811</td>\n",
       "      <td>-0.786002</td>\n",
       "    </tr>\n",
       "    <tr>\n",
       "      <th>8</th>\n",
       "      <td>-0.026590</td>\n",
       "      <td>-0.747533</td>\n",
       "    </tr>\n",
       "    <tr>\n",
       "      <th>9</th>\n",
       "      <td>-0.031187</td>\n",
       "      <td>-0.454364</td>\n",
       "    </tr>\n",
       "    <tr>\n",
       "      <th>10</th>\n",
       "      <td>-0.088967</td>\n",
       "      <td>-0.441419</td>\n",
       "    </tr>\n",
       "    <tr>\n",
       "      <th>11</th>\n",
       "      <td>-0.248031</td>\n",
       "      <td>-0.783913</td>\n",
       "    </tr>\n",
       "    <tr>\n",
       "      <th>12</th>\n",
       "      <td>-0.264269</td>\n",
       "      <td>-0.076870</td>\n",
       "    </tr>\n",
       "    <tr>\n",
       "      <th>13</th>\n",
       "      <td>-0.280506</td>\n",
       "      <td>-0.659105</td>\n",
       "    </tr>\n",
       "    <tr>\n",
       "      <th>14</th>\n",
       "      <td>-0.306988</td>\n",
       "      <td>0.499636</td>\n",
       "    </tr>\n",
       "    <tr>\n",
       "      <th>15</th>\n",
       "      <td>-0.327038</td>\n",
       "      <td>-0.440953</td>\n",
       "    </tr>\n",
       "    <tr>\n",
       "      <th>16</th>\n",
       "      <td>-0.411269</td>\n",
       "      <td>-0.665851</td>\n",
       "    </tr>\n",
       "    <tr>\n",
       "      <th>17</th>\n",
       "      <td>-0.415324</td>\n",
       "      <td>-0.720579</td>\n",
       "    </tr>\n",
       "    <tr>\n",
       "      <th>18</th>\n",
       "      <td>-0.453007</td>\n",
       "      <td>1.609963</td>\n",
       "    </tr>\n",
       "    <tr>\n",
       "      <th>19</th>\n",
       "      <td>-0.472430</td>\n",
       "      <td>-0.721308</td>\n",
       "    </tr>\n",
       "    <tr>\n",
       "      <th>20</th>\n",
       "      <td>-0.486079</td>\n",
       "      <td>0.844533</td>\n",
       "    </tr>\n",
       "    <tr>\n",
       "      <th>21</th>\n",
       "      <td>-0.489671</td>\n",
       "      <td>-0.715750</td>\n",
       "    </tr>\n",
       "    <tr>\n",
       "      <th>22</th>\n",
       "      <td>-0.494927</td>\n",
       "      <td>1.866313</td>\n",
       "    </tr>\n",
       "    <tr>\n",
       "      <th>23</th>\n",
       "      <td>-0.513682</td>\n",
       "      <td>-0.304023</td>\n",
       "    </tr>\n",
       "    <tr>\n",
       "      <th>24</th>\n",
       "      <td>-0.529355</td>\n",
       "      <td>0.182209</td>\n",
       "    </tr>\n",
       "    <tr>\n",
       "      <th>25</th>\n",
       "      <td>-0.537128</td>\n",
       "      <td>1.304690</td>\n",
       "    </tr>\n",
       "    <tr>\n",
       "      <th>26</th>\n",
       "      <td>-0.548157</td>\n",
       "      <td>-0.464946</td>\n",
       "    </tr>\n",
       "    <tr>\n",
       "      <th>27</th>\n",
       "      <td>-0.590689</td>\n",
       "      <td>-0.014166</td>\n",
       "    </tr>\n",
       "    <tr>\n",
       "      <th>28</th>\n",
       "      <td>-0.598093</td>\n",
       "      <td>-0.116001</td>\n",
       "    </tr>\n",
       "    <tr>\n",
       "      <th>29</th>\n",
       "      <td>-0.607648</td>\n",
       "      <td>-0.762742</td>\n",
       "    </tr>\n",
       "    <tr>\n",
       "      <th>30</th>\n",
       "      <td>-0.611209</td>\n",
       "      <td>-0.133115</td>\n",
       "    </tr>\n",
       "    <tr>\n",
       "      <th>31</th>\n",
       "      <td>-0.611585</td>\n",
       "      <td>4.214556</td>\n",
       "    </tr>\n",
       "    <tr>\n",
       "      <th>32</th>\n",
       "      <td>-0.617571</td>\n",
       "      <td>-0.733279</td>\n",
       "    </tr>\n",
       "    <tr>\n",
       "      <th>33</th>\n",
       "      <td>-0.623344</td>\n",
       "      <td>-0.490405</td>\n",
       "    </tr>\n",
       "  </tbody>\n",
       "</table>\n",
       "</div>"
      ],
      "text/plain": [
       "         GDP       PCI\n",
       "0   3.327747 -0.465474\n",
       "1   3.052345  0.102758\n",
       "2   2.600411  0.685707\n",
       "3   0.840765  0.010685\n",
       "4   0.493417 -0.055897\n",
       "5   0.351594 -0.083423\n",
       "6   0.273654 -0.483931\n",
       "7   0.244811 -0.786002\n",
       "8  -0.026590 -0.747533\n",
       "9  -0.031187 -0.454364\n",
       "10 -0.088967 -0.441419\n",
       "11 -0.248031 -0.783913\n",
       "12 -0.264269 -0.076870\n",
       "13 -0.280506 -0.659105\n",
       "14 -0.306988  0.499636\n",
       "15 -0.327038 -0.440953\n",
       "16 -0.411269 -0.665851\n",
       "17 -0.415324 -0.720579\n",
       "18 -0.453007  1.609963\n",
       "19 -0.472430 -0.721308\n",
       "20 -0.486079  0.844533\n",
       "21 -0.489671 -0.715750\n",
       "22 -0.494927  1.866313\n",
       "23 -0.513682 -0.304023\n",
       "24 -0.529355  0.182209\n",
       "25 -0.537128  1.304690\n",
       "26 -0.548157 -0.464946\n",
       "27 -0.590689 -0.014166\n",
       "28 -0.598093 -0.116001\n",
       "29 -0.607648 -0.762742\n",
       "30 -0.611209 -0.133115\n",
       "31 -0.611585  4.214556\n",
       "32 -0.617571 -0.733279\n",
       "33 -0.623344 -0.490405"
      ]
     },
     "execution_count": 268,
     "metadata": {},
     "output_type": "execute_result"
    }
   ],
   "source": [
    "x = df_3[['GDP','PCI']]\n",
    "ss = StandardScaler()\n",
    "scaled_data =pd.DataFrame( ss.fit_transform(x), columns = x.columns)\n",
    "scaled_data"
   ]
  },
  {
   "cell_type": "code",
   "execution_count": 269,
   "id": "c9855604",
   "metadata": {},
   "outputs": [],
   "source": [
    "from sklearn.cluster import KMeans\n",
    "from sklearn.pipeline import make_pipeline\n",
    "from sklearn.metrics import silhouette_score"
   ]
  },
  {
   "cell_type": "code",
   "execution_count": 270,
   "id": "5cf4032f",
   "metadata": {},
   "outputs": [
    {
     "name": "stderr",
     "output_type": "stream",
     "text": [
      "D:\\Stats_software\\Anaconda\\lib\\site-packages\\sklearn\\cluster\\_kmeans.py:1036: UserWarning:\n",
      "\n",
      "KMeans is known to have a memory leak on Windows with MKL, when there are less chunks than available threads. You can avoid it by setting the environment variable OMP_NUM_THREADS=1.\n",
      "\n"
     ]
    }
   ],
   "source": [
    "n_clusters = range(1,20)\n",
    "inertial_errors = []\n",
    "silhouette_scores = []\n",
    "\n",
    "for k in n_clusters:\n",
    "    model = make_pipeline(StandardScaler(),KMeans(n_clusters = k ,random_state = 42))\n",
    "    model.fit(scaled_data)\n",
    "    inertial_errors.append(model.named_steps[\"kmeans\"].inertia_)\n",
    "    #silhouette_scores.append( silhouette_score(scaled_data, model.named_steps[\"kmeans\"].labels_ ) ) "
   ]
  },
  {
   "cell_type": "code",
   "execution_count": 271,
   "id": "e99528d1",
   "metadata": {},
   "outputs": [
    {
     "name": "stdout",
     "output_type": "stream",
     "text": [
      "[68.00000000000001, 38.47712384576879, 14.782056586349919, 8.372513449788196, 5.309634852255486, 3.5777289683716655, 2.7501527463545994, 2.0177510336446334, 1.5006727559870878, 1.1492466468531868, 1.013073379496537, 0.8373790689379326, 0.7094680271027131, 0.6442468516312944, 0.5052086129594962, 0.4033878121437462, 0.3198910524922516, 0.26148552317665014, 0.21544612469778734]\n"
     ]
    }
   ],
   "source": [
    "print(inertial_errors)"
   ]
  },
  {
   "cell_type": "code",
   "execution_count": 272,
   "id": "b62927ac",
   "metadata": {},
   "outputs": [],
   "source": [
    "silhouette_scores.append( silhouette_score(scaled_data, model.named_steps[\"kmeans\"].labels_ ) ) "
   ]
  },
  {
   "cell_type": "code",
   "execution_count": 273,
   "id": "fe747647",
   "metadata": {},
   "outputs": [
    {
     "name": "stdout",
     "output_type": "stream",
     "text": [
      "[0.313090020420286]\n"
     ]
    }
   ],
   "source": [
    "print(silhouette_scores)"
   ]
  },
  {
   "cell_type": "code",
   "execution_count": 274,
   "id": "9e21fe4f",
   "metadata": {},
   "outputs": [
    {
     "data": {
      "application/vnd.plotly.v1+json": {
       "config": {
        "plotlyServerURL": "https://plot.ly"
       },
       "data": [
        {
         "hovertemplate": "x=%{x}<br>y=%{y}<extra></extra>",
         "legendgroup": "",
         "line": {
          "color": "#636efa",
          "dash": "solid"
         },
         "marker": {
          "symbol": "circle"
         },
         "mode": "lines",
         "name": "",
         "orientation": "v",
         "showlegend": false,
         "type": "scatter",
         "x": [
          1,
          2,
          3,
          4,
          5,
          6,
          7,
          8,
          9,
          10,
          11,
          12,
          13,
          14,
          15,
          16,
          17,
          18,
          19
         ],
         "xaxis": "x",
         "y": [
          68.00000000000001,
          38.47712384576879,
          14.782056586349919,
          8.372513449788196,
          5.309634852255486,
          3.5777289683716655,
          2.7501527463545994,
          2.0177510336446334,
          1.5006727559870878,
          1.1492466468531868,
          1.013073379496537,
          0.8373790689379326,
          0.7094680271027131,
          0.6442468516312944,
          0.5052086129594962,
          0.4033878121437462,
          0.3198910524922516,
          0.26148552317665014,
          0.21544612469778734
         ],
         "yaxis": "y"
        }
       ],
       "layout": {
        "legend": {
         "tracegroupgap": 0
        },
        "template": {
         "data": {
          "bar": [
           {
            "error_x": {
             "color": "#2a3f5f"
            },
            "error_y": {
             "color": "#2a3f5f"
            },
            "marker": {
             "line": {
              "color": "#E5ECF6",
              "width": 0.5
             },
             "pattern": {
              "fillmode": "overlay",
              "size": 10,
              "solidity": 0.2
             }
            },
            "type": "bar"
           }
          ],
          "barpolar": [
           {
            "marker": {
             "line": {
              "color": "#E5ECF6",
              "width": 0.5
             },
             "pattern": {
              "fillmode": "overlay",
              "size": 10,
              "solidity": 0.2
             }
            },
            "type": "barpolar"
           }
          ],
          "carpet": [
           {
            "aaxis": {
             "endlinecolor": "#2a3f5f",
             "gridcolor": "white",
             "linecolor": "white",
             "minorgridcolor": "white",
             "startlinecolor": "#2a3f5f"
            },
            "baxis": {
             "endlinecolor": "#2a3f5f",
             "gridcolor": "white",
             "linecolor": "white",
             "minorgridcolor": "white",
             "startlinecolor": "#2a3f5f"
            },
            "type": "carpet"
           }
          ],
          "choropleth": [
           {
            "colorbar": {
             "outlinewidth": 0,
             "ticks": ""
            },
            "type": "choropleth"
           }
          ],
          "contour": [
           {
            "colorbar": {
             "outlinewidth": 0,
             "ticks": ""
            },
            "colorscale": [
             [
              0,
              "#0d0887"
             ],
             [
              0.1111111111111111,
              "#46039f"
             ],
             [
              0.2222222222222222,
              "#7201a8"
             ],
             [
              0.3333333333333333,
              "#9c179e"
             ],
             [
              0.4444444444444444,
              "#bd3786"
             ],
             [
              0.5555555555555556,
              "#d8576b"
             ],
             [
              0.6666666666666666,
              "#ed7953"
             ],
             [
              0.7777777777777778,
              "#fb9f3a"
             ],
             [
              0.8888888888888888,
              "#fdca26"
             ],
             [
              1,
              "#f0f921"
             ]
            ],
            "type": "contour"
           }
          ],
          "contourcarpet": [
           {
            "colorbar": {
             "outlinewidth": 0,
             "ticks": ""
            },
            "type": "contourcarpet"
           }
          ],
          "heatmap": [
           {
            "colorbar": {
             "outlinewidth": 0,
             "ticks": ""
            },
            "colorscale": [
             [
              0,
              "#0d0887"
             ],
             [
              0.1111111111111111,
              "#46039f"
             ],
             [
              0.2222222222222222,
              "#7201a8"
             ],
             [
              0.3333333333333333,
              "#9c179e"
             ],
             [
              0.4444444444444444,
              "#bd3786"
             ],
             [
              0.5555555555555556,
              "#d8576b"
             ],
             [
              0.6666666666666666,
              "#ed7953"
             ],
             [
              0.7777777777777778,
              "#fb9f3a"
             ],
             [
              0.8888888888888888,
              "#fdca26"
             ],
             [
              1,
              "#f0f921"
             ]
            ],
            "type": "heatmap"
           }
          ],
          "heatmapgl": [
           {
            "colorbar": {
             "outlinewidth": 0,
             "ticks": ""
            },
            "colorscale": [
             [
              0,
              "#0d0887"
             ],
             [
              0.1111111111111111,
              "#46039f"
             ],
             [
              0.2222222222222222,
              "#7201a8"
             ],
             [
              0.3333333333333333,
              "#9c179e"
             ],
             [
              0.4444444444444444,
              "#bd3786"
             ],
             [
              0.5555555555555556,
              "#d8576b"
             ],
             [
              0.6666666666666666,
              "#ed7953"
             ],
             [
              0.7777777777777778,
              "#fb9f3a"
             ],
             [
              0.8888888888888888,
              "#fdca26"
             ],
             [
              1,
              "#f0f921"
             ]
            ],
            "type": "heatmapgl"
           }
          ],
          "histogram": [
           {
            "marker": {
             "pattern": {
              "fillmode": "overlay",
              "size": 10,
              "solidity": 0.2
             }
            },
            "type": "histogram"
           }
          ],
          "histogram2d": [
           {
            "colorbar": {
             "outlinewidth": 0,
             "ticks": ""
            },
            "colorscale": [
             [
              0,
              "#0d0887"
             ],
             [
              0.1111111111111111,
              "#46039f"
             ],
             [
              0.2222222222222222,
              "#7201a8"
             ],
             [
              0.3333333333333333,
              "#9c179e"
             ],
             [
              0.4444444444444444,
              "#bd3786"
             ],
             [
              0.5555555555555556,
              "#d8576b"
             ],
             [
              0.6666666666666666,
              "#ed7953"
             ],
             [
              0.7777777777777778,
              "#fb9f3a"
             ],
             [
              0.8888888888888888,
              "#fdca26"
             ],
             [
              1,
              "#f0f921"
             ]
            ],
            "type": "histogram2d"
           }
          ],
          "histogram2dcontour": [
           {
            "colorbar": {
             "outlinewidth": 0,
             "ticks": ""
            },
            "colorscale": [
             [
              0,
              "#0d0887"
             ],
             [
              0.1111111111111111,
              "#46039f"
             ],
             [
              0.2222222222222222,
              "#7201a8"
             ],
             [
              0.3333333333333333,
              "#9c179e"
             ],
             [
              0.4444444444444444,
              "#bd3786"
             ],
             [
              0.5555555555555556,
              "#d8576b"
             ],
             [
              0.6666666666666666,
              "#ed7953"
             ],
             [
              0.7777777777777778,
              "#fb9f3a"
             ],
             [
              0.8888888888888888,
              "#fdca26"
             ],
             [
              1,
              "#f0f921"
             ]
            ],
            "type": "histogram2dcontour"
           }
          ],
          "mesh3d": [
           {
            "colorbar": {
             "outlinewidth": 0,
             "ticks": ""
            },
            "type": "mesh3d"
           }
          ],
          "parcoords": [
           {
            "line": {
             "colorbar": {
              "outlinewidth": 0,
              "ticks": ""
             }
            },
            "type": "parcoords"
           }
          ],
          "pie": [
           {
            "automargin": true,
            "type": "pie"
           }
          ],
          "scatter": [
           {
            "marker": {
             "colorbar": {
              "outlinewidth": 0,
              "ticks": ""
             }
            },
            "type": "scatter"
           }
          ],
          "scatter3d": [
           {
            "line": {
             "colorbar": {
              "outlinewidth": 0,
              "ticks": ""
             }
            },
            "marker": {
             "colorbar": {
              "outlinewidth": 0,
              "ticks": ""
             }
            },
            "type": "scatter3d"
           }
          ],
          "scattercarpet": [
           {
            "marker": {
             "colorbar": {
              "outlinewidth": 0,
              "ticks": ""
             }
            },
            "type": "scattercarpet"
           }
          ],
          "scattergeo": [
           {
            "marker": {
             "colorbar": {
              "outlinewidth": 0,
              "ticks": ""
             }
            },
            "type": "scattergeo"
           }
          ],
          "scattergl": [
           {
            "marker": {
             "colorbar": {
              "outlinewidth": 0,
              "ticks": ""
             }
            },
            "type": "scattergl"
           }
          ],
          "scattermapbox": [
           {
            "marker": {
             "colorbar": {
              "outlinewidth": 0,
              "ticks": ""
             }
            },
            "type": "scattermapbox"
           }
          ],
          "scatterpolar": [
           {
            "marker": {
             "colorbar": {
              "outlinewidth": 0,
              "ticks": ""
             }
            },
            "type": "scatterpolar"
           }
          ],
          "scatterpolargl": [
           {
            "marker": {
             "colorbar": {
              "outlinewidth": 0,
              "ticks": ""
             }
            },
            "type": "scatterpolargl"
           }
          ],
          "scatterternary": [
           {
            "marker": {
             "colorbar": {
              "outlinewidth": 0,
              "ticks": ""
             }
            },
            "type": "scatterternary"
           }
          ],
          "surface": [
           {
            "colorbar": {
             "outlinewidth": 0,
             "ticks": ""
            },
            "colorscale": [
             [
              0,
              "#0d0887"
             ],
             [
              0.1111111111111111,
              "#46039f"
             ],
             [
              0.2222222222222222,
              "#7201a8"
             ],
             [
              0.3333333333333333,
              "#9c179e"
             ],
             [
              0.4444444444444444,
              "#bd3786"
             ],
             [
              0.5555555555555556,
              "#d8576b"
             ],
             [
              0.6666666666666666,
              "#ed7953"
             ],
             [
              0.7777777777777778,
              "#fb9f3a"
             ],
             [
              0.8888888888888888,
              "#fdca26"
             ],
             [
              1,
              "#f0f921"
             ]
            ],
            "type": "surface"
           }
          ],
          "table": [
           {
            "cells": {
             "fill": {
              "color": "#EBF0F8"
             },
             "line": {
              "color": "white"
             }
            },
            "header": {
             "fill": {
              "color": "#C8D4E3"
             },
             "line": {
              "color": "white"
             }
            },
            "type": "table"
           }
          ]
         },
         "layout": {
          "annotationdefaults": {
           "arrowcolor": "#2a3f5f",
           "arrowhead": 0,
           "arrowwidth": 1
          },
          "autotypenumbers": "strict",
          "coloraxis": {
           "colorbar": {
            "outlinewidth": 0,
            "ticks": ""
           }
          },
          "colorscale": {
           "diverging": [
            [
             0,
             "#8e0152"
            ],
            [
             0.1,
             "#c51b7d"
            ],
            [
             0.2,
             "#de77ae"
            ],
            [
             0.3,
             "#f1b6da"
            ],
            [
             0.4,
             "#fde0ef"
            ],
            [
             0.5,
             "#f7f7f7"
            ],
            [
             0.6,
             "#e6f5d0"
            ],
            [
             0.7,
             "#b8e186"
            ],
            [
             0.8,
             "#7fbc41"
            ],
            [
             0.9,
             "#4d9221"
            ],
            [
             1,
             "#276419"
            ]
           ],
           "sequential": [
            [
             0,
             "#0d0887"
            ],
            [
             0.1111111111111111,
             "#46039f"
            ],
            [
             0.2222222222222222,
             "#7201a8"
            ],
            [
             0.3333333333333333,
             "#9c179e"
            ],
            [
             0.4444444444444444,
             "#bd3786"
            ],
            [
             0.5555555555555556,
             "#d8576b"
            ],
            [
             0.6666666666666666,
             "#ed7953"
            ],
            [
             0.7777777777777778,
             "#fb9f3a"
            ],
            [
             0.8888888888888888,
             "#fdca26"
            ],
            [
             1,
             "#f0f921"
            ]
           ],
           "sequentialminus": [
            [
             0,
             "#0d0887"
            ],
            [
             0.1111111111111111,
             "#46039f"
            ],
            [
             0.2222222222222222,
             "#7201a8"
            ],
            [
             0.3333333333333333,
             "#9c179e"
            ],
            [
             0.4444444444444444,
             "#bd3786"
            ],
            [
             0.5555555555555556,
             "#d8576b"
            ],
            [
             0.6666666666666666,
             "#ed7953"
            ],
            [
             0.7777777777777778,
             "#fb9f3a"
            ],
            [
             0.8888888888888888,
             "#fdca26"
            ],
            [
             1,
             "#f0f921"
            ]
           ]
          },
          "colorway": [
           "#636efa",
           "#EF553B",
           "#00cc96",
           "#ab63fa",
           "#FFA15A",
           "#19d3f3",
           "#FF6692",
           "#B6E880",
           "#FF97FF",
           "#FECB52"
          ],
          "font": {
           "color": "#2a3f5f"
          },
          "geo": {
           "bgcolor": "white",
           "lakecolor": "white",
           "landcolor": "#E5ECF6",
           "showlakes": true,
           "showland": true,
           "subunitcolor": "white"
          },
          "hoverlabel": {
           "align": "left"
          },
          "hovermode": "closest",
          "mapbox": {
           "style": "light"
          },
          "paper_bgcolor": "white",
          "plot_bgcolor": "#E5ECF6",
          "polar": {
           "angularaxis": {
            "gridcolor": "white",
            "linecolor": "white",
            "ticks": ""
           },
           "bgcolor": "#E5ECF6",
           "radialaxis": {
            "gridcolor": "white",
            "linecolor": "white",
            "ticks": ""
           }
          },
          "scene": {
           "xaxis": {
            "backgroundcolor": "#E5ECF6",
            "gridcolor": "white",
            "gridwidth": 2,
            "linecolor": "white",
            "showbackground": true,
            "ticks": "",
            "zerolinecolor": "white"
           },
           "yaxis": {
            "backgroundcolor": "#E5ECF6",
            "gridcolor": "white",
            "gridwidth": 2,
            "linecolor": "white",
            "showbackground": true,
            "ticks": "",
            "zerolinecolor": "white"
           },
           "zaxis": {
            "backgroundcolor": "#E5ECF6",
            "gridcolor": "white",
            "gridwidth": 2,
            "linecolor": "white",
            "showbackground": true,
            "ticks": "",
            "zerolinecolor": "white"
           }
          },
          "shapedefaults": {
           "line": {
            "color": "#2a3f5f"
           }
          },
          "ternary": {
           "aaxis": {
            "gridcolor": "white",
            "linecolor": "white",
            "ticks": ""
           },
           "baxis": {
            "gridcolor": "white",
            "linecolor": "white",
            "ticks": ""
           },
           "bgcolor": "#E5ECF6",
           "caxis": {
            "gridcolor": "white",
            "linecolor": "white",
            "ticks": ""
           }
          },
          "title": {
           "x": 0.05
          },
          "xaxis": {
           "automargin": true,
           "gridcolor": "white",
           "linecolor": "white",
           "ticks": "",
           "title": {
            "standoff": 15
           },
           "zerolinecolor": "white",
           "zerolinewidth": 2
          },
          "yaxis": {
           "automargin": true,
           "gridcolor": "white",
           "linecolor": "white",
           "ticks": "",
           "title": {
            "standoff": 15
           },
           "zerolinecolor": "white",
           "zerolinewidth": 2
          }
         }
        },
        "title": {
         "text": "K-Means: Inertia vs Number of clusters"
        },
        "xaxis": {
         "anchor": "y",
         "domain": [
          0,
          1
         ],
         "title": {
          "text": "Number of Clusters(k)"
         }
        },
        "yaxis": {
         "anchor": "x",
         "domain": [
          0,
          1
         ],
         "title": {
          "text": "Inertia"
         }
        }
       }
      },
      "text/html": [
       "<div>                            <div id=\"199daa89-9d8f-45a3-92c9-8bc40062f3a7\" class=\"plotly-graph-div\" style=\"height:525px; width:100%;\"></div>            <script type=\"text/javascript\">                require([\"plotly\"], function(Plotly) {                    window.PLOTLYENV=window.PLOTLYENV || {};                                    if (document.getElementById(\"199daa89-9d8f-45a3-92c9-8bc40062f3a7\")) {                    Plotly.newPlot(                        \"199daa89-9d8f-45a3-92c9-8bc40062f3a7\",                        [{\"hovertemplate\":\"x=%{x}<br>y=%{y}<extra></extra>\",\"legendgroup\":\"\",\"line\":{\"color\":\"#636efa\",\"dash\":\"solid\"},\"marker\":{\"symbol\":\"circle\"},\"mode\":\"lines\",\"name\":\"\",\"orientation\":\"v\",\"showlegend\":false,\"x\":[1,2,3,4,5,6,7,8,9,10,11,12,13,14,15,16,17,18,19],\"xaxis\":\"x\",\"y\":[68.00000000000001,38.47712384576879,14.782056586349919,8.372513449788196,5.309634852255486,3.5777289683716655,2.7501527463545994,2.0177510336446334,1.5006727559870878,1.1492466468531868,1.013073379496537,0.8373790689379326,0.7094680271027131,0.6442468516312944,0.5052086129594962,0.4033878121437462,0.3198910524922516,0.26148552317665014,0.21544612469778734],\"yaxis\":\"y\",\"type\":\"scatter\"}],                        {\"template\":{\"data\":{\"bar\":[{\"error_x\":{\"color\":\"#2a3f5f\"},\"error_y\":{\"color\":\"#2a3f5f\"},\"marker\":{\"line\":{\"color\":\"#E5ECF6\",\"width\":0.5},\"pattern\":{\"fillmode\":\"overlay\",\"size\":10,\"solidity\":0.2}},\"type\":\"bar\"}],\"barpolar\":[{\"marker\":{\"line\":{\"color\":\"#E5ECF6\",\"width\":0.5},\"pattern\":{\"fillmode\":\"overlay\",\"size\":10,\"solidity\":0.2}},\"type\":\"barpolar\"}],\"carpet\":[{\"aaxis\":{\"endlinecolor\":\"#2a3f5f\",\"gridcolor\":\"white\",\"linecolor\":\"white\",\"minorgridcolor\":\"white\",\"startlinecolor\":\"#2a3f5f\"},\"baxis\":{\"endlinecolor\":\"#2a3f5f\",\"gridcolor\":\"white\",\"linecolor\":\"white\",\"minorgridcolor\":\"white\",\"startlinecolor\":\"#2a3f5f\"},\"type\":\"carpet\"}],\"choropleth\":[{\"colorbar\":{\"outlinewidth\":0,\"ticks\":\"\"},\"type\":\"choropleth\"}],\"contour\":[{\"colorbar\":{\"outlinewidth\":0,\"ticks\":\"\"},\"colorscale\":[[0.0,\"#0d0887\"],[0.1111111111111111,\"#46039f\"],[0.2222222222222222,\"#7201a8\"],[0.3333333333333333,\"#9c179e\"],[0.4444444444444444,\"#bd3786\"],[0.5555555555555556,\"#d8576b\"],[0.6666666666666666,\"#ed7953\"],[0.7777777777777778,\"#fb9f3a\"],[0.8888888888888888,\"#fdca26\"],[1.0,\"#f0f921\"]],\"type\":\"contour\"}],\"contourcarpet\":[{\"colorbar\":{\"outlinewidth\":0,\"ticks\":\"\"},\"type\":\"contourcarpet\"}],\"heatmap\":[{\"colorbar\":{\"outlinewidth\":0,\"ticks\":\"\"},\"colorscale\":[[0.0,\"#0d0887\"],[0.1111111111111111,\"#46039f\"],[0.2222222222222222,\"#7201a8\"],[0.3333333333333333,\"#9c179e\"],[0.4444444444444444,\"#bd3786\"],[0.5555555555555556,\"#d8576b\"],[0.6666666666666666,\"#ed7953\"],[0.7777777777777778,\"#fb9f3a\"],[0.8888888888888888,\"#fdca26\"],[1.0,\"#f0f921\"]],\"type\":\"heatmap\"}],\"heatmapgl\":[{\"colorbar\":{\"outlinewidth\":0,\"ticks\":\"\"},\"colorscale\":[[0.0,\"#0d0887\"],[0.1111111111111111,\"#46039f\"],[0.2222222222222222,\"#7201a8\"],[0.3333333333333333,\"#9c179e\"],[0.4444444444444444,\"#bd3786\"],[0.5555555555555556,\"#d8576b\"],[0.6666666666666666,\"#ed7953\"],[0.7777777777777778,\"#fb9f3a\"],[0.8888888888888888,\"#fdca26\"],[1.0,\"#f0f921\"]],\"type\":\"heatmapgl\"}],\"histogram\":[{\"marker\":{\"pattern\":{\"fillmode\":\"overlay\",\"size\":10,\"solidity\":0.2}},\"type\":\"histogram\"}],\"histogram2d\":[{\"colorbar\":{\"outlinewidth\":0,\"ticks\":\"\"},\"colorscale\":[[0.0,\"#0d0887\"],[0.1111111111111111,\"#46039f\"],[0.2222222222222222,\"#7201a8\"],[0.3333333333333333,\"#9c179e\"],[0.4444444444444444,\"#bd3786\"],[0.5555555555555556,\"#d8576b\"],[0.6666666666666666,\"#ed7953\"],[0.7777777777777778,\"#fb9f3a\"],[0.8888888888888888,\"#fdca26\"],[1.0,\"#f0f921\"]],\"type\":\"histogram2d\"}],\"histogram2dcontour\":[{\"colorbar\":{\"outlinewidth\":0,\"ticks\":\"\"},\"colorscale\":[[0.0,\"#0d0887\"],[0.1111111111111111,\"#46039f\"],[0.2222222222222222,\"#7201a8\"],[0.3333333333333333,\"#9c179e\"],[0.4444444444444444,\"#bd3786\"],[0.5555555555555556,\"#d8576b\"],[0.6666666666666666,\"#ed7953\"],[0.7777777777777778,\"#fb9f3a\"],[0.8888888888888888,\"#fdca26\"],[1.0,\"#f0f921\"]],\"type\":\"histogram2dcontour\"}],\"mesh3d\":[{\"colorbar\":{\"outlinewidth\":0,\"ticks\":\"\"},\"type\":\"mesh3d\"}],\"parcoords\":[{\"line\":{\"colorbar\":{\"outlinewidth\":0,\"ticks\":\"\"}},\"type\":\"parcoords\"}],\"pie\":[{\"automargin\":true,\"type\":\"pie\"}],\"scatter\":[{\"marker\":{\"colorbar\":{\"outlinewidth\":0,\"ticks\":\"\"}},\"type\":\"scatter\"}],\"scatter3d\":[{\"line\":{\"colorbar\":{\"outlinewidth\":0,\"ticks\":\"\"}},\"marker\":{\"colorbar\":{\"outlinewidth\":0,\"ticks\":\"\"}},\"type\":\"scatter3d\"}],\"scattercarpet\":[{\"marker\":{\"colorbar\":{\"outlinewidth\":0,\"ticks\":\"\"}},\"type\":\"scattercarpet\"}],\"scattergeo\":[{\"marker\":{\"colorbar\":{\"outlinewidth\":0,\"ticks\":\"\"}},\"type\":\"scattergeo\"}],\"scattergl\":[{\"marker\":{\"colorbar\":{\"outlinewidth\":0,\"ticks\":\"\"}},\"type\":\"scattergl\"}],\"scattermapbox\":[{\"marker\":{\"colorbar\":{\"outlinewidth\":0,\"ticks\":\"\"}},\"type\":\"scattermapbox\"}],\"scatterpolar\":[{\"marker\":{\"colorbar\":{\"outlinewidth\":0,\"ticks\":\"\"}},\"type\":\"scatterpolar\"}],\"scatterpolargl\":[{\"marker\":{\"colorbar\":{\"outlinewidth\":0,\"ticks\":\"\"}},\"type\":\"scatterpolargl\"}],\"scatterternary\":[{\"marker\":{\"colorbar\":{\"outlinewidth\":0,\"ticks\":\"\"}},\"type\":\"scatterternary\"}],\"surface\":[{\"colorbar\":{\"outlinewidth\":0,\"ticks\":\"\"},\"colorscale\":[[0.0,\"#0d0887\"],[0.1111111111111111,\"#46039f\"],[0.2222222222222222,\"#7201a8\"],[0.3333333333333333,\"#9c179e\"],[0.4444444444444444,\"#bd3786\"],[0.5555555555555556,\"#d8576b\"],[0.6666666666666666,\"#ed7953\"],[0.7777777777777778,\"#fb9f3a\"],[0.8888888888888888,\"#fdca26\"],[1.0,\"#f0f921\"]],\"type\":\"surface\"}],\"table\":[{\"cells\":{\"fill\":{\"color\":\"#EBF0F8\"},\"line\":{\"color\":\"white\"}},\"header\":{\"fill\":{\"color\":\"#C8D4E3\"},\"line\":{\"color\":\"white\"}},\"type\":\"table\"}]},\"layout\":{\"annotationdefaults\":{\"arrowcolor\":\"#2a3f5f\",\"arrowhead\":0,\"arrowwidth\":1},\"autotypenumbers\":\"strict\",\"coloraxis\":{\"colorbar\":{\"outlinewidth\":0,\"ticks\":\"\"}},\"colorscale\":{\"diverging\":[[0,\"#8e0152\"],[0.1,\"#c51b7d\"],[0.2,\"#de77ae\"],[0.3,\"#f1b6da\"],[0.4,\"#fde0ef\"],[0.5,\"#f7f7f7\"],[0.6,\"#e6f5d0\"],[0.7,\"#b8e186\"],[0.8,\"#7fbc41\"],[0.9,\"#4d9221\"],[1,\"#276419\"]],\"sequential\":[[0.0,\"#0d0887\"],[0.1111111111111111,\"#46039f\"],[0.2222222222222222,\"#7201a8\"],[0.3333333333333333,\"#9c179e\"],[0.4444444444444444,\"#bd3786\"],[0.5555555555555556,\"#d8576b\"],[0.6666666666666666,\"#ed7953\"],[0.7777777777777778,\"#fb9f3a\"],[0.8888888888888888,\"#fdca26\"],[1.0,\"#f0f921\"]],\"sequentialminus\":[[0.0,\"#0d0887\"],[0.1111111111111111,\"#46039f\"],[0.2222222222222222,\"#7201a8\"],[0.3333333333333333,\"#9c179e\"],[0.4444444444444444,\"#bd3786\"],[0.5555555555555556,\"#d8576b\"],[0.6666666666666666,\"#ed7953\"],[0.7777777777777778,\"#fb9f3a\"],[0.8888888888888888,\"#fdca26\"],[1.0,\"#f0f921\"]]},\"colorway\":[\"#636efa\",\"#EF553B\",\"#00cc96\",\"#ab63fa\",\"#FFA15A\",\"#19d3f3\",\"#FF6692\",\"#B6E880\",\"#FF97FF\",\"#FECB52\"],\"font\":{\"color\":\"#2a3f5f\"},\"geo\":{\"bgcolor\":\"white\",\"lakecolor\":\"white\",\"landcolor\":\"#E5ECF6\",\"showlakes\":true,\"showland\":true,\"subunitcolor\":\"white\"},\"hoverlabel\":{\"align\":\"left\"},\"hovermode\":\"closest\",\"mapbox\":{\"style\":\"light\"},\"paper_bgcolor\":\"white\",\"plot_bgcolor\":\"#E5ECF6\",\"polar\":{\"angularaxis\":{\"gridcolor\":\"white\",\"linecolor\":\"white\",\"ticks\":\"\"},\"bgcolor\":\"#E5ECF6\",\"radialaxis\":{\"gridcolor\":\"white\",\"linecolor\":\"white\",\"ticks\":\"\"}},\"scene\":{\"xaxis\":{\"backgroundcolor\":\"#E5ECF6\",\"gridcolor\":\"white\",\"gridwidth\":2,\"linecolor\":\"white\",\"showbackground\":true,\"ticks\":\"\",\"zerolinecolor\":\"white\"},\"yaxis\":{\"backgroundcolor\":\"#E5ECF6\",\"gridcolor\":\"white\",\"gridwidth\":2,\"linecolor\":\"white\",\"showbackground\":true,\"ticks\":\"\",\"zerolinecolor\":\"white\"},\"zaxis\":{\"backgroundcolor\":\"#E5ECF6\",\"gridcolor\":\"white\",\"gridwidth\":2,\"linecolor\":\"white\",\"showbackground\":true,\"ticks\":\"\",\"zerolinecolor\":\"white\"}},\"shapedefaults\":{\"line\":{\"color\":\"#2a3f5f\"}},\"ternary\":{\"aaxis\":{\"gridcolor\":\"white\",\"linecolor\":\"white\",\"ticks\":\"\"},\"baxis\":{\"gridcolor\":\"white\",\"linecolor\":\"white\",\"ticks\":\"\"},\"bgcolor\":\"#E5ECF6\",\"caxis\":{\"gridcolor\":\"white\",\"linecolor\":\"white\",\"ticks\":\"\"}},\"title\":{\"x\":0.05},\"xaxis\":{\"automargin\":true,\"gridcolor\":\"white\",\"linecolor\":\"white\",\"ticks\":\"\",\"title\":{\"standoff\":15},\"zerolinecolor\":\"white\",\"zerolinewidth\":2},\"yaxis\":{\"automargin\":true,\"gridcolor\":\"white\",\"linecolor\":\"white\",\"ticks\":\"\",\"title\":{\"standoff\":15},\"zerolinecolor\":\"white\",\"zerolinewidth\":2}}},\"xaxis\":{\"anchor\":\"y\",\"domain\":[0.0,1.0],\"title\":{\"text\":\"Number of Clusters(k)\"}},\"yaxis\":{\"anchor\":\"x\",\"domain\":[0.0,1.0],\"title\":{\"text\":\"Inertia\"}},\"legend\":{\"tracegroupgap\":0},\"title\":{\"text\":\"K-Means: Inertia vs Number of clusters\"}},                        {\"responsive\": true}                    ).then(function(){\n",
       "                            \n",
       "var gd = document.getElementById('199daa89-9d8f-45a3-92c9-8bc40062f3a7');\n",
       "var x = new MutationObserver(function (mutations, observer) {{\n",
       "        var display = window.getComputedStyle(gd).display;\n",
       "        if (!display || display === 'none') {{\n",
       "            console.log([gd, 'removed!']);\n",
       "            Plotly.purge(gd);\n",
       "            observer.disconnect();\n",
       "        }}\n",
       "}});\n",
       "\n",
       "// Listen for the removal of the full notebook cells\n",
       "var notebookContainer = gd.closest('#notebook-container');\n",
       "if (notebookContainer) {{\n",
       "    x.observe(notebookContainer, {childList: true});\n",
       "}}\n",
       "\n",
       "// Listen for the clearing of the current output cell\n",
       "var outputEl = gd.closest('.output');\n",
       "if (outputEl) {{\n",
       "    x.observe(outputEl, {childList: true});\n",
       "}}\n",
       "\n",
       "                        })                };                });            </script>        </div>"
      ]
     },
     "metadata": {},
     "output_type": "display_data"
    }
   ],
   "source": [
    "# Create line plot of `inertia_errors` vs `n_clusters`\n",
    "fig = px.line(\n",
    "    x = n_clusters, y = inertial_errors, title = \"K-Means: Inertia vs Number of clusters\"\n",
    ")\n",
    "fig.update_layout(xaxis_title = \"Number of Clusters(k)\", yaxis_title = (\"Inertia\"))\n",
    "fig.show()"
   ]
  },
  {
   "cell_type": "markdown",
   "id": "42b2164b",
   "metadata": {},
   "source": [
    "# Create a line plot of `silhouette_scores` vs `n_clusters`\n",
    "# Create line plot of `inertia_errors` vs `n_clusters`\n",
    "fig = px.line(\n",
    "    x = n_clusters, y = silhouette_scores, title = \"silhoutte_score vs Number of Clusters(k)\"\n",
    ")\n",
    "fig.update_layout(xaxis_title = \"Number of Clusters(k)\", yaxis_title = (\"silhoutte_score\"))\n",
    "fig.show()"
   ]
  },
  {
   "cell_type": "code",
   "execution_count": null,
   "id": "67915b2c",
   "metadata": {},
   "outputs": [],
   "source": []
  },
  {
   "cell_type": "code",
   "execution_count": null,
   "id": "35175f3d",
   "metadata": {},
   "outputs": [],
   "source": []
  }
 ],
 "metadata": {
  "kernelspec": {
   "display_name": "Python 3 (ipykernel)",
   "language": "python",
   "name": "python3"
  },
  "language_info": {
   "codemirror_mode": {
    "name": "ipython",
    "version": 3
   },
   "file_extension": ".py",
   "mimetype": "text/x-python",
   "name": "python",
   "nbconvert_exporter": "python",
   "pygments_lexer": "ipython3",
   "version": "3.9.12"
  }
 },
 "nbformat": 4,
 "nbformat_minor": 5
}
